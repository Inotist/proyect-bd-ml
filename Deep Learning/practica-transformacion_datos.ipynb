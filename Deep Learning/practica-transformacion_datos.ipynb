{
 "cells": [
  {
   "cell_type": "markdown",
   "metadata": {},
   "source": [
    "# Deep Learning practice"
   ]
  },
  {
   "cell_type": "markdown",
   "metadata": {},
   "source": [
    "### Transformación de los datos"
   ]
  },
  {
   "cell_type": "code",
   "execution_count": 1,
   "metadata": {},
   "outputs": [],
   "source": [
    "import numpy as np\n",
    "import pandas as pd\n",
    "\n",
    "train = pd.read_csv('./train.csv',sep=';', decimal='.')\n",
    "val = pd.read_csv('./val.csv',sep=';', decimal='.')\n",
    "test = pd.read_csv('./test.csv',sep=';', decimal='.')\n",
    "\n",
    "#images = np.load('images.npy')\n",
    "#train_img = images[train['Unnamed: 0']]\n",
    "#val_img = images[val['Unnamed: 0']]\n",
    "#test_img = images[test['Unnamed: 0']]\n",
    "\n",
    "#train = train.drop(columns=['Unnamed: 0'])\n",
    "#val = val.drop(columns=['Unnamed: 0'])\n",
    "#test = test.drop(columns=['Unnamed: 0'])"
   ]
  },
  {
   "cell_type": "markdown",
   "metadata": {},
   "source": [
    "Ahora separo las variables descriptivas de las variables numéricas para tratarlas a parte"
   ]
  },
  {
   "cell_type": "code",
   "execution_count": 2,
   "metadata": {},
   "outputs": [],
   "source": [
    "desc_columns = ['Unnamed: 0','Name','Summary','Space','Description','Neighborhood Overview','Notes','Transit','Access',\n",
    "                'Interaction','House Rules','Host About','Host Verifications','Street','Amenities','Features']\n",
    "\n",
    "numcat_columns = ['Unnamed: 0']+[c for c in train.columns if c not in desc_columns]\n",
    "\n",
    "train_desc = train[desc_columns]\n",
    "train = train[numcat_columns]\n",
    "\n",
    "val_desc = val[desc_columns]\n",
    "val = val[numcat_columns]\n",
    "\n",
    "test_desc = test[desc_columns]\n",
    "test = test[numcat_columns]"
   ]
  },
  {
   "cell_type": "markdown",
   "metadata": {},
   "source": [
    "Imputamos valores ausentes con la media y moda de train"
   ]
  },
  {
   "cell_type": "code",
   "execution_count": 3,
   "metadata": {},
   "outputs": [],
   "source": [
    "def get_input_data(data):\n",
    "    \n",
    "    input_values = []\n",
    "    \n",
    "    for col in data.columns:\n",
    "        if data[col].dtype == object: input_values.append(data[col].mode())\n",
    "        else: input_values.append(data[col].mean())\n",
    "    \n",
    "    return input_values\n",
    "\n",
    "def apply_input_data(data, input_values):\n",
    "    \n",
    "    for col, val in zip(data.columns,input_values):\n",
    "        data[col] = data[col].fillna(val)\n",
    "    \n",
    "    return data"
   ]
  },
  {
   "cell_type": "code",
   "execution_count": 4,
   "metadata": {},
   "outputs": [],
   "source": [
    "input_data = get_input_data(train)\n",
    "\n",
    "train = apply_input_data(train, input_data)\n",
    "val = apply_input_data(val, input_data)\n",
    "test = apply_input_data(test, input_data)"
   ]
  },
  {
   "cell_type": "markdown",
   "metadata": {},
   "source": [
    "Genero valores numéricos para las variables categóricas aprovechando y readaptando el trabajo que realicé para el módulo de ML"
   ]
  },
  {
   "cell_type": "code",
   "execution_count": 5,
   "metadata": {},
   "outputs": [],
   "source": [
    "from sklearn.preprocessing import OneHotEncoder\n",
    "\n",
    "train['Host Location'] = train['Host Location'].apply(lambda x: str(x).split(',')[0])\n",
    "val['Host Location'] = val['Host Location'].apply(lambda x: str(x).split(',')[0])\n",
    "test['Host Location'] = test['Host Location'].apply(lambda x: str(x).split(',')[0])\n",
    "\n",
    "encoders = {\n",
    "    'Host Location': OneHotEncoder().fit(train['Host Location'].values.reshape(-1,1)),\n",
    "    'Calendar last Scraped': OneHotEncoder().fit(train['Calendar last Scraped'].values.reshape(-1,1)),\n",
    "    'Neighbourhood Cleansed': OneHotEncoder().fit(train['Neighbourhood Cleansed'].values.reshape(-1,1)),\n",
    "    'Neighbourhood Group Cleansed': OneHotEncoder().fit(train['Neighbourhood Group Cleansed'].values.reshape(-1,1)),\n",
    "    'Zipcode': OneHotEncoder().fit(train['Zipcode'].values.reshape(-1,1)),\n",
    "    'Property Type': OneHotEncoder().fit(train['Property Type'].values.reshape(-1,1))\n",
    "}"
   ]
  },
  {
   "cell_type": "code",
   "execution_count": 6,
   "metadata": {},
   "outputs": [],
   "source": [
    "dfs = []\n",
    "for df in (train,val,test):\n",
    "    \n",
    "    for column in encoders:\n",
    "        encoded = encoders[column].transform(df[column].values.reshape(-1,1))\n",
    "        colnames = df.columns.tolist() + np.zeros(encoded.shape[1]).tolist()\n",
    "        df = pd.DataFrame(np.column_stack([df, encoded.toarray()]), columns=colnames).drop(columns=[column])\n",
    "        \n",
    "    df['Cancellation Policy'] = df['Cancellation Policy'].apply(lambda x: {\n",
    "        'super_strict_60': 4,\n",
    "        'super_strict_30': 4,\n",
    "        'strict': 4,\n",
    "        'moderate': 2,\n",
    "        'flexible': 1,\n",
    "    }.get(x))\n",
    "        \n",
    "    df['Room Type'] = df['Room Type'].apply(lambda x: {\n",
    "        'Shared room': 1,\n",
    "        'Private room': 2,\n",
    "        'Entire home/apt': 3\n",
    "    }.get(x))\n",
    "    \n",
    "    df['Host Response Time'] = df['Host Response Time'].apply(lambda x: {\n",
    "        'a few days or more': 1,\n",
    "        'within a day': 2,\n",
    "        'within a few hours': 3,\n",
    "        'within an hour': 4\n",
    "    }.get(x))\n",
    "    df.loc[df['Host Response Time'].isnull(), 'Host Response Time'] = 0\n",
    "    \n",
    "    df['Calendar Updated'] = df['Calendar Updated'].apply(lambda x: 5 if \"today\" in str(x) else\n",
    "                                                          4 if \"yesterday\" in str(x) else\n",
    "                                                          3 if \"day\" in str(x) else\n",
    "                                                          2 if \"week\" in str(x) else\n",
    "                                                          1 if \"month\" in str(x) else 0)\n",
    "    \n",
    "    dfs.append(df)\n",
    "    \n",
    "train = dfs[0]\n",
    "val = dfs[1]\n",
    "test = dfs[2]"
   ]
  },
  {
   "cell_type": "markdown",
   "metadata": {},
   "source": [
    "Compruebo que no quedan valores nulos en mi dataset."
   ]
  },
  {
   "cell_type": "code",
   "execution_count": 7,
   "metadata": {},
   "outputs": [
    {
     "name": "stdout",
     "output_type": "stream",
     "text": [
      "success!\n"
     ]
    }
   ],
   "source": [
    "v = True\n",
    "for df in (train, val, test):\n",
    "    for col in df.columns:\n",
    "        if sum(df[col].isnull()) != 0:\n",
    "            v = False\n",
    "            break\n",
    "            \n",
    "if v: print('success!')\n",
    "else: print('null found!')"
   ]
  },
  {
   "cell_type": "markdown",
   "metadata": {},
   "source": [
    "Reescribo mis datos para pasar a la siguiente fase."
   ]
  },
  {
   "cell_type": "markdown",
   "metadata": {},
   "source": [
    "Esta vez no necesito guardarme los índices, ya que los índices correctos son los que proceden del dataset original y ahora están en la columna 'Unnamed: 0'"
   ]
  },
  {
   "cell_type": "code",
   "execution_count": 8,
   "metadata": {},
   "outputs": [],
   "source": [
    "train.to_csv('./train.csv', sep=';', decimal='.', index=False)\n",
    "val.to_csv('./val.csv', sep=';', decimal='.', index=False)\n",
    "test.to_csv('./test.csv', sep=';', decimal='.', index=False)\n",
    "\n",
    "train_desc.to_csv('./train_desc.csv', sep=';', decimal='.', index=False)\n",
    "val_desc.to_csv('./val_desc.csv', sep=';', decimal='.', index=False)\n",
    "test_desc.to_csv('./test_desc.csv', sep=';', decimal='.', index=False)"
   ]
  }
 ],
 "metadata": {
  "kernelspec": {
   "display_name": "Python 3",
   "language": "python",
   "name": "python3"
  },
  "language_info": {
   "codemirror_mode": {
    "name": "ipython",
    "version": 3
   },
   "file_extension": ".py",
   "mimetype": "text/x-python",
   "name": "python",
   "nbconvert_exporter": "python",
   "pygments_lexer": "ipython3",
   "version": "3.7.7"
  }
 },
 "nbformat": 4,
 "nbformat_minor": 4
}
