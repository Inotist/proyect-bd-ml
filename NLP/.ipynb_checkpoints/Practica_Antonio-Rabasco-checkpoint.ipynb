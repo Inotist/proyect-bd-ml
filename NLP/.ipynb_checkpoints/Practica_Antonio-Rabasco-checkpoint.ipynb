{
 "cells": [
  {
   "cell_type": "markdown",
   "metadata": {},
   "source": [
    "# Práctica del módulo NLP"
   ]
  },
  {
   "cell_type": "markdown",
   "metadata": {},
   "source": [
    "Importo los paquetes necesarios"
   ]
  },
  {
   "cell_type": "code",
   "execution_count": 1,
   "metadata": {},
   "outputs": [],
   "source": [
    "import pandas as pd\n",
    "import matplotlib.pyplot as plt\n",
    "\n",
    "import re\n",
    "from collections import Counter\n",
    "\n",
    "from spacy.lang.es.stop_words import STOP_WORDS\n",
    "\n",
    "import gensim\n",
    "from gensim.corpora import Dictionary\n",
    "from gensim.models import LdaModel, CoherenceModel"
   ]
  },
  {
   "cell_type": "markdown",
   "metadata": {},
   "source": [
    "Cargo los datos y le asigno un topic a cada dataset"
   ]
  },
  {
   "cell_type": "code",
   "execution_count": 2,
   "metadata": {},
   "outputs": [],
   "source": [
    "aiv5 = pd.read_csv(\"Amazon_Instant_Video_5.csv\")  # Topic 1\n",
    "a5 = pd.read_csv(\"Automotive_5.csv\")              # Topic 2\n",
    "dm5 = pd.read_csv(\"Digital_Music_5.csv\")          # Topic 3\n",
    "mi5 = pd.read_csv(\"Musical_Instruments_5.csv\")    # Topic 4\n",
    "plg5 = pd.read_csv(\"Patio_Lawn_and_Garden_5.csv\") # Topic 5"
   ]
  },
  {
   "cell_type": "code",
   "execution_count": 3,
   "metadata": {},
   "outputs": [],
   "source": [
    "aiv5[\"topic\"] = 1\n",
    "a5[\"topic\"] = 2\n",
    "dm5[\"topic\"] = 3\n",
    "mi5[\"topic\"] = 4\n",
    "plg5[\"topic\"] = 5"
   ]
  },
  {
   "cell_type": "markdown",
   "metadata": {},
   "source": [
    "Mezclo y remuevo todos mis datos"
   ]
  },
  {
   "cell_type": "code",
   "execution_count": 4,
   "metadata": {},
   "outputs": [],
   "source": [
    "reviews = pd.concat([aiv5,a5,dm5,mi5,plg5], ignore_index=True).dropna(subset=['reviewText']).sample(frac=1)"
   ]
  },
  {
   "cell_type": "code",
   "execution_count": 5,
   "metadata": {},
   "outputs": [
    {
     "data": {
      "text/html": [
       "<div>\n",
       "<style scoped>\n",
       "    .dataframe tbody tr th:only-of-type {\n",
       "        vertical-align: middle;\n",
       "    }\n",
       "\n",
       "    .dataframe tbody tr th {\n",
       "        vertical-align: top;\n",
       "    }\n",
       "\n",
       "    .dataframe thead th {\n",
       "        text-align: right;\n",
       "    }\n",
       "</style>\n",
       "<table border=\"1\" class=\"dataframe\">\n",
       "  <thead>\n",
       "    <tr style=\"text-align: right;\">\n",
       "      <th></th>\n",
       "      <th>reviewerID</th>\n",
       "      <th>asin</th>\n",
       "      <th>reviewerName</th>\n",
       "      <th>helpful</th>\n",
       "      <th>reviewText</th>\n",
       "      <th>overall</th>\n",
       "      <th>summary</th>\n",
       "      <th>unixReviewTime</th>\n",
       "      <th>reviewTime</th>\n",
       "      <th>topic</th>\n",
       "    </tr>\n",
       "  </thead>\n",
       "  <tbody>\n",
       "    <tr>\n",
       "      <th>13964</th>\n",
       "      <td>A2U9LITOWKV5MI</td>\n",
       "      <td>B004VB5JDW</td>\n",
       "      <td>Abe C.</td>\n",
       "      <td>[4, 5]</td>\n",
       "      <td>I have washed these towels several times and I...</td>\n",
       "      <td>1</td>\n",
       "      <td>Very linty</td>\n",
       "      <td>1371945600</td>\n",
       "      <td>06 23, 2013</td>\n",
       "      <td>2</td>\n",
       "    </tr>\n",
       "    <tr>\n",
       "      <th>37047</th>\n",
       "      <td>A14Z9LAETO21KL</td>\n",
       "      <td>B000KIRT74</td>\n",
       "      <td>Gutjammer</td>\n",
       "      <td>[0, 1]</td>\n",
       "      <td>I own the old Ibanez TS9, that I modified to t...</td>\n",
       "      <td>3</td>\n",
       "      <td>Good for the $</td>\n",
       "      <td>1394496000</td>\n",
       "      <td>03 11, 2014</td>\n",
       "      <td>4</td>\n",
       "    </tr>\n",
       "    <tr>\n",
       "      <th>35591</th>\n",
       "      <td>A355HGZDEPHHC5</td>\n",
       "      <td>B004Z17008</td>\n",
       "      <td>Doug</td>\n",
       "      <td>[0, 0]</td>\n",
       "      <td>I have use this tuner for quite a few years . ...</td>\n",
       "      <td>5</td>\n",
       "      <td>Snark Tuner</td>\n",
       "      <td>1318550400</td>\n",
       "      <td>10 14, 2011</td>\n",
       "      <td>4</td>\n",
       "    </tr>\n",
       "    <tr>\n",
       "      <th>45433</th>\n",
       "      <td>A2I2KPNJDQ9SL0</td>\n",
       "      <td>B0018U0A3S</td>\n",
       "      <td>XiMiX</td>\n",
       "      <td>[1, 2]</td>\n",
       "      <td>It's just a chain oil, and there has not been ...</td>\n",
       "      <td>5</td>\n",
       "      <td>OK</td>\n",
       "      <td>1373673600</td>\n",
       "      <td>07 13, 2013</td>\n",
       "      <td>5</td>\n",
       "    </tr>\n",
       "    <tr>\n",
       "      <th>7433</th>\n",
       "      <td>AA0FQMUKH36XP</td>\n",
       "      <td>B008DZ91U4</td>\n",
       "      <td>lily2279</td>\n",
       "      <td>[1, 1]</td>\n",
       "      <td>This series did not engage my sensibilities en...</td>\n",
       "      <td>3</td>\n",
       "      <td>Lukewarm</td>\n",
       "      <td>1352851200</td>\n",
       "      <td>11 14, 2012</td>\n",
       "      <td>1</td>\n",
       "    </tr>\n",
       "    <tr>\n",
       "      <th>...</th>\n",
       "      <td>...</td>\n",
       "      <td>...</td>\n",
       "      <td>...</td>\n",
       "      <td>...</td>\n",
       "      <td>...</td>\n",
       "      <td>...</td>\n",
       "      <td>...</td>\n",
       "      <td>...</td>\n",
       "      <td>...</td>\n",
       "      <td>...</td>\n",
       "    </tr>\n",
       "    <tr>\n",
       "      <th>14201</th>\n",
       "      <td>A9G6U28R53IVE</td>\n",
       "      <td>B00A6AS6LY</td>\n",
       "      <td>M. Graham</td>\n",
       "      <td>[0, 0]</td>\n",
       "      <td>Worked perfectly! Takes the guess work out of ...</td>\n",
       "      <td>5</td>\n",
       "      <td>worked great</td>\n",
       "      <td>1381881600</td>\n",
       "      <td>10 16, 2013</td>\n",
       "      <td>2</td>\n",
       "    </tr>\n",
       "    <tr>\n",
       "      <th>18068</th>\n",
       "      <td>A2NDMKZIM7FOOB</td>\n",
       "      <td>B000UJG0LE</td>\n",
       "      <td>P. Corson</td>\n",
       "      <td>[0, 0]</td>\n",
       "      <td>It's hard to find gasoline that hasn't been co...</td>\n",
       "      <td>4</td>\n",
       "      <td>Antidote for Ethanol</td>\n",
       "      <td>1383868800</td>\n",
       "      <td>11 8, 2013</td>\n",
       "      <td>2</td>\n",
       "    </tr>\n",
       "    <tr>\n",
       "      <th>39517</th>\n",
       "      <td>A1CL807EOUPVP1</td>\n",
       "      <td>B0002GZ052</td>\n",
       "      <td>GunHawk</td>\n",
       "      <td>[2, 3]</td>\n",
       "      <td>I needed a volume pedal of a smaller stature f...</td>\n",
       "      <td>5</td>\n",
       "      <td>Just what my pedal set up needed.</td>\n",
       "      <td>1375920000</td>\n",
       "      <td>08 8, 2013</td>\n",
       "      <td>4</td>\n",
       "    </tr>\n",
       "    <tr>\n",
       "      <th>3907</th>\n",
       "      <td>A15G70V9OBTOVO</td>\n",
       "      <td>B00I3MPDP4</td>\n",
       "      <td>Coronet Blue</td>\n",
       "      <td>[0, 0]</td>\n",
       "      <td>This first episode, which combines threads of ...</td>\n",
       "      <td>5</td>\n",
       "      <td>This has huge potential</td>\n",
       "      <td>1392249600</td>\n",
       "      <td>02 13, 2014</td>\n",
       "      <td>1</td>\n",
       "    </tr>\n",
       "    <tr>\n",
       "      <th>27820</th>\n",
       "      <td>A2QLWT73R171OP</td>\n",
       "      <td>B000003B6G</td>\n",
       "      <td>OneTimez1</td>\n",
       "      <td>[0, 0]</td>\n",
       "      <td>Wow what can I say about this album. This was ...</td>\n",
       "      <td>5</td>\n",
       "      <td>Classic Eazy</td>\n",
       "      <td>1157587200</td>\n",
       "      <td>09 7, 2006</td>\n",
       "      <td>3</td>\n",
       "    </tr>\n",
       "  </tbody>\n",
       "</table>\n",
       "<p>49981 rows × 10 columns</p>\n",
       "</div>"
      ],
      "text/plain": [
       "           reviewerID        asin  reviewerName helpful  \\\n",
       "13964  A2U9LITOWKV5MI  B004VB5JDW        Abe C.  [4, 5]   \n",
       "37047  A14Z9LAETO21KL  B000KIRT74     Gutjammer  [0, 1]   \n",
       "35591  A355HGZDEPHHC5  B004Z17008          Doug  [0, 0]   \n",
       "45433  A2I2KPNJDQ9SL0  B0018U0A3S         XiMiX  [1, 2]   \n",
       "7433    AA0FQMUKH36XP  B008DZ91U4      lily2279  [1, 1]   \n",
       "...               ...         ...           ...     ...   \n",
       "14201   A9G6U28R53IVE  B00A6AS6LY     M. Graham  [0, 0]   \n",
       "18068  A2NDMKZIM7FOOB  B000UJG0LE     P. Corson  [0, 0]   \n",
       "39517  A1CL807EOUPVP1  B0002GZ052       GunHawk  [2, 3]   \n",
       "3907   A15G70V9OBTOVO  B00I3MPDP4  Coronet Blue  [0, 0]   \n",
       "27820  A2QLWT73R171OP  B000003B6G     OneTimez1  [0, 0]   \n",
       "\n",
       "                                              reviewText  overall  \\\n",
       "13964  I have washed these towels several times and I...        1   \n",
       "37047  I own the old Ibanez TS9, that I modified to t...        3   \n",
       "35591  I have use this tuner for quite a few years . ...        5   \n",
       "45433  It's just a chain oil, and there has not been ...        5   \n",
       "7433   This series did not engage my sensibilities en...        3   \n",
       "...                                                  ...      ...   \n",
       "14201  Worked perfectly! Takes the guess work out of ...        5   \n",
       "18068  It's hard to find gasoline that hasn't been co...        4   \n",
       "39517  I needed a volume pedal of a smaller stature f...        5   \n",
       "3907   This first episode, which combines threads of ...        5   \n",
       "27820  Wow what can I say about this album. This was ...        5   \n",
       "\n",
       "                                 summary  unixReviewTime   reviewTime  topic  \n",
       "13964                         Very linty      1371945600  06 23, 2013      2  \n",
       "37047                     Good for the $      1394496000  03 11, 2014      4  \n",
       "35591                        Snark Tuner      1318550400  10 14, 2011      4  \n",
       "45433                                 OK      1373673600  07 13, 2013      5  \n",
       "7433                            Lukewarm      1352851200  11 14, 2012      1  \n",
       "...                                  ...             ...          ...    ...  \n",
       "14201                       worked great      1381881600  10 16, 2013      2  \n",
       "18068               Antidote for Ethanol      1383868800   11 8, 2013      2  \n",
       "39517  Just what my pedal set up needed.      1375920000   08 8, 2013      4  \n",
       "3907             This has huge potential      1392249600  02 13, 2014      1  \n",
       "27820                       Classic Eazy      1157587200   09 7, 2006      3  \n",
       "\n",
       "[49981 rows x 10 columns]"
      ]
     },
     "execution_count": 5,
     "metadata": {},
     "output_type": "execute_result"
    }
   ],
   "source": [
    "reviews"
   ]
  },
  {
   "cell_type": "code",
   "execution_count": 6,
   "metadata": {},
   "outputs": [
    {
     "data": {
      "text/plain": [
       "3    10000\n",
       "1    10000\n",
       "2     9997\n",
       "4     9993\n",
       "5     9991\n",
       "Name: topic, dtype: int64"
      ]
     },
     "execution_count": 6,
     "metadata": {},
     "output_type": "execute_result"
    }
   ],
   "source": [
    "reviews.topic.value_counts()"
   ]
  },
  {
   "cell_type": "markdown",
   "metadata": {},
   "source": [
    "## 1. Modelado de Topics"
   ]
  },
  {
   "cell_type": "markdown",
   "metadata": {},
   "source": [
    "El pipeline comienza con una función para el preprocesado"
   ]
  },
  {
   "cell_type": "code",
   "execution_count": 7,
   "metadata": {},
   "outputs": [],
   "source": [
    "def preprocess_texts(texts, **kwargs):\n",
    "    \n",
    "    processed_texts = [] # Aquí me guardaré los textos procesados en forma de lista\n",
    "    \n",
    "    # Para el autocorrector que se aplica más abajo utilizaré todo el texto de mi corpus\n",
    "    if 'auto_correct' in kwargs and kwargs['auto_correct']:\n",
    "        full_text = \" \".join([text for text in texts])\n",
    "    \n",
    "    for text in texts:\n",
    "        \n",
    "        tokens = [] # Aquí se guardan los tokens que conforman cada texto\n",
    "        \n",
    "        # Comenzando con el preprocesado completo de gensim.utils.simple_preprocess()\n",
    "        if 'simple_gensim' in kwargs and kwargs['simple_gensim']:\n",
    "            rawtokens = [token for token in gensim.utils.simple_preprocess(text)]\n",
    "            \n",
    "        # Sin simple_gensim hago un split y utilizo tan solo mi preprocesado adicional\n",
    "        else: rawtokens = text.split()\n",
    "        \n",
    "        # Aplico reglas adicionales de preprocesado.\n",
    "        for token in rawtokens:\n",
    "            if 'lower' in kwargs and kwargs['lower']: token = token.lower()\n",
    "            if 'only_alpha' in kwargs and kwargs['only_alpha']: token = re.sub('\\W+', '', token)\n",
    "            if 'stop_words' in kwargs and token in kwargs.get('stop_words'): token = None\n",
    "\n",
    "            if token: tokens.append(token)\n",
    "                \n",
    "        # Aplico mi corrector ortográfico al texto preprocesado.\n",
    "        if 'auto_correct' in kwargs and kwargs['auto_correct']:\n",
    "            for ix in range(len(tokens)):\n",
    "                tokens[ix] = correct(tokens[ix], full_text, kwargs['auto_correct'])\n",
    "        \n",
    "        processed_texts.append(tokens)\n",
    "        \n",
    "    return processed_texts"
   ]
  },
  {
   "cell_type": "markdown",
   "metadata": {},
   "source": [
    "Defino mi propio corrector ortográfico"
   ]
  },
  {
   "cell_type": "code",
   "execution_count": 8,
   "metadata": {},
   "outputs": [],
   "source": [
    "# Con steps_away indico el número máximo de modificaciones que se realizarán para buscar una corrección.\n",
    "def correct(word, text, steps_away=1):\n",
    "    counts = Counter(text)\n",
    "    \n",
    "    candidates = [w for w in edits(word, steps=steps_away) if w in text or w is word]\n",
    "    \n",
    "    return max(candidates, key=lambda w: counts[w] / len(text))"
   ]
  },
  {
   "cell_type": "code",
   "execution_count": 9,
   "metadata": {},
   "outputs": [],
   "source": [
    "def edits(word, steps=1):\n",
    "    \n",
    "    words = [word]\n",
    "    \n",
    "    for step in range(steps):\n",
    "        \n",
    "        new_words = []\n",
    "        \n",
    "        for word in words:\n",
    "            letters    = 'abcdefghijklmnopqrstuvwxyz'\n",
    "            splits     = [(word[:i], word[i:])    for i in range(len(word) + 1)]\n",
    "            deletes    = [L + R[1:]                 for L, R in splits if R]\n",
    "            transposes = [L + R[1] + R[0] + R[2:]   for L, R in splits if len(R)>1]\n",
    "            replaces   = [L + c + R[1:]             for L, R in splits if R for c in letters]\n",
    "            inserts    = [L + c + R                 for L, R in splits for c in letters]\n",
    "            \n",
    "            new_words += list(set(deletes + transposes + replaces + inserts))\n",
    "\n",
    "        words += list(set(new_words))\n",
    "    \n",
    "    return words"
   ]
  },
  {
   "cell_type": "markdown",
   "metadata": {},
   "source": [
    "\n"
   ]
  },
  {
   "cell_type": "code",
   "execution_count": 10,
   "metadata": {},
   "outputs": [
    {
     "data": {
      "text/plain": [
       "315993"
      ]
     },
     "execution_count": 10,
     "metadata": {},
     "output_type": "execute_result"
    }
   ],
   "source": [
    "processed_texts = preprocess_texts(reviews.reviewText)\n",
    "dictionary = Dictionary(processed_texts)\n",
    "len(dictionary)"
   ]
  },
  {
   "cell_type": "code",
   "execution_count": 11,
   "metadata": {},
   "outputs": [],
   "source": [
    "stop_words = set(list(gensim.parsing.preprocessing.STOPWORDS)+list(STOP_WORDS))"
   ]
  },
  {
   "cell_type": "code",
   "execution_count": 12,
   "metadata": {},
   "outputs": [
    {
     "data": {
      "text/plain": [
       "315551"
      ]
     },
     "execution_count": 12,
     "metadata": {},
     "output_type": "execute_result"
    }
   ],
   "source": [
    "processed_texts = preprocess_texts(reviews.reviewText, stop_words=stop_words)\n",
    "dictionary = Dictionary(processed_texts)\n",
    "len(dictionary)"
   ]
  },
  {
   "cell_type": "code",
   "execution_count": 13,
   "metadata": {},
   "outputs": [
    {
     "data": {
      "text/plain": [
       "163526"
      ]
     },
     "execution_count": 13,
     "metadata": {},
     "output_type": "execute_result"
    }
   ],
   "source": [
    "processed_texts = preprocess_texts(reviews.reviewText, lower=True, only_alpha=True)\n",
    "dictionary = Dictionary(processed_texts)\n",
    "len(dictionary)"
   ]
  },
  {
   "cell_type": "raw",
   "metadata": {},
   "source": [
    "# El corrector tarda demasiado en aplicarse a todo el corpus así que ignoraré esta parte\n",
    "\n",
    "processed_texts = preprocess_texts(reviews.reviewText, lower=True, only_alpha=True, auto_correct=2)\n",
    "dictionary = Dictionary(processed_texts)\n",
    "len(dictionary)"
   ]
  },
  {
   "cell_type": "code",
   "execution_count": 14,
   "metadata": {},
   "outputs": [
    {
     "data": {
      "text/plain": [
       "73140"
      ]
     },
     "execution_count": 14,
     "metadata": {},
     "output_type": "execute_result"
    }
   ],
   "source": [
    "processed_texts_simple = preprocess_texts(reviews.reviewText, simple_gensim=True)\n",
    "dictionary_simple = Dictionary(processed_texts_simple)\n",
    "len(dictionary_simple)"
   ]
  },
  {
   "cell_type": "markdown",
   "metadata": {},
   "source": [
    "#### Genero una matriz para el corpus y entreno con LDA para realizar un primer acercamiento a los posibles topics que se pueden obtener"
   ]
  },
  {
   "cell_type": "code",
   "execution_count": 15,
   "metadata": {},
   "outputs": [],
   "source": [
    "corpus = [dictionary.doc2bow(doc) for doc in processed_texts]"
   ]
  },
  {
   "cell_type": "code",
   "execution_count": 16,
   "metadata": {},
   "outputs": [
    {
     "data": {
      "text/plain": [
       "[(0,\n",
       "  '0.056*\"the\" + 0.033*\"of\" + 0.029*\"and\" + 0.025*\"a\" + 0.023*\"is\" + 0.018*\"album\" + 0.013*\"on\" + 0.012*\"in\" + 0.012*\"with\" + 0.011*\"this\"'),\n",
       " (1,\n",
       "  '0.079*\"the\" + 0.035*\"to\" + 0.027*\"and\" + 0.025*\"a\" + 0.020*\"of\" + 0.017*\"in\" + 0.015*\"it\" + 0.014*\"is\" + 0.009*\"that\" + 0.009*\"with\"'),\n",
       " (2,\n",
       "  '0.075*\"the\" + 0.035*\"and\" + 0.034*\"of\" + 0.030*\"a\" + 0.026*\"to\" + 0.022*\"is\" + 0.019*\"in\" + 0.012*\"that\" + 0.011*\"as\" + 0.010*\"with\"'),\n",
       " (3,\n",
       "  '0.050*\"the\" + 0.038*\"a\" + 0.033*\"and\" + 0.023*\"to\" + 0.021*\"for\" + 0.018*\"is\" + 0.015*\"it\" + 0.014*\"with\" + 0.013*\"on\" + 0.013*\"my\"'),\n",
       " (4,\n",
       "  '0.067*\"i\" + 0.046*\"it\" + 0.034*\"this\" + 0.029*\"to\" + 0.023*\"and\" + 0.019*\"but\" + 0.017*\"the\" + 0.017*\"a\" + 0.016*\"that\" + 0.016*\"was\"')]"
      ]
     },
     "execution_count": 16,
     "metadata": {},
     "output_type": "execute_result"
    }
   ],
   "source": [
    "lda_model = LdaModel(\n",
    "    corpus=corpus,\n",
    "    id2word=dictionary,\n",
    "    num_topics=5,\n",
    "    iterations=5,\n",
    "    passes=10,\n",
    "    alpha='auto'\n",
    ")\n",
    "\n",
    "lda_model.show_topics()"
   ]
  },
  {
   "cell_type": "code",
   "execution_count": 17,
   "metadata": {},
   "outputs": [],
   "source": [
    "corpus_simple = [dictionary_simple.doc2bow(doc) for doc in processed_texts_simple]"
   ]
  },
  {
   "cell_type": "code",
   "execution_count": 18,
   "metadata": {},
   "outputs": [
    {
     "data": {
      "text/plain": [
       "[(0,\n",
       "  '0.050*\"the\" + 0.031*\"and\" + 0.030*\"of\" + 0.020*\"is\" + 0.017*\"album\" + 0.013*\"this\" + 0.013*\"on\" + 0.013*\"quot\" + 0.012*\"in\" + 0.011*\"to\"'),\n",
       " (1,\n",
       "  '0.064*\"the\" + 0.038*\"to\" + 0.033*\"and\" + 0.020*\"of\" + 0.019*\"in\" + 0.015*\"it\" + 0.012*\"have\" + 0.012*\"for\" + 0.011*\"my\" + 0.010*\"this\"'),\n",
       " (2,\n",
       "  '0.050*\"the\" + 0.037*\"and\" + 0.024*\"to\" + 0.022*\"for\" + 0.017*\"my\" + 0.016*\"on\" + 0.014*\"with\" + 0.012*\"is\" + 0.011*\"of\" + 0.010*\"this\"'),\n",
       " (3,\n",
       "  '0.066*\"the\" + 0.037*\"and\" + 0.029*\"of\" + 0.027*\"to\" + 0.019*\"is\" + 0.018*\"in\" + 0.012*\"that\" + 0.011*\"this\" + 0.009*\"as\" + 0.009*\"was\"'),\n",
       " (4,\n",
       "  '0.079*\"it\" + 0.056*\"the\" + 0.033*\"to\" + 0.030*\"you\" + 0.029*\"this\" + 0.029*\"is\" + 0.023*\"that\" + 0.019*\"but\" + 0.018*\"and\" + 0.014*\"of\"')]"
      ]
     },
     "execution_count": 18,
     "metadata": {},
     "output_type": "execute_result"
    }
   ],
   "source": [
    "lda_model_simple = LdaModel(\n",
    "    corpus=corpus_simple,\n",
    "    id2word=dictionary_simple,\n",
    "    num_topics=5,\n",
    "    iterations=5,\n",
    "    passes=10,\n",
    "    alpha='auto'\n",
    ")\n",
    "\n",
    "lda_model_simple.show_topics()"
   ]
  },
  {
   "cell_type": "markdown",
   "metadata": {},
   "source": [
    "Con estos resultados no se puede extraer ninguna conclusión.<br>\n",
    "Se hace necesario eliminar stop_words."
   ]
  },
  {
   "cell_type": "code",
   "execution_count": 19,
   "metadata": {},
   "outputs": [],
   "source": [
    "processed_texts = preprocess_texts(reviews.reviewText, lower=True, only_alpha=True, stop_words=stop_words)\n",
    "dictionary = Dictionary(processed_texts)\n",
    "corpus = [dictionary.doc2bow(doc) for doc in processed_texts]"
   ]
  },
  {
   "cell_type": "code",
   "execution_count": 20,
   "metadata": {},
   "outputs": [
    {
     "data": {
      "text/plain": [
       "[(0,\n",
       "  '0.010*\"season\" + 0.010*\"like\" + 0.008*\"series\" + 0.007*\"good\" + 0.007*\"love\" + 0.006*\"great\" + 0.006*\"watch\" + 0.005*\"story\" + 0.005*\"characters\" + 0.005*\"people\"'),\n",
       " (1,\n",
       "  '0.013*\"battery\" + 0.011*\"power\" + 0.009*\"use\" + 0.008*\"unit\" + 0.008*\"grill\" + 0.007*\"oil\" + 0.007*\"light\" + 0.005*\"batteries\" + 0.005*\"cover\" + 0.005*\"filter\"'),\n",
       " (2,\n",
       "  '0.025*\"album\" + 0.013*\"song\" + 0.011*\"songs\" + 0.011*\"like\" + 0.009*\"music\" + 0.007*\"cd\" + 0.007*\"best\" + 0.006*\"good\" + 0.006*\"great\" + 0.006*\"track\"'),\n",
       " (3,\n",
       "  '0.008*\"use\" + 0.007*\"like\" + 0.007*\"water\" + 0.007*\"product\" + 0.006*\"easy\" + 0.006*\"feeder\" + 0.005*\"trap\" + 0.005*\"dont\" + 0.005*\"hose\" + 0.005*\"little\"'),\n",
       " (4,\n",
       "  '0.014*\"great\" + 0.013*\"good\" + 0.011*\"like\" + 0.010*\"use\" + 0.008*\"guitar\" + 0.007*\"price\" + 0.006*\"works\" + 0.006*\"quality\" + 0.006*\"dont\" + 0.006*\"nice\"')]"
      ]
     },
     "execution_count": 20,
     "metadata": {},
     "output_type": "execute_result"
    }
   ],
   "source": [
    "lda_model = LdaModel(\n",
    "    corpus=corpus,\n",
    "    id2word=dictionary,\n",
    "    num_topics=5,\n",
    "    iterations=5,\n",
    "    passes=10,\n",
    "    alpha='auto'\n",
    ")\n",
    "\n",
    "lda_model.show_topics()"
   ]
  },
  {
   "cell_type": "markdown",
   "metadata": {},
   "source": [
    "Aquí parece que ya comienzan a diferenciarse los 5 topics principales referentes a los 5 datasets que se han utilizado, aunque sigue habiendo demasiadas palabras genéricas.\n",
    "\n",
    "Por ejemplo tenemos que para Amazon Instant Video se destacan las palabras \"season\", \"series\", \"watch\", \"story\", \"characters\" que son bastante descriptivas y permiten intuír de qué se está hablando.\n",
    "\n",
    "Para Digital Music tenemos también un topic que se destaca bastante con las palabras \"album\", \"song\", \"songs\", \"music\", \"cd\", \"track\".\n",
    "\n",
    "Para Patio Lawn and Garden también tenemos un topic destacado con algunas palabras bastante descriptivas como \"water\", \"feeder\", \"trap\" y \"hose\".\n",
    "\n",
    "Para Musical Instruments podríamos decir que tenemos el topic 4 por la palabra \"guitar\", pero no habría una manera clara de saberlo ya que el resto de palabras son muy genéricas.\n",
    "\n",
    "No parece haber ningún topic específico que distinga el dataset de Automotive"
   ]
  },
  {
   "cell_type": "code",
   "execution_count": 21,
   "metadata": {},
   "outputs": [],
   "source": [
    "processed_texts_simple = preprocess_texts(reviews.reviewText, simple_gensim=True, stop_words=stop_words)\n",
    "dictionary_simple = Dictionary(processed_texts_simple)\n",
    "corpus_simple = [dictionary_simple.doc2bow(doc) for doc in processed_texts_simple]"
   ]
  },
  {
   "cell_type": "code",
   "execution_count": 22,
   "metadata": {},
   "outputs": [
    {
     "data": {
      "text/plain": [
       "[(0,\n",
       "  '0.012*\"use\" + 0.008*\"car\" + 0.007*\"product\" + 0.006*\"like\" + 0.006*\"time\" + 0.006*\"great\" + 0.006*\"battery\" + 0.006*\"easy\" + 0.006*\"good\" + 0.005*\"light\"'),\n",
       " (1,\n",
       "  '0.014*\"great\" + 0.013*\"guitar\" + 0.013*\"good\" + 0.011*\"like\" + 0.009*\"use\" + 0.009*\"sound\" + 0.008*\"price\" + 0.008*\"quality\" + 0.007*\"strings\" + 0.006*\"ve\"'),\n",
       " (2,\n",
       "  '0.010*\"like\" + 0.010*\"season\" + 0.008*\"good\" + 0.008*\"series\" + 0.007*\"love\" + 0.006*\"great\" + 0.006*\"watch\" + 0.005*\"story\" + 0.005*\"time\" + 0.005*\"characters\"'),\n",
       " (3,\n",
       "  '0.009*\"feeder\" + 0.008*\"water\" + 0.008*\"trap\" + 0.008*\"like\" + 0.007*\"use\" + 0.007*\"product\" + 0.006*\"easy\" + 0.005*\"hose\" + 0.005*\"garden\" + 0.005*\"little\"'),\n",
       " (4,\n",
       "  '0.028*\"album\" + 0.021*\"quot\" + 0.015*\"song\" + 0.012*\"songs\" + 0.012*\"like\" + 0.010*\"music\" + 0.008*\"cd\" + 0.007*\"best\" + 0.007*\"good\" + 0.006*\"track\"')]"
      ]
     },
     "execution_count": 22,
     "metadata": {},
     "output_type": "execute_result"
    }
   ],
   "source": [
    "lda_model_simple = LdaModel(\n",
    "    corpus=corpus_simple,\n",
    "    id2word=dictionary_simple,\n",
    "    num_topics=5,\n",
    "    iterations=5,\n",
    "    passes=10,\n",
    "    alpha='auto'\n",
    ")\n",
    "\n",
    "lda_model_simple.show_topics()"
   ]
  },
  {
   "cell_type": "markdown",
   "metadata": {},
   "source": [
    "Usando el preprocesado de gensim, que nos reduce muchísimo más el diccionario, parece que mejoran un poco los resultados.\n",
    "\n",
    "Ahora tenemos la palabra clave \"car\" que podría estar apuntando al dataset Automotive, aunque el resto de palabras destacadas del topic no son demasiado específicas. \"Battery\" y \"light\" podrían tener algo que ver con este dataset, aunque también podrían hacer referencia a un instrumento musical y a las luces del jardín.\n",
    "\n",
    "Para el dataset de Musical Instruments ahora tenemos alguna palabra clave más como \"sound\" y \"strings\".\n",
    "\n",
    "Los topics de Amazon Instant Video y Digital Music parece que son los más fáciles de identificar.\n",
    "\n",
    "Para Patio Lawn and Garden ahora también tenemos la palabra clave \"garden\".\n",
    "\n",
    "Vamos ahora a ver qué pasa si duplico el número de topics."
   ]
  },
  {
   "cell_type": "code",
   "execution_count": 23,
   "metadata": {},
   "outputs": [
    {
     "data": {
      "text/plain": [
       "[(0,\n",
       "  '0.038*\"like\" + 0.031*\"good\" + 0.024*\"great\" + 0.018*\"time\" + 0.012*\"better\" + 0.012*\"little\" + 0.011*\"think\" + 0.011*\"ve\" + 0.010*\"love\" + 0.010*\"way\"'),\n",
       " (1,\n",
       "  '0.030*\"car\" + 0.018*\"use\" + 0.018*\"product\" + 0.011*\"oil\" + 0.011*\"clean\" + 0.007*\"filter\" + 0.007*\"wax\" + 0.007*\"water\" + 0.006*\"paint\" + 0.006*\"cars\"'),\n",
       " (2,\n",
       "  '0.023*\"plants\" + 0.022*\"grill\" + 0.016*\"plant\" + 0.014*\"garden\" + 0.012*\"cover\" + 0.012*\"soil\" + 0.011*\"use\" + 0.009*\"heat\" + 0.008*\"weber\" + 0.008*\"pot\"'),\n",
       " (3,\n",
       "  '0.048*\"guitar\" + 0.029*\"sound\" + 0.024*\"strings\" + 0.018*\"pedal\" + 0.018*\"amp\" + 0.013*\"tone\" + 0.011*\"playing\" + 0.011*\"play\" + 0.011*\"guitars\" + 0.010*\"strap\"'),\n",
       " (4,\n",
       "  '0.014*\"use\" + 0.012*\"battery\" + 0.008*\"easy\" + 0.007*\"handle\" + 0.007*\"small\" + 0.006*\"heavy\" + 0.006*\"power\" + 0.006*\"plastic\" + 0.005*\"cut\" + 0.005*\"need\"'),\n",
       " (5,\n",
       "  '0.024*\"trap\" + 0.012*\"mouse\" + 0.011*\"product\" + 0.010*\"traps\" + 0.010*\"set\" + 0.010*\"house\" + 0.009*\"mice\" + 0.009*\"deer\" + 0.009*\"use\" + 0.008*\"bait\"'),\n",
       " (6,\n",
       "  '0.020*\"price\" + 0.018*\"works\" + 0.018*\"quality\" + 0.015*\"use\" + 0.011*\"light\" + 0.009*\"easy\" + 0.009*\"stand\" + 0.009*\"bought\" + 0.009*\"product\" + 0.008*\"amazon\"'),\n",
       " (7,\n",
       "  '0.036*\"album\" + 0.027*\"quot\" + 0.019*\"song\" + 0.016*\"songs\" + 0.012*\"music\" + 0.010*\"cd\" + 0.008*\"track\" + 0.007*\"best\" + 0.006*\"rock\" + 0.006*\"tracks\"'),\n",
       " (8,\n",
       "  '0.016*\"season\" + 0.013*\"series\" + 0.009*\"story\" + 0.009*\"watch\" + 0.008*\"characters\" + 0.008*\"movie\" + 0.007*\"episode\" + 0.007*\"film\" + 0.006*\"shows\" + 0.006*\"interesting\"'),\n",
       " (9,\n",
       "  '0.037*\"feeder\" + 0.030*\"hose\" + 0.029*\"water\" + 0.018*\"birds\" + 0.012*\"squirrels\" + 0.011*\"bird\" + 0.011*\"feeders\" + 0.010*\"seed\" + 0.010*\"plastic\" + 0.009*\"easy\"')]"
      ]
     },
     "execution_count": 23,
     "metadata": {},
     "output_type": "execute_result"
    }
   ],
   "source": [
    "lda_model_simple = LdaModel(\n",
    "    corpus=corpus_simple,\n",
    "    id2word=dictionary_simple,\n",
    "    num_topics=10,\n",
    "    iterations=5,\n",
    "    passes=10,\n",
    "    alpha='auto'\n",
    ")\n",
    "\n",
    "lda_model_simple.show_topics()"
   ]
  },
  {
   "cell_type": "markdown",
   "metadata": {},
   "source": [
    "Los topics 0, 4 y 6 no hacen referencia a ningún dataset específico, pero parece que hablan el 0 de las impresiones que los clientes pueden tener frente a los productos, el 4 de de las propiedades de los productos, y el 6 del precio y de la calidad.\n",
    "\n",
    "El topic 1 parece que habla concretamente del acabado de los coches.\n",
    "\n",
    "El topic 2 habla claramente del jardín.\n",
    "\n",
    "El topic 3 se distingue bastante bien que habla de instrumentos musicales, más concretamente de guitarras.\n",
    "\n",
    "El topic 5 parece que habla de trampas y cebo para mantener a las alimañas alejadas del hogar.\n",
    "\n",
    "El topic 7 se nota que hace referencia al dataset de Digital Music\n",
    "\n",
    "El topic 8 se nota que hace referencia al dataset de Amazon Instant Video\n",
    "\n",
    "Se ha distinguido el topic 9 que parece que habla de mascotas.\n",
    "\n",
    "Ahora probaré a ejecutar el LDA con los 7 topics que hemos podido diferenciar referentes a los datasets originales, a ver si los resultados coinciden."
   ]
  },
  {
   "cell_type": "code",
   "execution_count": 24,
   "metadata": {},
   "outputs": [
    {
     "data": {
      "text/plain": [
       "[(0,\n",
       "  '0.015*\"battery\" + 0.014*\"use\" + 0.014*\"sound\" + 0.013*\"power\" + 0.012*\"pedal\" + 0.011*\"amp\" + 0.010*\"unit\" + 0.007*\"mic\" + 0.007*\"tone\" + 0.006*\"cable\"'),\n",
       " (1,\n",
       "  '0.015*\"season\" + 0.011*\"series\" + 0.008*\"watch\" + 0.008*\"story\" + 0.008*\"characters\" + 0.007*\"movie\" + 0.007*\"episode\" + 0.006*\"film\" + 0.006*\"shows\" + 0.005*\"watching\"'),\n",
       " (2,\n",
       "  '0.012*\"feeder\" + 0.011*\"trap\" + 0.010*\"use\" + 0.009*\"water\" + 0.008*\"product\" + 0.007*\"garden\" + 0.007*\"easy\" + 0.007*\"plants\" + 0.006*\"grill\" + 0.006*\"birds\"'),\n",
       " (3,\n",
       "  '0.033*\"album\" + 0.025*\"quot\" + 0.018*\"song\" + 0.015*\"songs\" + 0.012*\"music\" + 0.009*\"cd\" + 0.008*\"track\" + 0.007*\"best\" + 0.006*\"like\" + 0.006*\"rock\"'),\n",
       " (4,\n",
       "  '0.014*\"guitar\" + 0.013*\"use\" + 0.010*\"easy\" + 0.010*\"strings\" + 0.008*\"hose\" + 0.008*\"nice\" + 0.007*\"fit\" + 0.007*\"price\" + 0.006*\"quality\" + 0.006*\"great\"'),\n",
       " (5,\n",
       "  '0.022*\"car\" + 0.017*\"use\" + 0.017*\"product\" + 0.009*\"oil\" + 0.008*\"water\" + 0.008*\"clean\" + 0.007*\"works\" + 0.006*\"filter\" + 0.006*\"easy\" + 0.005*\"wax\"'),\n",
       " (6,\n",
       "  '0.032*\"like\" + 0.026*\"good\" + 0.017*\"great\" + 0.016*\"time\" + 0.011*\"better\" + 0.011*\"ve\" + 0.010*\"little\" + 0.010*\"think\" + 0.008*\"way\" + 0.008*\"got\"')]"
      ]
     },
     "execution_count": 24,
     "metadata": {},
     "output_type": "execute_result"
    }
   ],
   "source": [
    "lda_model_simple = LdaModel(\n",
    "    corpus=corpus_simple,\n",
    "    id2word=dictionary_simple,\n",
    "    num_topics=7,\n",
    "    iterations=5,\n",
    "    passes=10,\n",
    "    alpha='auto'\n",
    ")\n",
    "\n",
    "lda_model_simple.show_topics()"
   ]
  },
  {
   "cell_type": "markdown",
   "metadata": {},
   "source": [
    "Tenemos el topic 0 que se nota que habla de Musical Instruments.\n",
    "\n",
    "En el topic 1 se nota que habla de Amazon Instant Video.\n",
    "\n",
    "En el topic 2 se nota que habla de Patio Lawn and Garden.\n",
    "\n",
    "En el topic 3 se nota que habla de Digital Music.\n",
    "\n",
    "El topic 4 ya no es tan bueno, parece una tienda genérica donde se venden muchas guitarras y mangueras (?).\n",
    "\n",
    "En el topic 5 podría hacer referencia a Automotive.\n",
    "\n",
    "En el topic 6 parece que se engloban las impresiones de los clientes."
   ]
  },
  {
   "cell_type": "markdown",
   "metadata": {},
   "source": [
    "##### Si tuviese que escoger uno de estos modelos, a priori me quedaría con el de 10 topics, ya que es el que me encuentra un mayor número de topics que se pueden distinguir claramente y además es totalmente coherente con los datasets originales."
   ]
  },
  {
   "cell_type": "markdown",
   "metadata": {},
   "source": [
    "\n"
   ]
  },
  {
   "cell_type": "markdown",
   "metadata": {},
   "source": [
    "Voy a realizar un análisis más a fondo de la coherencia que podemos encontrar clusterizando entre 5 y 15 topics"
   ]
  },
  {
   "cell_type": "code",
   "execution_count": 25,
   "metadata": {},
   "outputs": [],
   "source": [
    "def compute_coherence_values(dictionary, corpus, texts, limit, start=2, step=3):\n",
    "    \"\"\"\n",
    "    Compute c_v coherence for various number of topics\n",
    "\n",
    "    Parameters:\n",
    "    ----------\n",
    "    dictionary : Gensim dictionary\n",
    "    corpus : Gensim corpus\n",
    "    texts : List of input texts\n",
    "    limit : Max num of topics\n",
    "\n",
    "    Returns:\n",
    "    -------\n",
    "    model_list : List of LDA topic models\n",
    "    coherence_values : Coherence values corresponding to the LDA model with respective number of topics\n",
    "    \"\"\"\n",
    "    coherence_values = []\n",
    "    model_list = []\n",
    "    for num_topics in range(start, limit, step):\n",
    "        \n",
    "        # Build LDA model\n",
    "        model = LdaModel(corpus=corpus,\n",
    "                         id2word=dictionary,\n",
    "                         num_topics=num_topics)\n",
    "        \n",
    "        # Create a list of LDA models\n",
    "        model_list.append(model)\n",
    "        \n",
    "        # Compute the Coherence for each model\n",
    "        coherencemodel = CoherenceModel(model=model, texts=texts, dictionary=dictionary, coherence='c_v')\n",
    "        coherence_values.append(coherencemodel.get_coherence())\n",
    "\n",
    "    return model_list, coherence_values"
   ]
  },
  {
   "cell_type": "code",
   "execution_count": 29,
   "metadata": {},
   "outputs": [],
   "source": [
    "model_list, coherence_values = compute_coherence_values(\n",
    "    dictionary=dictionary_simple,\n",
    "    corpus=corpus_simple,\n",
    "    texts=processed_texts_simple,\n",
    "    start=5,\n",
    "    limit=15,\n",
    "    step=1\n",
    ")"
   ]
  },
  {
   "cell_type": "code",
   "execution_count": 32,
   "metadata": {},
   "outputs": [
    {
     "data": {
      "image/png": "[encoded data removed]",
      "text/plain": [
       "<Figure size 432x288 with 1 Axes>"
      ]
     },
     "metadata": {
      "needs_background": "light"
     },
     "output_type": "display_data"
    }
   ],
   "source": [
    "x = range(5, 15, 1)\n",
    "plt.plot(x, coherence_values)\n",
    "plt.xlabel('Num Topics')\n",
    "plt.ylabel('Coherence score')\n",
    "plt.legend(('coherence_values'), loc='best')\n",
    "plt.show()"
   ]
  },
  {
   "cell_type": "markdown",
   "metadata": {},
   "source": [
    "Aquí encontramos que el número de topics con mayor coherencia es 8, veamos por qué."
   ]
  },
  {
   "cell_type": "code",
   "execution_count": 33,
   "metadata": {},
   "outputs": [
    {
     "data": {
      "text/plain": [
       "[(0,\n",
       "  '0.013*\"season\" + 0.012*\"like\" + 0.010*\"series\" + 0.010*\"good\" + 0.008*\"great\" + 0.007*\"watch\" + 0.007*\"love\" + 0.007*\"story\" + 0.007*\"characters\" + 0.006*\"movie\"'),\n",
       " (1,\n",
       "  '0.014*\"use\" + 0.013*\"product\" + 0.011*\"good\" + 0.010*\"great\" + 0.010*\"like\" + 0.010*\"car\" + 0.007*\"works\" + 0.006*\"easy\" + 0.006*\"time\" + 0.006*\"work\"'),\n",
       " (2,\n",
       "  '0.022*\"trap\" + 0.011*\"mouse\" + 0.009*\"traps\" + 0.009*\"mice\" + 0.008*\"set\" + 0.007*\"like\" + 0.007*\"bait\" + 0.006*\"house\" + 0.006*\"work\" + 0.006*\"use\"'),\n",
       " (3,\n",
       "  '0.035*\"album\" + 0.029*\"quot\" + 0.018*\"song\" + 0.015*\"like\" + 0.015*\"songs\" + 0.010*\"cd\" + 0.010*\"good\" + 0.008*\"best\" + 0.008*\"great\" + 0.008*\"music\"'),\n",
       " (4,\n",
       "  '0.020*\"guitar\" + 0.013*\"great\" + 0.013*\"sound\" + 0.011*\"strings\" + 0.011*\"like\" + 0.011*\"good\" + 0.009*\"use\" + 0.008*\"pedal\" + 0.007*\"amp\" + 0.007*\"price\"'),\n",
       " (5,\n",
       "  '0.009*\"music\" + 0.007*\"album\" + 0.007*\"love\" + 0.006*\"time\" + 0.006*\"like\" + 0.006*\"song\" + 0.005*\"rock\" + 0.005*\"band\" + 0.005*\"new\" + 0.004*\"songs\"'),\n",
       " (6,\n",
       "  '0.017*\"feeder\" + 0.009*\"birds\" + 0.008*\"like\" + 0.007*\"plastic\" + 0.006*\"metal\" + 0.006*\"seed\" + 0.006*\"easy\" + 0.005*\"little\" + 0.005*\"feeders\" + 0.005*\"small\"'),\n",
       " (7,\n",
       "  '0.012*\"use\" + 0.010*\"battery\" + 0.009*\"hose\" + 0.006*\"time\" + 0.006*\"easy\" + 0.006*\"like\" + 0.006*\"grill\" + 0.005*\"power\" + 0.005*\"unit\" + 0.005*\"light\"')]"
      ]
     },
     "execution_count": 33,
     "metadata": {},
     "output_type": "execute_result"
    }
   ],
   "source": [
    "model_list[3].show_topics()"
   ]
  },
  {
   "cell_type": "markdown",
   "metadata": {},
   "source": [
    "En general se parece bastante al modelo de 10 topics, sin embargo nos encontramos algunos problemas.\n",
    "\n",
    "El topic 1 tiene la palabra \"car\" que podría estar haciendo referencia a Automotive, pero el resto de palabras son muy genéricas.\n",
    "\n",
    "Los topics 3 y 5 podrían estar hablando de lo mismo.\n",
    "\n",
    "Aun así, parece un mejor modelo, ya que no nos encontramos ningún topic que no sepamos de qué está hablando.\n",
    "\n",
    "Respecto al dataset de Patio Lawn and Garden, tenemos 3 topics que parecen distinguirse dentro de este dataset:<br>\n",
    "· El topic 2 habla de trampas para alimañas.<br>\n",
    "· El topic 6 habla de mascotas y jardinería.<br>\n",
    "· El topic 7 habla de posibles usos y herramientas para el patio/jardín."
   ]
  },
  {
   "cell_type": "markdown",
   "metadata": {},
   "source": [
    "\n"
   ]
  },
  {
   "cell_type": "markdown",
   "metadata": {},
   "source": [
    "Veamos ahora si estos topics se corresponden con los topics que asigné originalmente al corpus en base a los dataset de procedencia."
   ]
  },
  {
   "cell_type": "code",
   "execution_count": null,
   "metadata": {},
   "outputs": [],
   "source": []
  }
 ],
 "metadata": {
  "kernelspec": {
   "display_name": "Python 3",
   "language": "python",
   "name": "python3"
  },
  "language_info": {
   "codemirror_mode": {
    "name": "ipython",
    "version": 3
   },
   "file_extension": ".py",
   "mimetype": "text/x-python",
   "name": "python",
   "nbconvert_exporter": "python",
   "pygments_lexer": "ipython3",
   "version": "3.7.7"
  }
 },
 "nbformat": 4,
 "nbformat_minor": 4
}
