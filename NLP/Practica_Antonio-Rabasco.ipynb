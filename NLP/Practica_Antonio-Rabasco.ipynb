{
 "cells": [
  {
   "cell_type": "markdown",
   "metadata": {},
   "source": [
    "# Práctica del módulo NLP"
   ]
  },
  {
   "cell_type": "markdown",
   "metadata": {},
   "source": [
    "Importo los paquetes necesarios"
   ]
  },
  {
   "cell_type": "code",
   "execution_count": 1,
   "metadata": {},
   "outputs": [],
   "source": [
    "import pandas as pd\n",
    "import matplotlib.pyplot as plt\n",
    "\n",
    "import re\n",
    "from collections import Counter\n",
    "\n",
    "from spacy.lang.es.stop_words import STOP_WORDS\n",
    "\n",
    "import gensim\n",
    "from gensim.corpora import Dictionary\n",
    "from gensim.models import LdaModel, CoherenceModel\n",
    "\n",
    "import pyLDAvis\n",
    "import pyLDAvis.gensim"
   ]
  },
  {
   "cell_type": "markdown",
   "metadata": {},
   "source": [
    "Cargo los datos y le asigno un topic a cada dataset"
   ]
  },
  {
   "cell_type": "code",
   "execution_count": 2,
   "metadata": {},
   "outputs": [],
   "source": [
    "aiv5 = pd.read_csv(\"Amazon_Instant_Video_5.csv\")  # Topic 1\n",
    "a5 = pd.read_csv(\"Automotive_5.csv\")              # Topic 2\n",
    "dm5 = pd.read_csv(\"Digital_Music_5.csv\")          # Topic 3\n",
    "mi5 = pd.read_csv(\"Musical_Instruments_5.csv\")    # Topic 4\n",
    "plg5 = pd.read_csv(\"Patio_Lawn_and_Garden_5.csv\") # Topic 5"
   ]
  },
  {
   "cell_type": "code",
   "execution_count": 3,
   "metadata": {},
   "outputs": [],
   "source": [
    "aiv5[\"topic\"] = 1\n",
    "a5[\"topic\"] = 2\n",
    "dm5[\"topic\"] = 3\n",
    "mi5[\"topic\"] = 4\n",
    "plg5[\"topic\"] = 5"
   ]
  },
  {
   "cell_type": "markdown",
   "metadata": {},
   "source": [
    "Mezclo y remuevo todos mis datos"
   ]
  },
  {
   "cell_type": "code",
   "execution_count": 4,
   "metadata": {},
   "outputs": [],
   "source": [
    "reviews = pd.concat([aiv5,a5,dm5,mi5,plg5], ignore_index=True).dropna(subset=['reviewText']).sample(frac=1)"
   ]
  },
  {
   "cell_type": "code",
   "execution_count": 5,
   "metadata": {},
   "outputs": [
    {
     "data": {
      "text/html": [
       "<div>\n",
       "<style scoped>\n",
       "    .dataframe tbody tr th:only-of-type {\n",
       "        vertical-align: middle;\n",
       "    }\n",
       "\n",
       "    .dataframe tbody tr th {\n",
       "        vertical-align: top;\n",
       "    }\n",
       "\n",
       "    .dataframe thead th {\n",
       "        text-align: right;\n",
       "    }\n",
       "</style>\n",
       "<table border=\"1\" class=\"dataframe\">\n",
       "  <thead>\n",
       "    <tr style=\"text-align: right;\">\n",
       "      <th></th>\n",
       "      <th>reviewerID</th>\n",
       "      <th>asin</th>\n",
       "      <th>reviewerName</th>\n",
       "      <th>helpful</th>\n",
       "      <th>reviewText</th>\n",
       "      <th>overall</th>\n",
       "      <th>summary</th>\n",
       "      <th>unixReviewTime</th>\n",
       "      <th>reviewTime</th>\n",
       "      <th>topic</th>\n",
       "    </tr>\n",
       "  </thead>\n",
       "  <tbody>\n",
       "    <tr>\n",
       "      <th>18579</th>\n",
       "      <td>A2BGDV09HCHX8E</td>\n",
       "      <td>B000FCRS0I</td>\n",
       "      <td>msb175 \"msb\"</td>\n",
       "      <td>[0, 0]</td>\n",
       "      <td>This is one of those items that you keep for '...</td>\n",
       "      <td>4</td>\n",
       "      <td>Something extra</td>\n",
       "      <td>1402617600</td>\n",
       "      <td>06 13, 2014</td>\n",
       "      <td>2</td>\n",
       "    </tr>\n",
       "    <tr>\n",
       "      <th>14240</th>\n",
       "      <td>A1Y3YM1XM3N71S</td>\n",
       "      <td>B0047RKS72</td>\n",
       "      <td>Shawn D \"s1283\"</td>\n",
       "      <td>[0, 0]</td>\n",
       "      <td>These fit all 194 bulb applications, and for c...</td>\n",
       "      <td>5</td>\n",
       "      <td>Low profile</td>\n",
       "      <td>1377907200</td>\n",
       "      <td>08 31, 2013</td>\n",
       "      <td>2</td>\n",
       "    </tr>\n",
       "    <tr>\n",
       "      <th>33914</th>\n",
       "      <td>A6OLPMJ9HH4IP</td>\n",
       "      <td>B003DVGVIS</td>\n",
       "      <td>M. C. Malkemus \"MS\"</td>\n",
       "      <td>[0, 0]</td>\n",
       "      <td>I ordered them because they are carbon fiber, ...</td>\n",
       "      <td>5</td>\n",
       "      <td>The Bomb of picks (IMHO)</td>\n",
       "      <td>1389312000</td>\n",
       "      <td>01 10, 2014</td>\n",
       "      <td>4</td>\n",
       "    </tr>\n",
       "    <tr>\n",
       "      <th>37905</th>\n",
       "      <td>A3HMFQWM9Q21SD</td>\n",
       "      <td>B0009RLE5Y</td>\n",
       "      <td>Paul D Ford</td>\n",
       "      <td>[0, 0]</td>\n",
       "      <td>I use this boom attached to a desk clamp to ho...</td>\n",
       "      <td>5</td>\n",
       "      <td>Very solidly built, great locking clutch, grea...</td>\n",
       "      <td>1327190400</td>\n",
       "      <td>01 22, 2012</td>\n",
       "      <td>4</td>\n",
       "    </tr>\n",
       "    <tr>\n",
       "      <th>24208</th>\n",
       "      <td>A62G4QX6XQVLP</td>\n",
       "      <td>B0000024SN</td>\n",
       "      <td>Anyechka</td>\n",
       "      <td>[4, 9]</td>\n",
       "      <td>The songs on this album are really soft and lo...</td>\n",
       "      <td>4</td>\n",
       "      <td>A pretty-sounding sophomore album</td>\n",
       "      <td>1090972800</td>\n",
       "      <td>07 28, 2004</td>\n",
       "      <td>3</td>\n",
       "    </tr>\n",
       "    <tr>\n",
       "      <th>...</th>\n",
       "      <td>...</td>\n",
       "      <td>...</td>\n",
       "      <td>...</td>\n",
       "      <td>...</td>\n",
       "      <td>...</td>\n",
       "      <td>...</td>\n",
       "      <td>...</td>\n",
       "      <td>...</td>\n",
       "      <td>...</td>\n",
       "      <td>...</td>\n",
       "    </tr>\n",
       "    <tr>\n",
       "      <th>32094</th>\n",
       "      <td>A310MXGFV4RIK0</td>\n",
       "      <td>B0002CZW0Y</td>\n",
       "      <td>Wayne Stewart \"Aha! Maven\"</td>\n",
       "      <td>[0, 0]</td>\n",
       "      <td>Well thought out unit that does what it says i...</td>\n",
       "      <td>5</td>\n",
       "      <td>Great POP Filter!</td>\n",
       "      <td>1355702400</td>\n",
       "      <td>12 17, 2012</td>\n",
       "      <td>4</td>\n",
       "    </tr>\n",
       "    <tr>\n",
       "      <th>29835</th>\n",
       "      <td>A1LG11VGFDAFY</td>\n",
       "      <td>B003WTE886</td>\n",
       "      <td>Charlie Edwards</td>\n",
       "      <td>[0, 0]</td>\n",
       "      <td>When Taylor Swift announced her new album in m...</td>\n",
       "      <td>4</td>\n",
       "      <td>She topped Fearless</td>\n",
       "      <td>1353024000</td>\n",
       "      <td>11 16, 2012</td>\n",
       "      <td>3</td>\n",
       "    </tr>\n",
       "    <tr>\n",
       "      <th>6200</th>\n",
       "      <td>A2YDSN72HU0KPR</td>\n",
       "      <td>B00CDBQ9B8</td>\n",
       "      <td>Theresa Lepiane \"Theresa\"</td>\n",
       "      <td>[0, 0]</td>\n",
       "      <td>Very funny.  If you have ever watched or read ...</td>\n",
       "      <td>5</td>\n",
       "      <td>Awesome funny</td>\n",
       "      <td>1366416000</td>\n",
       "      <td>04 20, 2013</td>\n",
       "      <td>1</td>\n",
       "    </tr>\n",
       "    <tr>\n",
       "      <th>40049</th>\n",
       "      <td>A33JTFRM6S378Q</td>\n",
       "      <td>B00004R9TL</td>\n",
       "      <td>Butterworth</td>\n",
       "      <td>[0, 0]</td>\n",
       "      <td>For years, I lived with a Black &amp; Decker trimm...</td>\n",
       "      <td>5</td>\n",
       "      <td>Almost as Good as Sliced Bread</td>\n",
       "      <td>1356998400</td>\n",
       "      <td>01 1, 2013</td>\n",
       "      <td>5</td>\n",
       "    </tr>\n",
       "    <tr>\n",
       "      <th>39442</th>\n",
       "      <td>A16UCWYG4924HH</td>\n",
       "      <td>B000CD3QY2</td>\n",
       "      <td>Kenneth G. Nielsen \"Kenneth\"</td>\n",
       "      <td>[1, 2]</td>\n",
       "      <td>Lunar lander here we come, This pedal will tak...</td>\n",
       "      <td>5</td>\n",
       "      <td>Cry Baby Cry!!! This pedal is essential to pla...</td>\n",
       "      <td>1394150400</td>\n",
       "      <td>03 7, 2014</td>\n",
       "      <td>4</td>\n",
       "    </tr>\n",
       "  </tbody>\n",
       "</table>\n",
       "<p>49981 rows × 10 columns</p>\n",
       "</div>"
      ],
      "text/plain": [
       "           reviewerID        asin                  reviewerName helpful  \\\n",
       "18579  A2BGDV09HCHX8E  B000FCRS0I                  msb175 \"msb\"  [0, 0]   \n",
       "14240  A1Y3YM1XM3N71S  B0047RKS72               Shawn D \"s1283\"  [0, 0]   \n",
       "33914   A6OLPMJ9HH4IP  B003DVGVIS           M. C. Malkemus \"MS\"  [0, 0]   \n",
       "37905  A3HMFQWM9Q21SD  B0009RLE5Y                   Paul D Ford  [0, 0]   \n",
       "24208   A62G4QX6XQVLP  B0000024SN                      Anyechka  [4, 9]   \n",
       "...               ...         ...                           ...     ...   \n",
       "32094  A310MXGFV4RIK0  B0002CZW0Y    Wayne Stewart \"Aha! Maven\"  [0, 0]   \n",
       "29835   A1LG11VGFDAFY  B003WTE886               Charlie Edwards  [0, 0]   \n",
       "6200   A2YDSN72HU0KPR  B00CDBQ9B8     Theresa Lepiane \"Theresa\"  [0, 0]   \n",
       "40049  A33JTFRM6S378Q  B00004R9TL                   Butterworth  [0, 0]   \n",
       "39442  A16UCWYG4924HH  B000CD3QY2  Kenneth G. Nielsen \"Kenneth\"  [1, 2]   \n",
       "\n",
       "                                              reviewText  overall  \\\n",
       "18579  This is one of those items that you keep for '...        4   \n",
       "14240  These fit all 194 bulb applications, and for c...        5   \n",
       "33914  I ordered them because they are carbon fiber, ...        5   \n",
       "37905  I use this boom attached to a desk clamp to ho...        5   \n",
       "24208  The songs on this album are really soft and lo...        4   \n",
       "...                                                  ...      ...   \n",
       "32094  Well thought out unit that does what it says i...        5   \n",
       "29835  When Taylor Swift announced her new album in m...        4   \n",
       "6200   Very funny.  If you have ever watched or read ...        5   \n",
       "40049  For years, I lived with a Black & Decker trimm...        5   \n",
       "39442  Lunar lander here we come, This pedal will tak...        5   \n",
       "\n",
       "                                                 summary  unixReviewTime  \\\n",
       "18579                                    Something extra      1402617600   \n",
       "14240                                        Low profile      1377907200   \n",
       "33914                           The Bomb of picks (IMHO)      1389312000   \n",
       "37905  Very solidly built, great locking clutch, grea...      1327190400   \n",
       "24208                  A pretty-sounding sophomore album      1090972800   \n",
       "...                                                  ...             ...   \n",
       "32094                                  Great POP Filter!      1355702400   \n",
       "29835                                She topped Fearless      1353024000   \n",
       "6200                                       Awesome funny      1366416000   \n",
       "40049                     Almost as Good as Sliced Bread      1356998400   \n",
       "39442  Cry Baby Cry!!! This pedal is essential to pla...      1394150400   \n",
       "\n",
       "        reviewTime  topic  \n",
       "18579  06 13, 2014      2  \n",
       "14240  08 31, 2013      2  \n",
       "33914  01 10, 2014      4  \n",
       "37905  01 22, 2012      4  \n",
       "24208  07 28, 2004      3  \n",
       "...            ...    ...  \n",
       "32094  12 17, 2012      4  \n",
       "29835  11 16, 2012      3  \n",
       "6200   04 20, 2013      1  \n",
       "40049   01 1, 2013      5  \n",
       "39442   03 7, 2014      4  \n",
       "\n",
       "[49981 rows x 10 columns]"
      ]
     },
     "execution_count": 5,
     "metadata": {},
     "output_type": "execute_result"
    }
   ],
   "source": [
    "reviews"
   ]
  },
  {
   "cell_type": "code",
   "execution_count": 6,
   "metadata": {},
   "outputs": [
    {
     "data": {
      "text/plain": [
       "3    10000\n",
       "1    10000\n",
       "2     9997\n",
       "4     9993\n",
       "5     9991\n",
       "Name: topic, dtype: int64"
      ]
     },
     "execution_count": 6,
     "metadata": {},
     "output_type": "execute_result"
    }
   ],
   "source": [
    "reviews.topic.value_counts()"
   ]
  },
  {
   "cell_type": "markdown",
   "metadata": {},
   "source": [
    "## 1. Modelado de Topics"
   ]
  },
  {
   "cell_type": "markdown",
   "metadata": {},
   "source": [
    "El pipeline comienza con una función para el preprocesado"
   ]
  },
  {
   "cell_type": "code",
   "execution_count": 7,
   "metadata": {},
   "outputs": [],
   "source": [
    "def preprocess_texts(texts, **kwargs):\n",
    "    \n",
    "    processed_texts = [] # Aquí me guardaré los textos procesados en forma de lista\n",
    "    \n",
    "    # Para el autocorrector que se aplica más abajo utilizaré todo el texto de mi corpus\n",
    "    if 'auto_correct' in kwargs and kwargs['auto_correct']:\n",
    "        full_text = \" \".join([text for text in texts])\n",
    "    \n",
    "    for text in texts:\n",
    "        \n",
    "        tokens = [] # Aquí se guardan los tokens que conforman cada texto\n",
    "        \n",
    "        # Comenzando con el preprocesado completo de gensim.utils.simple_preprocess()\n",
    "        if 'simple_gensim' in kwargs and kwargs['simple_gensim']:\n",
    "            rawtokens = [token for token in gensim.utils.simple_preprocess(text)]\n",
    "            \n",
    "        # Sin simple_gensim hago un split y utilizo tan solo mi preprocesado adicional\n",
    "        else: rawtokens = text.split()\n",
    "        \n",
    "        # Aplico reglas adicionales de preprocesado.\n",
    "        for token in rawtokens:\n",
    "            if 'lower' in kwargs and kwargs['lower']: token = token.lower()\n",
    "            if 'only_alpha' in kwargs and kwargs['only_alpha']: token = re.sub('\\W+', '', token)\n",
    "            if 'stop_words' in kwargs and token in kwargs.get('stop_words'): token = None\n",
    "\n",
    "            if token: tokens.append(token)\n",
    "                \n",
    "        # Aplico mi corrector ortográfico al texto preprocesado.\n",
    "        if 'auto_correct' in kwargs and kwargs['auto_correct']:\n",
    "            for ix in range(len(tokens)):\n",
    "                tokens[ix] = correct(tokens[ix], full_text, kwargs['auto_correct'])\n",
    "        \n",
    "        processed_texts.append(tokens)\n",
    "        \n",
    "    return processed_texts"
   ]
  },
  {
   "cell_type": "markdown",
   "metadata": {},
   "source": [
    "Defino mi propio corrector ortográfico"
   ]
  },
  {
   "cell_type": "code",
   "execution_count": 8,
   "metadata": {},
   "outputs": [],
   "source": [
    "# Con steps_away indico el número máximo de modificaciones que se realizarán para buscar una corrección.\n",
    "def correct(word, text, steps_away=1):\n",
    "    counts = Counter(text)\n",
    "    \n",
    "    candidates = [w for w in edits(word, steps=steps_away) if w in text or w is word]\n",
    "    \n",
    "    return max(candidates, key=lambda w: counts[w] / len(text))"
   ]
  },
  {
   "cell_type": "code",
   "execution_count": 9,
   "metadata": {},
   "outputs": [],
   "source": [
    "def edits(word, steps=1):\n",
    "    \n",
    "    words = [word]\n",
    "    \n",
    "    for step in range(steps):\n",
    "        \n",
    "        new_words = []\n",
    "        \n",
    "        for word in words:\n",
    "            letters    = 'abcdefghijklmnopqrstuvwxyz'\n",
    "            splits     = [(word[:i], word[i:])    for i in range(len(word) + 1)]\n",
    "            deletes    = [L + R[1:]                 for L, R in splits if R]\n",
    "            transposes = [L + R[1] + R[0] + R[2:]   for L, R in splits if len(R)>1]\n",
    "            replaces   = [L + c + R[1:]             for L, R in splits if R for c in letters]\n",
    "            inserts    = [L + c + R                 for L, R in splits for c in letters]\n",
    "            \n",
    "            new_words += list(set(deletes + transposes + replaces + inserts))\n",
    "\n",
    "        words += list(set(new_words))\n",
    "    \n",
    "    return words"
   ]
  },
  {
   "cell_type": "markdown",
   "metadata": {},
   "source": [
    "\n"
   ]
  },
  {
   "cell_type": "code",
   "execution_count": 10,
   "metadata": {},
   "outputs": [
    {
     "data": {
      "text/plain": [
       "315993"
      ]
     },
     "execution_count": 10,
     "metadata": {},
     "output_type": "execute_result"
    }
   ],
   "source": [
    "processed_texts = preprocess_texts(reviews.reviewText)\n",
    "dictionary = Dictionary(processed_texts)\n",
    "len(dictionary)"
   ]
  },
  {
   "cell_type": "code",
   "execution_count": 11,
   "metadata": {},
   "outputs": [],
   "source": [
    "stop_words = set(list(gensim.parsing.preprocessing.STOPWORDS)+list(STOP_WORDS))"
   ]
  },
  {
   "cell_type": "code",
   "execution_count": 12,
   "metadata": {},
   "outputs": [
    {
     "data": {
      "text/plain": [
       "315551"
      ]
     },
     "execution_count": 12,
     "metadata": {},
     "output_type": "execute_result"
    }
   ],
   "source": [
    "processed_texts = preprocess_texts(reviews.reviewText, stop_words=stop_words)\n",
    "dictionary = Dictionary(processed_texts)\n",
    "len(dictionary)"
   ]
  },
  {
   "cell_type": "code",
   "execution_count": 13,
   "metadata": {},
   "outputs": [
    {
     "data": {
      "text/plain": [
       "163526"
      ]
     },
     "execution_count": 13,
     "metadata": {},
     "output_type": "execute_result"
    }
   ],
   "source": [
    "processed_texts = preprocess_texts(reviews.reviewText, lower=True, only_alpha=True)\n",
    "dictionary = Dictionary(processed_texts)\n",
    "len(dictionary)"
   ]
  },
  {
   "cell_type": "raw",
   "metadata": {},
   "source": [
    "# El corrector tarda demasiado en aplicarse a todo el corpus así que ignoraré esta parte\n",
    "\n",
    "processed_texts = preprocess_texts(reviews.reviewText, lower=True, only_alpha=True, auto_correct=2)\n",
    "dictionary = Dictionary(processed_texts)\n",
    "len(dictionary)"
   ]
  },
  {
   "cell_type": "code",
   "execution_count": 14,
   "metadata": {},
   "outputs": [
    {
     "data": {
      "text/plain": [
       "73140"
      ]
     },
     "execution_count": 14,
     "metadata": {},
     "output_type": "execute_result"
    }
   ],
   "source": [
    "processed_texts_simple = preprocess_texts(reviews.reviewText, simple_gensim=True)\n",
    "dictionary_simple = Dictionary(processed_texts_simple)\n",
    "len(dictionary_simple)"
   ]
  },
  {
   "cell_type": "markdown",
   "metadata": {},
   "source": [
    "#### Genero una matriz para el corpus y entreno con LDA para realizar un primer acercamiento a los posibles topics que se pueden obtener"
   ]
  },
  {
   "cell_type": "code",
   "execution_count": 15,
   "metadata": {},
   "outputs": [],
   "source": [
    "corpus = [dictionary.doc2bow(doc) for doc in processed_texts]"
   ]
  },
  {
   "cell_type": "code",
   "execution_count": 16,
   "metadata": {},
   "outputs": [
    {
     "data": {
      "text/plain": [
       "[(0,\n",
       "  '0.056*\"the\" + 0.033*\"of\" + 0.029*\"and\" + 0.025*\"a\" + 0.023*\"is\" + 0.018*\"album\" + 0.013*\"on\" + 0.012*\"in\" + 0.012*\"with\" + 0.011*\"this\"'),\n",
       " (1,\n",
       "  '0.079*\"the\" + 0.035*\"to\" + 0.027*\"and\" + 0.025*\"a\" + 0.020*\"of\" + 0.017*\"in\" + 0.015*\"it\" + 0.014*\"is\" + 0.009*\"that\" + 0.009*\"with\"'),\n",
       " (2,\n",
       "  '0.075*\"the\" + 0.035*\"and\" + 0.034*\"of\" + 0.030*\"a\" + 0.026*\"to\" + 0.022*\"is\" + 0.019*\"in\" + 0.012*\"that\" + 0.011*\"as\" + 0.010*\"with\"'),\n",
       " (3,\n",
       "  '0.050*\"the\" + 0.038*\"a\" + 0.033*\"and\" + 0.023*\"to\" + 0.021*\"for\" + 0.018*\"is\" + 0.015*\"it\" + 0.014*\"with\" + 0.013*\"on\" + 0.013*\"my\"'),\n",
       " (4,\n",
       "  '0.067*\"i\" + 0.046*\"it\" + 0.034*\"this\" + 0.029*\"to\" + 0.023*\"and\" + 0.019*\"but\" + 0.017*\"the\" + 0.017*\"a\" + 0.016*\"that\" + 0.016*\"was\"')]"
      ]
     },
     "execution_count": 16,
     "metadata": {},
     "output_type": "execute_result"
    }
   ],
   "source": [
    "lda_model = LdaModel(\n",
    "    corpus=corpus,\n",
    "    id2word=dictionary,\n",
    "    num_topics=5,\n",
    "    iterations=5,\n",
    "    passes=10,\n",
    "    alpha='auto'\n",
    ")\n",
    "\n",
    "lda_model.show_topics()"
   ]
  },
  {
   "cell_type": "code",
   "execution_count": 17,
   "metadata": {},
   "outputs": [],
   "source": [
    "corpus_simple = [dictionary_simple.doc2bow(doc) for doc in processed_texts_simple]"
   ]
  },
  {
   "cell_type": "code",
   "execution_count": 18,
   "metadata": {},
   "outputs": [
    {
     "data": {
      "text/plain": [
       "[(0,\n",
       "  '0.050*\"the\" + 0.031*\"and\" + 0.030*\"of\" + 0.020*\"is\" + 0.017*\"album\" + 0.013*\"this\" + 0.013*\"on\" + 0.013*\"quot\" + 0.012*\"in\" + 0.011*\"to\"'),\n",
       " (1,\n",
       "  '0.064*\"the\" + 0.038*\"to\" + 0.033*\"and\" + 0.020*\"of\" + 0.019*\"in\" + 0.015*\"it\" + 0.012*\"have\" + 0.012*\"for\" + 0.011*\"my\" + 0.010*\"this\"'),\n",
       " (2,\n",
       "  '0.050*\"the\" + 0.037*\"and\" + 0.024*\"to\" + 0.022*\"for\" + 0.017*\"my\" + 0.016*\"on\" + 0.014*\"with\" + 0.012*\"is\" + 0.011*\"of\" + 0.010*\"this\"'),\n",
       " (3,\n",
       "  '0.066*\"the\" + 0.037*\"and\" + 0.029*\"of\" + 0.027*\"to\" + 0.019*\"is\" + 0.018*\"in\" + 0.012*\"that\" + 0.011*\"this\" + 0.009*\"as\" + 0.009*\"was\"'),\n",
       " (4,\n",
       "  '0.079*\"it\" + 0.056*\"the\" + 0.033*\"to\" + 0.030*\"you\" + 0.029*\"this\" + 0.029*\"is\" + 0.023*\"that\" + 0.019*\"but\" + 0.018*\"and\" + 0.014*\"of\"')]"
      ]
     },
     "execution_count": 18,
     "metadata": {},
     "output_type": "execute_result"
    }
   ],
   "source": [
    "lda_model_simple = LdaModel(\n",
    "    corpus=corpus_simple,\n",
    "    id2word=dictionary_simple,\n",
    "    num_topics=5,\n",
    "    iterations=5,\n",
    "    passes=10,\n",
    "    alpha='auto'\n",
    ")\n",
    "\n",
    "lda_model_simple.show_topics()"
   ]
  },
  {
   "cell_type": "markdown",
   "metadata": {},
   "source": [
    "Con estos resultados no se puede extraer ninguna conclusión.<br>\n",
    "Se hace necesario eliminar stop_words."
   ]
  },
  {
   "cell_type": "code",
   "execution_count": 19,
   "metadata": {},
   "outputs": [],
   "source": [
    "processed_texts = preprocess_texts(reviews.reviewText, lower=True, only_alpha=True, stop_words=stop_words)\n",
    "dictionary = Dictionary(processed_texts)\n",
    "corpus = [dictionary.doc2bow(doc) for doc in processed_texts]"
   ]
  },
  {
   "cell_type": "code",
   "execution_count": 20,
   "metadata": {},
   "outputs": [
    {
     "data": {
      "text/plain": [
       "[(0,\n",
       "  '0.010*\"season\" + 0.010*\"like\" + 0.008*\"series\" + 0.007*\"good\" + 0.007*\"love\" + 0.006*\"great\" + 0.006*\"watch\" + 0.005*\"story\" + 0.005*\"characters\" + 0.005*\"people\"'),\n",
       " (1,\n",
       "  '0.013*\"battery\" + 0.011*\"power\" + 0.009*\"use\" + 0.008*\"unit\" + 0.008*\"grill\" + 0.007*\"oil\" + 0.007*\"light\" + 0.005*\"batteries\" + 0.005*\"cover\" + 0.005*\"filter\"'),\n",
       " (2,\n",
       "  '0.025*\"album\" + 0.013*\"song\" + 0.011*\"songs\" + 0.011*\"like\" + 0.009*\"music\" + 0.007*\"cd\" + 0.007*\"best\" + 0.006*\"good\" + 0.006*\"great\" + 0.006*\"track\"'),\n",
       " (3,\n",
       "  '0.008*\"use\" + 0.007*\"like\" + 0.007*\"water\" + 0.007*\"product\" + 0.006*\"easy\" + 0.006*\"feeder\" + 0.005*\"trap\" + 0.005*\"dont\" + 0.005*\"hose\" + 0.005*\"little\"'),\n",
       " (4,\n",
       "  '0.014*\"great\" + 0.013*\"good\" + 0.011*\"like\" + 0.010*\"use\" + 0.008*\"guitar\" + 0.007*\"price\" + 0.006*\"works\" + 0.006*\"quality\" + 0.006*\"dont\" + 0.006*\"nice\"')]"
      ]
     },
     "execution_count": 20,
     "metadata": {},
     "output_type": "execute_result"
    }
   ],
   "source": [
    "lda_model = LdaModel(\n",
    "    corpus=corpus,\n",
    "    id2word=dictionary,\n",
    "    num_topics=5,\n",
    "    iterations=5,\n",
    "    passes=10,\n",
    "    alpha='auto'\n",
    ")\n",
    "\n",
    "lda_model.show_topics()"
   ]
  },
  {
   "cell_type": "markdown",
   "metadata": {},
   "source": [
    "Aquí parece que ya comienzan a diferenciarse los 5 topics principales referentes a los 5 datasets que se han utilizado, aunque sigue habiendo demasiadas palabras genéricas.\n",
    "\n",
    "Por ejemplo tenemos que para Amazon Instant Video se destacan las palabras \"season\", \"series\", \"watch\", \"story\", \"characters\" que son bastante descriptivas y permiten intuír de qué se está hablando.\n",
    "\n",
    "Para Digital Music tenemos también un topic que se destaca bastante con las palabras \"album\", \"song\", \"songs\", \"music\", \"cd\", \"track\".\n",
    "\n",
    "Para Patio Lawn and Garden también tenemos un topic destacado con algunas palabras bastante descriptivas como \"water\", \"feeder\", \"trap\" y \"hose\".\n",
    "\n",
    "Para Musical Instruments podríamos decir que tenemos el topic 4 por la palabra \"guitar\", pero no habría una manera clara de saberlo ya que el resto de palabras son muy genéricas.\n",
    "\n",
    "No parece haber ningún topic específico que distinga el dataset de Automotive"
   ]
  },
  {
   "cell_type": "code",
   "execution_count": 21,
   "metadata": {},
   "outputs": [],
   "source": [
    "processed_texts_simple = preprocess_texts(reviews.reviewText, simple_gensim=True, stop_words=stop_words)\n",
    "dictionary_simple = Dictionary(processed_texts_simple)\n",
    "corpus_simple = [dictionary_simple.doc2bow(doc) for doc in processed_texts_simple]"
   ]
  },
  {
   "cell_type": "code",
   "execution_count": 22,
   "metadata": {},
   "outputs": [
    {
     "data": {
      "text/plain": [
       "[(0,\n",
       "  '0.012*\"use\" + 0.008*\"car\" + 0.007*\"product\" + 0.006*\"like\" + 0.006*\"time\" + 0.006*\"great\" + 0.006*\"battery\" + 0.006*\"easy\" + 0.006*\"good\" + 0.005*\"light\"'),\n",
       " (1,\n",
       "  '0.014*\"great\" + 0.013*\"guitar\" + 0.013*\"good\" + 0.011*\"like\" + 0.009*\"use\" + 0.009*\"sound\" + 0.008*\"price\" + 0.008*\"quality\" + 0.007*\"strings\" + 0.006*\"ve\"'),\n",
       " (2,\n",
       "  '0.010*\"like\" + 0.010*\"season\" + 0.008*\"good\" + 0.008*\"series\" + 0.007*\"love\" + 0.006*\"great\" + 0.006*\"watch\" + 0.005*\"story\" + 0.005*\"time\" + 0.005*\"characters\"'),\n",
       " (3,\n",
       "  '0.009*\"feeder\" + 0.008*\"water\" + 0.008*\"trap\" + 0.008*\"like\" + 0.007*\"use\" + 0.007*\"product\" + 0.006*\"easy\" + 0.005*\"hose\" + 0.005*\"garden\" + 0.005*\"little\"'),\n",
       " (4,\n",
       "  '0.028*\"album\" + 0.021*\"quot\" + 0.015*\"song\" + 0.012*\"songs\" + 0.012*\"like\" + 0.010*\"music\" + 0.008*\"cd\" + 0.007*\"best\" + 0.007*\"good\" + 0.006*\"track\"')]"
      ]
     },
     "execution_count": 22,
     "metadata": {},
     "output_type": "execute_result"
    }
   ],
   "source": [
    "lda_model_simple = LdaModel(\n",
    "    corpus=corpus_simple,\n",
    "    id2word=dictionary_simple,\n",
    "    num_topics=5,\n",
    "    iterations=5,\n",
    "    passes=10,\n",
    "    alpha='auto'\n",
    ")\n",
    "\n",
    "lda_model_simple.show_topics()"
   ]
  },
  {
   "cell_type": "markdown",
   "metadata": {},
   "source": [
    "Usando el preprocesado de gensim, que nos reduce muchísimo más el diccionario, parece que mejoran un poco los resultados.\n",
    "\n",
    "Ahora tenemos la palabra clave \"car\" que podría estar apuntando al dataset Automotive, aunque el resto de palabras destacadas del topic no son demasiado específicas. \"Battery\" y \"light\" podrían tener algo que ver con este dataset, aunque también podrían hacer referencia a un instrumento musical y a las luces del jardín.\n",
    "\n",
    "Para el dataset de Musical Instruments ahora tenemos alguna palabra clave más como \"sound\" y \"strings\".\n",
    "\n",
    "Los topics de Amazon Instant Video y Digital Music parece que son los más fáciles de identificar.\n",
    "\n",
    "Para Patio Lawn and Garden ahora también tenemos la palabra clave \"garden\".\n",
    "\n",
    "Vamos ahora a ver qué pasa si duplico el número de topics."
   ]
  },
  {
   "cell_type": "code",
   "execution_count": 23,
   "metadata": {},
   "outputs": [
    {
     "data": {
      "text/plain": [
       "[(0,\n",
       "  '0.038*\"like\" + 0.031*\"good\" + 0.024*\"great\" + 0.018*\"time\" + 0.012*\"better\" + 0.012*\"little\" + 0.011*\"think\" + 0.011*\"ve\" + 0.010*\"love\" + 0.010*\"way\"'),\n",
       " (1,\n",
       "  '0.030*\"car\" + 0.018*\"use\" + 0.018*\"product\" + 0.011*\"oil\" + 0.011*\"clean\" + 0.007*\"filter\" + 0.007*\"wax\" + 0.007*\"water\" + 0.006*\"paint\" + 0.006*\"cars\"'),\n",
       " (2,\n",
       "  '0.023*\"plants\" + 0.022*\"grill\" + 0.016*\"plant\" + 0.014*\"garden\" + 0.012*\"cover\" + 0.012*\"soil\" + 0.011*\"use\" + 0.009*\"heat\" + 0.008*\"weber\" + 0.008*\"pot\"'),\n",
       " (3,\n",
       "  '0.048*\"guitar\" + 0.029*\"sound\" + 0.024*\"strings\" + 0.018*\"pedal\" + 0.018*\"amp\" + 0.013*\"tone\" + 0.011*\"playing\" + 0.011*\"play\" + 0.011*\"guitars\" + 0.010*\"strap\"'),\n",
       " (4,\n",
       "  '0.014*\"use\" + 0.012*\"battery\" + 0.008*\"easy\" + 0.007*\"handle\" + 0.007*\"small\" + 0.006*\"heavy\" + 0.006*\"power\" + 0.006*\"plastic\" + 0.005*\"cut\" + 0.005*\"need\"'),\n",
       " (5,\n",
       "  '0.024*\"trap\" + 0.012*\"mouse\" + 0.011*\"product\" + 0.010*\"traps\" + 0.010*\"set\" + 0.010*\"house\" + 0.009*\"mice\" + 0.009*\"deer\" + 0.009*\"use\" + 0.008*\"bait\"'),\n",
       " (6,\n",
       "  '0.020*\"price\" + 0.018*\"works\" + 0.018*\"quality\" + 0.015*\"use\" + 0.011*\"light\" + 0.009*\"easy\" + 0.009*\"stand\" + 0.009*\"bought\" + 0.009*\"product\" + 0.008*\"amazon\"'),\n",
       " (7,\n",
       "  '0.036*\"album\" + 0.027*\"quot\" + 0.019*\"song\" + 0.016*\"songs\" + 0.012*\"music\" + 0.010*\"cd\" + 0.008*\"track\" + 0.007*\"best\" + 0.006*\"rock\" + 0.006*\"tracks\"'),\n",
       " (8,\n",
       "  '0.016*\"season\" + 0.013*\"series\" + 0.009*\"story\" + 0.009*\"watch\" + 0.008*\"characters\" + 0.008*\"movie\" + 0.007*\"episode\" + 0.007*\"film\" + 0.006*\"shows\" + 0.006*\"interesting\"'),\n",
       " (9,\n",
       "  '0.037*\"feeder\" + 0.030*\"hose\" + 0.029*\"water\" + 0.018*\"birds\" + 0.012*\"squirrels\" + 0.011*\"bird\" + 0.011*\"feeders\" + 0.010*\"seed\" + 0.010*\"plastic\" + 0.009*\"easy\"')]"
      ]
     },
     "execution_count": 23,
     "metadata": {},
     "output_type": "execute_result"
    }
   ],
   "source": [
    "lda_model_simple = LdaModel(\n",
    "    corpus=corpus_simple,\n",
    "    id2word=dictionary_simple,\n",
    "    num_topics=10,\n",
    "    iterations=5,\n",
    "    passes=10,\n",
    "    alpha='auto'\n",
    ")\n",
    "\n",
    "lda_model_simple.show_topics()"
   ]
  },
  {
   "cell_type": "markdown",
   "metadata": {},
   "source": [
    "Los topics 0, 4 y 6 no hacen referencia a ningún dataset específico, pero parece que hablan el 0 de las impresiones que los clientes pueden tener frente a los productos, el 4 de de las propiedades de los productos, y el 6 del precio y de la calidad.\n",
    "\n",
    "El topic 1 parece que habla concretamente del acabado de los coches.\n",
    "\n",
    "El topic 2 habla claramente del jardín.\n",
    "\n",
    "El topic 3 se distingue bastante bien que habla de instrumentos musicales, más concretamente de guitarras.\n",
    "\n",
    "El topic 5 parece que habla de trampas y cebo para mantener a las alimañas alejadas del hogar.\n",
    "\n",
    "El topic 7 se nota que hace referencia al dataset de Digital Music\n",
    "\n",
    "El topic 8 se nota que hace referencia al dataset de Amazon Instant Video\n",
    "\n",
    "Se ha distinguido el topic 9 que parece que habla un poco de mascotas.\n",
    "\n",
    "Ahora probaré a ejecutar el LDA con los 7 topics que hemos podido diferenciar referentes a los datasets originales, a ver si los resultados coinciden."
   ]
  },
  {
   "cell_type": "code",
   "execution_count": 24,
   "metadata": {},
   "outputs": [
    {
     "data": {
      "text/plain": [
       "[(0,\n",
       "  '0.015*\"battery\" + 0.014*\"use\" + 0.014*\"sound\" + 0.013*\"power\" + 0.012*\"pedal\" + 0.011*\"amp\" + 0.010*\"unit\" + 0.007*\"mic\" + 0.007*\"tone\" + 0.006*\"cable\"'),\n",
       " (1,\n",
       "  '0.015*\"season\" + 0.011*\"series\" + 0.008*\"watch\" + 0.008*\"story\" + 0.008*\"characters\" + 0.007*\"movie\" + 0.007*\"episode\" + 0.006*\"film\" + 0.006*\"shows\" + 0.005*\"watching\"'),\n",
       " (2,\n",
       "  '0.012*\"feeder\" + 0.011*\"trap\" + 0.010*\"use\" + 0.009*\"water\" + 0.008*\"product\" + 0.007*\"garden\" + 0.007*\"easy\" + 0.007*\"plants\" + 0.006*\"grill\" + 0.006*\"birds\"'),\n",
       " (3,\n",
       "  '0.033*\"album\" + 0.025*\"quot\" + 0.018*\"song\" + 0.015*\"songs\" + 0.012*\"music\" + 0.009*\"cd\" + 0.008*\"track\" + 0.007*\"best\" + 0.006*\"like\" + 0.006*\"rock\"'),\n",
       " (4,\n",
       "  '0.014*\"guitar\" + 0.013*\"use\" + 0.010*\"easy\" + 0.010*\"strings\" + 0.008*\"hose\" + 0.008*\"nice\" + 0.007*\"fit\" + 0.007*\"price\" + 0.006*\"quality\" + 0.006*\"great\"'),\n",
       " (5,\n",
       "  '0.022*\"car\" + 0.017*\"use\" + 0.017*\"product\" + 0.009*\"oil\" + 0.008*\"water\" + 0.008*\"clean\" + 0.007*\"works\" + 0.006*\"filter\" + 0.006*\"easy\" + 0.005*\"wax\"'),\n",
       " (6,\n",
       "  '0.032*\"like\" + 0.026*\"good\" + 0.017*\"great\" + 0.016*\"time\" + 0.011*\"better\" + 0.011*\"ve\" + 0.010*\"little\" + 0.010*\"think\" + 0.008*\"way\" + 0.008*\"got\"')]"
      ]
     },
     "execution_count": 24,
     "metadata": {},
     "output_type": "execute_result"
    }
   ],
   "source": [
    "lda_model_simple = LdaModel(\n",
    "    corpus=corpus_simple,\n",
    "    id2word=dictionary_simple,\n",
    "    num_topics=7,\n",
    "    iterations=5,\n",
    "    passes=10,\n",
    "    alpha='auto'\n",
    ")\n",
    "\n",
    "lda_model_simple.show_topics()"
   ]
  },
  {
   "cell_type": "markdown",
   "metadata": {},
   "source": [
    "Tenemos el topic 0 que se nota que habla de Musical Instruments.\n",
    "\n",
    "En el topic 1 se nota que habla de Amazon Instant Video.\n",
    "\n",
    "En el topic 2 se nota que habla de Patio Lawn and Garden.\n",
    "\n",
    "En el topic 3 se nota que habla de Digital Music.\n",
    "\n",
    "El topic 4 ya no es tan bueno, parece una tienda genérica donde se venden muchas guitarras y mangueras (?).\n",
    "\n",
    "En el topic 5 podría hacer referencia a Automotive.\n",
    "\n",
    "En el topic 6 parece que se engloban las impresiones de los clientes."
   ]
  },
  {
   "cell_type": "markdown",
   "metadata": {},
   "source": [
    "##### Si tuviese que escoger uno de estos modelos, a priori me quedaría con el de 10 topics, ya que es el que me encuentra un mayor número de topics que se pueden distinguir claramente y además es totalmente coherente con los datasets originales."
   ]
  },
  {
   "cell_type": "markdown",
   "metadata": {},
   "source": [
    "\n"
   ]
  },
  {
   "cell_type": "markdown",
   "metadata": {},
   "source": [
    "Voy a realizar un análisis más a fondo de la coherencia que podemos encontrar clusterizando entre 5 y 15 topics"
   ]
  },
  {
   "cell_type": "code",
   "execution_count": 25,
   "metadata": {},
   "outputs": [],
   "source": [
    "def compute_coherence_values(dictionary, corpus, texts, limit, start=2, step=3):\n",
    "    \"\"\"\n",
    "    Compute c_v coherence for various number of topics\n",
    "\n",
    "    Parameters:\n",
    "    ----------\n",
    "    dictionary : Gensim dictionary\n",
    "    corpus : Gensim corpus\n",
    "    texts : List of input texts\n",
    "    limit : Max num of topics\n",
    "\n",
    "    Returns:\n",
    "    -------\n",
    "    model_list : List of LDA topic models\n",
    "    coherence_values : Coherence values corresponding to the LDA model with respective number of topics\n",
    "    \"\"\"\n",
    "    coherence_values = []\n",
    "    model_list = []\n",
    "    for num_topics in range(start, limit, step):\n",
    "        \n",
    "        # Build LDA model\n",
    "        model = LdaModel(corpus=corpus,\n",
    "                         id2word=dictionary,\n",
    "                         num_topics=num_topics)\n",
    "        \n",
    "        # Create a list of LDA models\n",
    "        model_list.append(model)\n",
    "        \n",
    "        # Compute the Coherence for each model\n",
    "        coherencemodel = CoherenceModel(model=model, texts=texts, dictionary=dictionary, coherence='c_v')\n",
    "        coherence_values.append(coherencemodel.get_coherence())\n",
    "\n",
    "    return model_list, coherence_values"
   ]
  },
  {
   "cell_type": "code",
   "execution_count": 26,
   "metadata": {},
   "outputs": [],
   "source": [
    "model_list, coherence_values = compute_coherence_values(\n",
    "    dictionary=dictionary_simple,\n",
    "    corpus=corpus_simple,\n",
    "    texts=processed_texts_simple,\n",
    "    start=5,\n",
    "    limit=15,\n",
    "    step=1\n",
    ")"
   ]
  },
  {
   "cell_type": "code",
   "execution_count": 27,
   "metadata": {},
   "outputs": [
    {
     "data": {
      "image/png": "[encoded data removed]",
      "text/plain": [
       "<Figure size 432x288 with 1 Axes>"
      ]
     },
     "metadata": {
      "needs_background": "light"
     },
     "output_type": "display_data"
    }
   ],
   "source": [
    "x = range(5, 15, 1)\n",
    "plt.plot(x, coherence_values)\n",
    "plt.xlabel('Num Topics')\n",
    "plt.ylabel('Coherence score')\n",
    "plt.legend(('coherence_values'), loc='best')\n",
    "plt.show()"
   ]
  },
  {
   "cell_type": "markdown",
   "metadata": {},
   "source": [
    "Aquí encontramos que los números de topics con mayor coherencia son 7 y 14, veamos por qué y en qué se diferencia el modelo de 7 topics del entrenamiento anterior."
   ]
  },
  {
   "cell_type": "code",
   "execution_count": 28,
   "metadata": {},
   "outputs": [
    {
     "data": {
      "text/plain": [
       "[(0,\n",
       "  '0.011*\"season\" + 0.010*\"like\" + 0.009*\"good\" + 0.008*\"great\" + 0.008*\"series\" + 0.006*\"love\" + 0.006*\"pedal\" + 0.006*\"story\" + 0.005*\"watch\" + 0.005*\"characters\"'),\n",
       " (1,\n",
       "  '0.012*\"use\" + 0.008*\"like\" + 0.007*\"product\" + 0.007*\"good\" + 0.007*\"great\" + 0.006*\"easy\" + 0.006*\"time\" + 0.005*\"car\" + 0.005*\"water\" + 0.005*\"works\"'),\n",
       " (2,\n",
       "  '0.024*\"guitar\" + 0.014*\"sound\" + 0.013*\"strings\" + 0.013*\"great\" + 0.011*\"good\" + 0.011*\"like\" + 0.011*\"use\" + 0.008*\"price\" + 0.007*\"ve\" + 0.006*\"string\"'),\n",
       " (3,\n",
       "  '0.021*\"trap\" + 0.011*\"traps\" + 0.010*\"mouse\" + 0.007*\"bait\" + 0.007*\"set\" + 0.007*\"mice\" + 0.007*\"product\" + 0.007*\"deer\" + 0.007*\"like\" + 0.006*\"house\"'),\n",
       " (4,\n",
       "  '0.045*\"feeder\" + 0.022*\"birds\" + 0.016*\"seed\" + 0.015*\"bird\" + 0.013*\"feeders\" + 0.010*\"squirrels\" + 0.009*\"water\" + 0.009*\"seeds\" + 0.009*\"like\" + 0.006*\"hummingbird\"'),\n",
       " (5,\n",
       "  '0.025*\"album\" + 0.013*\"song\" + 0.013*\"like\" + 0.011*\"songs\" + 0.009*\"music\" + 0.008*\"good\" + 0.007*\"great\" + 0.007*\"cd\" + 0.007*\"best\" + 0.006*\"love\"'),\n",
       " (6,\n",
       "  '0.197*\"quot\" + 0.006*\"album\" + 0.005*\"tori\" + 0.005*\"like\" + 0.005*\"hits\" + 0.004*\"best\" + 0.004*\"jazz\" + 0.004*\"love\" + 0.003*\"songs\" + 0.003*\"phil\"')]"
      ]
     },
     "execution_count": 28,
     "metadata": {},
     "output_type": "execute_result"
    }
   ],
   "source": [
    "model_list[2].show_topics()"
   ]
  },
  {
   "cell_type": "markdown",
   "metadata": {},
   "source": [
    "Ahora nos encontramos unas cuantas diferencias con respecto al anterior entrenamiento.\n",
    "\n",
    "En el topic 0 se ha introducido la palabra \"pedal\" que debería estar en instrumentos musicales y este es un topic en el que parece que se habla de las series de Amazon Instant Video\n",
    "\n",
    "El topic 1 tiene la palabra \"car\" pero no parece que haga referencia a ningún tema específico de los datasets de origen. En general queda un topic bastante genérico que parece hacer referencia a reviews positivas.\n",
    "\n",
    "Los topics 5 y 6 podrían estar hablando de lo mismo.\n",
    "\n",
    "Respecto al dataset de Patio Lawn and Garden, tenemos 2 topics que parecen distinguirse bastante bien dentro de este dataset:<br>\n",
    "· El topic 3 habla de trampas para mantener alejados a los animales salvajes.<br>\n",
    "· El topic 4 habla de mascotas (más concretamente de pájaros) y jardinería.<br>"
   ]
  },
  {
   "cell_type": "code",
   "execution_count": 31,
   "metadata": {},
   "outputs": [
    {
     "data": {
      "text/plain": [
       "[(0,\n",
       "  '0.022*\"pedal\" + 0.022*\"amp\" + 0.011*\"use\" + 0.011*\"sound\" + 0.010*\"pedals\" + 0.010*\"like\" + 0.009*\"tone\" + 0.008*\"great\" + 0.007*\"good\" + 0.007*\"tube\"'),\n",
       " (1,\n",
       "  '0.033*\"trap\" + 0.017*\"traps\" + 0.015*\"mouse\" + 0.012*\"bait\" + 0.012*\"mice\" + 0.011*\"set\" + 0.008*\"house\" + 0.007*\"ve\" + 0.007*\"like\" + 0.006*\"work\"'),\n",
       " (2,\n",
       "  '0.014*\"love\" + 0.008*\"elton\" + 0.006*\"john\" + 0.006*\"time\" + 0.006*\"life\" + 0.005*\"tori\" + 0.005*\"world\" + 0.004*\"american\" + 0.004*\"michael\" + 0.004*\"jackson\"'),\n",
       " (3,\n",
       "  '0.013*\"use\" + 0.012*\"product\" + 0.009*\"like\" + 0.008*\"plants\" + 0.008*\"garden\" + 0.006*\"easy\" + 0.006*\"oil\" + 0.006*\"yard\" + 0.006*\"plant\" + 0.006*\"work\"'),\n",
       " (4,\n",
       "  '0.031*\"season\" + 0.017*\"series\" + 0.017*\"like\" + 0.016*\"great\" + 0.014*\"love\" + 0.013*\"watch\" + 0.013*\"good\" + 0.011*\"characters\" + 0.011*\"episode\" + 0.011*\"watching\"'),\n",
       " (5,\n",
       "  '0.012*\"story\" + 0.012*\"movie\" + 0.012*\"film\" + 0.010*\"good\" + 0.009*\"like\" + 0.006*\"people\" + 0.005*\"acting\" + 0.005*\"way\" + 0.005*\"great\" + 0.004*\"series\"'),\n",
       " (6,\n",
       "  '0.037*\"album\" + 0.018*\"song\" + 0.016*\"like\" + 0.016*\"songs\" + 0.011*\"cd\" + 0.010*\"good\" + 0.009*\"best\" + 0.009*\"great\" + 0.008*\"music\" + 0.008*\"track\"'),\n",
       " (7,\n",
       "  '0.019*\"car\" + 0.013*\"use\" + 0.012*\"product\" + 0.009*\"good\" + 0.009*\"like\" + 0.009*\"great\" + 0.008*\"light\" + 0.007*\"time\" + 0.007*\"water\" + 0.007*\"easy\"'),\n",
       " (8,\n",
       "  '0.013*\"grill\" + 0.010*\"cover\" + 0.009*\"use\" + 0.007*\"like\" + 0.005*\"time\" + 0.005*\"great\" + 0.005*\"weber\" + 0.004*\"heat\" + 0.004*\"hot\" + 0.004*\"fit\"'),\n",
       " (9,\n",
       "  '0.013*\"sound\" + 0.013*\"music\" + 0.012*\"band\" + 0.010*\"like\" + 0.010*\"guitar\" + 0.010*\"rock\" + 0.010*\"album\" + 0.007*\"sounds\" + 0.006*\"songs\" + 0.006*\"record\"'),\n",
       " (10,\n",
       "  '0.018*\"beat\" + 0.016*\"good\" + 0.015*\"eminem\" + 0.011*\"featuring\" + 0.010*\"jay\" + 0.009*\"dre\" + 0.008*\"song\" + 0.008*\"em\" + 0.008*\"snoop\" + 0.006*\"game\"'),\n",
       " (11,\n",
       "  '0.020*\"hose\" + 0.012*\"water\" + 0.007*\"time\" + 0.007*\"use\" + 0.006*\"ve\" + 0.005*\"good\" + 0.005*\"pressure\" + 0.005*\"cable\" + 0.004*\"like\" + 0.004*\"quality\"'),\n",
       " (12,\n",
       "  '0.017*\"guitar\" + 0.014*\"good\" + 0.014*\"great\" + 0.013*\"use\" + 0.012*\"battery\" + 0.011*\"strings\" + 0.010*\"like\" + 0.010*\"price\" + 0.008*\"works\" + 0.007*\"quality\"'),\n",
       " (13,\n",
       "  '0.165*\"quot\" + 0.038*\"feeder\" + 0.019*\"birds\" + 0.013*\"seed\" + 0.012*\"bird\" + 0.011*\"feeders\" + 0.010*\"squirrels\" + 0.009*\"like\" + 0.008*\"seeds\" + 0.005*\"squirrel\"')]"
      ]
     },
     "execution_count": 31,
     "metadata": {},
     "output_type": "execute_result"
    }
   ],
   "source": [
    "model_list[9].show_topics(14)"
   ]
  },
  {
   "cell_type": "markdown",
   "metadata": {},
   "source": [
    "El modelo de 14 topics parece sin duda el más acertado.\n",
    "\n",
    "El topic 0 parece hablar de accesorios para instrumentos musicales.<br>\n",
    "El topic 12 parece que habla de instrumentos musicales.\n",
    "\n",
    "El topic 1 habla sin duda de trampas para mantener el hogar libre de animales salvajes (Patio Lawn and Garden).<br>\n",
    "El topic 3 habla del jardín y muy posiblemente de jardinería.<br>\n",
    "El topic 8 parece enfocarse en posibles accesorios para el patio.<br>\n",
    "El topic 11 parece hablar de mangueras concretamente (hose, water, pressure, cable...).<br>\n",
    "El topic 13 parece que habla de mascotas o de suplementos y comida para estas.\n",
    "\n",
    "El topic 2 habla de hits musicales (Digital Music).<br>\n",
    "El topic 6 parece hablar de Digital Music en general.<br>\n",
    "El topic 10 podría estar centrado en un mismo género musical (rap).<br>\n",
    "El topic 9 podría estar hablando de lo mismo que el 6 aunque con un mayor enfoque en los grupos musicales.\n",
    "\n",
    "El topic 4 habla de las series de Amazon Instant Video.<br>\n",
    "El topic 5 parece que se enfoca más en las películas de Amazon Instant Video.\n",
    "\n",
    "El topic 7 podría apuntar a Automotive (parece que a los modelos en general les cuesta reconocer este dataset).\n",
    "\n",
    "En general tenemos un modelo que apunta muy bien a los datasets de origen y que parece distinguir varios subtopics de una manera bastante coherente y con suficiente claridad."
   ]
  },
  {
   "cell_type": "code",
   "execution_count": 38,
   "metadata": {},
   "outputs": [],
   "source": [
    "# Me guardo el modelo para no perderlo por accidente y poder seguir trabajando con él.\n",
    "#model_list[9].save(\"model14/ldamodel\")"
   ]
  },
  {
   "cell_type": "code",
   "execution_count": 39,
   "metadata": {},
   "outputs": [],
   "source": [
    "# Cargo el modelo\n",
    "model14 = LdaModel.load(\"model14/ldamodel\")"
   ]
  },
  {
   "cell_type": "markdown",
   "metadata": {},
   "source": [
    "Veamos ahora si estos topics se corresponden con los topics que asigné originalmente al corpus en base a los dataset de procedencia."
   ]
  },
  {
   "cell_type": "code",
   "execution_count": 41,
   "metadata": {},
   "outputs": [],
   "source": [
    "def format_topics_sentences(ldamodel, corpus, texts, original_topic):\n",
    "    # Init output\n",
    "    sent_topics_df = pd.DataFrame()\n",
    "\n",
    "    # Get main topic in each document\n",
    "    for i, row in enumerate(ldamodel[corpus]):\n",
    "        row = sorted(row, key=lambda x: (x[1]), reverse=True)\n",
    "        # Get the Dominant topic, Perc Contribution and Keywords for each document\n",
    "        for j, (topic_num, prop_topic) in enumerate(row):\n",
    "            if j == 0:  # => dominant topic\n",
    "                wp = ldamodel.show_topic(topic_num)\n",
    "                topic_keywords = \", \".join([word for word, prop in wp])\n",
    "                sent_topics_df = sent_topics_df.append(pd.Series([int(topic_num), round(prop_topic,4), topic_keywords]), ignore_index=True)\n",
    "            else:\n",
    "                break\n",
    "    sent_topics_df.columns = ['Dominant_Topic', 'Perc_Contribution', 'Topic_Keywords']\n",
    "\n",
    "    # Add original text to the end of the output\n",
    "    contents = pd.Series(texts)\n",
    "    sent_topics_df = pd.concat([sent_topics_df, contents], axis=1)\n",
    "    \n",
    "    # Add original topic to the end of the output\n",
    "    contents = pd.Series(original_topic)\n",
    "    sent_topics_df = pd.concat([sent_topics_df, contents], axis=1)\n",
    "    return(sent_topics_df)"
   ]
  },
  {
   "cell_type": "markdown",
   "metadata": {},
   "source": [
    "Le paso a la función el texto original y el topic original añadiendo el parámetro \"original_topic\" para comparar y ver cuánto se corresponde éste con los topics encontrados por el modelo"
   ]
  },
  {
   "cell_type": "code",
   "execution_count": 42,
   "metadata": {},
   "outputs": [
    {
     "data": {
      "text/html": [
       "<div>\n",
       "<style scoped>\n",
       "    .dataframe tbody tr th:only-of-type {\n",
       "        vertical-align: middle;\n",
       "    }\n",
       "\n",
       "    .dataframe tbody tr th {\n",
       "        vertical-align: top;\n",
       "    }\n",
       "\n",
       "    .dataframe thead th {\n",
       "        text-align: right;\n",
       "    }\n",
       "</style>\n",
       "<table border=\"1\" class=\"dataframe\">\n",
       "  <thead>\n",
       "    <tr style=\"text-align: right;\">\n",
       "      <th></th>\n",
       "      <th>Document_No</th>\n",
       "      <th>Dominant_Topic</th>\n",
       "      <th>Topic_Perc_Contrib</th>\n",
       "      <th>Keywords</th>\n",
       "      <th>Text</th>\n",
       "      <th>Original_Topic</th>\n",
       "    </tr>\n",
       "  </thead>\n",
       "  <tbody>\n",
       "    <tr>\n",
       "      <th>0</th>\n",
       "      <td>0</td>\n",
       "      <td>5.0</td>\n",
       "      <td>0.3463</td>\n",
       "      <td>story, movie, film, good, like, people, acting...</td>\n",
       "      <td>This is one of those items that you keep for '...</td>\n",
       "      <td>2</td>\n",
       "    </tr>\n",
       "    <tr>\n",
       "      <th>1</th>\n",
       "      <td>1</td>\n",
       "      <td>7.0</td>\n",
       "      <td>0.5684</td>\n",
       "      <td>car, use, product, good, like, great, light, t...</td>\n",
       "      <td>These fit all 194 bulb applications, and for c...</td>\n",
       "      <td>2</td>\n",
       "    </tr>\n",
       "    <tr>\n",
       "      <th>2</th>\n",
       "      <td>2</td>\n",
       "      <td>12.0</td>\n",
       "      <td>0.6337</td>\n",
       "      <td>guitar, good, great, use, battery, strings, li...</td>\n",
       "      <td>I ordered them because they are carbon fiber, ...</td>\n",
       "      <td>4</td>\n",
       "    </tr>\n",
       "    <tr>\n",
       "      <th>3</th>\n",
       "      <td>3</td>\n",
       "      <td>12.0</td>\n",
       "      <td>0.7598</td>\n",
       "      <td>guitar, good, great, use, battery, strings, li...</td>\n",
       "      <td>I use this boom attached to a desk clamp to ho...</td>\n",
       "      <td>4</td>\n",
       "    </tr>\n",
       "    <tr>\n",
       "      <th>4</th>\n",
       "      <td>4</td>\n",
       "      <td>6.0</td>\n",
       "      <td>0.7214</td>\n",
       "      <td>album, song, like, songs, cd, good, best, grea...</td>\n",
       "      <td>The songs on this album are really soft and lo...</td>\n",
       "      <td>3</td>\n",
       "    </tr>\n",
       "    <tr>\n",
       "      <th>...</th>\n",
       "      <td>...</td>\n",
       "      <td>...</td>\n",
       "      <td>...</td>\n",
       "      <td>...</td>\n",
       "      <td>...</td>\n",
       "      <td>...</td>\n",
       "    </tr>\n",
       "    <tr>\n",
       "      <th>49976</th>\n",
       "      <td>49976</td>\n",
       "      <td>12.0</td>\n",
       "      <td>0.4224</td>\n",
       "      <td>guitar, good, great, use, battery, strings, li...</td>\n",
       "      <td>Well thought out unit that does what it says i...</td>\n",
       "      <td>4</td>\n",
       "    </tr>\n",
       "    <tr>\n",
       "      <th>49977</th>\n",
       "      <td>49977</td>\n",
       "      <td>6.0</td>\n",
       "      <td>0.7135</td>\n",
       "      <td>album, song, like, songs, cd, good, best, grea...</td>\n",
       "      <td>When Taylor Swift announced her new album in m...</td>\n",
       "      <td>3</td>\n",
       "    </tr>\n",
       "    <tr>\n",
       "      <th>49978</th>\n",
       "      <td>49978</td>\n",
       "      <td>4.0</td>\n",
       "      <td>0.7234</td>\n",
       "      <td>season, series, like, great, love, watch, good...</td>\n",
       "      <td>Very funny.  If you have ever watched or read ...</td>\n",
       "      <td>1</td>\n",
       "    </tr>\n",
       "    <tr>\n",
       "      <th>49979</th>\n",
       "      <td>49979</td>\n",
       "      <td>3.0</td>\n",
       "      <td>0.4461</td>\n",
       "      <td>use, product, like, plants, garden, easy, oil,...</td>\n",
       "      <td>For years, I lived with a Black &amp; Decker trimm...</td>\n",
       "      <td>5</td>\n",
       "    </tr>\n",
       "    <tr>\n",
       "      <th>49980</th>\n",
       "      <td>49980</td>\n",
       "      <td>12.0</td>\n",
       "      <td>0.3739</td>\n",
       "      <td>guitar, good, great, use, battery, strings, li...</td>\n",
       "      <td>Lunar lander here we come, This pedal will tak...</td>\n",
       "      <td>4</td>\n",
       "    </tr>\n",
       "  </tbody>\n",
       "</table>\n",
       "<p>49981 rows × 6 columns</p>\n",
       "</div>"
      ],
      "text/plain": [
       "       Document_No  Dominant_Topic  Topic_Perc_Contrib  \\\n",
       "0                0             5.0              0.3463   \n",
       "1                1             7.0              0.5684   \n",
       "2                2            12.0              0.6337   \n",
       "3                3            12.0              0.7598   \n",
       "4                4             6.0              0.7214   \n",
       "...            ...             ...                 ...   \n",
       "49976        49976            12.0              0.4224   \n",
       "49977        49977             6.0              0.7135   \n",
       "49978        49978             4.0              0.7234   \n",
       "49979        49979             3.0              0.4461   \n",
       "49980        49980            12.0              0.3739   \n",
       "\n",
       "                                                Keywords  \\\n",
       "0      story, movie, film, good, like, people, acting...   \n",
       "1      car, use, product, good, like, great, light, t...   \n",
       "2      guitar, good, great, use, battery, strings, li...   \n",
       "3      guitar, good, great, use, battery, strings, li...   \n",
       "4      album, song, like, songs, cd, good, best, grea...   \n",
       "...                                                  ...   \n",
       "49976  guitar, good, great, use, battery, strings, li...   \n",
       "49977  album, song, like, songs, cd, good, best, grea...   \n",
       "49978  season, series, like, great, love, watch, good...   \n",
       "49979  use, product, like, plants, garden, easy, oil,...   \n",
       "49980  guitar, good, great, use, battery, strings, li...   \n",
       "\n",
       "                                                    Text  Original_Topic  \n",
       "0      This is one of those items that you keep for '...               2  \n",
       "1      These fit all 194 bulb applications, and for c...               2  \n",
       "2      I ordered them because they are carbon fiber, ...               4  \n",
       "3      I use this boom attached to a desk clamp to ho...               4  \n",
       "4      The songs on this album are really soft and lo...               3  \n",
       "...                                                  ...             ...  \n",
       "49976  Well thought out unit that does what it says i...               4  \n",
       "49977  When Taylor Swift announced her new album in m...               3  \n",
       "49978  Very funny.  If you have ever watched or read ...               1  \n",
       "49979  For years, I lived with a Black & Decker trimm...               5  \n",
       "49980  Lunar lander here we come, This pedal will tak...               4  \n",
       "\n",
       "[49981 rows x 6 columns]"
      ]
     },
     "execution_count": 42,
     "metadata": {},
     "output_type": "execute_result"
    }
   ],
   "source": [
    "# Primero seteo los índices del corpus original de acuerdo al orden actual (con el que se ha entrenado el modelo)\n",
    "reviews.index = range(len(reviews))\n",
    "\n",
    "df_topic_sents_keywords = format_topics_sentences(ldamodel=model14, corpus=corpus_simple,\n",
    "                                                  texts=reviews.reviewText, original_topic=reviews.topic)\n",
    "\n",
    "# Format\n",
    "df_dominant_topic = df_topic_sents_keywords.reset_index()\n",
    "df_dominant_topic.columns = ['Document_No', 'Dominant_Topic', 'Topic_Perc_Contrib', 'Keywords', 'Text', 'Original_Topic']\n",
    "\n",
    "# Show\n",
    "df_dominant_topic"
   ]
  },
  {
   "cell_type": "markdown",
   "metadata": {},
   "source": [
    "Según lo visto en nuestro análisis, los topics 4 y 5 deberían hacer referencia principalmente al primer dataset (Amazon Instant Video)."
   ]
  },
  {
   "cell_type": "code",
   "execution_count": 48,
   "metadata": {},
   "outputs": [
    {
     "data": {
      "text/plain": [
       "4.0     6334\n",
       "5.0     2739\n",
       "6.0      419\n",
       "2.0      258\n",
       "11.0      49\n",
       "9.0       47\n",
       "12.0      35\n",
       "8.0       31\n",
       "7.0       21\n",
       "1.0       19\n",
       "10.0      16\n",
       "3.0       15\n",
       "0.0       12\n",
       "13.0       5\n",
       "Name: Dominant_Topic, dtype: int64"
      ]
     },
     "execution_count": 48,
     "metadata": {},
     "output_type": "execute_result"
    }
   ],
   "source": [
    "df_dominant_topic.Dominant_Topic[df_dominant_topic.Original_Topic == 1].value_counts()"
   ]
  },
  {
   "cell_type": "markdown",
   "metadata": {},
   "source": [
    "Efectivamente podemos comprobar que la inmensa mayoría cumplen con lo predicho.\n",
    "\n",
    "Veamos si se cumple también para el resto de topics, Automotive (dataset 2) estaba bastante difícil."
   ]
  },
  {
   "cell_type": "code",
   "execution_count": 49,
   "metadata": {},
   "outputs": [
    {
     "data": {
      "text/plain": [
       "7.0     4533\n",
       "12.0    2126\n",
       "3.0     1113\n",
       "8.0      973\n",
       "11.0     655\n",
       "0.0      441\n",
       "4.0       55\n",
       "1.0       40\n",
       "5.0       22\n",
       "6.0       15\n",
       "10.0      10\n",
       "2.0        7\n",
       "9.0        4\n",
       "13.0       3\n",
       "Name: Dominant_Topic, dtype: int64"
      ]
     },
     "execution_count": 49,
     "metadata": {},
     "output_type": "execute_result"
    }
   ],
   "source": [
    "df_dominant_topic.Dominant_Topic[df_dominant_topic.Original_Topic == 2].value_counts()"
   ]
  },
  {
   "cell_type": "markdown",
   "metadata": {},
   "source": [
    "Tal como parecía, el dataset 7 parece apuntar a automotive, aunque no lo hace demasiado bien"
   ]
  },
  {
   "cell_type": "code",
   "execution_count": 50,
   "metadata": {},
   "outputs": [
    {
     "data": {
      "text/plain": [
       "6.0     8134\n",
       "9.0     1517\n",
       "2.0       95\n",
       "13.0      74\n",
       "4.0       57\n",
       "10.0      46\n",
       "5.0       27\n",
       "12.0      20\n",
       "11.0      11\n",
       "0.0        7\n",
       "3.0        4\n",
       "7.0        3\n",
       "8.0        3\n",
       "1.0        2\n",
       "Name: Dominant_Topic, dtype: int64"
      ]
     },
     "execution_count": 50,
     "metadata": {},
     "output_type": "execute_result"
    }
   ],
   "source": [
    "df_dominant_topic.Dominant_Topic[df_dominant_topic.Original_Topic == 3].value_counts()"
   ]
  },
  {
   "cell_type": "markdown",
   "metadata": {},
   "source": [
    "El dataset de Digital Music (3) queda claramente representado por los topics 6 y 9 tal y como pudimos ver en nuestro análisis."
   ]
  },
  {
   "cell_type": "code",
   "execution_count": 51,
   "metadata": {},
   "outputs": [
    {
     "data": {
      "text/plain": [
       "12.0    7082\n",
       "0.0     1686\n",
       "7.0      268\n",
       "9.0      251\n",
       "3.0      246\n",
       "11.0     197\n",
       "8.0      102\n",
       "4.0       60\n",
       "6.0       48\n",
       "5.0       27\n",
       "1.0       11\n",
       "2.0       10\n",
       "10.0       3\n",
       "13.0       2\n",
       "Name: Dominant_Topic, dtype: int64"
      ]
     },
     "execution_count": 51,
     "metadata": {},
     "output_type": "execute_result"
    }
   ],
   "source": [
    "df_dominant_topic.Dominant_Topic[df_dominant_topic.Original_Topic == 4].value_counts()"
   ]
  },
  {
   "cell_type": "markdown",
   "metadata": {},
   "source": [
    "El dataset de Musical Instruments también queda representado por los topics 12 y 0 que dijimos que hacían referencia uno a los instrumentos y otro a sus accesorios."
   ]
  },
  {
   "cell_type": "code",
   "execution_count": 52,
   "metadata": {},
   "outputs": [
    {
     "data": {
      "text/plain": [
       "3.0     3242\n",
       "1.0     1626\n",
       "8.0     1197\n",
       "13.0    1155\n",
       "12.0     919\n",
       "11.0     878\n",
       "7.0      867\n",
       "4.0       46\n",
       "0.0       27\n",
       "5.0       15\n",
       "6.0        8\n",
       "9.0        6\n",
       "2.0        5\n",
       "Name: Dominant_Topic, dtype: int64"
      ]
     },
     "execution_count": 52,
     "metadata": {},
     "output_type": "execute_result"
    }
   ],
   "source": [
    "df_dominant_topic.Dominant_Topic[df_dominant_topic.Original_Topic == 5].value_counts()"
   ]
  },
  {
   "cell_type": "markdown",
   "metadata": {},
   "source": [
    "Aquí también se cumplen las expectativas. Aunque el topic 12, que habla de instrumentos musicales, abunda más que el topic 11, que parecía hablar específicamente de mangueras. En cualquier caso se demuestra lo que llevábamos viendo desde el principio, que el tema del patio/jardín es el que parece contener un mayor número de subtopics."
   ]
  },
  {
   "cell_type": "markdown",
   "metadata": {},
   "source": [
    "¿Qué habrá sido de los topics 2, 10 y 11? No parece que tengan mucha presencia en general, veamos de qué datasets originales son más representativos cada uno de ellos."
   ]
  },
  {
   "cell_type": "code",
   "execution_count": 53,
   "metadata": {},
   "outputs": [
    {
     "data": {
      "text/plain": [
       "1    258\n",
       "3     95\n",
       "4     10\n",
       "2      7\n",
       "5      5\n",
       "Name: Original_Topic, dtype: int64"
      ]
     },
     "execution_count": 53,
     "metadata": {},
     "output_type": "execute_result"
    }
   ],
   "source": [
    "df_dominant_topic.Original_Topic[df_dominant_topic.Dominant_Topic == 2].value_counts()"
   ]
  },
  {
   "cell_type": "markdown",
   "metadata": {},
   "source": [
    "El topic 2 dijimos que habla de Digital Music, pero tiene su mayor presencia en Amazon Instant Video. ¿Tal vez por los videoclips o conciertos? Parecía estar enfocado en nombres de cantantes famosos."
   ]
  },
  {
   "cell_type": "code",
   "execution_count": 54,
   "metadata": {},
   "outputs": [
    {
     "data": {
      "text/plain": [
       "3    46\n",
       "1    16\n",
       "2    10\n",
       "4     3\n",
       "Name: Original_Topic, dtype: int64"
      ]
     },
     "execution_count": 54,
     "metadata": {},
     "output_type": "execute_result"
    }
   ],
   "source": [
    "df_dominant_topic.Original_Topic[df_dominant_topic.Dominant_Topic == 10].value_counts()"
   ]
  },
  {
   "cell_type": "markdown",
   "metadata": {},
   "source": [
    "El topic 10 dijimos que hablaba del género rap en Digital Music. Es un topic que aparece muy poquito así que podría tener todo el sentido del mundo que se trate de algo tan específico."
   ]
  },
  {
   "cell_type": "code",
   "execution_count": 55,
   "metadata": {},
   "outputs": [
    {
     "data": {
      "text/plain": [
       "5    878\n",
       "2    655\n",
       "4    197\n",
       "1     49\n",
       "3     11\n",
       "Name: Original_Topic, dtype: int64"
      ]
     },
     "execution_count": 55,
     "metadata": {},
     "output_type": "execute_result"
    }
   ],
   "source": [
    "df_dominant_topic.Original_Topic[df_dominant_topic.Dominant_Topic == 11].value_counts()"
   ]
  },
  {
   "cell_type": "markdown",
   "metadata": {},
   "source": [
    "El topic 11 dijimos que habla de mangueras, y aunque el dataset 5 (patio y jardín) es en el que más aparece, no le saca mucha diferencia al 2º dataset (Automotive)."
   ]
  },
  {
   "cell_type": "markdown",
   "metadata": {},
   "source": [
    "En general, y como conclusión final, diría que se trata de un modelo bastante bueno para detectar topics dentro de todos estos temas que hemos estado viendo, salvando su torpeza al identificar temas relacionados con la automoción ~~y las mangueras~~, donde parece fallar bastante."
   ]
  },
  {
   "cell_type": "markdown",
   "metadata": {},
   "source": [
    "Para terminar me voy a guardar una visualización de los topics"
   ]
  },
  {
   "cell_type": "code",
   "execution_count": 62,
   "metadata": {},
   "outputs": [
    {
     "data": {
      "text/html": [
       "\n",
       "<link rel=\"stylesheet\" type=\"text/css\" href=\"https://cdn.rawgit.com/bmabey/pyLDAvis/files/ldavis.v1.0.0.css\">\n",
       "\n",
       "\n",
       "<div id=\"ldavis_el1711223149340615128277700633\"></div>\n",
       "<script type=\"text/javascript\">\n",
       "\n",
       "var ldavis_el1711223149340615128277700633_data = {\"mdsDat\": {\"x\": [-0.1965317203601002, 0.12262481798593931, -0.14193494830407358, 0.16185435877649557, 0.14554150665181956, -0.09115571408852827, -0.12807375564950543, 0.12813941516343413, 0.1015601346072974, 0.09529268640148941, 0.10477605530138596, 0.06318002366289488, -0.21125498216934746, -0.15401787797920058], \"y\": [0.011078276191872195, 0.015634383998013947, 0.007258868724408322, -0.01408983496109998, -0.002034899459005503, -0.12909847096202073, -0.1350973859299187, 0.02032006803339846, -0.03220267138801183, 0.034197696686246094, -0.03243501761061601, 0.045954681421910115, -0.08949447372115633, 0.30000877897598005], \"topics\": [1, 2, 3, 4, 5, 6, 7, 8, 9, 10, 11, 12, 13, 14], \"cluster\": [1, 1, 1, 1, 1, 1, 1, 1, 1, 1, 1, 1, 1, 1], \"Freq\": [20.841882705688477, 11.156213760375977, 9.184222221374512, 8.966862678527832, 8.247377395629883, 6.33467435836792, 6.004633903503418, 5.815835952758789, 5.767617225646973, 4.324825286865234, 4.098245620727539, 3.827626943588257, 3.7229321002960205, 1.7070528268814087]}, \"tinfo\": {\"Term\": [\"quot\", \"album\", \"song\", \"season\", \"feeder\", \"guitar\", \"trap\", \"songs\", \"sound\", \"car\", \"use\", \"music\", \"hose\", \"pedal\", \"cd\", \"series\", \"amp\", \"good\", \"love\", \"product\", \"band\", \"battery\", \"strings\", \"track\", \"water\", \"birds\", \"beat\", \"watch\", \"rock\", \"story\", \"rapping\", \"mobb\", \"simon\", \"johnson\", \"blige\", \"wack\", \"steely\", \"banks\", \"rooting\", \"tony\", \"nelly\", \"dexter\", \"clapton\", \"repetitive\", \"channels\", \"billboard\", \"mainstream\", \"mitchell\", \"ghetto\", \"otis\", \"williams\", \"downright\", \"midnight\", \"sax\", \"streets\", \"dean\", \"moodies\", \"aerosmith\", \"instrumentals\", \"willie\", \"hip\", \"rap\", \"pac\", \"cd\", \"titled\", \"hop\", \"mary\", \"mtv\", \"album\", \"gangsta\", \"singles\", \"wanna\", \"song\", \"cds\", \"rapper\", \"songs\", \"lyrics\", \"albums\", \"tracks\", \"track\", \"beats\", \"artists\", \"rappers\", \"dance\", \"production\", \"debut\", \"radio\", \"listen\", \"classic\", \"heard\", \"released\", \"fans\", \"hit\", \"hits\", \"music\", \"artist\", \"best\", \"pop\", \"fan\", \"like\", \"favorite\", \"man\", \"love\", \"good\", \"great\", \"single\", \"time\", \"new\", \"rock\", \"think\", \"know\", \"better\", \"way\", \"people\", \"got\", \"trimmer\", \"cordless\", \"volt\", \"addario\", \"ukulele\", \"headstock\", \"solar\", \"tuners\", \"tuner\", \"uke\", \"headlight\", \"strap\", \"joyo\", \"gibson\", \"corded\", \"padding\", \"elixir\", \"charges\", \"til\", \"tascam\", \"gigging\", \"winder\", \"korg\", \"decker\", \"charger\", \"railing\", \"unplugged\", \"sweeper\", \"meter\", \"stability\", \"capo\", \"microphone\", \"tuning\", \"strings\", \"fret\", \"beginner\", \"microphones\", \"battery\", \"neck\", \"string\", \"mic\", \"sm\", \"charging\", \"cord\", \"ac\", \"charge\", \"guitar\", \"batteries\", \"instrument\", \"electric\", \"price\", \"guitars\", \"power\", \"stand\", \"acoustic\", \"quality\", \"case\", \"use\", \"works\", \"unit\", \"great\", \"good\", \"bought\", \"nice\", \"easy\", \"sound\", \"like\", \"little\", \"buy\", \"ve\", \"better\", \"need\", \"time\", \"work\", \"set\", \"headphones\", \"hendrix\", \"halen\", \"stripes\", \"recorder\", \"radiohead\", \"harmonica\", \"strumming\", \"remaster\", \"alanis\", \"sony\", \"synth\", \"introspective\", \"monkey\", \"fiber\", \"mclachlan\", \"bells\", \"cassette\", \"prepare\", \"arranged\", \"hayward\", \"flute\", \"dreamy\", \"poetry\", \"meg\", \"passages\", \"selections\", \"velvet\", \"monkeys\", \"elephant\", \"picks\", \"aretha\", \"organ\", \"jimi\", \"eagles\", \"jazz\", \"dated\", \"drums\", \"recordings\", \"drummer\", \"percussion\", \"band\", \"drum\", \"folk\", \"piano\", \"blues\", \"record\", \"recording\", \"vocals\", \"recorded\", \"rock\", \"vocal\", \"sound\", \"sounds\", \"music\", \"studio\", \"rhythm\", \"bass\", \"notes\", \"phil\", \"guitar\", \"playing\", \"guitarist\", \"collection\", \"voice\", \"instrumental\", \"tunes\", \"beautiful\", \"musical\", \"hear\", \"album\", \"songs\", \"like\", \"pop\", \"version\", \"live\", \"best\", \"great\", \"time\", \"work\", \"new\", \"song\", \"track\", \"love\", \"feel\", \"years\", \"deer\", \"rabbits\", \"sprayer\", \"leonard\", \"planter\", \"mirror\", \"thermometer\", \"bushes\", \"basket\", \"bench\", \"veggies\", \"loppers\", \"stakes\", \"spreader\", \"loosen\", \"sewer\", \"beds\", \"drainage\", \"scraper\", \"solutions\", \"gravel\", \"commented\", \"gt\", \"buffer\", \"cargo\", \"fram\", \"pot\", \"manufacturers\", \"chunks\", \"planters\", \"plant\", \"weed\", \"gardens\", \"vegetable\", \"plants\", \"bmw\", \"fence\", \"weeds\", \"pots\", \"soil\", \"container\", \"garden\", \"gardening\", \"powder\", \"filters\", \"funnel\", \"oil\", \"planting\", \"tomato\", \"repellent\", \"yard\", \"flower\", \"ground\", \"sprayed\", \"tool\", \"handle\", \"spray\", \"deck\", \"product\", \"tools\", \"chair\", \"use\", \"flowers\", \"plastic\", \"small\", \"filter\", \"easy\", \"large\", \"size\", \"area\", \"work\", \"box\", \"like\", \"cut\", \"need\", \"little\", \"works\", \"place\", \"ve\", \"great\", \"good\", \"time\", \"way\", \"water\", \"wiper\", \"windshield\", \"wax\", \"wipers\", \"baffle\", \"streaks\", \"griot\", \"bumper\", \"compound\", \"tiller\", \"waxing\", \"brackets\", \"stake\", \"kits\", \"detailer\", \"streaking\", \"meguiars\", \"curtis\", \"subaru\", \"polish\", \"screwed\", \"bath\", \"effortless\", \"zipper\", \"anco\", \"lint\", \"beam\", \"orb\", \"sprout\", \"sealant\", \"bulbs\", \"wipe\", \"blades\", \"mower\", \"bulb\", \"detailing\", \"dome\", \"washes\", \"car\", \"wash\", \"clay\", \"drying\", \"blade\", \"washing\", \"towel\", \"polishing\", \"cleaner\", \"microfiber\", \"cloth\", \"towels\", \"scratches\", \"cars\", \"kit\", \"paint\", \"pad\", \"wet\", \"grass\", \"shine\", \"lights\", \"vehicle\", \"dry\", \"lawn\", \"leaves\", \"cleaning\", \"product\", \"light\", \"clean\", \"water\", \"use\", \"products\", \"easy\", \"good\", \"great\", \"time\", \"like\", \"works\", \"work\", \"job\", \"better\", \"look\", \"ve\", \"long\", \"little\", \"new\", \"need\", \"gro\", \"mat\", \"cuttings\", \"morgan\", \"xzibit\", \"politics\", \"spits\", \"umbrella\", \"netflix\", \"corny\", \"hosa\", \"tapes\", \"fate\", \"parent\", \"ipod\", \"imho\", \"jewish\", \"educational\", \"salmon\", \"rotten\", \"cilantro\", \"contraption\", \"agents\", \"raid\", \"vague\", \"refined\", \"brit\", \"ins\", \"scifi\", \"hannibal\", \"season\", \"seasons\", \"comedy\", \"tomatoes\", \"animation\", \"aired\", \"episodes\", \"miracle\", \"watched\", \"static\", \"episode\", \"watching\", \"watch\", \"series\", \"pilot\", \"funny\", \"tv\", \"characters\", \"humor\", \"entertaining\", \"enjoyed\", \"cast\", \"shows\", \"prime\", \"actors\", \"character\", \"dvd\", \"cop\", \"development\", \"wait\", \"loved\", \"interesting\", \"family\", \"love\", \"fun\", \"amazon\", \"enjoy\", \"great\", \"hope\", \"like\", \"good\", \"think\", \"time\", \"going\", \"people\", \"new\", \"story\", \"better\", \"know\", \"little\", \"mics\", \"snake\", \"sara\", \"horror\", \"theirs\", \"suffering\", \"irish\", \"pearl\", \"trek\", \"snakes\", \"cave\", \"cgi\", \"storylines\", \"supernatural\", \"viewers\", \"bbc\", \"undoubtedly\", \"overlook\", \"tests\", \"beginners\", \"ghosts\", \"carnauba\", \"fairy\", \"windscreen\", \"wasting\", \"yep\", \"faced\", \"jungle\", \"havent\", \"dracula\", \"films\", \"film\", \"director\", \"unexpected\", \"gore\", \"twists\", \"aliens\", \"plots\", \"zombies\", \"movie\", \"fiction\", \"suspense\", \"national\", \"footage\", \"serial\", \"premise\", \"story\", \"acting\", \"creepy\", \"scenes\", \"movies\", \"justified\", \"zombie\", \"script\", \"camera\", \"crime\", \"daughter\", \"plot\", \"action\", \"evil\", \"children\", \"character\", \"detective\", \"science\", \"school\", \"people\", \"characters\", \"interesting\", \"good\", \"series\", \"real\", \"turns\", \"guy\", \"like\", \"bad\", \"way\", \"life\", \"know\", \"man\", \"think\", \"great\", \"things\", \"old\", \"little\", \"time\", \"end\", \"bit\", \"better\", \"ve\", \"grill\", \"weber\", \"smoker\", \"charcoal\", \"meat\", \"panels\", \"cooking\", \"grills\", \"grilling\", \"grate\", \"coals\", \"bbq\", \"cooked\", \"grates\", \"temp\", \"turkey\", \"pork\", \"brushes\", \"ribs\", \"nozzles\", \"accessories\", \"smoked\", \"peg\", \"generator\", \"camco\", \"clamps\", \"heartbeat\", \"perlite\", \"slippery\", \"burner\", \"propane\", \"drip\", \"bristles\", \"grease\", \"tub\", \"vent\", \"temperature\", \"cook\", \"brush\", \"chips\", \"heat\", \"hitch\", \"cover\", \"smoke\", \"wood\", \"tank\", \"gloves\", \"bucket\", \"bolt\", \"screws\", \"hot\", \"chicken\", \"pan\", \"fit\", \"use\", \"lock\", \"rust\", \"lid\", \"pieces\", \"like\", \"time\", \"handle\", \"food\", \"small\", \"unit\", \"easy\", \"clean\", \"great\", \"need\", \"little\", \"ve\", \"way\", \"years\", \"nice\", \"bit\", \"good\", \"place\", \"long\", \"snark\", \"reel\", \"hoses\", \"hose\", \"dusty\", \"fittings\", \"bargain\", \"sn\", \"codes\", \"faucet\", \"gilmour\", \"kink\", \"timer\", \"guarantee\", \"lopper\", \"android\", \"connects\", \"ladder\", \"dm\", \"diatomaceous\", \"rolled\", \"acoustics\", \"spigot\", \"secured\", \"invest\", \"expands\", \"gophers\", \"crash\", \"rusty\", \"gps\", \"elastic\", \"iphone\", \"attaching\", \"sprinkler\", \"beans\", \"bug\", \"pruner\", \"info\", \"sensor\", \"code\", \"warranty\", \"pressure\", \"leak\", \"information\", \"nozzle\", \"brass\", \"customer\", \"water\", \"valve\", \"cable\", \"service\", \"china\", \"connector\", \"phone\", \"feet\", \"device\", \"problem\", \"time\", \"use\", \"amazon\", \"quality\", \"ve\", \"review\", \"need\", \"good\", \"long\", \"far\", \"years\", \"end\", \"easy\", \"like\", \"ll\", \"buy\", \"year\", \"cut\", \"work\", \"works\", \"great\", \"pedal\", \"delay\", \"overdrive\", \"vox\", \"ts\", \"oily\", \"herb\", \"net\", \"christopher\", \"lining\", \"hiss\", \"presets\", \"lamb\", \"percent\", \"plugging\", \"modeling\", \"casing\", \"outputs\", \"gel\", \"rp\", \"dashboard\", \"pedals\", \"wrangler\", \"octave\", \"digitech\", \"peavey\", \"compressor\", \"demise\", \"ds\", \"distortion\", \"mixer\", \"behringer\", \"mxr\", \"boost\", \"crunch\", \"amps\", \"gain\", \"software\", \"tire\", \"tubes\", \"wah\", \"signal\", \"amp\", \"inputs\", \"eq\", \"reverb\", \"rig\", \"volume\", \"boss\", \"board\", \"tube\", \"speaker\", \"controls\", \"input\", \"knobs\", \"jack\", \"knob\", \"tone\", \"effects\", \"noise\", \"settings\", \"digital\", \"switch\", \"cable\", \"sound\", \"use\", \"like\", \"sounds\", \"great\", \"clean\", \"good\", \"price\", \"want\", \"ve\", \"need\", \"little\", \"thing\", \"trap\", \"traps\", \"mouse\", \"mice\", \"bait\", \"rat\", \"peanut\", \"rats\", \"mole\", \"moles\", \"victor\", \"moths\", \"tomcat\", \"rodent\", \"cloths\", \"aa\", \"tunnel\", \"rodents\", \"nest\", \"greenworks\", \"butter\", \"baited\", \"trapping\", \"mousetrap\", \"poisons\", \"logic\", \"dispose\", \"moth\", \"claws\", \"spiders\", \"pets\", \"cats\", \"animal\", \"poison\", \"terro\", \"spikes\", \"flies\", \"animals\", \"ants\", \"kill\", \"caught\", \"safer\", \"leather\", \"catch\", \"cage\", \"rid\", \"glue\", \"door\", \"dog\", \"havahart\", \"house\", \"set\", \"effective\", \"dead\", \"ve\", \"work\", \"inside\", \"problem\", \"like\", \"easy\", \"use\", \"away\", \"little\", \"small\", \"place\", \"product\", \"feeder\", \"feeders\", \"hummingbird\", \"hummingbirds\", \"perky\", \"nectar\", \"birds\", \"hanger\", \"sunflower\", \"perch\", \"hummers\", \"identical\", \"perches\", \"suet\", \"cups\", \"brome\", \"finches\", \"cardinals\", \"baits\", \"lettuce\", \"ranks\", \"elegant\", \"antique\", \"cam\", \"lantern\", \"greasy\", \"buffett\", \"pimp\", \"throttle\", \"quot\", \"bird\", \"seed\", \"feeding\", \"squirrel\", \"seeds\", \"sugar\", \"squirrels\", \"hung\", \"pet\", \"feed\", \"hanging\", \"glass\", \"hang\", \"red\", \"filling\", \"metal\", \"food\", \"hook\", \"like\", \"plastic\", \"water\", \"easy\", \"love\", \"little\", \"time\", \"clean\", \"ve\", \"tori\", \"dylan\", \"amos\", \"strain\", \"robin\", \"jill\", \"patrick\", \"raylan\", \"harmony\", \"jean\", \"triangle\", \"thrill\", \"prison\", \"burnt\", \"alicia\", \"erykah\", \"sinatra\", \"bikini\", \"enjoys\", \"thompson\", \"fitted\", \"reccomend\", \"morrison\", \"chills\", \"scenery\", \"diva\", \"boyd\", \"satire\", \"vw\", \"spy\", \"elton\", \"luther\", \"bernie\", \"violence\", \"troubled\", \"taupin\", \"cartoon\", \"organized\", \"rage\", \"crimes\", \"topics\", \"joss\", \"michael\", \"teacher\", \"sam\", \"john\", \"jackson\", \"captain\", \"eacute\", \"thriller\", \"father\", \"american\", \"woman\", \"scott\", \"love\", \"girl\", \"loss\", \"relationship\", \"life\", \"stone\", \"world\", \"miles\", \"gorgeous\", \"beautiful\", \"wonder\", \"time\", \"young\", \"human\", \"heart\", \"man\", \"music\", \"way\", \"things\", \"like\", \"little\", \"best\", \"great\", \"know\", \"pun\", \"mysterious\", \"bobby\", \"bye\", \"eazy\", \"fleetwood\", \"costello\", \"mac\", \"kevin\", \"grid\", \"solely\", \"raccoon\", \"cheers\", \"ny\", \"bangin\", \"superman\", \"lucy\", \"nicks\", \"buckingham\", \"mathers\", \"yrs\", \"pics\", \"holmes\", \"roger\", \"palmer\", \"bikes\", \"emcees\", \"recovery\", \"wired\", \"miller\", \"eminem\", \"skit\", \"nate\", \"cuz\", \"dogg\", \"snoop\", \"beneath\", \"shady\", \"hi\", \"dre\", \"slim\", \"ties\", \"jay\", \"em\", \"legendary\", \"elvis\", \"disk\", \"featuring\", \"nas\", \"beat\", \"feat\", \"remix\", \"tupac\", \"mariah\", \"locks\", \"lil\", \"bone\", \"dr\", \"game\", \"hook\", \"good\", \"song\", \"like\", \"tight\", \"nice\", \"great\", \"lp\"], \"Freq\": [17581.0, 23812.0, 12113.0, 5542.0, 4011.0, 7803.0, 3679.0, 10689.0, 7931.0, 4566.0, 14831.0, 8575.0, 3244.0, 2653.0, 6459.0, 3743.0, 3129.0, 21064.0, 11644.0, 7689.0, 4105.0, 3998.0, 3469.0, 5478.0, 5085.0, 1976.0, 1919.0, 2773.0, 4531.0, 3214.0, 319.95806884765625, 247.12461853027344, 381.2103271484375, 214.52684020996094, 188.51593017578125, 190.92803955078125, 187.08546447753906, 190.8086395263672, 174.4241485595703, 211.32908630371094, 163.6657257080078, 161.74847412109375, 161.3115692138672, 203.31224060058594, 153.34161376953125, 159.82772827148438, 378.98272705078125, 128.26577758789062, 154.80706787109375, 133.7314910888672, 128.18785095214844, 132.5906982421875, 127.59034729003906, 124.00835418701172, 203.7090301513672, 118.10897827148438, 116.76319122314453, 163.1842498779297, 116.77760314941406, 107.88874053955078, 1254.00732421875, 1466.08251953125, 599.7553100585938, 6184.58154296875, 305.72332763671875, 1309.6324462890625, 441.3215026855469, 206.12252807617188, 21163.015625, 408.8147888183594, 708.3631591796875, 368.0366516113281, 10468.75, 435.91961669921875, 422.9280090332031, 8954.833984375, 2742.767822265625, 3247.230712890625, 3432.382080078125, 4411.90283203125, 1107.228759765625, 675.5152587890625, 377.58795166015625, 890.484375, 1497.7940673828125, 1119.0665283203125, 1064.065673828125, 2181.061279296875, 2075.488037109375, 1992.8775634765625, 1268.444580078125, 1573.4381103515625, 1833.7010498046875, 1390.5543212890625, 4793.29052734375, 879.3436889648438, 5018.9619140625, 1965.3782958984375, 1863.800048828125, 9046.9638671875, 1756.6094970703125, 1629.1693115234375, 4176.3974609375, 5512.20361328125, 5013.21533203125, 1652.779296875, 3422.276123046875, 2514.172607421875, 1970.2828369140625, 2283.65087890625, 2085.1650390625, 2255.54296875, 2231.782958984375, 1913.15966796875, 1655.794677734375, 1299.457275390625, 355.3658142089844, 381.9286804199219, 326.8438720703125, 264.54168701171875, 243.45867919921875, 530.894775390625, 557.0732421875, 1077.4525146484375, 217.09580993652344, 158.23863220214844, 1476.40625, 148.18666076660156, 208.30503845214844, 162.7054901123047, 186.2827606201172, 140.88839721679688, 137.23382568359375, 113.25657653808594, 136.033203125, 113.1649398803711, 110.54962158203125, 127.73363494873047, 438.866455078125, 1081.4581298828125, 104.97002410888672, 88.55793762207031, 91.14019012451172, 110.4748764038086, 86.2634048461914, 618.7120361328125, 565.8964233398438, 543.5218505859375, 3342.5732421875, 203.213134765625, 207.67430114746094, 209.97512817382812, 3689.116943359375, 678.6394653320312, 1643.4031982421875, 1314.1318359375, 465.33148193359375, 466.61627197265625, 893.154296875, 321.7083740234375, 1140.304443359375, 5280.205078125, 1221.1107177734375, 750.8013916015625, 1173.076904296875, 2971.412353515625, 1161.134521484375, 1887.5740966796875, 1476.5211181640625, 970.0869750976562, 2135.15576171875, 1351.388671875, 3893.013916015625, 2354.460205078125, 1284.9390869140625, 4142.412109375, 4178.79296875, 1667.0294189453125, 1956.0970458984375, 1987.5509033203125, 1890.7724609375, 3118.478515625, 1908.755126953125, 1475.920654296875, 1734.8646240234375, 1561.458740234375, 1420.673583984375, 1487.2430419921875, 1324.8077392578125, 1242.0877685546875, 254.4358367919922, 341.616943359375, 179.93197631835938, 183.92587280273438, 172.11868286132812, 168.3755645751953, 169.25906372070312, 172.76007080078125, 171.36856079101562, 162.85191345214844, 138.3031768798828, 188.56642150878906, 134.48851013183594, 139.81307983398438, 116.52631378173828, 130.68531799316406, 119.67115020751953, 105.10149383544922, 108.75590515136719, 108.30757141113281, 98.4527359008789, 106.92730712890625, 97.80402374267578, 110.2166748046875, 93.02047729492188, 87.42173767089844, 88.22660827636719, 81.67005157470703, 82.02488708496094, 80.57577514648438, 1437.9559326171875, 174.82476806640625, 154.99935913085938, 152.39784240722656, 157.5737762451172, 1083.898193359375, 155.10235595703125, 494.25, 420.64697265625, 220.65008544921875, 217.94601440429688, 2963.0595703125, 395.80364990234375, 341.575927734375, 847.5698852539062, 955.9602661132812, 1519.075439453125, 953.994384765625, 1330.404296875, 611.9695434570312, 2425.7138671875, 767.7960815429688, 3341.47509765625, 1887.0975341796875, 3264.66552734375, 713.7622680664062, 333.8222961425781, 939.0689697265625, 459.4233093261719, 279.646484375, 2430.02978515625, 1144.0128173828125, 284.7430725097656, 841.45458984375, 1067.2281494140625, 322.0820007324219, 480.3379211425781, 810.2457885742188, 638.2294921875, 758.2326049804688, 2414.496337890625, 1611.3831787109375, 2465.1708984375, 844.4717407226562, 769.4628295898438, 822.0377807617188, 1242.3797607421875, 1365.6917724609375, 1225.205322265625, 1038.654296875, 998.2861938476562, 1070.1182861328125, 883.1279296875, 920.2162475585938, 830.8523559570312, 841.5009765625, 1238.6954345703125, 318.1986999511719, 654.8041381835938, 218.84024047851562, 251.15518188476562, 179.26138305664062, 148.08287048339844, 238.52273559570312, 147.64590454101562, 140.35255432128906, 142.02621459960938, 150.34121704101562, 186.94967651367188, 129.91929626464844, 107.80181121826172, 134.60015869140625, 273.3338928222656, 170.23013305664062, 94.89086151123047, 89.8394775390625, 90.30455780029297, 97.02941131591797, 86.57251739501953, 82.28746032714844, 81.03556060791016, 81.59524536132812, 741.9031372070312, 83.53334045410156, 77.40673065185547, 94.25863647460938, 1472.219970703125, 443.71209716796875, 203.229736328125, 195.8673095703125, 1976.4134521484375, 111.18687438964844, 438.7244873046875, 408.6094055175781, 497.6859436035156, 1004.1370849609375, 695.1159057617188, 1948.1473388671875, 347.5650329589844, 272.24822998046875, 365.2331237792969, 240.76544189453125, 1502.7799072265625, 245.25547790527344, 262.7911376953125, 300.22723388671875, 1487.6895751953125, 440.4549255371094, 1023.20654296875, 423.21783447265625, 1026.2271728515625, 1344.1597900390625, 1177.711181640625, 479.6758117675781, 2885.31982421875, 519.9840087890625, 338.23590087890625, 3212.4033203125, 417.0203857421875, 1165.7828369140625, 1337.8175048828125, 594.6952514648438, 1565.06787109375, 821.210693359375, 826.4744873046875, 727.255126953125, 1417.5660400390625, 805.8656005859375, 2093.530029296875, 776.8699340820312, 1102.4564208984375, 1231.518798828125, 923.8385620117188, 789.1327514648438, 965.6701049804688, 1028.31982421875, 973.7540893554688, 925.8972778320312, 850.3101196289062, 817.4005737304688, 936.3699951171875, 535.342041015625, 1261.7177734375, 316.5883483886719, 158.6121826171875, 178.5891876220703, 257.3078918457031, 163.78489685058594, 167.6251678466797, 134.99485778808594, 136.466064453125, 113.82025146484375, 112.70573425292969, 114.0059585571289, 172.540283203125, 105.43342590332031, 103.31964874267578, 92.28571319580078, 89.91627502441406, 409.87420654296875, 109.5577392578125, 86.76509857177734, 86.1124038696289, 86.98159790039062, 78.99273681640625, 76.5013198852539, 129.59266662597656, 87.490478515625, 73.13166046142578, 80.48168182373047, 652.7403564453125, 369.97906494140625, 1100.0673828125, 1364.566162109375, 338.5361328125, 223.438720703125, 223.58554077148438, 127.17269134521484, 4306.12109375, 1006.4422607421875, 646.8408203125, 248.7071533203125, 1107.296142578125, 456.2763671875, 542.65673828125, 167.05955505371094, 595.2114868164062, 458.3111572265625, 465.62371826171875, 437.06439208984375, 242.11431884765625, 805.2120361328125, 1107.1090087890625, 841.4212646484375, 363.59735107421875, 562.2513427734375, 763.4788208007812, 742.8125610351562, 793.7618408203125, 725.9776000976562, 865.4297485351562, 845.5029296875, 901.0106811523438, 822.108154296875, 2675.859375, 1741.308837890625, 1338.6529541015625, 1635.330078125, 2830.215576171875, 900.7766723632812, 1602.900634765625, 2032.8035888671875, 1990.802734375, 1688.626220703125, 2032.68798828125, 1260.5859375, 1236.94482421875, 985.5599365234375, 1192.8228759765625, 908.69677734375, 992.4364013671875, 927.3680419921875, 958.1136474609375, 908.43310546875, 894.4494018554688, 372.8921813964844, 295.7533874511719, 171.2734375, 125.29523468017578, 114.43318939208984, 114.37203216552734, 103.97186279296875, 101.91720581054688, 112.3626708984375, 97.1524429321289, 92.07643127441406, 89.73627471923828, 83.95439910888672, 76.7308349609375, 75.54579162597656, 75.38520050048828, 71.20704650878906, 98.6413345336914, 61.34312057495117, 83.96846771240234, 59.24968719482422, 56.18971252441406, 57.48659133911133, 54.95146179199219, 53.70208740234375, 53.255157470703125, 56.607086181640625, 50.467620849609375, 49.480308532714844, 47.3182487487793, 5368.5283203125, 1170.7501220703125, 453.5460205078125, 212.52027893066406, 133.9423065185547, 119.73892211914062, 1440.77685546875, 428.2999267578125, 833.2942504882812, 100.20240020751953, 1874.77783203125, 1853.8424072265625, 2328.73583984375, 2947.36669921875, 359.61712646484375, 949.056396484375, 1094.3983154296875, 1908.2767333984375, 408.1445617675781, 535.0055541992188, 614.127197265625, 720.5592041015625, 1304.432373046875, 444.93695068359375, 580.5923461914062, 938.32958984375, 409.237060546875, 272.28192138671875, 229.37326049804688, 693.3861694335938, 640.8719482421875, 866.742919921875, 656.1668090820312, 2421.202392578125, 861.0267333984375, 976.0830688476562, 808.5211181640625, 2725.58984375, 768.0869750976562, 2888.3251953125, 2299.513916015625, 1130.2425537109375, 1182.2578125, 847.5531616210938, 820.84521484375, 881.7786865234375, 748.6873779296875, 859.0117797851562, 793.008544921875, 815.9615478515625, 395.1206970214844, 146.24301147460938, 124.20733642578125, 502.0574035644531, 115.13250732421875, 114.9024887084961, 111.214599609375, 110.2369613647461, 110.4705810546875, 108.03748321533203, 109.94219207763672, 109.49272918701172, 101.72814178466797, 111.6421127319336, 184.92681884765625, 93.5801773071289, 90.9655990600586, 90.73674774169922, 86.00646209716797, 85.89833068847656, 89.03593444824219, 82.31259155273438, 88.25235748291016, 78.66326904296875, 74.4332275390625, 73.96369934082031, 75.18872833251953, 72.38744354248047, 69.34105682373047, 74.66532897949219, 368.45819091796875, 2026.5374755859375, 256.7452697753906, 165.17532348632812, 134.37649536132812, 330.593994140625, 99.39073944091797, 226.82015991210938, 139.8567352294922, 2033.56640625, 201.6953582763672, 141.1262664794922, 142.8611297607422, 194.14068603515625, 143.19664001464844, 256.504638671875, 2049.5771484375, 897.5762939453125, 230.38697814941406, 419.7804870605469, 428.3898010253906, 154.2429962158203, 144.7737274169922, 192.81654357910156, 215.6289825439453, 337.3728942871094, 407.18206787109375, 568.5875244140625, 549.6497192382812, 226.7528839111328, 436.33087158203125, 638.7029418945312, 200.7480010986328, 249.40745544433594, 377.70928955078125, 997.3223266601562, 687.6773681640625, 576.779296875, 1689.264892578125, 736.9713134765625, 685.739990234375, 341.2160339355469, 399.535400390625, 1482.57275390625, 606.7200927734375, 760.130126953125, 549.2045288085938, 607.9257202148438, 476.6706237792969, 604.548828125, 744.5408325195312, 508.496337890625, 505.59747314453125, 545.3331909179688, 559.2684326171875, 488.83599853515625, 472.894775390625, 484.0731201171875, 469.8956604003906, 2018.545166015625, 737.0194091796875, 433.4742431640625, 478.3769836425781, 405.08734130859375, 220.5071258544922, 517.6790771484375, 203.50543212890625, 193.64852905273438, 287.1997375488281, 193.984130859375, 177.66159057617188, 160.85523986816406, 163.96372985839844, 164.94842529296875, 163.0591278076172, 147.1983184814453, 158.5434112548828, 157.44398498535156, 137.19728088378906, 151.86109924316406, 131.4836883544922, 121.83319854736328, 114.98941802978516, 113.52722930908203, 116.8469009399414, 111.57369995117188, 111.31507110595703, 106.65031433105469, 107.21053314208984, 164.5082244873047, 143.1990203857422, 120.5321044921875, 391.1300354003906, 262.2862548828125, 134.43287658691406, 381.38629150390625, 240.61203002929688, 588.2601928710938, 183.8001708984375, 705.4984741210938, 204.1006622314453, 1606.2454833984375, 337.6343994140625, 610.1267700195312, 440.1652526855469, 306.66192626953125, 242.96778869628906, 214.61834716796875, 414.6427001953125, 701.4580078125, 248.3770751953125, 273.55963134765625, 684.684814453125, 1440.0318603515625, 306.23065185546875, 274.0809326171875, 296.2199401855469, 332.7607421875, 1080.9259033203125, 852.944580078125, 453.4608459472656, 389.04278564453125, 554.2345581054688, 466.6809387207031, 626.1357421875, 469.4571838378906, 776.8958129882812, 557.5955810546875, 599.3117065429688, 561.1350708007812, 546.7667846679688, 519.8358764648438, 512.6936645507812, 489.4432678222656, 498.8479309082031, 450.27471923828125, 447.0994567871094, 313.7424621582031, 281.1964416503906, 373.07305908203125, 3229.34326171875, 222.23536682128906, 212.72073364257812, 198.7243194580078, 171.17910766601562, 161.91062927246094, 152.6048583984375, 173.5518798828125, 113.90252685546875, 149.98696899414062, 111.14933776855469, 109.29619598388672, 93.632080078125, 101.14154815673828, 91.80648803710938, 86.40840911865234, 89.12557220458984, 96.33721923828125, 82.67107391357422, 82.14682006835938, 81.53823852539062, 89.09941864013672, 78.99584197998047, 78.99227142333984, 107.2929916381836, 77.57644653320312, 74.73151397705078, 102.88877868652344, 91.91442108154297, 108.2763900756836, 282.47576904296875, 137.2034149169922, 292.71142578125, 141.26470947265625, 130.26419067382812, 176.0038299560547, 209.5133514404297, 251.79591369628906, 852.2045288085938, 290.18731689453125, 353.15191650390625, 485.4939880371094, 279.52825927734375, 252.8605499267578, 1821.6156005859375, 333.3615417480469, 733.1947631835938, 328.30584716796875, 211.08145141601562, 247.06900024414062, 269.89862060546875, 426.69085693359375, 386.491455078125, 626.177001953125, 1182.313720703125, 1178.2509765625, 544.6741333007812, 683.8314819335938, 881.4425659179688, 490.72015380859375, 627.4472045898438, 852.7842407226562, 579.8831787109375, 517.8357543945312, 561.786376953125, 479.3522033691406, 546.6779174804688, 688.2789916992188, 474.5357971191406, 456.0675048828125, 422.84027099609375, 388.4393005371094, 390.55072021484375, 375.06597900390625, 370.2664794921875, 2644.77001953125, 386.3012390136719, 378.88311767578125, 146.79461669921875, 139.3697509765625, 107.21436309814453, 101.54656982421875, 99.89472961425781, 95.15103912353516, 95.20552825927734, 129.80430603027344, 89.46794128417969, 86.49588012695312, 83.96636962890625, 93.88267517089844, 80.09302520751953, 78.28471374511719, 78.56517791748047, 106.97366333007812, 74.88632202148438, 69.81369018554688, 1226.2713623046875, 97.1836166381836, 68.20327758789062, 70.3742446899414, 61.964149475097656, 297.9287109375, 60.33967971801758, 64.32617950439453, 548.4765625, 342.23870849609375, 366.6591491699219, 139.79080200195312, 339.2460021972656, 112.37003326416016, 496.2923583984375, 541.203369140625, 278.6302185058594, 654.8863525390625, 267.9043884277344, 145.6148681640625, 356.4010009765625, 2563.24072265625, 136.77557373046875, 190.11557006835938, 304.443359375, 125.73472595214844, 702.34814453125, 484.93658447265625, 623.7805786132812, 810.1740112304688, 331.7139892578125, 221.56544494628906, 244.11749267578125, 243.14891052246094, 645.773681640625, 302.9486389160156, 1061.6365966796875, 600.0240478515625, 582.19580078125, 328.8623352050781, 316.8022155761719, 501.6041259765625, 610.982177734375, 1254.3095703125, 1275.73583984375, 1212.702880859375, 608.6676635742188, 969.541748046875, 543.5364990234375, 846.605712890625, 569.3421630859375, 579.8565063476562, 587.8425903320312, 505.7841491699219, 515.2418823242188, 474.6671447753906, 3677.692138671875, 1881.0225830078125, 1696.5352783203125, 1305.87890625, 1330.7930908203125, 489.50433349609375, 395.8089599609375, 337.9426574707031, 322.5723571777344, 280.50616455078125, 277.2804870605469, 232.8331756591797, 216.56924438476562, 166.14013671875, 140.1604461669922, 134.5294952392578, 134.1069793701172, 138.56362915039062, 156.049560546875, 109.35063171386719, 420.5538330078125, 109.3402328491211, 104.98602294921875, 101.19258117675781, 100.04388427734375, 101.54316711425781, 96.11608123779297, 103.1711654663086, 83.404541015625, 77.70121765136719, 418.1253967285156, 415.414306640625, 513.6331176757812, 380.7240295410156, 198.85186767578125, 128.6304473876953, 327.3424072265625, 525.6688232421875, 571.4592895507812, 707.7177734375, 720.1597900390625, 251.96316528320312, 569.795166015625, 666.162841796875, 295.81231689453125, 367.08514404296875, 375.19091796875, 662.7705078125, 442.36328125, 327.1250915527344, 881.3323364257812, 1272.4759521484375, 509.5969543457031, 585.3663330078125, 833.8642578125, 729.101806640625, 486.2983093261719, 534.2241821289062, 812.2606811523438, 615.8679809570312, 685.1134033203125, 538.3003540039062, 612.847412109375, 518.9066772460938, 452.73651123046875, 455.3218688964844, 4007.882080078125, 1158.0714111328125, 566.9523315429688, 409.53955078125, 357.12811279296875, 364.283447265625, 1969.0872802734375, 253.8808135986328, 212.50071716308594, 193.32911682128906, 180.63937377929688, 159.91818237304688, 147.91310119628906, 140.7452850341797, 138.62693786621094, 124.04488372802734, 121.58624267578125, 126.68696594238281, 110.82527923583984, 116.46067810058594, 102.49853515625, 102.32723236083984, 102.32640838623047, 98.8370132446289, 98.03510284423828, 97.26370239257812, 96.47553253173828, 93.42127227783203, 93.2480697631836, 17381.359375, 1269.89892578125, 1375.3834228515625, 390.1530456542969, 576.0693359375, 794.64794921875, 336.0509338378906, 1014.0501708984375, 242.38352966308594, 443.96600341796875, 435.7390441894531, 432.91204833984375, 480.8467712402344, 403.7265625, 492.8880310058594, 213.9136505126953, 535.2291870117188, 397.5730895996094, 348.9324035644531, 984.8844604492188, 487.2886047363281, 511.4593811035156, 557.1189575195312, 559.8980102539062, 475.0379943847656, 392.1576232910156, 365.448486328125, 373.07574462890625, 542.6670532226562, 234.65846252441406, 186.3538055419922, 145.1678466796875, 129.52801513671875, 224.04649353027344, 120.25157928466797, 113.11305236816406, 154.2286834716797, 105.5689697265625, 104.46479034423828, 120.68597412109375, 176.53289794921875, 86.14045715332031, 93.20880889892578, 81.20571899414062, 80.0148696899414, 77.99922180175781, 80.1987075805664, 84.72177124023438, 71.59475708007812, 71.3379898071289, 70.45484924316406, 69.81390380859375, 85.09622955322266, 69.00281524658203, 70.77159881591797, 72.21626281738281, 67.06346893310547, 91.56410217285156, 855.1727905273438, 135.9817657470703, 126.91831970214844, 268.6667175292969, 94.02043151855469, 77.48419189453125, 116.06301879882812, 82.4393081665039, 125.26904296875, 100.60423278808594, 96.45136260986328, 148.50660705566406, 446.5967102050781, 131.46206665039062, 179.2345733642578, 651.87109375, 429.99688720703125, 139.4764862060547, 146.09217834472656, 166.52273559570312, 320.8166198730469, 452.722412109375, 403.9482727050781, 187.647216796875, 1468.6649169921875, 399.2528076171875, 197.76080322265625, 226.8780059814453, 583.1754150390625, 248.99940490722656, 478.1635437011719, 241.9998321533203, 194.27951049804688, 370.1567077636719, 262.7162170410156, 626.2920532226562, 277.98858642578125, 218.63690185546875, 248.0170135498047, 271.4164733886719, 303.6877136230469, 291.8097839355469, 252.25189208984375, 288.8680725097656, 260.2737731933594, 240.69631958007812, 230.9364776611328, 229.56832885742188, 177.88087463378906, 153.82814025878906, 148.87046813964844, 112.91849517822266, 121.297607421875, 98.95221710205078, 96.47251892089844, 160.8276824951172, 93.87242889404297, 92.73609924316406, 90.24319458007812, 88.38310241699219, 84.82057189941406, 86.71333312988281, 82.48979187011719, 86.8564453125, 80.43577575683594, 84.40272521972656, 75.75009155273438, 75.08040618896484, 71.97429656982422, 71.33588409423828, 74.0988998413086, 70.33341217041016, 69.04161071777344, 68.5141830444336, 67.03350830078125, 65.85979461669922, 63.32029342651367, 64.48036193847656, 699.31005859375, 146.82530212402344, 141.70150756835938, 106.5019760131836, 273.8040771484375, 388.3302001953125, 115.24898529052734, 145.3715057373047, 179.4120330810547, 436.3638916015625, 204.00033569335938, 141.4477081298828, 476.15911865234375, 392.2389831542969, 158.99388122558594, 139.02398681640625, 128.50416564941406, 532.9662475585938, 235.20745849609375, 846.2131958007812, 282.5442810058594, 270.56878662109375, 167.48385620117188, 127.97591400146484, 185.6103515625, 219.5506134033203, 153.1678009033203, 243.29519653320312, 283.7655944824219, 273.452392578125, 746.1998291015625, 392.2965393066406, 278.6018981933594, 185.90679931640625, 219.7759246826172, 197.8606719970703, 157.6199493408203], \"Total\": [17581.0, 23812.0, 12113.0, 5542.0, 4011.0, 7803.0, 3679.0, 10689.0, 7931.0, 4566.0, 14831.0, 8575.0, 3244.0, 2653.0, 6459.0, 3743.0, 3129.0, 21064.0, 11644.0, 7689.0, 4105.0, 3998.0, 3469.0, 5478.0, 5085.0, 1976.0, 1919.0, 2773.0, 4531.0, 3214.0, 321.2223205566406, 248.14874267578125, 383.11676025390625, 215.60986328125, 189.5088653564453, 191.94459533691406, 188.11790466308594, 191.87130737304688, 175.40989685058594, 212.586669921875, 164.6530303955078, 162.7351531982422, 162.3033447265625, 204.5878448486328, 154.32696533203125, 160.87005615234375, 381.4565734863281, 129.25108337402344, 156.0270538330078, 134.7994384765625, 129.21180725097656, 133.6515655517578, 128.64988708496094, 125.04400634765625, 205.4323272705078, 119.11541748046875, 117.76210021972656, 164.6072235107422, 117.79930114746094, 108.87626647949219, 1269.96533203125, 1501.49755859375, 610.974853515625, 6459.63427734375, 309.8180236816406, 1347.7083740234375, 451.59295654296875, 209.09942626953125, 23812.083984375, 422.070556640625, 745.2640380859375, 379.8710021972656, 12113.333984375, 454.507080078125, 442.944580078125, 10689.552734375, 3164.6708984375, 3824.8046875, 4131.9013671875, 5478.3955078125, 1248.8431396484375, 741.5523071289062, 398.5434875488281, 1005.7416381835938, 1786.22802734375, 1310.1239013671875, 1249.3607177734375, 2786.293212890625, 2732.122802734375, 2697.04248046875, 1599.3193359375, 2064.998046875, 2568.30615234375, 1871.04541015625, 8575.0048828125, 1077.289306640625, 10131.55859375, 3109.116455078125, 3059.2978515625, 28474.25, 2862.767578125, 2675.656494140625, 11644.4931640625, 21064.7734375, 19878.505859375, 2882.470947265625, 14285.86328125, 7957.044921875, 4531.0380859375, 7585.69580078125, 6696.10498046875, 9090.3720703125, 8826.767578125, 5158.4384765625, 5868.52734375, 1301.70166015625, 356.3892517089844, 383.0482482910156, 328.1094665527344, 265.656005859375, 244.60202026367188, 533.4503173828125, 559.7620849609375, 1083.1019287109375, 218.25669860839844, 159.23764038085938, 1485.7293701171875, 149.17930603027344, 209.70469665527344, 163.8271942138672, 187.57798767089844, 141.89581298828125, 138.34024047851562, 114.24742889404297, 137.22955322265625, 114.16986083984375, 111.54045104980469, 128.92234802246094, 443.4272766113281, 1093.3699951171875, 106.1307144165039, 89.55059814453125, 92.17992401123047, 111.74347686767578, 87.2547836303711, 626.6064453125, 572.860107421875, 550.18359375, 3469.5146484375, 205.82176208496094, 212.02743530273438, 214.5216827392578, 3998.2333984375, 719.0027465820312, 1793.1087646484375, 1434.3828125, 494.96197509765625, 496.62200927734375, 993.541748046875, 336.8963623046875, 1332.4647216796875, 7803.2490234375, 1535.52197265625, 906.7360229492188, 1622.285888671875, 4981.09814453125, 1656.80078125, 3164.09619140625, 2448.142822265625, 1462.033203125, 5066.94873046875, 2616.73828125, 14831.341796875, 6619.7568359375, 2648.55419921875, 19878.505859375, 21064.7734375, 4317.4833984375, 6380.43994140625, 7882.880859375, 7931.23046875, 28474.25, 10174.166015625, 4904.00390625, 10014.611328125, 9090.3720703125, 6502.9912109375, 14285.86328125, 8483.6904296875, 4961.697265625, 255.51573181152344, 343.41595458984375, 180.9176025390625, 184.95449829101562, 173.10511779785156, 169.36965942382812, 170.2645721435547, 173.79116821289062, 172.4131317138672, 163.93695068359375, 139.29661560058594, 190.12484741210938, 135.6090087890625, 140.99307250976562, 117.51029205322266, 131.80148315429688, 120.77092742919922, 106.09236907958984, 109.81537628173828, 109.36417388916016, 99.45036315917969, 108.03816223144531, 98.85191345214844, 111.40011596679688, 94.04271697998047, 88.40872192382812, 89.23052215576172, 82.66849517822266, 83.03022003173828, 81.58744812011719, 1461.51513671875, 177.16786193847656, 156.98724365234375, 154.6046905517578, 160.3212432861328, 1147.7752685546875, 158.48779296875, 542.6058349609375, 461.2745666503906, 233.55035400390625, 233.32928466796875, 4105.7421875, 454.40093994140625, 392.9866027832031, 1108.19287109375, 1284.9693603515625, 2243.59228515625, 1347.730224609375, 2001.48095703125, 812.2539672851562, 4531.0380859375, 1134.8038330078125, 7931.23046875, 3832.07568359375, 8575.0048828125, 1156.767333984375, 420.7584533691406, 1767.2359619140625, 667.675537109375, 338.50738525390625, 7803.2490234375, 2630.00390625, 349.67962646484375, 1778.131591796875, 2558.78173828125, 426.3096923828125, 813.1740112304688, 1939.8580322265625, 1345.9720458984375, 2097.6083984375, 23812.083984375, 10689.552734375, 28474.25, 3109.116455078125, 2515.970458984375, 3077.0322265625, 10131.55859375, 19878.505859375, 14285.86328125, 8483.6904296875, 7957.044921875, 12113.333984375, 5478.3955078125, 11644.4931640625, 4141.21240234375, 6702.2255859375, 1240.76171875, 319.22320556640625, 657.2569580078125, 219.82870483398438, 252.34066772460938, 180.37142944335938, 149.07131958007812, 240.15919494628906, 148.6690673828125, 141.34100341796875, 143.0667266845703, 151.46412658691406, 188.4582977294922, 131.0600128173828, 108.8171157836914, 135.86935424804688, 276.1092834472656, 171.98341369628906, 95.897705078125, 90.8298110961914, 91.31775665283203, 98.13420867919922, 87.56099700927734, 83.28710174560547, 82.02403259277344, 82.6042709350586, 751.2093505859375, 84.59114837646484, 78.42013549804688, 95.51860809326172, 1521.7265625, 453.23370361328125, 206.4689483642578, 199.58164978027344, 2061.570068359375, 112.69586944580078, 453.5275573730469, 425.5004577636719, 520.3777465820312, 1066.18505859375, 747.4109497070312, 2187.62255859375, 375.420654296875, 289.98370361328125, 399.91571044921875, 254.62831115722656, 1913.4071044921875, 261.7186279296875, 283.9617919921875, 330.4193115234375, 2197.549560546875, 532.2057495117188, 1489.7020263671875, 511.87347412109375, 1530.0838623046875, 2215.167236328125, 1997.8184814453125, 629.7168579101562, 7689.63427734375, 734.6773681640625, 404.8858337402344, 14831.341796875, 582.4728393554688, 3612.677734375, 4646.0234375, 1116.0391845703125, 7882.880859375, 2140.443115234375, 2318.339111328125, 1791.6629638671875, 8483.6904296875, 2301.562744140625, 28474.25, 2274.791748046875, 6502.9912109375, 10174.166015625, 6619.7568359375, 3496.666259765625, 10014.611328125, 19878.505859375, 21064.7734375, 14285.86328125, 8826.767578125, 5085.63037109375, 937.5640869140625, 536.6513061523438, 1265.7928466796875, 317.6800231933594, 159.60415649414062, 179.72471618652344, 259.07421875, 164.99371337890625, 168.88021850585938, 136.04920959472656, 137.6113739013672, 114.80977630615234, 113.71856689453125, 115.06991577148438, 174.20834350585938, 106.46369934082031, 104.33702850341797, 93.27525329589844, 90.91004180908203, 414.4884033203125, 110.80812072753906, 87.760009765625, 87.1019287109375, 88.0002670288086, 80.01011657714844, 77.5002212524414, 131.2974395751953, 88.64845275878906, 74.1358871459961, 81.59199523925781, 663.9703979492188, 375.73675537109375, 1134.6719970703125, 1413.147705078125, 345.8333740234375, 227.73928833007812, 228.3011474609375, 129.12620544433594, 4566.48583984375, 1046.0745849609375, 668.4799194335938, 254.2709197998047, 1188.267333984375, 477.8294982910156, 573.009765625, 170.546875, 633.025390625, 489.26507568359375, 497.6500244140625, 477.8215637207031, 255.08543395996094, 951.5242919921875, 1359.2432861328125, 1002.6487426757812, 402.4063415527344, 662.8461303710938, 976.1041870117188, 947.6198120117188, 1031.974853515625, 941.1239624023438, 1201.7645263671875, 1205.4075927734375, 1360.66357421875, 1220.37451171875, 7689.63427734375, 4059.828125, 3065.97021484375, 5085.63037109375, 14831.341796875, 1860.7572021484375, 7882.880859375, 21064.7734375, 19878.505859375, 14285.86328125, 28474.25, 6619.7568359375, 8483.6904296875, 3530.005859375, 9090.3720703125, 3821.216796875, 10014.611328125, 6229.8046875, 10174.166015625, 7957.044921875, 6502.9912109375, 374.0012512207031, 296.7381591796875, 172.4956817626953, 126.2933120727539, 115.41792297363281, 115.3615951538086, 104.95661163330078, 102.90193176269531, 113.49932098388672, 98.13716888427734, 93.0611572265625, 90.74615478515625, 84.94380187988281, 77.71556091308594, 76.530517578125, 76.36992645263672, 72.19178009033203, 100.04064178466797, 62.33314895629883, 85.3568344116211, 60.24460220336914, 57.1744384765625, 58.50856399536133, 55.94101333618164, 54.687747955322266, 54.2401008605957, 57.674949645996094, 51.45233917236328, 50.47795486450195, 48.30717086791992, 5542.4912109375, 1203.494140625, 464.6763610839844, 218.828857421875, 137.35572814941406, 122.92127227783203, 1534.3421630859375, 446.1416320800781, 885.1936645507812, 102.76473236083984, 2108.88330078125, 2119.743408203125, 2773.939453125, 3743.17724609375, 408.0738525390625, 1177.559814453125, 1410.81494140625, 2654.05078125, 527.8096313476562, 729.3665161132812, 937.1091918945312, 1161.3726806640625, 2440.5615234375, 642.4193115234375, 911.77587890625, 1694.5909423828125, 593.0687255859375, 351.311767578125, 283.879638671875, 1339.3829345703125, 1320.68505859375, 2153.4609375, 1396.609375, 11644.4931640625, 2234.3203125, 2822.69482421875, 2017.5889892578125, 19878.505859375, 1872.6092529296875, 28474.25, 21064.7734375, 7585.69580078125, 14285.86328125, 4853.25537109375, 5158.4384765625, 7957.044921875, 3214.43017578125, 9090.3720703125, 6696.10498046875, 10174.166015625, 396.8180236816406, 147.22315979003906, 125.18824768066406, 506.12530517578125, 116.11267852783203, 115.88243103027344, 112.19931030273438, 111.2168960571289, 111.4681396484375, 109.05583190917969, 110.99092864990234, 110.54633331298828, 102.70807647705078, 112.75569915771484, 186.7875213623047, 94.57984161376953, 91.94554138183594, 91.73463439941406, 86.98640441894531, 86.8782730102539, 90.08037567138672, 83.29684448242188, 89.32821655273438, 79.64550018310547, 75.41316223144531, 74.94364166259766, 76.21529388427734, 73.37825012207031, 70.32181549072266, 75.73058319091797, 375.222412109375, 2105.236328125, 261.58416748046875, 167.93922424316406, 136.65834045410156, 339.3211669921875, 101.24055480957031, 237.81292724609375, 144.06544494628906, 2397.905029296875, 214.315673828125, 146.96656799316406, 149.22494506835938, 208.28639221191406, 150.995849609375, 286.71502685546875, 3214.43017578125, 1251.3668212890625, 261.6492614746094, 548.961181640625, 568.07568359375, 167.119384765625, 154.9268798828125, 220.93402099609375, 259.6165466308594, 461.55078125, 597.146240234375, 995.610107421875, 1087.8555908203125, 296.51507568359375, 847.8499145507812, 1694.5909423828125, 259.0072021484375, 371.3078918457031, 841.895263671875, 5158.4384765625, 2654.05078125, 2153.4609375, 21064.7734375, 3743.17724609375, 3449.88330078125, 739.8748168945312, 1129.5279541015625, 28474.25, 3945.88525390625, 8826.767578125, 3684.564453125, 6696.10498046875, 2675.656494140625, 7585.69580078125, 19878.505859375, 3897.774658203125, 4692.3740234375, 10174.166015625, 14285.86328125, 4419.2099609375, 5619.57177734375, 9090.3720703125, 10014.611328125, 2019.9908447265625, 738.1179809570312, 434.7115783691406, 479.771728515625, 406.6575012207031, 221.5123748779297, 520.1644897460938, 204.49806213378906, 194.68003845214844, 288.7620544433594, 195.04415893554688, 178.75665283203125, 161.86648559570312, 165.00851440429688, 166.00718688964844, 164.12123107910156, 148.19720458984375, 159.62368774414062, 158.6049041748047, 138.21861267089844, 153.00270080566406, 132.5784149169922, 122.86121368408203, 115.97570037841797, 114.5152359008789, 117.866943359375, 112.55985260009766, 112.30121612548828, 107.63758087158203, 108.20745086669922, 166.10545349121094, 144.58876037597656, 121.67652130126953, 399.67486572265625, 272.6990966796875, 137.42848205566406, 432.9875793457031, 262.778076171875, 733.2467651367188, 195.7100067138672, 956.3829345703125, 223.2714080810547, 2825.708740234375, 415.8138732910156, 974.3433837890625, 694.4659423828125, 416.7384338378906, 297.997314453125, 248.69686889648438, 726.5631713867188, 1832.775634765625, 339.6239318847656, 420.3698425292969, 2726.980712890625, 14831.341796875, 580.389404296875, 477.64703369140625, 590.4815673828125, 857.5736694335938, 28474.25, 14285.86328125, 2215.167236328125, 1412.561279296875, 4646.0234375, 2648.55419921875, 7882.880859375, 3065.97021484375, 19878.505859375, 6502.9912109375, 10174.166015625, 10014.611328125, 8826.767578125, 6702.2255859375, 6380.43994140625, 5619.57177734375, 21064.7734375, 3496.666259765625, 6229.8046875, 314.7947692871094, 282.3545837402344, 374.6212158203125, 3244.276611328125, 223.3057861328125, 213.78256225585938, 199.7436981201172, 172.20822143554688, 162.95648193359375, 153.89328002929688, 175.0606231689453, 114.89691925048828, 151.3129425048828, 112.13519287109375, 110.32208251953125, 94.61927795410156, 102.22266387939453, 92.7965087890625, 87.3985595703125, 90.15035247802734, 97.46233367919922, 83.66616821289062, 83.1359634399414, 82.52409362792969, 90.20932006835938, 79.99533081054688, 79.99285888671875, 108.67556762695312, 78.58153533935547, 75.72705841064453, 104.38668823242188, 93.30104064941406, 110.60257720947266, 302.34527587890625, 142.6344451904297, 325.3125305175781, 148.76730346679688, 137.278076171875, 192.7583465576172, 238.1104278564453, 294.0160217285156, 1455.22900390625, 385.42724609375, 511.22564697265625, 783.4487915039062, 393.00146484375, 346.09375, 5085.63037109375, 510.6700134277344, 1555.9822998046875, 511.90447998046875, 275.3409118652344, 348.1182861328125, 403.5009460449219, 1127.38037109375, 1062.807861328125, 3261.2138671875, 14285.86328125, 14831.341796875, 2822.69482421875, 5066.94873046875, 10014.611328125, 2919.32373046875, 6502.9912109375, 21064.7734375, 6229.8046875, 4828.4775390625, 6702.2255859375, 4419.2099609375, 7882.880859375, 28474.25, 5122.7548828125, 4904.00390625, 3960.343017578125, 2274.791748046875, 8483.6904296875, 6619.7568359375, 19878.505859375, 2653.2841796875, 387.7513427734375, 381.0423889160156, 147.89376831054688, 140.48951721191406, 108.2207260131836, 102.53668212890625, 100.88470458984375, 96.13909149169922, 96.20056915283203, 131.2504425048828, 90.46681213378906, 87.49092864990234, 84.95736694335938, 95.08998107910156, 81.12788391113281, 79.30247497558594, 79.59378814697266, 108.42105102539062, 75.91791534423828, 70.80921936035156, 1243.8646240234375, 98.58839416503906, 69.1927719116211, 71.42840576171875, 62.953125, 302.8077087402344, 61.33980178833008, 65.40402221679688, 557.8331909179688, 349.3567810058594, 374.5682067871094, 142.31668090820312, 349.1960144042969, 114.50745391845703, 514.1687622070312, 575.4488525390625, 291.8788757324219, 705.9270629882812, 282.6597900390625, 150.50619506835938, 385.4090881347656, 3129.611328125, 142.14996337890625, 202.75827026367188, 337.31072998046875, 130.32554626464844, 869.3944091796875, 580.4395141601562, 774.220703125, 1057.7694091796875, 388.0807800292969, 249.93759155273438, 283.6106872558594, 290.44921875, 1017.3590698242188, 391.10638427734375, 2049.31494140625, 1000.5293579101562, 1045.2489013671875, 464.6799621582031, 441.9483337402344, 943.794189453125, 1555.9822998046875, 7931.23046875, 14831.341796875, 28474.25, 3832.07568359375, 19878.505859375, 3065.97021484375, 21064.7734375, 4981.09814453125, 6178.58447265625, 10014.611328125, 6502.9912109375, 10174.166015625, 5674.82958984375, 3679.19140625, 1882.2890625, 1697.79248046875, 1307.1004638671875, 1332.4444580078125, 490.5299987792969, 396.93402099609375, 338.9794006347656, 323.6167297363281, 281.5263366699219, 278.2982482910156, 233.94183349609375, 217.87368774414062, 167.1474151611328, 141.18295288085938, 135.5380401611328, 135.1412811279297, 139.70697021484375, 157.3395233154297, 110.34263610839844, 424.4186096191406, 110.35101318359375, 106.01223754882812, 102.1904067993164, 101.07424926757812, 102.6039810180664, 97.12165069580078, 104.37841033935547, 84.39552307128906, 78.70265197753906, 425.7396545410156, 424.57281494140625, 527.8787231445312, 390.2461242675781, 204.36671447753906, 131.1269989013672, 361.7082214355469, 622.9482421875, 687.8032836914062, 922.1356201171875, 994.7479858398438, 290.82794189453125, 793.8524780273438, 981.3036499023438, 357.8800964355469, 469.8971862792969, 484.1471862792969, 1120.0592041015625, 641.9344482421875, 435.62255859375, 2361.14990234375, 4961.697265625, 1038.7943115234375, 1369.104248046875, 10014.611328125, 8483.6904296875, 1841.790283203125, 3261.2138671875, 28474.25, 7882.880859375, 14831.341796875, 3682.8359375, 10174.166015625, 4646.0234375, 3496.666259765625, 7689.63427734375, 4011.20361328125, 1159.7119140625, 568.0408935546875, 410.6176452636719, 358.17852783203125, 365.4355163574219, 1976.80859375, 254.90261840820312, 213.55322265625, 194.39134216308594, 181.68020629882812, 160.90875244140625, 148.9276885986328, 141.74436950683594, 139.6239776611328, 125.04508209228516, 122.64558410644531, 127.79635620117188, 111.81888580322266, 117.52447509765625, 103.49168395996094, 103.326904296875, 103.350341796875, 99.82780456542969, 99.02566528320312, 98.25428009033203, 97.49261474609375, 94.41184997558594, 94.27033996582031, 17581.3125, 1329.8499755859375, 1453.933349609375, 428.6725769042969, 654.7877197265625, 926.2752685546875, 377.6500549316406, 1383.0953369140625, 275.65582275390625, 618.2769775390625, 678.829345703125, 693.5407104492188, 910.5591430664062, 729.272216796875, 1253.6204833984375, 334.06640625, 2653.746826171875, 1412.561279296875, 1176.476806640625, 28474.25, 3612.677734375, 5085.63037109375, 7882.880859375, 11644.4931640625, 10174.166015625, 14285.86328125, 3065.97021484375, 10014.611328125, 543.74267578125, 235.70895385742188, 187.39707946777344, 146.15232849121094, 130.5236053466797, 225.88092041015625, 121.24365234375, 114.10213470458984, 155.60792541503906, 106.56371307373047, 105.45021057128906, 121.8689956665039, 178.4423828125, 87.12493896484375, 94.3148422241211, 82.19929504394531, 81.00140380859375, 78.98562622070312, 81.22062683105469, 85.85767364501953, 72.58001708984375, 72.32247161865234, 71.44766235351562, 70.80757904052734, 86.3170394897461, 69.99794006347656, 71.79447174072266, 73.27018737792969, 68.04794311523438, 92.91331481933594, 870.4960327148438, 138.0862579345703, 128.83045959472656, 275.072509765625, 95.45203399658203, 78.646240234375, 118.75260925292969, 84.0281753540039, 131.17115783691406, 104.20575714111328, 99.82898712158203, 162.41632080078125, 590.7973022460938, 144.29434204101562, 213.26504516601562, 1040.2880859375, 628.24658203125, 160.59686279296875, 170.61245727539062, 203.67291259765625, 523.389892578125, 1000.5000610351562, 922.107177734375, 280.21923828125, 11644.4931640625, 1132.287841796875, 339.49359130859375, 462.9706726074219, 3684.564453125, 588.5953979492188, 2562.637451171875, 556.2066650390625, 362.3719177246094, 1939.8580322265625, 902.5123901367188, 14285.86328125, 1539.3123779296875, 696.8053588867188, 1335.40380859375, 2675.656494140625, 8575.0048828125, 8826.767578125, 3897.774658203125, 28474.25, 10174.166015625, 10131.55859375, 19878.505859375, 6696.10498046875, 178.86846923828125, 154.81573486328125, 149.8656463623047, 113.90608978271484, 122.47351837158203, 99.95154571533203, 97.46011352539062, 162.48085021972656, 94.86002349853516, 93.72503662109375, 91.23174285888672, 89.3707046508789, 85.80888366699219, 87.7334213256836, 83.48258972167969, 87.90824890136719, 81.45144653320312, 85.4789810180664, 76.73986053466797, 76.11344146728516, 72.97222900390625, 72.32516479492188, 75.13468933105469, 71.3223648071289, 70.02921295166016, 69.50680541992188, 68.03376007080078, 66.84821319580078, 64.30789184570312, 65.51567840576172, 714.3291625976562, 149.3201141357422, 144.69998168945312, 108.66215515136719, 285.0302429199219, 409.48529052734375, 118.13530731201172, 150.47515869140625, 192.44268798828125, 499.9602355957031, 223.11953735351562, 153.49977111816406, 602.5743408203125, 491.72198486328125, 178.53466796875, 153.8419952392578, 144.0214080810547, 888.8129272460938, 323.5649719238281, 1919.1982421875, 439.590576171875, 440.5262451171875, 225.4031219482422, 151.3759307861328, 285.54791259765625, 410.6796875, 215.17877197265625, 596.8519287109375, 1185.3941650390625, 1176.476806640625, 21064.7734375, 12113.333984375, 28474.25, 1214.974853515625, 6380.43994140625, 19878.505859375, 648.4230346679688], \"Category\": [\"Default\", \"Default\", \"Default\", \"Default\", \"Default\", \"Default\", \"Default\", \"Default\", \"Default\", \"Default\", \"Default\", \"Default\", \"Default\", \"Default\", \"Default\", \"Default\", \"Default\", \"Default\", \"Default\", \"Default\", \"Default\", \"Default\", \"Default\", \"Default\", \"Default\", \"Default\", \"Default\", \"Default\", \"Default\", \"Default\", \"Topic1\", \"Topic1\", \"Topic1\", \"Topic1\", \"Topic1\", \"Topic1\", \"Topic1\", \"Topic1\", \"Topic1\", \"Topic1\", \"Topic1\", \"Topic1\", \"Topic1\", \"Topic1\", \"Topic1\", \"Topic1\", \"Topic1\", \"Topic1\", \"Topic1\", \"Topic1\", \"Topic1\", \"Topic1\", \"Topic1\", \"Topic1\", \"Topic1\", \"Topic1\", \"Topic1\", \"Topic1\", \"Topic1\", \"Topic1\", \"Topic1\", \"Topic1\", \"Topic1\", \"Topic1\", \"Topic1\", \"Topic1\", \"Topic1\", \"Topic1\", \"Topic1\", \"Topic1\", \"Topic1\", \"Topic1\", \"Topic1\", \"Topic1\", \"Topic1\", \"Topic1\", \"Topic1\", \"Topic1\", \"Topic1\", \"Topic1\", \"Topic1\", \"Topic1\", \"Topic1\", \"Topic1\", \"Topic1\", \"Topic1\", \"Topic1\", \"Topic1\", \"Topic1\", \"Topic1\", \"Topic1\", \"Topic1\", \"Topic1\", \"Topic1\", \"Topic1\", \"Topic1\", \"Topic1\", \"Topic1\", \"Topic1\", \"Topic1\", \"Topic1\", \"Topic1\", \"Topic1\", \"Topic1\", \"Topic1\", \"Topic1\", \"Topic1\", \"Topic1\", \"Topic1\", \"Topic1\", \"Topic1\", \"Topic1\", \"Topic1\", \"Topic1\", \"Topic1\", \"Topic2\", \"Topic2\", \"Topic2\", \"Topic2\", \"Topic2\", \"Topic2\", \"Topic2\", \"Topic2\", \"Topic2\", \"Topic2\", \"Topic2\", \"Topic2\", \"Topic2\", \"Topic2\", \"Topic2\", \"Topic2\", \"Topic2\", \"Topic2\", \"Topic2\", \"Topic2\", \"Topic2\", \"Topic2\", \"Topic2\", \"Topic2\", \"Topic2\", \"Topic2\", \"Topic2\", \"Topic2\", \"Topic2\", \"Topic2\", \"Topic2\", \"Topic2\", \"Topic2\", \"Topic2\", \"Topic2\", \"Topic2\", \"Topic2\", \"Topic2\", \"Topic2\", \"Topic2\", \"Topic2\", \"Topic2\", \"Topic2\", \"Topic2\", \"Topic2\", \"Topic2\", \"Topic2\", \"Topic2\", \"Topic2\", \"Topic2\", \"Topic2\", \"Topic2\", \"Topic2\", \"Topic2\", \"Topic2\", \"Topic2\", \"Topic2\", \"Topic2\", \"Topic2\", \"Topic2\", \"Topic2\", \"Topic2\", \"Topic2\", \"Topic2\", \"Topic2\", \"Topic2\", \"Topic2\", \"Topic2\", \"Topic2\", \"Topic2\", \"Topic2\", \"Topic2\", \"Topic2\", \"Topic2\", \"Topic2\", \"Topic3\", \"Topic3\", \"Topic3\", \"Topic3\", \"Topic3\", \"Topic3\", \"Topic3\", \"Topic3\", \"Topic3\", \"Topic3\", \"Topic3\", \"Topic3\", \"Topic3\", \"Topic3\", \"Topic3\", \"Topic3\", \"Topic3\", \"Topic3\", \"Topic3\", \"Topic3\", \"Topic3\", \"Topic3\", \"Topic3\", \"Topic3\", \"Topic3\", \"Topic3\", \"Topic3\", \"Topic3\", \"Topic3\", \"Topic3\", \"Topic3\", \"Topic3\", \"Topic3\", \"Topic3\", \"Topic3\", \"Topic3\", \"Topic3\", \"Topic3\", \"Topic3\", \"Topic3\", \"Topic3\", \"Topic3\", \"Topic3\", \"Topic3\", \"Topic3\", \"Topic3\", \"Topic3\", \"Topic3\", \"Topic3\", \"Topic3\", \"Topic3\", \"Topic3\", \"Topic3\", \"Topic3\", \"Topic3\", \"Topic3\", \"Topic3\", \"Topic3\", \"Topic3\", \"Topic3\", \"Topic3\", \"Topic3\", \"Topic3\", \"Topic3\", \"Topic3\", \"Topic3\", \"Topic3\", \"Topic3\", \"Topic3\", \"Topic3\", \"Topic3\", \"Topic3\", \"Topic3\", \"Topic3\", \"Topic3\", \"Topic3\", \"Topic3\", \"Topic3\", \"Topic3\", \"Topic3\", \"Topic3\", \"Topic3\", \"Topic3\", \"Topic3\", \"Topic3\", \"Topic3\", \"Topic4\", \"Topic4\", \"Topic4\", \"Topic4\", \"Topic4\", \"Topic4\", \"Topic4\", \"Topic4\", \"Topic4\", \"Topic4\", \"Topic4\", \"Topic4\", \"Topic4\", \"Topic4\", \"Topic4\", \"Topic4\", \"Topic4\", \"Topic4\", \"Topic4\", \"Topic4\", \"Topic4\", \"Topic4\", \"Topic4\", \"Topic4\", \"Topic4\", \"Topic4\", \"Topic4\", \"Topic4\", \"Topic4\", \"Topic4\", \"Topic4\", \"Topic4\", \"Topic4\", \"Topic4\", \"Topic4\", \"Topic4\", \"Topic4\", \"Topic4\", \"Topic4\", \"Topic4\", \"Topic4\", \"Topic4\", \"Topic4\", \"Topic4\", \"Topic4\", \"Topic4\", \"Topic4\", \"Topic4\", \"Topic4\", \"Topic4\", \"Topic4\", \"Topic4\", \"Topic4\", \"Topic4\", \"Topic4\", \"Topic4\", \"Topic4\", \"Topic4\", \"Topic4\", \"Topic4\", \"Topic4\", \"Topic4\", \"Topic4\", \"Topic4\", \"Topic4\", \"Topic4\", \"Topic4\", \"Topic4\", \"Topic4\", \"Topic4\", \"Topic4\", \"Topic4\", \"Topic4\", \"Topic4\", \"Topic4\", \"Topic4\", \"Topic4\", \"Topic4\", \"Topic4\", \"Topic4\", \"Topic4\", \"Topic4\", \"Topic4\", \"Topic4\", \"Topic5\", \"Topic5\", \"Topic5\", \"Topic5\", \"Topic5\", \"Topic5\", \"Topic5\", \"Topic5\", \"Topic5\", \"Topic5\", \"Topic5\", \"Topic5\", \"Topic5\", \"Topic5\", \"Topic5\", \"Topic5\", \"Topic5\", \"Topic5\", \"Topic5\", \"Topic5\", \"Topic5\", \"Topic5\", \"Topic5\", \"Topic5\", \"Topic5\", \"Topic5\", \"Topic5\", \"Topic5\", \"Topic5\", \"Topic5\", \"Topic5\", \"Topic5\", \"Topic5\", \"Topic5\", \"Topic5\", \"Topic5\", \"Topic5\", \"Topic5\", \"Topic5\", \"Topic5\", \"Topic5\", \"Topic5\", \"Topic5\", \"Topic5\", \"Topic5\", \"Topic5\", \"Topic5\", \"Topic5\", \"Topic5\", \"Topic5\", \"Topic5\", \"Topic5\", \"Topic5\", \"Topic5\", \"Topic5\", \"Topic5\", \"Topic5\", \"Topic5\", \"Topic5\", \"Topic5\", \"Topic5\", \"Topic5\", \"Topic5\", \"Topic5\", \"Topic5\", \"Topic5\", \"Topic5\", \"Topic5\", \"Topic5\", \"Topic5\", \"Topic5\", \"Topic5\", \"Topic5\", \"Topic5\", \"Topic5\", \"Topic5\", \"Topic5\", \"Topic5\", \"Topic5\", \"Topic5\", \"Topic5\", \"Topic5\", \"Topic5\", \"Topic5\", \"Topic5\", \"Topic6\", \"Topic6\", \"Topic6\", \"Topic6\", \"Topic6\", \"Topic6\", \"Topic6\", \"Topic6\", \"Topic6\", \"Topic6\", \"Topic6\", \"Topic6\", \"Topic6\", \"Topic6\", \"Topic6\", \"Topic6\", \"Topic6\", \"Topic6\", \"Topic6\", \"Topic6\", \"Topic6\", \"Topic6\", \"Topic6\", \"Topic6\", \"Topic6\", \"Topic6\", \"Topic6\", \"Topic6\", \"Topic6\", \"Topic6\", \"Topic6\", \"Topic6\", \"Topic6\", \"Topic6\", \"Topic6\", \"Topic6\", \"Topic6\", \"Topic6\", \"Topic6\", \"Topic6\", \"Topic6\", \"Topic6\", \"Topic6\", \"Topic6\", \"Topic6\", \"Topic6\", \"Topic6\", \"Topic6\", \"Topic6\", \"Topic6\", \"Topic6\", \"Topic6\", \"Topic6\", \"Topic6\", \"Topic6\", \"Topic6\", \"Topic6\", \"Topic6\", \"Topic6\", \"Topic6\", \"Topic6\", \"Topic6\", \"Topic6\", \"Topic6\", \"Topic6\", \"Topic6\", \"Topic6\", \"Topic6\", \"Topic6\", \"Topic6\", \"Topic6\", \"Topic6\", \"Topic6\", \"Topic6\", \"Topic6\", \"Topic6\", \"Topic6\", \"Topic6\", \"Topic6\", \"Topic6\", \"Topic7\", \"Topic7\", \"Topic7\", \"Topic7\", \"Topic7\", \"Topic7\", \"Topic7\", \"Topic7\", \"Topic7\", \"Topic7\", \"Topic7\", \"Topic7\", \"Topic7\", \"Topic7\", \"Topic7\", \"Topic7\", \"Topic7\", \"Topic7\", \"Topic7\", \"Topic7\", \"Topic7\", \"Topic7\", \"Topic7\", \"Topic7\", \"Topic7\", \"Topic7\", \"Topic7\", \"Topic7\", \"Topic7\", \"Topic7\", \"Topic7\", \"Topic7\", \"Topic7\", \"Topic7\", \"Topic7\", \"Topic7\", \"Topic7\", \"Topic7\", \"Topic7\", \"Topic7\", \"Topic7\", \"Topic7\", \"Topic7\", \"Topic7\", \"Topic7\", \"Topic7\", \"Topic7\", \"Topic7\", \"Topic7\", \"Topic7\", \"Topic7\", \"Topic7\", \"Topic7\", \"Topic7\", \"Topic7\", \"Topic7\", \"Topic7\", \"Topic7\", \"Topic7\", \"Topic7\", \"Topic7\", \"Topic7\", \"Topic7\", \"Topic7\", \"Topic7\", \"Topic7\", \"Topic7\", \"Topic7\", \"Topic7\", \"Topic7\", \"Topic7\", \"Topic7\", \"Topic7\", \"Topic7\", \"Topic7\", \"Topic7\", \"Topic7\", \"Topic7\", \"Topic7\", \"Topic7\", \"Topic7\", \"Topic7\", \"Topic7\", \"Topic7\", \"Topic7\", \"Topic7\", \"Topic7\", \"Topic7\", \"Topic7\", \"Topic8\", \"Topic8\", \"Topic8\", \"Topic8\", \"Topic8\", \"Topic8\", \"Topic8\", \"Topic8\", \"Topic8\", \"Topic8\", \"Topic8\", \"Topic8\", \"Topic8\", \"Topic8\", \"Topic8\", \"Topic8\", \"Topic8\", \"Topic8\", \"Topic8\", \"Topic8\", \"Topic8\", \"Topic8\", \"Topic8\", \"Topic8\", \"Topic8\", \"Topic8\", \"Topic8\", \"Topic8\", \"Topic8\", \"Topic8\", \"Topic8\", \"Topic8\", \"Topic8\", \"Topic8\", \"Topic8\", \"Topic8\", \"Topic8\", \"Topic8\", \"Topic8\", \"Topic8\", \"Topic8\", \"Topic8\", \"Topic8\", \"Topic8\", \"Topic8\", \"Topic8\", \"Topic8\", \"Topic8\", \"Topic8\", \"Topic8\", \"Topic8\", \"Topic8\", \"Topic8\", \"Topic8\", \"Topic8\", \"Topic8\", \"Topic8\", \"Topic8\", \"Topic8\", \"Topic8\", \"Topic8\", \"Topic8\", \"Topic8\", \"Topic8\", \"Topic8\", \"Topic8\", \"Topic8\", \"Topic8\", \"Topic8\", \"Topic8\", \"Topic8\", \"Topic8\", \"Topic8\", \"Topic8\", \"Topic8\", \"Topic8\", \"Topic8\", \"Topic8\", \"Topic9\", \"Topic9\", \"Topic9\", \"Topic9\", \"Topic9\", \"Topic9\", \"Topic9\", \"Topic9\", \"Topic9\", \"Topic9\", \"Topic9\", \"Topic9\", \"Topic9\", \"Topic9\", \"Topic9\", \"Topic9\", \"Topic9\", \"Topic9\", \"Topic9\", \"Topic9\", \"Topic9\", \"Topic9\", \"Topic9\", \"Topic9\", \"Topic9\", \"Topic9\", \"Topic9\", \"Topic9\", \"Topic9\", \"Topic9\", \"Topic9\", \"Topic9\", \"Topic9\", \"Topic9\", \"Topic9\", \"Topic9\", \"Topic9\", \"Topic9\", \"Topic9\", \"Topic9\", \"Topic9\", \"Topic9\", \"Topic9\", \"Topic9\", \"Topic9\", \"Topic9\", \"Topic9\", \"Topic9\", \"Topic9\", \"Topic9\", \"Topic9\", \"Topic9\", \"Topic9\", \"Topic9\", \"Topic9\", \"Topic9\", \"Topic9\", \"Topic9\", \"Topic9\", \"Topic9\", \"Topic9\", \"Topic9\", \"Topic9\", \"Topic9\", \"Topic9\", \"Topic9\", \"Topic9\", \"Topic9\", \"Topic9\", \"Topic9\", \"Topic9\", \"Topic9\", \"Topic9\", \"Topic9\", \"Topic9\", \"Topic9\", \"Topic9\", \"Topic9\", \"Topic10\", \"Topic10\", \"Topic10\", \"Topic10\", \"Topic10\", \"Topic10\", \"Topic10\", \"Topic10\", \"Topic10\", \"Topic10\", \"Topic10\", \"Topic10\", \"Topic10\", \"Topic10\", \"Topic10\", \"Topic10\", \"Topic10\", \"Topic10\", \"Topic10\", \"Topic10\", \"Topic10\", \"Topic10\", \"Topic10\", \"Topic10\", \"Topic10\", \"Topic10\", \"Topic10\", \"Topic10\", \"Topic10\", \"Topic10\", \"Topic10\", \"Topic10\", \"Topic10\", \"Topic10\", \"Topic10\", \"Topic10\", \"Topic10\", \"Topic10\", \"Topic10\", \"Topic10\", \"Topic10\", \"Topic10\", \"Topic10\", \"Topic10\", \"Topic10\", \"Topic10\", \"Topic10\", \"Topic10\", \"Topic10\", \"Topic10\", \"Topic10\", \"Topic10\", \"Topic10\", \"Topic10\", \"Topic10\", \"Topic10\", \"Topic10\", \"Topic10\", \"Topic10\", \"Topic10\", \"Topic10\", \"Topic10\", \"Topic10\", \"Topic10\", \"Topic10\", \"Topic10\", \"Topic10\", \"Topic10\", \"Topic10\", \"Topic10\", \"Topic10\", \"Topic10\", \"Topic10\", \"Topic10\", \"Topic10\", \"Topic10\", \"Topic10\", \"Topic11\", \"Topic11\", \"Topic11\", \"Topic11\", \"Topic11\", \"Topic11\", \"Topic11\", \"Topic11\", \"Topic11\", \"Topic11\", \"Topic11\", \"Topic11\", \"Topic11\", \"Topic11\", \"Topic11\", \"Topic11\", \"Topic11\", \"Topic11\", \"Topic11\", \"Topic11\", \"Topic11\", \"Topic11\", \"Topic11\", \"Topic11\", \"Topic11\", \"Topic11\", \"Topic11\", \"Topic11\", \"Topic11\", \"Topic11\", \"Topic11\", \"Topic11\", \"Topic11\", \"Topic11\", \"Topic11\", \"Topic11\", \"Topic11\", \"Topic11\", \"Topic11\", \"Topic11\", \"Topic11\", \"Topic11\", \"Topic11\", \"Topic11\", \"Topic11\", \"Topic11\", \"Topic11\", \"Topic11\", \"Topic11\", \"Topic11\", \"Topic11\", \"Topic11\", \"Topic11\", \"Topic11\", \"Topic11\", \"Topic11\", \"Topic11\", \"Topic11\", \"Topic11\", \"Topic11\", \"Topic11\", \"Topic11\", \"Topic11\", \"Topic11\", \"Topic11\", \"Topic11\", \"Topic12\", \"Topic12\", \"Topic12\", \"Topic12\", \"Topic12\", \"Topic12\", \"Topic12\", \"Topic12\", \"Topic12\", \"Topic12\", \"Topic12\", \"Topic12\", \"Topic12\", \"Topic12\", \"Topic12\", \"Topic12\", \"Topic12\", \"Topic12\", \"Topic12\", \"Topic12\", \"Topic12\", \"Topic12\", \"Topic12\", \"Topic12\", \"Topic12\", \"Topic12\", \"Topic12\", \"Topic12\", \"Topic12\", \"Topic12\", \"Topic12\", \"Topic12\", \"Topic12\", \"Topic12\", \"Topic12\", \"Topic12\", \"Topic12\", \"Topic12\", \"Topic12\", \"Topic12\", \"Topic12\", \"Topic12\", \"Topic12\", \"Topic12\", \"Topic12\", \"Topic12\", \"Topic12\", \"Topic12\", \"Topic12\", \"Topic12\", \"Topic12\", \"Topic12\", \"Topic12\", \"Topic12\", \"Topic12\", \"Topic12\", \"Topic12\", \"Topic13\", \"Topic13\", \"Topic13\", \"Topic13\", \"Topic13\", \"Topic13\", \"Topic13\", \"Topic13\", \"Topic13\", \"Topic13\", \"Topic13\", \"Topic13\", \"Topic13\", \"Topic13\", \"Topic13\", \"Topic13\", \"Topic13\", \"Topic13\", \"Topic13\", \"Topic13\", \"Topic13\", \"Topic13\", \"Topic13\", \"Topic13\", \"Topic13\", \"Topic13\", \"Topic13\", \"Topic13\", \"Topic13\", \"Topic13\", \"Topic13\", \"Topic13\", \"Topic13\", \"Topic13\", \"Topic13\", \"Topic13\", \"Topic13\", \"Topic13\", \"Topic13\", \"Topic13\", \"Topic13\", \"Topic13\", \"Topic13\", \"Topic13\", \"Topic13\", \"Topic13\", \"Topic13\", \"Topic13\", \"Topic13\", \"Topic13\", \"Topic13\", \"Topic13\", \"Topic13\", \"Topic13\", \"Topic13\", \"Topic13\", \"Topic13\", \"Topic13\", \"Topic13\", \"Topic13\", \"Topic13\", \"Topic13\", \"Topic13\", \"Topic13\", \"Topic13\", \"Topic13\", \"Topic13\", \"Topic13\", \"Topic13\", \"Topic13\", \"Topic13\", \"Topic13\", \"Topic13\", \"Topic13\", \"Topic13\", \"Topic13\", \"Topic13\", \"Topic13\", \"Topic14\", \"Topic14\", \"Topic14\", \"Topic14\", \"Topic14\", \"Topic14\", \"Topic14\", \"Topic14\", \"Topic14\", \"Topic14\", \"Topic14\", \"Topic14\", \"Topic14\", \"Topic14\", \"Topic14\", \"Topic14\", \"Topic14\", \"Topic14\", \"Topic14\", \"Topic14\", \"Topic14\", \"Topic14\", \"Topic14\", \"Topic14\", \"Topic14\", \"Topic14\", \"Topic14\", \"Topic14\", \"Topic14\", \"Topic14\", \"Topic14\", \"Topic14\", \"Topic14\", \"Topic14\", \"Topic14\", \"Topic14\", \"Topic14\", \"Topic14\", \"Topic14\", \"Topic14\", \"Topic14\", \"Topic14\", \"Topic14\", \"Topic14\", \"Topic14\", \"Topic14\", \"Topic14\", \"Topic14\", \"Topic14\", \"Topic14\", \"Topic14\", \"Topic14\", \"Topic14\", \"Topic14\", \"Topic14\", \"Topic14\", \"Topic14\", \"Topic14\", \"Topic14\", \"Topic14\", \"Topic14\", \"Topic14\", \"Topic14\", \"Topic14\", \"Topic14\", \"Topic14\", \"Topic14\"], \"logprob\": [30.0, 29.0, 28.0, 27.0, 26.0, 25.0, 24.0, 23.0, 22.0, 21.0, 20.0, 19.0, 18.0, 17.0, 16.0, 15.0, 14.0, 13.0, 12.0, 11.0, 10.0, 9.0, 8.0, 7.0, 6.0, 5.0, 4.0, 3.0, 2.0, 1.0, -7.488900184631348, -7.747200012207031, -7.313799858093262, -7.888700008392334, -8.017900466918945, -8.005200386047363, -8.025500297546387, -8.005800247192383, -8.095600128173828, -7.90369987487793, -8.159299850463867, -8.171099662780762, -8.173800468444824, -7.942399978637695, -8.22439956665039, -8.182999610900879, -7.3196001052856445, -8.402999877929688, -8.214900016784668, -8.361300468444824, -8.403599739074707, -8.369799613952637, -8.408300399780273, -8.436800003051758, -7.940400123596191, -8.48550033569336, -8.496999740600586, -8.162199974060059, -8.496800422668457, -8.576000213623047, -6.123000144958496, -5.966800212860107, -6.860599994659424, -4.527299880981445, -7.53439998626709, -6.079599857330322, -7.167300224304199, -7.928599834442139, -3.297100067138672, -7.243899822235107, -6.694200038909912, -7.348899841308594, -4.000999927520752, -7.179699897766113, -7.20989990234375, -4.157199859619141, -5.340400218963623, -5.171599864959717, -5.116099834442139, -4.865099906921387, -6.247499942779541, -6.741600036621094, -7.323299884796143, -6.4653000831604, -5.945400238037109, -6.2368998527526855, -6.287300109863281, -5.569499969482422, -5.619200229644775, -5.659800052642822, -6.111599922180176, -5.896100044250488, -5.743000030517578, -6.019700050354004, -4.782100200653076, -6.47790002822876, -4.736100196838379, -5.673699855804443, -5.7266998291015625, -4.146900177001953, -5.785999774932861, -5.861299991607666, -4.919899940490723, -4.642399787902832, -4.737299919128418, -5.84689998626709, -5.119100093841553, -5.4274001121521, -5.671199798583984, -5.523600101470947, -5.614500045776367, -5.535999774932861, -5.546599864959717, -5.7006001472473145, -5.845099925994873, -5.462399959564209, -6.758999824523926, -6.6869001388549805, -6.842700004577637, -7.054100036621094, -7.137199878692627, -6.357600212097168, -6.3094000816345215, -5.649799823760986, -7.251800060272217, -7.567999839782715, -5.334799766540527, -7.633699893951416, -7.293099880218506, -7.540200233459473, -7.404900074005127, -7.684199810028076, -7.7104997634887695, -7.902500152587891, -7.719200134277344, -7.903299808502197, -7.926700115203857, -7.782199859619141, -6.547999858856201, -5.646100044250488, -7.978499889373779, -8.148500442504883, -8.11970043182373, -7.9274001121521, -8.174699783325195, -6.204500198364258, -6.293700218200684, -6.334099769592285, -4.517600059509277, -7.31790018081665, -7.296199798583984, -7.285200119018555, -4.419000148773193, -6.112100124359131, -5.22760009765625, -5.451200008392334, -6.4893999099731445, -6.486599922180176, -5.837399959564209, -6.858500003814697, -5.593100070953369, -4.060400009155273, -5.524600028991699, -6.011000156402588, -5.564799785614014, -4.63539981842041, -5.574999809265137, -5.089099884033203, -5.334700107574463, -5.754799842834473, -4.96589994430542, -5.423299789428711, -4.365200042724609, -4.868100166320801, -5.473700046539307, -4.303100109100342, -4.294400215148926, -5.2133002281188965, -5.053400039672852, -5.037499904632568, -5.087399959564209, -4.586999893188477, -5.077899932861328, -5.335100173950195, -5.173500061035156, -5.278800010681152, -5.373300075531006, -5.327499866485596, -5.4430999755859375, -5.507599830627441, -6.898600101470947, -6.603899955749512, -7.245100021362305, -7.223100185394287, -7.2895002365112305, -7.311399936676025, -7.30620002746582, -7.285699844360352, -7.293799877166748, -7.344799995422363, -7.508200168609619, -7.198200225830078, -7.536200046539307, -7.497300148010254, -7.679500102996826, -7.564799785614014, -7.652900218963623, -7.782700061798096, -7.748499870300293, -7.752699851989746, -7.848100185394287, -7.765500068664551, -7.854700088500977, -7.735199928283691, -7.904799938201904, -7.966899871826172, -7.957699775695801, -8.034899711608887, -8.030599594116211, -8.048399925231934, -5.1666998863220215, -7.273900032043457, -7.394199848175049, -7.411099910736084, -7.377699851989746, -5.4492998123168945, -7.393599987030029, -6.234600067138672, -6.3958001136779785, -7.041100025177002, -7.053400039672852, -4.443699836730957, -6.456699848175049, -6.604100227355957, -5.695300102233887, -5.574900150299072, -5.111800193786621, -5.577000141143799, -5.2444000244140625, -6.020999908447266, -4.643799781799316, -5.794099807739258, -4.323500156402588, -4.894800186157227, -4.346700191497803, -5.867099761962891, -6.626999855041504, -5.592700004577637, -6.307700157165527, -6.804100036621094, -4.642000198364258, -5.395299911499023, -6.785999774932861, -5.702499866485596, -5.464799880981445, -6.662799835205078, -6.2631001472473145, -5.740300178527832, -5.978899955749512, -5.806600093841553, -4.648399829864502, -5.052800178527832, -4.627600193023682, -5.69890022277832, -5.791900157928467, -5.725900173187256, -5.312900066375732, -5.218200206756592, -5.3267998695373535, -5.492000102996826, -5.531599998474121, -5.462100028991699, -5.654200077056885, -5.61299991607666, -5.715199947357178, -5.702400207519531, -5.291900157928467, -6.651000022888184, -5.929299831390381, -7.025300025939941, -6.887599945068359, -7.224800109863281, -7.415900230407715, -6.939199924468994, -7.418900012969971, -7.4695000648498535, -7.457699775695801, -7.4008002281188965, -7.182799816131592, -7.546800136566162, -7.733399868011475, -7.51140022277832, -6.802999973297119, -7.276500225067139, -7.861000061035156, -7.9156999588012695, -7.9105000495910645, -7.838699817657471, -7.952700138092041, -8.003499984741211, -8.018799781799316, -8.011899948120117, -5.804500102996826, -7.988399982452393, -8.064599990844727, -7.867599964141846, -5.119200229644775, -6.31850004196167, -7.099299907684326, -7.136199951171875, -4.8246002197265625, -7.702499866485596, -6.329800128936768, -6.400899887084961, -6.203700065612793, -5.501800060272217, -5.86959981918335, -4.839099884033203, -6.562699794769287, -6.807000160217285, -6.5131001472473145, -6.929900169372559, -5.098599910736084, -6.911399841308594, -6.842299938201904, -6.709099769592285, -5.108699798583984, -6.325900077819824, -5.482999801635742, -6.365799903869629, -5.480000019073486, -5.21019983291626, -5.342400074005127, -6.240600109100342, -4.446300029754639, -6.159900188446045, -6.589900016784668, -4.338900089263916, -6.3805999755859375, -5.352499961853027, -5.214900016784668, -6.025599956512451, -5.058000087738037, -5.702899932861328, -5.696499824523926, -5.824399948120117, -5.1570000648498535, -5.721799850463867, -4.767099857330322, -5.758399963378906, -5.408400058746338, -5.297699928283691, -5.585100173950195, -5.742800235748291, -5.540900230407715, -5.478000164031982, -5.53249979019165, -5.582900047302246, -5.668099880218506, -5.707600116729736, -5.48799991607666, -6.047100067138672, -5.189799785614014, -6.572400093078613, -7.263599872589111, -7.144999980926514, -6.779799938201904, -7.231500148773193, -7.2083001136779785, -7.424799919128418, -7.414000034332275, -7.595399856567383, -7.605299949645996, -7.593800067901611, -7.1793999671936035, -7.671999931335449, -7.692200183868408, -7.805200099945068, -7.831200122833252, -6.314199924468994, -7.633600234985352, -7.866799831390381, -7.8744001388549805, -7.864299774169922, -7.960700035095215, -7.992700099945068, -7.46560001373291, -7.858500003814697, -8.037799835205078, -7.941999912261963, -5.848899841308594, -6.416600227355957, -5.326900005340576, -5.111499786376953, -6.50540018081665, -6.920899868011475, -6.920300006866455, -7.484499931335449, -3.9623000621795654, -5.415900230407715, -5.857900142669678, -6.813799858093262, -5.320400238037109, -6.206900119781494, -6.033599853515625, -7.211699962615967, -5.941100120544434, -6.202499866485596, -6.186699867248535, -6.25, -6.84060001373291, -5.638899803161621, -5.320499897003174, -5.59499979019165, -6.434000015258789, -5.9980998039245605, -5.692200183868408, -5.719600200653076, -5.653299808502197, -5.742499828338623, -5.566800117492676, -5.590099811553955, -5.526500225067139, -5.618199825286865, -4.438000202178955, -4.867700099945068, -5.1305999755859375, -4.9303998947143555, -4.381899833679199, -5.526800155639648, -4.950500011444092, -4.712900161743164, -4.733799934387207, -4.898399829864502, -4.712900161743164, -5.190700054168701, -5.20959997177124, -5.436800003051758, -5.245999813079834, -5.51800012588501, -5.429900169372559, -5.497700214385986, -5.465099811553955, -5.5183000564575195, -5.53380012512207, -6.144899845123291, -6.376699924468994, -6.922900199890137, -7.235499858856201, -7.326200008392334, -7.326700210571289, -7.422100067138672, -7.441999912261963, -7.3445000648498535, -7.4899001121521, -7.543600082397461, -7.569300174713135, -7.635900020599365, -7.725900173187256, -7.741399765014648, -7.743599891662598, -7.800600051879883, -7.474699974060059, -7.949699878692627, -7.635700225830078, -7.984399795532227, -8.037500381469727, -8.014599800109863, -8.059700012207031, -8.0826997756958, -8.091099739074707, -8.030099868774414, -8.14490032196045, -8.164600372314453, -8.20930004119873, -3.4779000282287598, -5.000800132751465, -5.949100017547607, -6.707200050354004, -7.168799877166748, -7.280900001525879, -4.793300151824951, -6.006400108337402, -5.340799808502197, -7.459000110626221, -4.529900074005127, -4.541200160980225, -4.3130998611450195, -4.077499866485596, -6.181099891662598, -5.210700035095215, -5.06820011138916, -4.512199878692627, -6.054599761962891, -5.783899784088135, -5.645999908447266, -5.486199855804443, -4.8927001953125, -5.968299865722656, -5.702099800109863, -5.222099781036377, -6.0518999099731445, -6.459400177001953, -6.630799770355225, -5.524600028991699, -5.603400230407715, -5.301400184631348, -5.579800128936768, -4.274199962615967, -5.30810022354126, -5.182600021362305, -5.370999813079834, -4.155700206756592, -5.422299861907959, -4.097799777984619, -4.325699806213379, -5.035999774932861, -4.991000175476074, -5.323800086975098, -5.355899810791016, -5.284200191497803, -5.44789981842041, -5.310400009155273, -5.390399932861328, -5.361800193786621, -6.0335001945495605, -7.027400016784668, -7.190700054168701, -5.794000148773193, -7.266600131988525, -7.268599987030029, -7.301199913024902, -7.309999942779541, -7.3078999519348145, -7.3302001953125, -7.312699794769287, -7.316800117492676, -7.390399932861328, -7.297399997711182, -6.792699813842773, -7.473899841308594, -7.502200126647949, -7.504700183868408, -7.558300018310547, -7.559500217437744, -7.523600101470947, -7.602200031280518, -7.53249979019165, -7.647500038146973, -7.7027997970581055, -7.709099769592285, -7.692699909210205, -7.730599880218506, -7.773600101470947, -7.699699878692627, -6.103400230407715, -4.398600101470947, -6.464600086212158, -6.905700206756592, -7.111999988555908, -6.2118000984191895, -7.413599967956543, -6.588500022888184, -7.0721001625061035, -4.395100116729736, -6.705900192260742, -7.063000202178955, -7.05079984664917, -6.744100093841553, -7.048500061035156, -6.4654998779296875, -4.38730001449585, -5.2129998207092285, -6.57289981842041, -5.972899913787842, -5.952600002288818, -6.9741997718811035, -7.037499904632568, -6.750899791717529, -6.639100074768066, -6.191500186920166, -6.003399848937988, -5.66949987411499, -5.703400135040283, -6.588799953460693, -5.934299945831299, -5.553199768066406, -6.710599899291992, -6.493599891662598, -6.07859992980957, -5.107600212097168, -5.479400157928467, -5.655200004577637, -4.580599784851074, -5.410099983215332, -5.4822001457214355, -6.180200099945068, -6.02239990234375, -4.711100101470947, -5.604599952697754, -5.379199981689453, -5.70419979095459, -5.60260009765625, -5.845900058746338, -5.6082000732421875, -5.399899959564209, -5.781199932098389, -5.786900043487549, -5.711299896240234, -5.686100006103516, -5.820700168609619, -5.853799819946289, -5.830399990081787, -5.860199928283691, -4.37060022354126, -5.3780999183654785, -5.908899784088135, -5.810299873352051, -5.976600170135498, -6.584799766540527, -5.731400012969971, -6.664999961853027, -6.714700222015381, -6.3206000328063965, -6.7129998207092285, -6.800899982452393, -6.900199890136719, -6.881100177764893, -6.875100135803223, -6.886600017547607, -6.988999843597412, -6.914700031280518, -6.9217000007629395, -7.059299945831299, -6.957799911499023, -7.101900100708008, -7.178100109100342, -7.235899925231934, -7.248700141906738, -7.219900131225586, -7.265999794006348, -7.268400192260742, -7.311200141906738, -7.3059000968933105, -6.877799987792969, -7.016499996185303, -7.188799858093262, -6.01170015335083, -6.411300182342529, -7.079699993133545, -6.036900043487549, -6.497499942779541, -5.603600025177002, -6.766900062561035, -5.421800136566162, -6.662099838256836, -4.599100112915039, -6.15880012512207, -5.5671000480651855, -5.893599987030029, -6.255000114440918, -6.487800121307373, -6.6118998527526855, -5.9532999992370605, -5.427599906921387, -6.465799808502197, -6.369200229644775, -5.4517998695373535, -4.7083001136779785, -6.256400108337402, -6.367300033569336, -6.289599895477295, -6.173299789428711, -4.995200157165527, -5.23199987411499, -5.863800048828125, -6.017000198364258, -5.663099765777588, -5.835100173950195, -5.541200160980225, -5.82919979095459, -5.325399875640869, -5.657100200653076, -5.585000038146973, -5.6508002281188965, -5.676700115203857, -5.727200031280518, -5.741099834442139, -5.787499904632568, -5.768400192260742, -5.8709001541137695, -5.877999782562256, -6.223800182342529, -6.333399772644043, -6.050600051879883, -3.892400026321411, -6.568699836730957, -6.612400054931641, -6.680500030517578, -6.829699993133545, -6.88539981842041, -6.9446001052856445, -6.815899848937988, -7.237100124359131, -6.961900234222412, -7.261499881744385, -7.278299808502197, -7.433000087738037, -7.355899810791016, -7.452700138092041, -7.513299942016602, -7.482399940490723, -7.404600143432617, -7.557499885559082, -7.563899993896484, -7.571300029754639, -7.482699871063232, -7.603000164031982, -7.603099822998047, -7.296800136566162, -7.621099948883057, -7.6585001945495605, -7.338799953460693, -7.451600074768066, -7.287700176239014, -6.328800201416016, -7.050899982452393, -6.2932000160217285, -7.0218000411987305, -7.102799892425537, -6.8018999099731445, -6.627600193023682, -6.44379997253418, -5.224599838256836, -6.3018999099731445, -6.105500221252441, -5.787199974060059, -6.339300155639648, -6.439599990844727, -4.464900016784668, -6.1631999015808105, -5.375, -6.178500175476074, -6.620200157165527, -6.462699890136719, -6.3744001388549805, -5.916299819946289, -6.0152997970581055, -5.532800197601318, -4.897200107574463, -4.900599956512451, -5.6722002029418945, -5.444699764251709, -5.190800189971924, -5.776500225067139, -5.530700206756592, -5.223899841308594, -5.609600067138672, -5.722799777984619, -5.641300201416016, -5.800000190734863, -5.668499946594238, -5.438199996948242, -5.810100078582764, -5.849800109863281, -5.9253997802734375, -6.010300159454346, -6.004899978637695, -6.045300006866455, -6.058199882507324, -3.8041999340057373, -5.72790002822876, -5.747300148010254, -6.695499897003174, -6.747399806976318, -7.009699821472168, -7.064000129699707, -7.080399990081787, -7.1290998458862305, -7.128499984741211, -6.81850004196167, -7.1905999183654785, -7.224400043487549, -7.2540998458862305, -7.142499923706055, -7.301300048828125, -7.32420015335083, -7.3206000328063965, -7.011899948120117, -7.368599891662598, -7.438700199127197, -4.572800159454346, -7.107900142669678, -7.461999893188477, -7.430699825286865, -7.558000087738037, -5.98769998550415, -7.584499835968018, -7.520599842071533, -5.377399921417236, -5.848999977111816, -5.780099868774414, -6.7444000244140625, -5.857800006866455, -6.962699890136719, -5.477399826049805, -5.390699863433838, -6.054599761962891, -5.200099945068359, -6.093900203704834, -6.70359992980957, -5.808499813079834, -3.8355000019073486, -6.766200065612793, -6.4369001388549805, -5.966000080108643, -6.850299835205078, -5.130099773406982, -5.500500202178955, -5.248700141906738, -4.987299919128418, -5.880199909210205, -6.28380012512207, -6.1869001388549805, -6.190800189971924, -5.214099884033203, -5.9710001945495605, -4.7170000076293945, -5.287600040435791, -5.317699909210205, -5.888899803161621, -5.926199913024902, -5.466700077056885, -5.269499778747559, -4.55019998550415, -4.533199787139893, -4.583899974822998, -5.273200035095215, -4.807700157165527, -5.38640022277832, -4.943299770355225, -5.340000152587891, -5.321700096130371, -5.30810022354126, -5.458399772644043, -5.439899921417236, -5.521900177001953, -3.4207000732421875, -4.091100215911865, -4.194399833679199, -4.456099987030029, -4.43720006942749, -5.437300205230713, -5.649799823760986, -5.807799816131592, -5.854400157928467, -5.994100093841553, -6.00570011138916, -6.1803998947143555, -6.252799987792969, -6.517899990081787, -6.687900066375732, -6.728899955749512, -6.732100009918213, -6.699399948120117, -6.58050012588501, -6.936100006103516, -5.589099884033203, -6.936200141906738, -6.976900100708008, -7.013700008392334, -7.025100231170654, -7.010200023651123, -7.065199851989746, -6.99429988861084, -7.206999778747559, -7.2778000831604, -5.594900131225586, -5.601399898529053, -5.389200210571289, -5.688600063323975, -6.338099956512451, -6.773799896240234, -5.839700222015381, -5.366000175476074, -5.28249979019165, -5.068699836730957, -5.051199913024902, -6.101399898529053, -5.285399913787842, -5.129199981689453, -5.940999984741211, -5.725100040435791, -5.7032999992370605, -5.134300231933594, -5.538599967956543, -5.840400218963623, -4.849299907684326, -4.48199987411499, -5.39709997177124, -5.258500099182129, -4.904600143432617, -5.038899898529053, -5.443900108337402, -5.349899768829346, -4.9309000968933105, -5.207699775695801, -5.101099967956543, -5.342299938201904, -5.212600231170654, -5.379000186920166, -5.515399932861328, -5.509699821472168, -3.266400098800659, -4.507900238037109, -5.222099781036377, -5.547399997711182, -5.684299945831299, -5.6645002365112305, -3.977099895477295, -6.0254998207092285, -6.203400135040283, -6.297999858856201, -6.365900039672852, -6.48769998550415, -6.565800189971924, -6.6153998374938965, -6.6305999755859375, -6.741799831390381, -6.7617998123168945, -6.720699787139893, -6.854400157928467, -6.804800033569336, -6.932499885559082, -6.934199810028076, -6.934199810028076, -6.968900203704834, -6.977099895477295, -6.985000133514404, -6.993100166320801, -7.025300025939941, -7.027100086212158, -1.7992000579833984, -4.4156999588012695, -4.335899829864502, -5.595900058746338, -5.206200122833252, -4.884500026702881, -5.745100021362305, -4.640699863433838, -6.071899890899658, -5.466599941253662, -5.485400199890137, -5.4918999671936035, -5.3867998123168945, -5.561699867248535, -5.362100124359131, -6.196800231933594, -5.279699802398682, -5.577000141143799, -5.707499980926514, -4.669899940490723, -5.373499870300293, -5.325099945068359, -5.23960018157959, -5.234600067138672, -5.39900016784668, -5.590700149536133, -5.661300182342529, -5.640600204467773, -5.2382001876831055, -6.076499938964844, -6.307000160217285, -6.55679988861084, -6.67080020904541, -6.122799873352051, -6.745100021362305, -6.806300163269043, -6.496200084686279, -6.87529993057251, -6.885799884796143, -6.741499900817871, -6.361199855804443, -7.078700065612793, -6.999800205230713, -7.137700080871582, -7.152400016784668, -7.177999973297119, -7.150199890136719, -7.095300197601318, -7.263599872589111, -7.267199993133545, -7.279699802398682, -7.28879976272583, -7.09089994430542, -7.30049991607666, -7.275199890136719, -7.255000114440918, -7.328999996185303, -7.017600059509277, -4.783400058746338, -6.622099876403809, -6.691100120544434, -5.941199779510498, -6.991099834442139, -7.184599876403809, -6.7804999351501465, -7.122600078582764, -6.70419979095459, -6.923500061035156, -6.96560001373291, -6.533999919891357, -5.433000087738037, -6.655900001525879, -6.3460001945495605, -5.054800033569336, -5.470900058746338, -6.596799850463867, -6.5503997802734375, -6.41949987411499, -5.763800144195557, -5.419400215148926, -5.533400058746338, -6.300099849700928, -4.242599964141846, -5.545100212097168, -6.247600078582764, -6.110199928283691, -5.166200160980225, -6.017199993133545, -5.364699840545654, -6.0457000732421875, -6.265399932861328, -5.620699882507324, -5.963600158691406, -5.094799995422363, -5.907100200653076, -6.147200107574463, -6.021200180053711, -5.931000232696533, -5.818699836730957, -5.85860013961792, -6.004199981689453, -5.86870002746582, -5.972899913787842, -6.05109977722168, -6.09250020980835, -6.098499774932861, -5.573800086975098, -5.719099998474121, -5.751800060272217, -6.028299808502197, -5.956699848175049, -6.160299777984619, -6.185699939727783, -5.674600124359131, -6.2129998207092285, -6.225200176239014, -6.252399921417236, -6.273200035095215, -6.3144001960754395, -6.292300224304199, -6.342199802398682, -6.2906999588012695, -6.367499828338623, -6.319300174713135, -6.427499771118164, -6.436399936676025, -6.478600025177002, -6.487500190734863, -6.44950008392334, -6.501699924468994, -6.520199775695801, -6.527900218963623, -6.549699783325195, -6.567399978637695, -6.6066999435424805, -6.588600158691406, -4.204800128936768, -5.765699863433838, -5.801199913024902, -6.0868000984191895, -5.142499923706055, -4.793099880218506, -6.007800102233887, -5.775599956512451, -5.565199851989746, -4.676400184631348, -5.436800003051758, -5.802999973297119, -4.589200019836426, -4.7829999923706055, -5.686100006103516, -5.820300102233887, -5.89900016784668, -4.476500034332275, -5.29449987411499, -4.014100074768066, -5.111100196838379, -5.154399871826172, -5.633999824523926, -5.90310001373291, -5.531300067901611, -5.36329984664917, -5.723400115966797, -5.2606000900268555, -5.106800079345703, -5.143799781799316, -4.139900207519531, -4.782899856567383, -5.125100135803223, -5.529699802398682, -5.362299919128418, -5.467400074005127, -5.694699764251709], \"loglift\": [30.0, 29.0, 28.0, 27.0, 26.0, 25.0, 24.0, 23.0, 22.0, 21.0, 20.0, 19.0, 18.0, 17.0, 16.0, 15.0, 14.0, 13.0, 12.0, 11.0, 10.0, 9.0, 8.0, 7.0, 6.0, 5.0, 4.0, 3.0, 2.0, 1.0, 1.5642999410629272, 1.5641000270843506, 1.5631999969482422, 1.5631999969482422, 1.562999963760376, 1.5628999471664429, 1.5627000331878662, 1.5627000331878662, 1.562600016593933, 1.5622999668121338, 1.5621999502182007, 1.5621000528335571, 1.5621000528335571, 1.562000036239624, 1.5618000030517578, 1.5616999864578247, 1.5616999864578247, 1.5606000423431396, 1.5604000091552734, 1.5602999925613403, 1.5601999759674072, 1.5601999759674072, 1.5599000453948975, 1.5599000453948975, 1.5598000288009644, 1.5597000122070312, 1.5597000122070312, 1.559499979019165, 1.559499979019165, 1.5591000318527222, 1.5556000471115112, 1.5442999601364136, 1.5497000217437744, 1.5247000455856323, 1.554900050163269, 1.5394999980926514, 1.545199990272522, 1.5539000034332275, 1.4502999782562256, 1.5362999439239502, 1.5174000263214111, 1.5365999937057495, 1.4222999811172485, 1.5263999700546265, 1.5219999551773071, 1.3911000490188599, 1.4250999689102173, 1.4045000076293945, 1.382699966430664, 1.351699948310852, 1.4478000402450562, 1.4749000072479248, 1.51419997215271, 1.4464999437332153, 1.3920999765396118, 1.410599946975708, 1.4076999425888062, 1.3233000040054321, 1.2933000326156616, 1.2655999660491943, 1.336400032043457, 1.2963000535964966, 1.2312999963760376, 1.271399974822998, 0.9865999817848206, 1.3652000427246094, 0.8658000230789185, 1.1095999479293823, 1.07260000705719, 0.42160001397132874, 1.079800009727478, 1.072100043296814, 0.5428000092506409, 0.22759999334812164, 0.19059999287128448, 1.0119999647140503, 0.13920000195503235, 0.41609999537467957, 0.7354000210762024, 0.3677000105381012, 0.40149998664855957, 0.17440000176429749, 0.1932000070810318, 0.5763000249862671, 0.3028999865055084, 2.1914000511169434, 2.1902999877929688, 2.190200090408325, 2.189300060272217, 2.188999891281128, 2.188499927520752, 2.1884000301361084, 2.1884000301361084, 2.1879000663757324, 2.1877999305725098, 2.1868999004364014, 2.1868999004364014, 2.186500072479248, 2.186500072479248, 2.186300039291382, 2.186199903488159, 2.186000108718872, 2.1851000785827637, 2.184499979019165, 2.1844000816345215, 2.184299945831299, 2.184299945831299, 2.1839001178741455, 2.182800054550171, 2.1821999549865723, 2.1821999549865723, 2.181999921798706, 2.18179988861084, 2.18179988861084, 2.1816999912261963, 2.180500030517578, 2.1809000968933105, 2.180999994277954, 2.155900001525879, 2.1803998947143555, 2.1723999977111816, 2.171799898147583, 2.1126999855041504, 2.1354000568389893, 2.1059999465942383, 2.105600118637085, 2.1314001083374023, 2.1308999061584473, 2.086699962615967, 2.1470000743865967, 2.037400007247925, 1.8026000261306763, 1.9641000032424927, 2.004499912261963, 1.86899995803833, 1.6765999794006348, 1.8377000093460083, 1.6765999794006348, 1.6875, 1.7829999923706055, 1.3289999961853027, 1.5324000120162964, 0.8555999994277954, 1.1593999862670898, 1.4699000120162964, 0.6248000264167786, 0.5756000280380249, 1.2415000200271606, 1.0109000205993652, 0.8154000043869019, 0.7594000101089478, -0.01850000023841858, 0.5198000073432922, 0.9923999905586243, 0.4401000142097473, 0.43160000443458557, 0.671999990940094, -0.06920000165700912, 0.33629998564720154, 0.8082000017166138, 2.3833999633789062, 2.3824000358581543, 2.382200002670288, 2.3821001052856445, 2.381999969482422, 2.3817999362945557, 2.3817999362945557, 2.381700038909912, 2.3815999031066895, 2.38100004196167, 2.380500078201294, 2.379499912261963, 2.3794000148773193, 2.379300117492676, 2.379300117492676, 2.379199981689453, 2.378499984741211, 2.3782999515533447, 2.378000020980835, 2.378000020980835, 2.3775999546051025, 2.3773000240325928, 2.377000093460083, 2.377000093460083, 2.376800060272217, 2.376499891281128, 2.3763999938964844, 2.375499963760376, 2.375499963760376, 2.375200033187866, 2.3714001178741455, 2.3743999004364014, 2.3749001026153564, 2.373300075531006, 2.3703999519348145, 2.330399990081787, 2.3661000728607178, 2.294300079345703, 2.2955000400543213, 2.330899953842163, 2.319499969482422, 2.061500072479248, 2.2495999336242676, 2.247499942779541, 2.1196000576019287, 2.091900110244751, 1.9976999759674072, 2.0422000885009766, 1.9793000221252441, 2.104599952697754, 1.7628999948501587, 1.996999979019165, 1.523300051689148, 1.6792999505996704, 1.4220000505447388, 1.9048000574111938, 2.1561999320983887, 1.7553999423980713, 2.0139000415802, 2.196700096130371, 1.2209999561309814, 1.5551999807357788, 2.182300090789795, 1.6395000219345093, 1.513200044631958, 2.107300043106079, 1.861199975013733, 1.5147000551223755, 1.6414999961853027, 1.3701000213623047, 0.0989999994635582, 0.49549999833106995, -0.05909999832510948, 1.0843000411987305, 1.2029999494552612, 1.0677000284194946, 0.2890999913215637, -0.29030001163482666, -0.06849999725818634, 0.2874999940395355, 0.31189998984336853, -0.03889999911189079, 0.5626000165939331, -0.15029999613761902, 0.7814000248908997, 0.3127000033855438, 2.4100000858306885, 2.408400058746338, 2.407900094985962, 2.407099962234497, 2.406899929046631, 2.4054999351501465, 2.4049999713897705, 2.4047999382019043, 2.4047000408172607, 2.404599905014038, 2.4042999744415283, 2.4042000770568848, 2.403599977493286, 2.402899980545044, 2.4022998809814453, 2.4021999835968018, 2.4014999866485596, 2.401400089263916, 2.401099920272827, 2.400700092315674, 2.4005000591278076, 2.4003000259399414, 2.4003000259399414, 2.399600028991699, 2.3994998931884766, 2.3993000984191895, 2.399199962615967, 2.3991000652313232, 2.3986001014709473, 2.398400068283081, 2.3785998821258545, 2.390399932861328, 2.3958001136779785, 2.3928000926971436, 2.369499921798706, 2.398200035095215, 2.3784000873565674, 2.3710999488830566, 2.367000102996826, 2.3517000675201416, 2.339099884033203, 2.2957000732421875, 2.3345000743865967, 2.3485000133514404, 2.3208999633789062, 2.3557000160217285, 2.170099973678589, 2.3466999530792236, 2.334199905395508, 2.3157999515533447, 2.0215001106262207, 2.222399950027466, 2.0360000133514404, 2.221400022506714, 2.012200117111206, 1.9120999574661255, 1.8832000494003296, 2.1394999027252197, 1.431399941444397, 2.065999984741211, 2.231800079345703, 0.8819000124931335, 2.077500104904175, 1.2805999517440796, 1.166700005531311, 1.782099962234497, 0.7949000000953674, 1.4536000490188599, 1.3802000284194946, 1.5099999904632568, 0.6223999857902527, 1.3622000217437744, -0.19850000739097595, 1.3372999429702759, 0.636900007724762, 0.30000001192092896, 0.4424000084400177, 0.9229999780654907, 0.07270000129938126, -0.5501000285148621, -0.6625999808311462, -0.3246000111103058, 0.07169999927282333, 0.5835999846458435, 2.49399995803833, 2.492799997329712, 2.4921000003814697, 2.49180006980896, 2.489000082015991, 2.4888999462127686, 2.4883999824523926, 2.4879000186920166, 2.487799882888794, 2.487499952316284, 2.4869000911712646, 2.486599922180176, 2.486299991607666, 2.4860000610351562, 2.4856998920440674, 2.485599994659424, 2.4855000972747803, 2.484600067138672, 2.484299898147583, 2.484100103378296, 2.4839000701904297, 2.4839000701904297, 2.483799934387207, 2.483599901199341, 2.4825000762939453, 2.482300043106079, 2.4821999073028564, 2.482100009918213, 2.481600046157837, 2.481600046157837, 2.4781999588012695, 2.47979998588562, 2.4642999172210693, 2.4602999687194824, 2.473900079727173, 2.4762001037597656, 2.474400043487549, 2.4800000190734863, 2.4365999698638916, 2.456700086593628, 2.462399959564209, 2.4732000827789307, 2.4247000217437744, 2.4491000175476074, 2.4407999515533447, 2.474600076675415, 2.4337000846862793, 2.4298999309539795, 2.428800106048584, 2.406100034713745, 2.4430999755859375, 2.3282999992370605, 2.29010009765625, 2.319999933242798, 2.393899917602539, 2.330699920654297, 2.2495999336242676, 2.251800060272217, 2.232800006866455, 2.2356998920440674, 2.1670000553131104, 2.1405999660491943, 2.0831000804901123, 2.1001999378204346, 1.4397000074386597, 1.648800015449524, 1.666599988937378, 1.360700011253357, 0.8389000296592712, 1.7697999477386475, 0.902400016784668, 0.15710000693798065, 0.19419999420642853, 0.35989999771118164, -0.1444000005722046, 0.8367999792098999, 0.5698000192642212, 1.2194000482559204, 0.4643999934196472, 1.059000015258789, 0.18359999358654022, 0.590499997138977, 0.13259999454021454, 0.32519999146461487, 0.5115000009536743, 2.756200075149536, 2.7558000087738037, 2.752000093460083, 2.751199960708618, 2.7506000995635986, 2.750499963760376, 2.7497000694274902, 2.749500036239624, 2.7490999698638916, 2.749000072479248, 2.748500108718872, 2.7479000091552734, 2.7474000453948975, 2.7464001178741455, 2.7462000846862793, 2.7462000846862793, 2.7453999519348145, 2.744999885559082, 2.7430999279022217, 2.7427000999450684, 2.742500066757202, 2.74180006980896, 2.741499900817871, 2.741300106048584, 2.7409000396728516, 2.740799903869629, 2.7404000759124756, 2.739799976348877, 2.7392001152038574, 2.7383999824523926, 2.7272000312805176, 2.7314999103546143, 2.7348999977111816, 2.7298998832702637, 2.7339999675750732, 2.7328999042510986, 2.696199893951416, 2.7183001041412354, 2.698699951171875, 2.7339000701904297, 2.6414999961853027, 2.6250998973846436, 2.584199905395508, 2.5201001167297363, 2.632699966430664, 2.5434000492095947, 2.505199909210205, 2.4291999340057373, 2.502000093460083, 2.449199914932251, 2.3364999294281006, 2.2818000316619873, 2.132699966430664, 2.3917999267578125, 2.307800054550171, 2.1679999828338623, 2.3880999088287354, 2.504300117492676, 2.5459001064300537, 2.100800037384033, 2.036099910736084, 1.8489999771118164, 2.003700017929077, 1.188599944114685, 1.8056000471115112, 1.6971999406814575, 1.8446999788284302, 0.7721999883651733, 1.867900013923645, 0.4708000123500824, 0.5442000031471252, 0.8553000092506409, 0.267300009727478, 1.0140999555587769, 0.9211000204086304, 0.5593000054359436, 1.3020000457763672, 0.39989998936653137, 0.6256999969482422, 0.23589999973773956, 2.8083999156951904, 2.805999994277954, 2.804800033569336, 2.8046000003814697, 2.8041999340057373, 2.8041000366210938, 2.803800106048584, 2.803800106048584, 2.8036000728607178, 2.803299903869629, 2.803100109100342, 2.803100109100342, 2.803100109100342, 2.8027000427246094, 2.8025999069213867, 2.802000045776367, 2.8018999099731445, 2.8017001152038574, 2.801300048828125, 2.801300048828125, 2.8010001182556152, 2.800800085067749, 2.80049991607666, 2.8001999855041504, 2.7995998859405518, 2.799499988555908, 2.799099922180176, 2.7990000247955322, 2.7985999584198, 2.7985000610351562, 2.7943999767303467, 2.7744998931884766, 2.7939999103546143, 2.7960000038146973, 2.795799970626831, 2.786600112915039, 2.7941999435424805, 2.7653000354766846, 2.7829999923706055, 2.6477999687194824, 2.7518999576568604, 2.7720999717712402, 2.7690999507904053, 2.742300033569336, 2.7595999240875244, 2.7012999057769775, 2.362600088119507, 2.480299949645996, 2.6854000091552734, 2.544300079345703, 2.530400037765503, 2.7325000762939453, 2.7448999881744385, 2.676500082015991, 2.627000093460083, 2.4992001056671143, 2.4296998977661133, 2.2523999214172363, 2.130000114440918, 2.5443999767303467, 2.1482999324798584, 1.836899995803833, 2.557800054550171, 2.4147000312805176, 2.0111000537872314, 1.1692999601364136, 1.4621000289916992, 1.495300054550171, 0.28929999470710754, 1.1875, 1.1970000267028809, 2.0387001037597656, 1.7733999490737915, -0.14259999990463257, 0.9402999877929688, 0.36059999465942383, 0.9092000126838684, 0.41339999437332153, 1.087499976158142, 0.2831000089645386, -0.47200000286102295, 0.7759000062942505, 0.5846999883651733, -0.1136000007390976, -0.4277999997138977, 0.6108999848365784, 0.3375000059604645, -0.1200999990105629, -0.2467000037431717, 2.843899965286255, 2.843100070953369, 2.8417000770568848, 2.8417000770568848, 2.8406999111175537, 2.8399999141693115, 2.8397998809814453, 2.8396999835968018, 2.8392999172210693, 2.839200019836426, 2.839099884033203, 2.838399887084961, 2.8382999897003174, 2.838200092315674, 2.838200092315674, 2.838099956512451, 2.8378000259399414, 2.8378000259399414, 2.8371999263763428, 2.8371999263763428, 2.837100028991699, 2.8362998962402344, 2.836199998855591, 2.8359999656677246, 2.835900068283081, 2.835900068283081, 2.8357999324798584, 2.8357999324798584, 2.835400104522705, 2.8352999687194824, 2.83489990234375, 2.83489990234375, 2.835099935531616, 2.822999954223633, 2.8057000637054443, 2.822499990463257, 2.7177000045776367, 2.756500005722046, 2.624300003051758, 2.7818000316619873, 2.540299892425537, 2.7548000812530518, 2.2797000408172607, 2.6363000869750977, 2.376499891281128, 2.3886001110076904, 2.537899971008301, 2.640399932861328, 2.697200059890747, 2.2836999893188477, 1.8841999769210815, 2.5316998958587646, 2.4149999618530273, 1.4625999927520752, 0.512499988079071, 2.205199956893921, 2.289099931716919, 2.1547000408172607, 1.8978999853134155, -0.42660000920295715, 0.02630000002682209, 1.2583999633789062, 1.5550999641418457, 0.7184000015258789, 1.1085000038146973, 0.3116999864578247, 0.9679999947547913, -0.39750000834465027, 0.3882000148296356, 0.012799999676644802, -0.037300001829862595, 0.06310000270605087, 0.28790000081062317, 0.32330000400543213, 0.40380001068115234, -0.8985000252723694, 0.7949000000953674, 0.2102999985218048, 2.849600076675415, 2.84879994392395, 2.84879994392395, 2.848299980163574, 2.848099946975708, 2.847899913787842, 2.8478000164031982, 2.84689998626709, 2.8464999198913574, 2.8445000648498535, 2.8443000316619873, 2.8441998958587646, 2.844099998474121, 2.844099998474121, 2.843600034713745, 2.842400074005127, 2.8422999382019043, 2.8422000408172607, 2.8415000438690186, 2.8415000438690186, 2.8413000106811523, 2.84089994430542, 2.84089994430542, 2.84089994430542, 2.8405001163482666, 2.8403000831604004, 2.8403000831604004, 2.840100049972534, 2.8399999141693115, 2.8396999835968018, 2.8385000228881836, 2.837899923324585, 2.831700086593628, 2.784899950027466, 2.8141000270843506, 2.747299909591675, 2.8011999130249023, 2.80049991607666, 2.76200008392334, 2.7249999046325684, 2.6979000568389893, 2.3178000450134277, 2.5690999031066895, 2.4830000400543213, 2.3743999004364014, 2.512200117111206, 2.5390000343322754, 1.826200008392334, 2.4263999462127686, 2.1005001068115234, 2.4086999893188477, 2.587100028991699, 2.509999990463257, 2.4507999420166016, 1.8812999725341797, 1.8414000272750854, 1.2027000188827515, 0.3610999882221222, 0.32019999623298645, 1.2077000141143799, 0.8500999808311462, 0.4226999878883362, 1.069700002670288, 0.5145999789237976, -0.3538999855518341, 0.47859999537467957, 0.6202999949455261, 0.37380000948905945, 0.631600022315979, 0.1843000054359436, -0.869700014591217, 0.47380000352859497, 0.47769999504089355, 0.6158000230789185, 1.0853999853134155, -0.22540000081062317, -0.017799999564886093, -1.1303000450134277, 3.1375999450683594, 3.1370999813079834, 3.1350998878479004, 3.1333000659942627, 3.1328001022338867, 3.131500005722046, 3.1310999393463135, 3.1308999061584473, 3.130500078201294, 3.1303999423980713, 3.129699945449829, 3.129699945449829, 3.1294000148773193, 3.1291000843048096, 3.128000020980835, 3.128000020980835, 3.1278998851776123, 3.1277999877929688, 3.1273999214172363, 3.1270999908447266, 3.1266000270843506, 3.1266000270843506, 3.1263999938964844, 3.1263999938964844, 3.1259000301361084, 3.125, 3.1245999336242676, 3.1243999004364014, 3.1242001056671143, 3.1238999366760254, 3.1201999187469482, 3.119499921798706, 3.1229000091552734, 3.1119000911712646, 3.121999979019165, 3.1054000854492188, 3.079400062561035, 3.0943000316619873, 3.065700054168701, 3.0871999263763428, 3.107800006866455, 3.0625, 2.941200017929077, 3.102299928665161, 3.0764000415802, 3.038300037384033, 3.1048998832702637, 2.9274001121520996, 2.9609999656677246, 2.9247000217437744, 2.8740999698638916, 2.9839000701904297, 3.0202999114990234, 2.990799903869629, 2.9630000591278076, 2.686300039291382, 2.8854000568389893, 2.483099937438965, 2.629499912261963, 2.5555999279022217, 2.795099973678589, 2.8078999519348145, 2.508699893951416, 2.2060000896453857, 1.2965999841690063, 0.6876000165939331, -0.015399999916553497, 1.3008999824523926, 0.12020000070333481, 1.4107999801635742, -0.07329999655485153, 0.9718999862670898, 0.7746999859809875, 0.30550000071525574, 0.586899995803833, 0.15780000388622284, 0.659600019454956, 3.194200038909912, 3.1939001083374023, 3.1939001083374023, 3.193700075149536, 3.1933999061584473, 3.192500114440918, 3.191800117492676, 3.191499948501587, 3.1914000511169434, 3.190999984741211, 3.1909000873565674, 3.1898999214172363, 3.1886000633239746, 3.1886000633239746, 3.187299966812134, 3.1870999336242676, 3.1868999004364014, 3.1863999366760254, 3.1863999366760254, 3.1856000423431396, 3.185499906539917, 3.1854000091552734, 3.1849000453948975, 3.184799909591675, 3.1844000816345215, 3.1842000484466553, 3.1842000484466553, 3.183000087738037, 3.182800054550171, 3.18179988861084, 3.1765999794006348, 3.172800064086914, 3.16729998588562, 3.1698999404907227, 3.16729998588562, 3.1754000186920166, 3.0947999954223633, 3.0248000621795654, 3.0092999935150146, 2.930000066757202, 2.8715999126434326, 3.0511999130249023, 2.86299991607666, 2.807300090789795, 3.0041000843048096, 2.947700023651123, 2.93969988822937, 2.6698999404907227, 2.8222999572753906, 2.9082000255584717, 2.2091000080108643, 1.833799958229065, 2.4823999404907227, 2.344899892807007, 0.708899974822998, 0.7404999732971191, 1.8629000186920166, 1.385599970817566, -0.36230000853538513, 0.6452000141143799, 0.11969999969005585, 1.2716000080108643, 0.38510000705718994, 1.0025999546051025, 1.1504000425338745, 0.36800000071525574, 3.2620999813079834, 3.2614998817443848, 3.260999917984009, 3.2602999210357666, 3.259999990463257, 3.2597999572753906, 3.259000062942505, 3.2588999271392822, 3.257999897003174, 3.2574000358581543, 3.257200002670288, 3.2567999362945557, 3.2560999393463135, 3.2558999061584473, 3.2558000087738037, 3.2548999786376953, 3.254300117492676, 3.254199981689453, 3.253999948501587, 3.2537999153137207, 3.2532999515533447, 3.253200054168701, 3.253000020980835, 3.253000020980835, 3.2528998851776123, 3.2527999877929688, 3.2523999214172363, 3.2523999214172363, 3.252000093460083, 3.251499891281128, 3.2167999744415283, 3.20740008354187, 3.168800115585327, 3.1347999572753906, 3.1096999645233154, 3.146199941635132, 2.9526000022888184, 3.1342999935150146, 2.9316999912261963, 2.8196001052856445, 2.791599988937378, 2.6243999004364014, 2.671600103378296, 2.329400062561035, 2.817199945449829, 1.6619000434875488, 1.9951000213623047, 2.047499895095825, -0.10130000114440918, 1.259600043296814, 0.9660000205039978, 0.6133000254631042, 0.2281000018119812, 0.19869999587535858, -0.33239999413490295, 1.1359000205993652, -0.02710000053048134, 3.2887001037597656, 3.2862000465393066, 3.285099983215332, 3.283900022506714, 3.2829999923706055, 3.2825000286102295, 3.282399892807007, 3.2820000648498535, 3.2818000316619873, 3.2813000679016113, 3.2813000679016113, 3.280900001525879, 3.279900074005127, 3.2792999744415283, 3.278899908065796, 3.2785000801086426, 3.27839994430542, 3.27810001373291, 3.2780001163482666, 3.2772998809814453, 3.2769999504089355, 3.2769999504089355, 3.276700019836426, 3.2764999866485596, 3.276400089263916, 3.2762999534606934, 3.2762999534606934, 3.27620005607605, 3.276099920272827, 3.2760000228881836, 3.272900104522705, 3.2753000259399414, 3.275700092315674, 3.2671000957489014, 3.2755000591278076, 3.2757999897003174, 3.267699956893921, 3.2716000080108643, 3.2446000576019287, 3.255500078201294, 3.256200075149536, 3.2011001110076904, 3.0107998847961426, 3.197499990463257, 3.11680006980896, 2.8232998847961426, 2.9114999771118164, 3.1496999263763428, 3.135499954223633, 3.0892999172210693, 2.8011999130249023, 2.4976999759674072, 2.4653000831604004, 2.8896000385284424, 1.2201999425888062, 2.248300075531006, 2.7502999305725098, 2.577399969100952, 1.4471999406814575, 2.4303998947143555, 1.611799955368042, 2.4584999084472656, 2.66729998588562, 1.6341999769210815, 2.0566000938415527, 0.16339999437332153, 1.5791000127792358, 2.1315999031066895, 1.607200026512146, 1.0024000406265259, -0.04989999905228615, -0.11879999935626984, 0.5529000163078308, -1.3000999689102173, -0.3752000033855438, -0.44920000433921814, -1.1646000146865845, -0.08240000158548355, 4.064899921417236, 4.064000129699707, 4.063700199127197, 4.061699867248535, 4.060800075531006, 4.060400009155273, 4.060200214385986, 4.060200214385986, 4.059899806976318, 4.059800148010254, 4.059500217437744, 4.059299945831299, 4.058800220489502, 4.058700084686279, 4.0584001541137695, 4.0584001541137695, 4.0578999519348145, 4.057700157165527, 4.057400226593018, 4.056700229644775, 4.056600093841553, 4.056600093841553, 4.05649995803833, 4.056399822235107, 4.05620002746582, 4.056000232696533, 4.055600166320801, 4.055500030517578, 4.054900169372559, 4.054500102996826, 4.049200057983398, 4.053599834442139, 4.049499988555908, 4.050300121307373, 4.030200004577637, 4.017399787902832, 4.0457000732421875, 4.035900115966797, 4.00029993057251, 3.934299945831299, 3.980799913406372, 3.988600015640259, 3.83489990234375, 3.844399929046631, 3.9544999599456787, 3.969099998474121, 3.956399917602539, 3.559000015258789, 3.751499891281128, 3.251499891281128, 3.6284000873565674, 3.5829999446868896, 3.773400068283081, 3.9024999141693115, 3.6396000385284424, 3.444200038909912, 3.7304999828338623, 3.1730000972747803, 2.640700101852417, 2.6112000942230225, 0.7300000190734863, 0.6403999924659729, -0.5565999746322632, 2.19320011138916, 0.7020000219345093, -0.5393999814987183, 2.6559998989105225]}, \"token.table\": {\"Topic\": [11, 1, 2, 3, 8, 1, 2, 3, 10, 12, 14, 9, 1, 6, 7, 9, 13, 1, 2, 3, 4, 5, 6, 7, 8, 9, 10, 11, 12, 1, 6, 7, 13, 2, 1, 6, 1, 6, 3, 1, 3, 7, 8, 12, 13, 14, 1, 3, 12, 13, 14, 13, 7, 1, 2, 3, 4, 5, 6, 7, 8, 9, 10, 11, 12, 13, 14, 1, 2, 3, 6, 7, 8, 10, 12, 13, 14, 13, 1, 2, 3, 10, 12, 13, 14, 2, 10, 5, 9, 1, 3, 4, 11, 12, 13, 3, 4, 7, 11, 12, 1, 6, 12, 4, 11, 12, 1, 2, 3, 4, 5, 6, 7, 8, 9, 10, 11, 12, 13, 14, 3, 13, 3, 1, 3, 7, 12, 13, 14, 1, 3, 13, 14, 9, 11, 1, 2, 3, 4, 5, 6, 7, 8, 9, 10, 11, 12, 13, 14, 1, 2, 3, 4, 5, 6, 7, 8, 9, 10, 11, 12, 13, 14, 5, 11, 11, 12, 1, 2, 3, 7, 8, 9, 10, 11, 12, 13, 14, 14, 1, 9, 4, 1, 2, 3, 10, 14, 5, 2, 4, 8, 9, 11, 2, 4, 5, 8, 9, 10, 7, 8, 5, 14, 9, 12, 1, 2, 3, 4, 5, 7, 8, 9, 10, 12, 13, 14, 1, 2, 3, 5, 7, 8, 12, 13, 14, 1, 2, 3, 4, 5, 6, 7, 8, 9, 12, 13, 14, 4, 5, 2, 5, 7, 2, 10, 3, 4, 9, 14, 3, 13, 1, 2, 3, 4, 5, 6, 7, 8, 9, 10, 11, 12, 13, 14, 1, 2, 3, 4, 5, 6, 7, 8, 9, 10, 11, 12, 13, 14, 14, 13, 1, 4, 5, 8, 11, 12, 4, 5, 12, 1, 2, 3, 4, 5, 6, 7, 8, 9, 10, 11, 12, 13, 14, 4, 5, 8, 9, 4, 5, 9, 1, 1, 2, 3, 10, 12, 13, 4, 8, 1, 2, 3, 4, 5, 6, 7, 8, 9, 10, 11, 14, 2, 8, 3, 7, 8, 13, 14, 2, 3, 10, 1, 2, 3, 6, 7, 10, 13, 1, 2, 3, 4, 5, 6, 7, 8, 9, 10, 11, 12, 13, 14, 1, 2, 3, 4, 5, 6, 7, 8, 9, 10, 11, 12, 13, 14, 13, 5, 2, 3, 4, 8, 9, 12, 13, 8, 6, 12, 4, 5, 8, 9, 8, 4, 8, 9, 14, 4, 12, 7, 9, 2, 5, 10, 2, 4, 5, 10, 5, 8, 13, 4, 4, 11, 1, 2, 3, 4, 5, 6, 7, 8, 9, 10, 11, 12, 13, 14, 14, 2, 3, 4, 5, 6, 7, 8, 9, 10, 4, 11, 12, 12, 8, 1, 6, 7, 9, 2, 7, 1, 13, 1, 2, 3, 4, 5, 6, 7, 8, 9, 10, 11, 13, 14, 12, 4, 7, 1, 2, 4, 5, 6, 7, 8, 9, 12, 14, 1, 13, 1, 2, 3, 4, 5, 6, 7, 8, 9, 10, 11, 12, 13, 14, 10, 3, 1, 3, 6, 7, 8, 9, 13, 1, 3, 4, 5, 6, 7, 8, 9, 11, 12, 13, 1, 4, 11, 12, 1, 3, 4, 5, 6, 7, 9, 11, 12, 13, 14, 7, 1, 3, 7, 12, 13, 14, 1, 3, 12, 14, 7, 1, 2, 3, 4, 6, 11, 12, 1, 1, 3, 6, 7, 9, 10, 13, 1, 6, 7, 9, 13, 8, 2, 4, 5, 7, 8, 9, 13, 14, 2, 5, 8, 9, 2, 2, 8, 9, 14, 1, 4, 7, 8, 9, 10, 11, 12, 14, 1, 3, 4, 6, 7, 8, 9, 11, 12, 13, 13, 4, 5, 7, 8, 9, 12, 14, 5, 8, 10, 4, 6, 8, 1, 1, 2, 3, 4, 5, 6, 7, 8, 9, 10, 11, 12, 13, 14, 11, 1, 4, 5, 6, 7, 8, 1, 2, 3, 4, 5, 6, 7, 8, 9, 10, 11, 12, 14, 4, 5, 8, 10, 11, 4, 5, 8, 9, 11, 12, 14, 2, 4, 5, 8, 10, 11, 11, 8, 1, 9, 10, 9, 1, 2, 3, 4, 5, 7, 8, 9, 11, 12, 13, 14, 1, 6, 4, 5, 2, 10, 2, 4, 5, 8, 9, 9, 4, 5, 8, 9, 11, 12, 6, 2, 4, 10, 6, 7, 8, 8, 6, 8, 1, 6, 2, 4, 5, 8, 9, 10, 12, 2, 2, 6, 14, 1, 2, 3, 4, 5, 6, 7, 8, 9, 10, 11, 12, 13, 14, 9, 1, 3, 7, 11, 1, 6, 7, 13, 1, 13, 2, 10, 12, 5, 2, 4, 5, 6, 8, 9, 11, 12, 13, 1, 2, 3, 4, 5, 6, 7, 8, 9, 10, 12, 13, 14, 6, 3, 14, 1, 3, 12, 13, 14, 10, 3, 8, 1, 3, 4, 6, 7, 9, 13, 14, 1, 2, 3, 4, 5, 6, 7, 8, 9, 11, 12, 13, 14, 1, 1, 3, 12, 13, 14, 1, 2, 4, 5, 8, 9, 11, 12, 2, 9, 4, 10, 10, 4, 5, 4, 5, 6, 6, 7, 13, 1, 6, 7, 9, 12, 13, 2, 4, 5, 7, 8, 9, 10, 11, 12, 1, 9, 1, 2, 3, 7, 8, 9, 10, 13, 14, 10, 1, 6, 7, 8, 10, 12, 14, 11, 2, 3, 10, 13, 9, 1, 3, 4, 5, 6, 7, 8, 9, 11, 12, 13, 1, 14, 5, 7, 1, 2, 3, 4, 5, 6, 7, 8, 9, 10, 11, 12, 13, 1, 1, 2, 3, 6, 7, 9, 11, 14, 7, 4, 12, 1, 14, 3, 8, 1, 2, 3, 7, 14, 1, 3, 1, 3, 2, 3, 4, 5, 6, 7, 8, 9, 10, 11, 12, 13, 5, 11, 10, 9, 1, 3, 6, 7, 13, 14, 13, 3, 7, 13, 14, 3, 14, 1, 2, 3, 4, 5, 6, 7, 8, 9, 10, 11, 12, 13, 14, 14, 6, 1, 2, 3, 4, 5, 6, 7, 8, 9, 10, 11, 12, 13, 14, 1, 2, 3, 6, 7, 9, 10, 13, 5, 9, 1, 2, 3, 4, 5, 8, 9, 10, 11, 13, 12, 3, 2, 1, 13, 13, 14, 1, 2, 7, 10, 14, 14, 1, 14, 1, 2, 3, 4, 5, 6, 7, 8, 9, 10, 11, 12, 13, 14, 1, 2, 3, 4, 5, 6, 7, 8, 9, 11, 12, 13, 14, 1, 3, 6, 7, 8, 12, 13, 13, 1, 6, 7, 9, 1, 6, 7, 9, 13, 1, 6, 7, 9, 13, 2, 10, 13, 1, 6, 7, 13, 9, 7, 7, 1, 2, 3, 4, 5, 6, 7, 8, 9, 10, 11, 12, 13, 14, 1, 2, 3, 4, 5, 6, 7, 8, 9, 10, 11, 12, 13, 14, 1, 3, 6, 7, 8, 9, 12, 13, 14, 1, 2, 3, 4, 5, 6, 7, 8, 9, 10, 11, 12, 13, 14, 6, 1, 3, 4, 6, 7, 8, 9, 13, 14, 9, 1, 2, 3, 4, 5, 6, 7, 8, 9, 10, 11, 12, 13, 14, 1, 14, 1, 3, 12, 14, 2, 4, 5, 6, 9, 11, 12, 4, 5, 12, 12, 4, 5, 9, 11, 12, 1, 2, 3, 4, 5, 6, 7, 8, 9, 10, 11, 12, 13, 14, 1, 2, 3, 4, 5, 6, 7, 8, 9, 10, 11, 12, 13, 4, 8, 9, 10, 11, 3, 1, 7, 13, 4, 5, 8, 9, 12, 1, 3, 6, 7, 8, 9, 13, 1, 6, 7, 4, 5, 6, 10, 4, 5, 6, 10, 12, 1, 2, 3, 4, 5, 6, 7, 8, 9, 10, 11, 12, 13, 14, 13, 9, 14, 1, 4, 7, 11, 12, 3, 4, 5, 12, 3, 4, 6, 9, 12, 3, 1, 3, 12, 14, 4, 5, 6, 8, 9, 11, 12, 13, 1, 7, 9, 4, 2, 5, 1, 2, 3, 4, 5, 6, 7, 8, 9, 10, 12, 13, 14, 4, 12, 1, 3, 6, 7, 9, 12, 13, 14, 1, 2, 3, 7, 10, 1, 3, 6, 7, 12, 13, 14, 1, 14, 1, 3, 4, 5, 6, 9, 11, 12, 13, 4, 5, 6, 9, 4, 9, 8, 10, 8, 1, 7, 2, 2, 5, 9, 1, 3, 7, 12, 13, 14, 3, 4, 5, 8, 10, 11, 12, 14, 4, 5, 8, 9, 10, 11, 4, 5, 6, 9, 10, 11, 12, 1, 2, 3, 4, 5, 6, 7, 8, 9, 10, 11, 12, 13, 14, 1, 2, 3, 4, 5, 6, 7, 8, 9, 10, 11, 12, 13, 14, 9, 1, 7, 11, 1, 3, 4, 5, 12, 13, 1, 2, 3, 4, 5, 6, 7, 8, 9, 10, 11, 12, 13, 14, 9, 2, 4, 5, 9, 12, 8, 8, 4, 4, 5, 8, 10, 12, 1, 2, 3, 4, 5, 6, 7, 8, 9, 10, 11, 12, 13, 14, 11, 14, 8, 8, 8, 5, 8, 6, 1, 2, 3, 4, 5, 6, 7, 8, 9, 10, 11, 12, 13, 14, 4, 9, 1, 2, 3, 7, 9, 10, 12, 13, 14, 1, 2, 3, 10, 1, 2, 3, 10, 1, 2, 3, 4, 5, 6, 7, 8, 9, 10, 11, 12, 13, 14, 3, 2, 4, 5, 8, 9, 10, 11, 12, 14, 1, 2, 3, 4, 5, 6, 7, 8, 9, 11, 12, 13, 12, 2, 3, 4, 5, 7, 8, 9, 11, 12, 6, 3, 13, 4, 11, 7, 3, 2, 3, 2, 1, 2, 3, 4, 5, 6, 7, 8, 9, 10, 11, 12, 13, 14, 1, 2, 3, 4, 5, 6, 7, 8, 9, 10, 11, 12, 13, 14, 1, 3, 6, 7, 11, 12, 13, 14, 8, 1, 2, 3, 4, 5, 6, 7, 8, 12, 13, 14, 1, 3, 10, 7, 8, 12, 14, 1, 3, 12, 14, 10, 1, 2, 3, 4, 5, 6, 7, 8, 9, 10, 11, 12, 13, 14, 8, 10, 1, 3, 4, 5, 8, 9, 12, 13, 14, 14, 1, 2, 3, 4, 5, 6, 7, 8, 9, 10, 11, 12, 13, 14, 1, 3, 12, 14, 1, 2, 3, 4, 5, 6, 7, 8, 9, 10, 11, 12, 13, 14, 1, 7, 13, 6, 4, 5, 8, 9, 5, 9, 1, 2, 3, 4, 5, 6, 7, 8, 9, 10, 11, 12, 13, 14, 1, 2, 3, 4, 5, 6, 7, 8, 9, 10, 11, 12, 13, 14, 1, 3, 4, 6, 7, 9, 11, 13, 12, 12, 12, 1, 3, 6, 7, 13, 14, 1, 4, 5, 7, 12, 12, 6, 1, 2, 8, 9, 2, 3, 4, 5, 6, 7, 8, 9, 10, 11, 13, 2, 3, 10, 2, 10, 6, 1, 2, 3, 4, 5, 6, 7, 8, 9, 10, 11, 12, 13, 14, 1, 2, 3, 7, 9, 10, 1, 3, 14, 1, 1, 2, 3, 4, 6, 7, 8, 9, 11, 12, 13, 14, 3, 9, 9, 6, 7, 1, 2, 3, 4, 6, 7, 8, 9, 10, 12, 13, 14, 1, 3, 13, 1, 7, 12, 14, 1, 2, 3, 7, 13, 13, 6, 3, 13, 1, 3, 1, 2, 3, 4, 5, 6, 7, 8, 9, 10, 11, 12, 13, 14, 1, 3, 7, 13, 1, 1, 7, 13, 2, 7, 1, 7, 14, 1, 2, 4, 6, 7, 9, 11, 12, 13, 14, 9, 2, 4, 5, 6, 8, 9, 10, 5, 2, 4, 8, 10, 2, 10, 1, 2, 3, 4, 5, 6, 7, 8, 9, 10, 11, 12, 13, 14, 2, 9, 10, 12, 1, 2, 3, 4, 5, 6, 7, 8, 9, 10, 11, 12, 13, 14, 2, 4, 5, 9, 11, 4, 5, 8, 9, 12, 2, 3, 4, 6, 10, 11, 1, 2, 3, 4, 5, 6, 7, 8, 9, 10, 11, 12, 13, 14, 12, 14, 4, 12, 4, 5, 8, 9, 11, 12, 1, 2, 3, 4, 5, 6, 7, 8, 9, 10, 11, 12, 13, 14, 1, 2, 3, 4, 5, 6, 7, 8, 9, 10, 11, 12, 13, 14, 1, 2, 3, 5, 6, 9, 10, 13, 1, 2, 3, 4, 5, 6, 7, 8, 9, 10, 11, 12, 13, 14, 1, 7, 14, 10, 5, 1, 3, 7, 12, 13, 14, 1, 2, 3, 4, 5, 6, 7, 8, 9, 10, 11, 12, 13, 14, 1, 2, 3, 4, 5, 6, 7, 8, 9, 10, 11, 12, 13, 14, 1, 2, 3, 4, 5, 6, 7, 8, 9, 10, 11, 12, 13, 14, 2, 4, 5, 8, 9, 10, 11, 12, 14, 8, 14, 11, 1, 2, 3, 4, 5, 6, 7, 8, 9, 10, 11, 12, 13, 14, 1, 2, 3, 4, 5, 6, 7, 8, 9, 10, 11, 12, 13, 14, 4, 9, 4, 1, 2, 3, 4, 5, 6, 7, 8, 10, 12, 13, 1, 2, 3, 4, 5, 6, 7, 8, 9, 10, 11, 12, 13, 14, 1, 2, 3, 4, 5, 6, 7, 8, 9, 10, 12, 13, 14, 1, 2, 3, 8, 10, 12, 13, 14, 14, 12, 13, 1, 3, 12, 13, 14, 7, 14, 1, 3, 13, 1, 2, 3, 4, 5, 6, 7, 8, 9, 10, 12, 13, 14, 4, 1, 14, 1, 3, 13, 6, 14, 3, 8, 3, 5, 1, 2, 3, 4, 5, 6, 7, 8, 9, 10, 11, 12, 14, 2, 1, 2, 3, 7, 9, 10, 12, 14, 11, 1, 3, 6, 12, 13, 5, 8, 11, 2, 7, 2, 7, 7, 9, 1, 1, 4, 5, 6, 8, 10, 12, 13, 14, 14, 3, 6, 9, 12, 4, 1, 3, 9, 10, 1, 10, 11, 11, 3, 3, 1, 6, 13, 11, 11, 11, 11, 1, 3, 6, 7, 8, 9, 13, 1, 6, 7, 13, 5, 8, 9, 1, 3, 13, 1, 2, 3, 6, 7, 8, 9, 10, 12, 13, 14, 1, 2, 3, 7, 10, 12, 13, 2, 10, 14, 1, 14, 1, 14, 1, 7, 9, 11, 2, 3, 7, 9, 11, 12, 12, 1, 2, 3, 4, 5, 6, 7, 8, 9, 10, 11, 12, 13, 14, 1, 11, 10, 6, 1, 2, 3, 4, 5, 6, 7, 8, 9, 10, 11, 12, 13, 14, 1, 2, 3, 4, 5, 6, 7, 8, 9, 10, 11, 12, 13, 14, 14, 1, 2, 3, 4, 5, 6, 7, 8, 9, 10, 11, 1, 2, 3, 5, 7, 9, 10, 11, 12, 13, 14, 4, 5, 8, 9, 8, 14, 10, 2, 4, 5, 6, 8, 9, 10, 12, 10, 1, 2, 3, 4, 5, 6, 7, 8, 9, 10, 11, 12, 13, 14, 5, 1, 3, 7, 13, 1, 10, 2, 10, 7, 1, 14, 2, 4, 5, 10, 2, 1, 3, 4, 5, 6, 7, 8, 14, 3, 4, 7, 8, 13, 8, 6, 3, 13, 11, 7, 10, 2, 3, 10, 2, 10, 8, 1, 2, 3, 4, 5, 6, 7, 8, 9, 10, 11, 12, 13, 14, 10, 12, 12, 1, 3, 12, 8, 3, 11, 12, 4, 11, 1, 3, 1, 2, 5, 6, 8, 9, 10, 12, 14, 1, 2, 3, 13, 2, 3, 6, 7, 10, 14, 1, 2, 3, 4, 5, 6, 7, 8, 9, 10, 11, 12, 13, 1, 6, 7, 9, 13, 12, 1, 2, 3, 4, 5, 6, 7, 8, 9, 10, 11, 12, 13, 14, 4, 5, 6, 9, 12, 4, 4, 4, 5, 6, 9, 4, 5, 6, 9, 11, 12, 2, 4, 5, 8, 9, 10, 11, 12, 1, 2, 3, 6, 7, 9, 10, 11, 12, 13, 14, 1, 6, 7, 9, 13, 1, 7, 13, 10, 3, 1, 11, 12, 14, 11, 5, 7, 8, 4, 5, 8, 11, 6, 1, 2, 3, 4, 5, 6, 7, 8, 12, 13, 14, 8, 4, 5, 6, 9, 10, 12, 2, 4, 6, 10, 12, 4, 5, 9, 1, 2, 3, 4, 5, 6, 7, 8, 9, 10, 11, 12, 13, 14, 1, 6, 7, 3, 10, 2, 4, 5, 6, 8, 9, 10, 11, 13, 14, 1, 2, 3, 4, 5, 6, 7, 8, 9, 10, 11, 12, 13, 14, 1, 4, 6, 7, 8, 9, 10, 13, 12, 13, 1, 2, 3, 4, 5, 6, 7, 8, 9, 10, 11, 12, 13, 14, 2, 3, 4, 5, 6, 7, 8, 9, 10, 11, 12, 1, 3, 6, 7, 8, 9, 12, 13, 14, 2, 4, 5, 6, 8, 9, 10, 11, 12, 8, 9, 4, 9, 14, 1, 2, 3, 4, 5, 6, 7, 8, 9, 10, 11, 12, 13, 14, 1, 3, 8, 12, 13, 4, 14, 1, 2, 3, 8, 9, 10, 12, 13, 14, 3, 12, 13, 6, 2, 12, 1, 14, 1, 14, 1, 14, 1, 11, 11, 13, 1, 2, 3, 4, 5, 6, 7, 8, 9, 10, 11, 12, 13, 14, 13, 1, 3, 7, 8, 9, 10, 12, 13, 14, 1, 3, 12, 13, 14, 3, 1, 2, 3, 7, 9, 10, 13, 1, 2, 3, 7, 10, 12, 13, 14, 1, 2, 3, 4, 5, 6, 7, 8, 9, 10, 11, 12, 13, 14, 9, 6, 1, 6, 7, 13, 14, 1, 3, 4, 6, 9, 11, 12, 13, 14, 3, 1, 12, 14, 4, 11, 1, 2, 3, 10, 1, 2, 3, 4, 5, 6, 7, 8, 9, 10, 11, 12, 13, 14, 1, 2, 3, 13, 8, 1, 2, 4, 5, 8, 10, 11, 4, 10, 13, 1, 2, 3, 4, 5, 7, 8, 9, 10, 11, 12, 13, 14, 11, 11, 14, 9, 1, 6, 10, 2, 4, 5, 8, 9, 12, 9, 9, 10, 11, 6, 1, 3, 13, 14, 7, 13, 1, 13, 1, 6, 7, 9, 13, 1, 2, 3, 6, 7, 10, 11, 13, 14, 1, 6, 7, 13, 6, 1, 7, 9, 13, 4, 4, 5, 6, 8, 5, 2, 5, 8, 9, 10, 12, 6, 7, 5, 1, 4, 5, 6, 7, 8, 9, 12, 13, 1, 4, 6, 7, 8, 9, 11, 12, 9, 4, 5, 12, 4, 5, 6, 12, 3, 2, 5, 9, 1, 7, 14, 1, 6, 7, 8, 9, 10, 13, 2, 4, 5, 6, 7, 8, 9, 10, 11, 14, 1, 2, 3, 4, 5, 6, 7, 8, 9, 10, 11, 12, 13, 14, 2, 6, 9, 10, 13, 4, 1, 13, 14, 1, 3, 5, 6, 7, 8, 12, 14, 1, 2, 3, 4, 5, 6, 7, 8, 9, 11, 12, 13, 14, 2, 3, 10, 1, 14, 13, 1, 2, 3, 4, 5, 6, 7, 8, 9, 10, 11, 12, 13, 14, 1, 3, 12, 13, 14, 2, 4, 5, 6, 8, 9, 10, 11, 12, 1, 14, 1, 7, 10, 12, 13, 14, 8, 2, 7, 1, 2, 3, 4, 5, 6, 7, 8, 9, 10, 11, 12, 13, 14, 1, 5, 8, 14, 8, 8, 9, 7, 7, 9, 1, 14, 2, 7, 9, 10, 4, 5, 6, 9, 2, 8, 14, 4, 1, 3, 6, 7, 12, 13, 14, 1, 3, 7, 12, 13, 14, 3, 1, 2, 3, 4, 7, 8, 9, 10, 11, 12, 13, 14, 1, 2, 3, 4, 7, 9, 10, 12, 13, 14, 2, 3, 10, 11, 9, 2, 11, 6, 4, 5, 6, 8, 9, 11, 4, 5, 9, 11, 4, 5, 8, 4, 4, 5, 9, 5, 13, 4, 11, 12, 4, 5, 11, 12, 2, 5, 4, 1, 2, 3, 4, 5, 6, 7, 8, 9, 10, 11, 12, 13, 6, 11, 1, 1, 3, 4, 7, 8, 9, 13, 1, 3, 6, 7, 8, 9, 12, 13, 14, 7, 13, 2, 3, 10, 14, 5, 5, 1, 1, 2, 3, 7, 11, 12, 13, 1, 2, 3, 5, 13, 3, 3, 1, 2, 3, 7, 9, 10, 12, 13, 14, 5, 12, 7, 1, 3, 11, 12, 13, 12, 14, 7, 6, 7, 2, 2, 3, 4, 5, 6, 7, 8, 9, 10, 3, 2, 4, 5, 8, 9, 10, 6, 2, 13, 3, 13, 8, 4, 5, 8, 9, 4, 11, 7, 7, 4, 1, 2, 3, 4, 5, 6, 7, 8, 9, 10, 11, 12, 13, 14, 1, 2, 3, 4, 5, 6, 7, 8, 9, 10, 11, 12, 13, 14, 1, 2, 3, 4, 5, 6, 7, 8, 9, 10, 11, 12, 13, 14, 13, 13, 6, 7, 13, 12, 3, 7, 14, 1, 2, 3, 4, 5, 6, 7, 8, 9, 10, 11, 12, 14, 2, 5, 1, 2, 3, 4, 5, 6, 7, 8, 9, 10, 11, 12, 13, 14, 9, 4, 5, 8, 10, 13, 14, 1, 3, 13, 4, 6, 6, 9, 11, 1, 2, 3, 6, 7, 10, 13, 14, 1, 2, 4, 5, 7, 8, 9, 10, 2, 4, 5, 8, 9, 7, 12, 13, 13, 5, 8, 11, 5, 11, 1, 3, 7, 9, 12, 13, 14, 1, 3, 7, 8, 12, 13, 14, 11, 11, 11, 7, 13, 2, 5, 12, 13, 10, 8, 10, 2, 4, 5, 8, 9, 10, 12, 2, 4, 8, 10, 2, 9, 2, 9, 1, 2, 3, 12, 2, 3, 7, 9, 11, 1, 14, 8, 1, 2, 3, 4, 5, 6, 7, 8, 9, 10, 11, 12, 13, 14, 1, 2, 6, 7, 8, 9, 13, 1, 7, 9, 12, 2, 2, 6, 7, 7, 8, 1, 2, 3, 4, 5, 6, 7, 8, 9, 10, 11, 12, 14, 2, 1, 2, 3, 4, 5, 6, 7, 8, 9, 10, 11, 12, 13, 14, 6, 2, 5, 8, 9, 10, 14, 1, 2, 3, 4, 5, 6, 7, 8, 9, 10, 11, 12, 13, 14, 4, 9, 4, 2, 4, 5, 6, 7, 8, 9, 10, 3, 5, 8, 1, 2, 3, 4, 5, 6, 7, 8, 9, 10, 11, 12, 13, 14, 11, 1, 7, 3, 9, 13, 1, 3, 7, 13, 14, 1, 3, 7, 12, 13, 14, 1, 3, 7, 12, 13, 14, 2, 1, 2, 3, 7, 8, 10, 12, 14, 10, 13, 1, 3, 10, 1, 2, 3, 4, 5, 6, 7, 8, 9, 10, 11, 12, 13, 1, 3, 12, 13, 1, 2, 3, 4, 5, 6, 7, 8, 9, 10, 11, 12, 13, 14, 2, 4, 5, 8, 9, 10, 4, 5, 6, 8, 9, 11, 12, 4, 5, 4, 5, 8, 9, 11, 12, 7, 1, 4, 6, 7, 8, 9, 11, 12, 13, 1, 4, 6, 7, 12, 13, 1, 4, 6, 7, 9, 12, 13, 1, 2, 3, 4, 5, 6, 7, 8, 9, 10, 11, 12, 13, 5, 7, 5, 1, 2, 3, 4, 5, 6, 7, 8, 9, 10, 11, 12, 13, 14, 8, 1, 2, 4, 5, 9, 12, 2, 4, 5, 9, 2, 4, 5, 8, 9, 10, 11, 12, 1, 1, 2, 7, 5, 5, 6, 7, 8, 5, 5, 14, 1, 3, 4, 5, 6, 7, 8, 9, 12, 13, 14, 1, 3, 4, 5, 6, 7, 8, 9, 10, 11, 12, 13, 14, 1, 2, 3, 4, 5, 6, 8, 9, 11, 12, 1, 2, 3, 4, 5, 6, 7, 8, 9, 10, 11, 12, 13, 14, 1, 2, 3, 4, 5, 6, 7, 8, 9, 10, 11, 12, 13, 14, 1, 2, 3, 4, 5, 6, 7, 8, 9, 10, 11, 12, 13, 14, 10, 6, 2, 4, 5, 8, 9, 11, 12, 1, 2, 3, 4, 5, 6, 7, 8, 9, 10, 11, 12, 13, 14, 1, 2, 3, 4, 5, 6, 7, 8, 9, 10, 11, 12, 13, 14, 7, 1, 3, 4, 6, 7, 8, 9, 11, 12, 13, 14, 14, 5, 1, 7, 8, 1, 7], \"Freq\": [0.996030330657959, 0.011873087845742702, 0.9557835459709167, 0.029682718217372894, 0.9934465289115906, 0.008207747712731361, 0.6634595990180969, 0.32557401061058044, 0.0006839790148660541, 0.0006839790148660541, 0.0006839790148660541, 0.9920377731323242, 0.002397378673776984, 0.27569854259490967, 0.7176153063774109, 0.0007991261663846672, 0.003995630890130997, 0.009192396886646748, 0.18660564720630646, 0.0009192396537400782, 0.009192396886646748, 0.011950115673244, 0.20131348073482513, 0.505581796169281, 0.005515438038855791, 0.03768882527947426, 0.0009192396537400782, 0.02665795013308525, 0.0027577190194278955, 0.001096760737709701, 0.6372179985046387, 0.35096344351768494, 0.009870846755802631, 0.9966186285018921, 0.9902359843254089, 0.9742163419723511, 0.016270576044917107, 0.9762346148490906, 0.9942846894264221, 0.888750433921814, 0.10137709975242615, 0.00012598645116668195, 4.199548493488692e-05, 0.0009658961207605898, 0.0032336523290723562, 0.005417417269200087, 0.8489322662353516, 0.14379818737506866, 0.0010458050528541207, 0.00366031751036644, 0.0023530612234026194, 0.9860590100288391, 0.9778689742088318, 0.007085427641868591, 0.20689448714256287, 0.002479899674654007, 0.09069347381591797, 0.04747236520051956, 0.34576886892318726, 0.0017713569104671478, 0.07156281918287277, 0.1930779069662094, 0.020902011543512344, 0.006022613495588303, 0.004959799349308014, 0.00035427138209342957, 0.0010628141462802887, 0.2748625576496124, 0.06896550953388214, 0.05197400972247124, 0.04097950831055641, 0.0979510173201561, 0.001999000320211053, 0.001999000320211053, 0.002998500596731901, 0.4527735710144043, 0.005997001193463802, 0.9925448298454285, 0.015017839148640633, 0.024603694677352905, 0.06646192818880081, 0.8189515471458435, 0.07381108403205872, 0.00031952850986272097, 0.0006390570197254419, 0.031118188053369522, 0.9646638035774231, 0.9873751401901245, 0.9934550523757935, 0.003788748988881707, 0.013260621577501297, 0.0018943744944408536, 0.9737085103988647, 0.003788748988881707, 0.0018943744944408536, 0.001605269848369062, 0.1492900848388672, 0.001605269848369062, 0.8443719148635864, 0.001605269848369062, 0.014560732059180737, 0.9755690693855286, 0.9869343042373657, 0.104681096971035, 0.8301792144775391, 0.06251787394285202, 0.018976783379912376, 0.012837235815823078, 0.0005581406876444817, 0.4057682752609253, 0.208744615316391, 0.005581406876444817, 0.016186080873012543, 0.03013959713280201, 0.040744271129369736, 0.0022325627505779266, 0.21823300421237946, 0.034046582877635956, 0.0011162813752889633, 0.005581406876444817, 0.9877638220787048, 0.00564436474815011, 0.9875262975692749, 0.815936803817749, 0.13181231915950775, 0.003713022917509079, 0.0018565114587545395, 0.03713022917509079, 0.009282557293772697, 0.9116012454032898, 0.06472907960414886, 0.020227838307619095, 0.0013485224917531013, 0.976469099521637, 0.009041381068527699, 0.1716068834066391, 0.041001010686159134, 0.08227355033159256, 0.19522997736930847, 0.0681539997458458, 0.02498074807226658, 0.05756433308124542, 0.044802431017160416, 0.03747112303972244, 0.019007092341780663, 0.1460830718278885, 0.05783586576581001, 0.04941843822598457, 0.004072948358952999, 0.37786197662353516, 0.07526828348636627, 0.019767427816987038, 0.043336283415555954, 0.0415622815489769, 0.1239265650510788, 0.1538311392068863, 0.01850028522312641, 0.055500853806734085, 0.05398028343915939, 0.012417999096214771, 0.013938570395112038, 0.004815142601728439, 0.0050685713067650795, 0.9962146282196045, 0.9989159107208252, 0.98775714635849, 0.9926766753196716, 0.2715708613395691, 0.0007306839688681066, 0.7216721773147583, 0.00024356132780667394, 0.00024356132780667394, 0.00024356132780667394, 0.0007306839688681066, 0.0026791745331138372, 0.0007306839688681066, 0.00024356132780667394, 0.0007306839688681066, 0.9822407364845276, 0.9954589009284973, 0.9962767362594604, 0.9954996109008789, 0.04017573222517967, 0.34007909893989563, 0.5313382148742676, 0.08657587319612503, 0.0005658554146066308, 0.991339921951294, 0.7951693534851074, 0.0840105190873146, 0.009117420762777328, 0.014978620223701, 0.0957329198718071, 0.9226574897766113, 0.052773308008909225, 0.005002209451049566, 0.0122554125264287, 0.005752540659159422, 0.0015006627654656768, 0.9938693046569824, 0.9957671165466309, 0.9901183247566223, 0.007616294547915459, 0.9604973196983337, 0.0280437171459198, 0.4345564544200897, 0.09118390828371048, 0.017194680869579315, 0.000521050940733403, 0.003647356294095516, 0.001042101881466806, 0.002605254529044032, 0.000521050940733403, 0.002605254529044032, 0.004689458291977644, 0.000521050940733403, 0.44080907106399536, 0.8864203691482544, 0.012811857275664806, 0.008808151818811893, 0.0008007410797290504, 0.0008007410797290504, 0.0032029643189162016, 0.0008007410797290504, 0.0008007410797290504, 0.08567929267883301, 0.245378777384758, 0.003093009814620018, 0.4175563156604767, 0.022166570648550987, 0.0020620066206902266, 0.004124013241380453, 0.016496052965521812, 0.014949548058211803, 0.0036085115280002356, 0.07526323944330215, 0.1907356083393097, 0.004124013241380453, 0.9887389540672302, 0.0036217544693499804, 0.9810051321983337, 0.01414911262691021, 0.9898907542228699, 0.018688185140490532, 0.9797948598861694, 0.9936166405677795, 0.9905123114585876, 0.016929740086197853, 0.9734600186347961, 0.007762139663100243, 0.9857917428016663, 0.49538281559944153, 0.07521054148674011, 0.12258725613355637, 0.024280568584799767, 0.061787135899066925, 0.04984425753355026, 0.029314344748854637, 0.02655070275068283, 0.021220821887254715, 0.018654583021998405, 0.01648315042257309, 0.021813031286001205, 0.023787060752511024, 0.013226000592112541, 0.24817466735839844, 0.17172014713287354, 0.059953540563583374, 0.051483042538166046, 0.13123774528503418, 0.09449557960033417, 0.05324314534664154, 0.041252437978982925, 0.03520207852125168, 0.048952892422676086, 0.030031774193048477, 0.015510916709899902, 0.008580506779253483, 0.01023060455918312, 0.9927085638046265, 0.9875214695930481, 0.9945915341377258, 0.00300785806030035, 0.03985412046313286, 0.0007519645150750875, 0.0007519645150750875, 0.9549949169158936, 0.0005058658425696194, 0.0030351951718330383, 0.9960498809814453, 0.10961689054965973, 0.18827056884765625, 0.09947377443313599, 0.1156671792268753, 0.10605790466070175, 0.07135774940252304, 0.08417011797428131, 0.08701730519533157, 0.041284285485744476, 0.04217403382062912, 0.025624727830290794, 0.0234893336892128, 0.004270788282155991, 0.0014235960552468896, 0.019355913624167442, 0.9316085577011108, 0.000841561472043395, 0.046285878866910934, 0.0008813119493424892, 0.969443142414093, 0.028201982378959656, 0.9973148107528687, 0.16187156736850739, 0.003112914739176631, 0.7439866065979004, 0.08171401172876358, 0.0007782286847941577, 0.007004057988524437, 0.9849517941474915, 0.008873439393937588, 0.0012916213599964976, 0.1459532082080841, 0.0012916213599964976, 0.0038748641964048147, 0.0012916213599964976, 0.010332970879971981, 0.0051664854399859905, 0.0077497283928096294, 0.0038748641964048147, 0.8059717416763306, 0.0116245923563838, 0.9942238330841064, 0.1326916515827179, 0.8645062446594238, 0.06506218016147614, 0.03253109008073807, 0.1580081582069397, 0.02323649264872074, 0.7110366821289062, 0.020046047866344452, 0.0028637212235480547, 0.9708014726638794, 0.07063613086938858, 0.008614161983132362, 0.00516849709674716, 0.008614161983132362, 0.06719046086072922, 0.8355737328529358, 0.0017228324431926012, 0.10492223501205444, 0.386104553937912, 0.018529312685132027, 0.06276804953813553, 0.1348007470369339, 0.018529312685132027, 0.0023161640856415033, 0.09241494536399841, 0.05535631999373436, 0.09357302635908127, 0.007643341552466154, 0.017602847889065742, 0.0013896984746679664, 0.003937479108572006, 0.00043448738870210946, 0.17509841918945312, 0.03258655592799187, 0.35019683837890625, 0.02085539512336254, 0.01042769756168127, 0.0013034621952101588, 0.14729122817516327, 0.0508350245654583, 0.13947045803070068, 0.06430413573980331, 0.004779361188411713, 0.0008689747774042189, 0.0013034621952101588, 0.9889340996742249, 0.9929468035697937, 0.08396915346384048, 0.08396915346384048, 0.08905819058418274, 0.012722599320113659, 0.7124655246734619, 0.010178078897297382, 0.00763355940580368, 0.9944400191307068, 0.9882973432540894, 0.9916423559188843, 0.06137087941169739, 0.13365213572978973, 0.8019128441810608, 0.0013637973461300135, 0.9960927367210388, 0.17785395681858063, 0.8154435753822327, 0.00335573498159647, 0.990358829498291, 0.9845461845397949, 0.9846899509429932, 0.09529297798871994, 0.9006723165512085, 0.014457829296588898, 0.9802408218383789, 0.0028915659058839083, 0.007530456408858299, 0.0030121824238449335, 0.9834775924682617, 0.006024364847689867, 0.9939772486686707, 0.9888413548469543, 0.9870882034301758, 0.9951732158660889, 0.007068492937833071, 0.991945207118988, 0.21737340092658997, 0.30097854137420654, 0.028140271082520485, 0.0993066057562828, 0.0795268565416336, 0.022226735949516296, 0.006729195360094309, 0.05485313758254051, 0.09298524260520935, 0.052202243357896805, 0.006729195360094309, 0.023858055472373962, 0.0018352350452914834, 0.013458390720188618, 0.9920452833175659, 0.09575944393873215, 0.0006426808540709317, 0.0012853617081418633, 0.0006426808540709317, 0.03534744679927826, 0.0006426808540709317, 0.0012853617081418633, 0.4710850417613983, 0.39267799258232117, 0.1369173675775528, 0.8270926475524902, 0.03073655068874359, 0.9917076826095581, 0.9955007433891296, 0.003851834684610367, 0.003851834684610367, 0.8319962620735168, 0.15792521834373474, 0.987860918045044, 0.01117128599435091, 0.12453543394804001, 0.865521252155304, 0.0030658147297799587, 0.0028468279633671045, 0.0004379735328257084, 0.0008759470656514168, 0.9429570436477661, 0.005912642925977707, 0.0030658147297799587, 0.02211766503751278, 0.007883523590862751, 0.00503669586032629, 0.0013139205984771252, 0.0017518941313028336, 0.0028468279633671045, 0.993768572807312, 0.9875154495239258, 0.9844310283660889, 0.029426468536257744, 0.001050945371389389, 0.0031528358813375235, 0.8460109829902649, 0.008407562971115112, 0.004203781485557556, 0.03257930651307106, 0.018917014822363853, 0.001050945371389389, 0.05359821021556854, 0.016841735690832138, 0.9768206477165222, 0.055412497371435165, 0.516291618347168, 0.05999835953116417, 0.026368705555796623, 0.02675086073577404, 0.01643267087638378, 0.11311792582273483, 0.037833359092473984, 0.015668360516428947, 0.0672593042254448, 0.04241922125220299, 0.014139740727841854, 0.0068787927739322186, 0.0015286206034943461, 0.9835758805274963, 0.9897035956382751, 0.009471550583839417, 0.000861050037201494, 0.6208170652389526, 0.2850075662136078, 0.06974505633115768, 0.004305250011384487, 0.010332600213587284, 0.06420031189918518, 0.01936199888586998, 0.027514418587088585, 0.00815242063254118, 0.1467435657978058, 0.00815242063254118, 0.024457260966300964, 0.002038105158135295, 0.6786890029907227, 0.013247683644294739, 0.005095263011753559, 0.0023553085047751665, 0.007065925747156143, 0.9774530529975891, 0.009421234019100666, 0.07338542491197586, 0.029153112322092056, 0.002010559430345893, 0.0010052797151729465, 0.06835902482271194, 0.056295666843652725, 0.002010559430345893, 0.7238014340400696, 0.002010559430345893, 0.04021118953824043, 0.002010559430345893, 0.9910719990730286, 0.9574845433235168, 0.02523362636566162, 0.00015480752335861325, 0.002476920373737812, 0.0026317278388887644, 0.01192017924040556, 0.9592809677124023, 0.01540130004286766, 0.002200185786932707, 0.022001856938004494, 0.9860119223594666, 0.0543363057076931, 0.007409496232867241, 0.012349160388112068, 0.8348032236099243, 0.06668546795845032, 0.014818992465734482, 0.004939664155244827, 0.9914016127586365, 0.015933047980070114, 0.0005901129334233701, 0.5535259246826172, 0.37708213925361633, 0.0011802258668467402, 0.0017703387420624495, 0.05015959590673447, 0.0026374778244644403, 0.7189010977745056, 0.25922638177871704, 0.0007535651093348861, 0.01808556169271469, 0.9963071346282959, 0.855557382106781, 0.006003911141306162, 0.0277680903673172, 0.0007504888926632702, 0.062290579080581665, 0.04352835565805435, 0.0007504888926632702, 0.003001955570653081, 0.9886863827705383, 0.0018292069435119629, 0.00640222430229187, 0.0018292069435119629, 0.9903119802474976, 0.9403530359268188, 0.022149642929434776, 0.036244869232177734, 0.9905734062194824, 0.00883329939097166, 0.026499899104237556, 0.005888866726309061, 0.7302194237709045, 0.0029444333631545305, 0.00883329939097166, 0.15605495870113373, 0.0029444333631545305, 0.055944230407476425, 0.05661379173398018, 0.0058972700498998165, 0.050716523081064224, 0.003538361983373761, 0.5142419338226318, 0.0023589080665260553, 0.0011794540332630277, 0.2111222743988037, 0.0011794540332630277, 0.15214957296848297, 0.9885947108268738, 0.06174164265394211, 0.06900536268949509, 0.02905488945543766, 0.0326867513358593, 0.7663227319717407, 0.03631861135363579, 0.0036318611819297075, 0.05620560795068741, 0.9401665329933167, 0.9881516098976135, 0.9818906784057617, 0.9793408513069153, 0.992644727230072, 0.9919697046279907, 0.7594826817512512, 0.006588283460587263, 0.1449422389268875, 0.00036601576721295714, 0.00036601576721295714, 0.00036601576721295714, 0.0018300787778571248, 0.004026173148304224, 0.00036601576721295714, 0.028915245085954666, 0.011346488259732723, 0.008418362587690353, 0.005124220624566078, 0.028183212503790855, 0.9834644794464111, 0.0014959312975406647, 0.007479656022042036, 0.9678674936294556, 0.004487793892621994, 0.014959312044084072, 0.0029918625950813293, 0.0003261610399931669, 0.03457307070493698, 0.0019569662399590015, 0.03163762018084526, 0.4367296099662781, 0.007175542414188385, 0.0019569662399590015, 0.15296952426433563, 0.0016308051999658346, 0.1774315983057022, 0.03424690663814545, 0.11904877424240112, 0.0003261610399931669, 0.003159431042149663, 0.9399306774139404, 0.009478292427957058, 0.04265231639146805, 0.003159431042149663, 0.0155689911916852, 0.6735637187957764, 0.18600846827030182, 0.003277682466432452, 0.022124355658888817, 0.09259452670812607, 0.005735944025218487, 0.016075555235147476, 0.0020094444043934345, 0.9364010095596313, 0.006028332747519016, 0.0020094444043934345, 0.03616999834775925, 0.9916211366653442, 0.9946465492248535, 0.06719571352005005, 0.8819437623023987, 0.04619705304503441, 0.9941304326057434, 0.4634077847003937, 0.0005623881006613374, 0.47296836972236633, 0.006748656742274761, 0.003936716355383396, 0.0011247762013226748, 0.0022495524026453495, 0.0033743283711373806, 0.0011247762013226748, 0.021370746195316315, 0.01855880580842495, 0.004499104805290699, 0.021520353853702545, 0.9770240783691406, 0.9884422421455383, 0.9947879314422607, 0.013209703378379345, 0.9841228723526001, 0.2671505808830261, 0.002872586715966463, 0.02010810747742653, 0.002872586715966463, 0.709528923034668, 0.9880391955375671, 0.9298766851425171, 0.029434945434331894, 0.0013379519805312157, 0.006689760368317366, 0.016055423766374588, 0.016055423766374588, 0.9794586896896362, 0.10402596741914749, 0.004000998567789793, 0.8882217407226562, 0.07230436056852341, 0.007610985077917576, 0.9171236753463745, 0.9946469068527222, 0.0019224687712267041, 0.9958388209342957, 0.22202500700950623, 0.7742410898208618, 0.8988047242164612, 0.013084502890706062, 0.029188506305217743, 0.040260009467601776, 0.013084502890706062, 0.00201300042681396, 0.00201300042681396, 0.9949508309364319, 0.9961018562316895, 0.9884124398231506, 0.9850183725357056, 0.16845330595970154, 0.004954509437084198, 0.05839243158698082, 0.10369080305099487, 0.03043484315276146, 0.0003538935270626098, 0.0017694676062092185, 0.568352997303009, 0.012032379396259785, 0.014509634114801884, 0.001061680493876338, 0.00920123141258955, 0.02477254532277584, 0.0017694676062092185, 0.9845819473266602, 0.09554775804281235, 0.01146573107689619, 0.8790393471717834, 0.007643820717930794, 0.06066504865884781, 0.18632836639881134, 0.7301471829414368, 0.019499478861689568, 0.02878919616341591, 0.9692362546920776, 0.008733055554330349, 0.9781022667884827, 0.9955310225486755, 0.9863280653953552, 0.12424379587173462, 0.043340858072042465, 0.0057787811383605, 0.00288939056918025, 0.07801354676485062, 0.7310158014297485, 0.00288939056918025, 0.0057787811383605, 0.00288939056918025, 0.16968585550785065, 0.08528253436088562, 0.07561131566762924, 0.341569721698761, 0.10550416260957718, 0.006154409609735012, 0.00483560748398304, 0.00967121496796608, 0.17056506872177124, 0.00967121496796608, 0.006594010163098574, 0.007033610716462135, 0.007473211735486984, 0.9913291931152344, 0.009202836081385612, 0.9847034811973572, 0.8849191069602966, 0.0755661278963089, 0.004971455782651901, 0.029828734695911407, 0.0029828734695911407, 0.98857182264328, 0.9779933094978333, 0.012619268149137497, 0.05358821153640747, 0.006698526442050934, 0.0016746316105127335, 0.13397052884101868, 0.6815750598907471, 0.030143368989229202, 0.08540621399879456, 0.003349263221025467, 0.19501802325248718, 0.1154039204120636, 0.00438242731615901, 0.02264254167675972, 0.010956068523228168, 0.06281479448080063, 0.11686473339796066, 0.002921618288382888, 0.02264254167675972, 0.42728668451309204, 0.000730404572095722, 0.014608091674745083, 0.0036520229186862707, 0.9906358122825623, 0.8541176915168762, 0.13968144357204437, 0.0007632866036146879, 0.0030531464144587517, 0.0015265732072293758, 0.009528092108666897, 0.004764046054333448, 0.7622473239898682, 0.03176030516624451, 0.04446442797780037, 0.0841648131608963, 0.006352060940116644, 0.05399252101778984, 0.9900158047676086, 0.006765483878552914, 0.9985801577568054, 0.9954833388328552, 0.9781576991081238, 0.005740253254771233, 0.9930638074874878, 0.008781971409916878, 0.9791898727416992, 0.004390985704958439, 0.20848840475082397, 0.7760401964187622, 0.015443585813045502, 0.007045239210128784, 0.806679904460907, 0.10215596854686737, 0.007045239210128784, 0.003522619605064392, 0.07397501170635223, 0.4243476390838623, 0.05363151803612709, 0.013172653503715992, 0.0028227115981280804, 0.03951796144247055, 0.36318889260292053, 0.030108923092484474, 0.07244959473609924, 0.0009409038466401398, 0.9954825043678284, 0.9872395992279053, 0.027152495458722115, 0.013576247729361057, 0.10860998183488846, 0.05430499091744423, 0.04751686751842499, 0.006788123864680529, 0.7172784209251404, 0.009050832130014896, 0.015838954597711563, 0.9800022840499878, 0.0038228612393140793, 0.007645722478628159, 0.9824753403663635, 0.04166047275066376, 0.006943412125110626, 0.05554729700088501, 0.8957001566886902, 0.9884510636329651, 0.0017926505533978343, 0.014341204427182674, 0.982372522354126, 0.9857432842254639, 0.9839978814125061, 0.15733693540096283, 0.020251289010047913, 0.06075386703014374, 0.0015577914891764522, 0.0031155829783529043, 0.006231165956705809, 0.007788957096636295, 0.021809080615639687, 0.6885437965393066, 0.004673374351114035, 0.024924663826823235, 0.03508399799466133, 0.9613015055656433, 0.9811602234840393, 0.017520718276500702, 0.008928099647164345, 0.002678429940715432, 0.005356859881430864, 0.13838554918766022, 0.058032646775245667, 0.0035712397657334805, 0.01607057824730873, 0.15445612370967865, 0.0017856198828667402, 0.0017856198828667402, 0.591933012008667, 0.01696338877081871, 0.0017856198828667402, 0.995124876499176, 0.24126586318016052, 0.06366737931966782, 0.006701829843223095, 0.0670183002948761, 0.11728201806545258, 0.0033509149216115475, 0.0904747024178505, 0.40713614225387573, 0.9903528690338135, 0.9884673953056335, 0.005814514122903347, 0.1260100156068802, 0.8720693588256836, 0.9913819432258606, 0.9890118837356567, 0.024207696318626404, 0.09242938458919525, 0.8714770674705505, 0.002200699644163251, 0.006602099165320396, 0.047099050134420395, 0.946262776851654, 0.0866190493106842, 0.9104214906692505, 0.0016642195405438542, 0.0033284390810877085, 0.09818895161151886, 0.7197749614715576, 0.004160549025982618, 0.008321098051965237, 0.07405777275562286, 0.015810085460543633, 0.0024963293690234423, 0.05491924285888672, 0.010817427188158035, 0.005824768450111151, 0.9792704582214355, 0.01573125272989273, 0.9785330891609192, 0.9941524863243103, 0.2158265858888626, 0.016861451789736748, 0.6896333694458008, 0.05564279109239578, 0.018547598272562027, 0.0016861452022567391, 0.9969922304153442, 0.03516742214560509, 0.029306184500455856, 0.8557405471801758, 0.07619607448577881, 0.9855213165283203, 0.012474953196942806, 0.003932572435587645, 0.25219205021858215, 0.014208003878593445, 0.19853147864341736, 0.20335204899311066, 0.0065965731628239155, 0.005074286833405495, 0.07941259443759918, 0.06939087808132172, 0.014081146568059921, 0.07814402133226395, 0.07065944373607635, 0.002029714873060584, 0.0025371434167027473, 0.9879686832427979, 0.9895977973937988, 0.031767599284648895, 0.010589199140667915, 0.018290435895323753, 0.22237318754196167, 0.12225712090730667, 0.0019253089558333158, 0.01732777990400791, 0.020215744152665138, 0.03465555980801582, 0.009626545011997223, 0.4909537732601166, 0.011551854200661182, 0.006738581229001284, 0.0009626544779166579, 0.027985185384750366, 0.009994708932936192, 0.09195132553577423, 0.010994180105626583, 0.2548650801181793, 0.0009994709398597479, 0.5996825695037842, 0.0019989418797194958, 0.9873489737510681, 0.9867158532142639, 0.0061641414649784565, 0.7230538129806519, 0.16704824566841125, 0.010479040443897247, 0.01787601038813591, 0.05239520221948624, 0.007396969944238663, 0.0012328283628448844, 0.01294469740241766, 0.0006164141814224422, 0.9871581792831421, 0.9927997589111328, 0.993686854839325, 0.01608278416097164, 0.9821985960006714, 0.091002456843853, 0.9035243988037109, 0.12405383586883545, 0.0630437508225441, 0.00813467800617218, 0.00406733900308609, 0.7971984148025513, 0.984805166721344, 0.019598808139562607, 0.9785404801368713, 0.20365631580352783, 0.12423034757375717, 0.050461508333683014, 0.061549462378025055, 0.044578105211257935, 0.11540524661540985, 0.11065325886011124, 0.06019175425171852, 0.10839041322469711, 0.05295063927769661, 0.023533618077635765, 0.010182815603911877, 0.030774731189012527, 0.00339427194558084, 0.21411694586277008, 0.018338719382882118, 0.11151924729347229, 0.0153648741543293, 0.0014869233127683401, 0.4009736478328705, 0.10904104262590408, 0.018338719382882118, 0.0029738466255366802, 0.0029738466255366802, 0.06294641643762589, 0.040146928280591965, 0.001982564339414239, 0.18781162798404694, 0.008536892011761665, 0.6552064418792725, 0.1323218196630478, 0.0010671115014702082, 0.011738226749002934, 0.0010671115014702082, 0.9849714636802673, 0.06443948298692703, 0.7335132360458374, 0.198802649974823, 0.0013710528146475554, 0.008535322733223438, 0.8890961408615112, 0.08772414922714233, 0.00047418460599146783, 0.01422553788870573, 0.004562215879559517, 0.9391646981239319, 0.04888088256120682, 0.0006517451256513596, 0.007169196382164955, 0.05918377637863159, 0.9370764493942261, 0.9854099154472351, 0.20909561216831207, 0.020235057920217514, 0.765559732913971, 0.0033725097309798002, 0.9875576496124268, 0.984054446220398, 0.985131025314331, 0.0537014864385128, 0.002148059429600835, 0.002148059429600835, 0.01217233669012785, 0.0014320396585389972, 0.46970900893211365, 0.2634952962398529, 0.0486893467605114, 0.00859223771840334, 0.0007160198292694986, 0.04582526907324791, 0.005012138746678829, 0.08520635962486267, 0.0007160198292694986, 0.6092901229858398, 0.0591639019548893, 0.035629089921712875, 0.004903085995465517, 0.01797798089683056, 0.11767406016588211, 0.06733570992946625, 0.04249341040849686, 0.0019612342584878206, 0.006210575345903635, 0.0026149791665375233, 0.0026149791665375233, 0.018958598375320435, 0.013728640042245388, 0.7617440819740295, 0.15593235194683075, 0.012590810656547546, 0.040193744003772736, 0.00048426195280626416, 0.00048426195280626416, 0.0019370478112250566, 0.020339002832770348, 0.006295405328273773, 0.12094909697771072, 0.1190851554274559, 0.07186530530452728, 0.15325741469860077, 0.0809779092669487, 0.08242763578891754, 0.04556301608681679, 0.04224934056401253, 0.1072801947593689, 0.0476340614259243, 0.05074063315987587, 0.04866958409547806, 0.024438345804810524, 0.004763406235724688, 0.9888890981674194, 0.16622407734394073, 0.003821243066340685, 0.0019106215331703424, 0.038212429732084274, 0.16240282356739044, 0.0019106215331703424, 0.005731864832341671, 0.6133095026016235, 0.005731864832341671, 0.9941954612731934, 0.6137417554855347, 0.06008172035217285, 0.08104045689105988, 0.0038424355443567038, 0.005938309710472822, 0.10549232363700867, 0.03073948435485363, 0.007335558999329805, 0.0024451862554997206, 0.0027944985777139664, 0.004541060421615839, 0.03318466991186142, 0.03632848337292671, 0.012575243599712849, 0.35487568378448486, 0.6437808871269226, 0.3960338532924652, 0.0022501922212541103, 0.0011250961106270552, 0.599676251411438, 0.09133370965719223, 0.13700056076049805, 0.04272060468792915, 0.004419372882694006, 0.007365621626377106, 0.07365621626377106, 0.6422821879386902, 0.0002493017236702144, 0.0002493017236702144, 0.9992013573646545, 0.9985238313674927, 0.05132121965289116, 0.006998348515480757, 0.016329478472471237, 0.013996697030961514, 0.909785270690918, 0.2516171336174011, 0.1987340748310089, 0.20066587626934052, 0.035979799926280975, 0.06109321862459183, 0.06616419553756714, 0.06930337846279144, 0.021491291001439095, 0.022698666900396347, 0.018352113664150238, 0.017869163304567337, 0.010383432731032372, 0.014971461147069931, 0.010866383090615273, 0.028384385630488396, 0.060316819697618484, 0.009757133200764656, 0.4018164575099945, 0.015079204924404621, 0.0017740241019055247, 0.00798310898244381, 0.014192192815244198, 0.3787541687488556, 0.009757133200764656, 0.03193243592977524, 0.025723349303007126, 0.014192192815244198, 0.9679676294326782, 0.0022049376275390387, 0.00661481311544776, 0.0022049376275390387, 0.01984443888068199, 0.9956574440002441, 0.018664056435227394, 0.942534863948822, 0.03732811287045479, 0.17661158740520477, 0.06884858757257462, 0.020953917875885963, 0.09279592335224152, 0.6405912041664124, 0.017100218683481216, 0.00047500606160610914, 0.003325042314827442, 0.962837278842926, 0.0014250181848183274, 0.00047500606160610914, 0.01425018161535263, 0.007995258085429668, 0.007995258085429668, 0.980751633644104, 0.5331354141235352, 0.3933553695678711, 0.0008960259146988392, 0.07168207317590714, 0.9126923084259033, 0.017503688111901283, 0.0050010536797344685, 0.06251317262649536, 0.9947361946105957, 0.03630388528108597, 0.317200630903244, 0.02273576706647873, 0.18555320799350739, 0.12688025832176208, 0.010634471662342548, 0.0022002356126904488, 0.2511935532093048, 0.006967412773519754, 0.02346917986869812, 0.0007334118708968163, 0.0084342360496521, 0.0007334118708968163, 0.006600706838071346, 0.9920085668563843, 0.9963394403457642, 0.9904799461364746, 0.00276465923525393, 0.08293978124856949, 0.00276465923525393, 0.9040436148643494, 0.00552931847050786, 0.06388507038354874, 0.8267479538917542, 0.0018789725145325065, 0.10522246360778809, 0.006867272779345512, 0.7159132361412048, 0.001716818194836378, 0.005150454584509134, 0.26782363653182983, 0.9903907775878906, 0.1195969507098198, 0.8702586889266968, 0.0025446161162108183, 0.007633848115801811, 0.24636098742485046, 0.002123801736161113, 0.01628248021006584, 0.2753862738609314, 0.006371404975652695, 0.16990412771701813, 0.2817576825618744, 0.0007079339120537043, 0.0432097353041172, 0.9314098358154297, 0.01920432783663273, 0.9926847219467163, 0.9862902760505676, 0.004858572501689196, 0.23944641649723053, 0.013874465599656105, 0.09175049513578415, 0.005370760802179575, 0.0031329437624663115, 0.38535207509994507, 0.1526191234588623, 0.011189085431396961, 0.02416842430830002, 0.0031329437624663115, 0.01521715521812439, 0.054155170917510986, 0.0013426902005448937, 0.9464776515960693, 0.051054809242486954, 0.15370769798755646, 0.000849213742185384, 0.8059038519859314, 0.011039778590202332, 0.000849213742185384, 0.000849213742185384, 0.005944496486335993, 0.021230343729257584, 0.001737773884087801, 0.001737773884087801, 0.003475547768175602, 0.05039544403553009, 0.940135657787323, 0.6875350475311279, 0.0016872024862095714, 0.03543125092983246, 0.03290044888854027, 0.0008436012431047857, 0.0016872024862095714, 0.23958276212215424, 0.9690322875976562, 0.02843126468360424, 0.0004571172466967255, 0.000914234493393451, 0.8904644250869751, 0.004571172408759594, 0.000914234493393451, 0.08365245908498764, 0.005485407076776028, 0.012342165224254131, 0.000914234493393451, 0.9269601702690125, 0.013318393379449844, 0.0026636787224560976, 0.055937252938747406, 0.9831987023353577, 0.009686687029898167, 0.009223300963640213, 0.9868932366371155, 0.9915870428085327, 0.9934174418449402, 0.9880065321922302, 0.9918709397315979, 0.9897533059120178, 0.005712307058274746, 0.9939413666725159, 0.5219520926475525, 0.022962359711527824, 0.09538210928440094, 0.0008831676677800715, 0.35238388180732727, 0.00441583851352334, 0.0021964525803923607, 0.003294678870588541, 0.4535674750804901, 0.008785810321569443, 0.0010982262901961803, 0.0010982262901961803, 0.5282468795776367, 0.0010982262901961803, 0.08158595114946365, 0.011997933499515057, 0.73667311668396, 0.004799173213541508, 0.002399586606770754, 0.16077230870723724, 0.09914340078830719, 0.10947084426879883, 0.0020654876716434956, 0.004130975343286991, 0.0020654876716434956, 0.7745578289031982, 0.006196462549269199, 0.17555226385593414, 0.09828454256057739, 0.05377833545207977, 0.10879295319318771, 0.07129235565662384, 0.17472808063030243, 0.07603143900632858, 0.05604485794901848, 0.06861373782157898, 0.034203846007585526, 0.02410753071308136, 0.02122286893427372, 0.0288466177880764, 0.008860032074153423, 0.2616690993309021, 0.19838808476924896, 0.03982952982187271, 0.046238332986831665, 0.0965118408203125, 0.10918702930212021, 0.08018125593662262, 0.02368883788585663, 0.04049414396286011, 0.04020930826663971, 0.01182068232446909, 0.012532771565020084, 0.0039402274414896965, 0.03541457653045654, 0.9875881671905518, 0.007317518815398216, 0.9805475473403931, 0.007317518815398216, 0.13522018492221832, 0.2787191569805145, 0.0027595956344157457, 0.0055191912688314915, 0.03863434121012688, 0.5353615880012512, 0.2821832299232483, 0.19340457022190094, 0.024026470258831978, 0.07310181856155396, 0.07429461926221848, 0.07531702518463135, 0.03902171552181244, 0.05163135007023811, 0.052312955260276794, 0.04890494421124458, 0.044644929468631744, 0.022322464734315872, 0.009712828323245049, 0.009201627224683762, 0.9903989434242249, 0.01434273086488247, 0.1762107014656067, 0.7816788554191589, 0.024587539955973625, 0.0010244807926937938, 0.9938979148864746, 0.9938880801200867, 0.9855695366859436, 0.002502033719792962, 0.012510168366134167, 0.9782952070236206, 0.002502033719792962, 0.987234354019165, 0.25218191742897034, 0.2083657681941986, 0.06871743500232697, 0.05171414837241173, 0.10015843063592911, 0.13713304698467255, 0.03747766464948654, 0.0390874445438385, 0.018613068386912346, 0.04879642277956009, 0.004426891915500164, 0.011771508492529392, 0.011620591394603252, 0.009960507042706013, 0.9878321290016174, 0.9922642111778259, 0.9995094537734985, 0.9965068697929382, 0.9975644946098328, 0.9919937252998352, 0.003859897842630744, 0.9973228573799133, 0.024165906012058258, 0.0013425503857433796, 0.029536107555031776, 0.6867145299911499, 0.03222120925784111, 0.005370201542973518, 0.01275422889739275, 0.010740403085947037, 0.03893395885825157, 0.0060414765030145645, 0.030878659337759018, 0.1094178557395935, 0.011411678045988083, 0.0006712751928716898, 0.9935930967330933, 0.9898765683174133, 0.0049979183822870255, 0.6766412258148193, 0.31140875816345215, 0.00038445525569841266, 0.00012815174704883248, 0.005894980393350124, 0.00012815174704883248, 0.00012815174704883248, 0.00012815174704883248, 0.057195212692022324, 0.12296970188617706, 0.8150317668914795, 0.0028597605414688587, 0.00724287424236536, 0.700748085975647, 0.2891114056110382, 0.00181071856059134, 0.3054373264312744, 0.06197278946638107, 0.007967930287122726, 0.001770651200786233, 0.011509232223033905, 0.13545481860637665, 0.35413023829460144, 0.007082604803144932, 0.02390379086136818, 0.056660838425159454, 0.001770651200786233, 0.001770651200786233, 0.030101070180535316, 0.001770651200786233, 0.9949280619621277, 0.06771497428417206, 0.6067262291908264, 0.05010908469557762, 0.2044992297887802, 0.05733201280236244, 0.001354299602098763, 0.009931529872119427, 0.001354299602098763, 0.000451433181297034, 0.0027424602303653955, 0.0671902745962143, 0.02879583090543747, 0.2536775767803192, 0.010969840921461582, 0.0013712301151826978, 0.0013712301151826978, 0.04936428368091583, 0.010969840921461582, 0.01645476184785366, 0.5539769530296326, 0.0027424602303653955, 0.9964589476585388, 0.06921006739139557, 0.0014418764039874077, 0.22637459635734558, 0.0028837528079748154, 0.030279405415058136, 0.017302516847848892, 0.024511899799108505, 0.004325629211962223, 0.6243324875831604, 0.9729404449462891, 0.9925729036331177, 0.9896668195724487, 0.24562548100948334, 0.7506498098373413, 0.9812033176422119, 0.9854162335395813, 0.9922277331352234, 0.9940679669380188, 0.9934505224227905, 0.48245421051979065, 0.04910353943705559, 0.3613639175891876, 0.00047673340304754674, 0.00047673340304754674, 0.002383667044341564, 0.0071510011330246925, 0.0009534668060950935, 0.0009534668060950935, 0.05053374171257019, 0.014778736047446728, 0.004767334088683128, 0.013825268484652042, 0.01096486859023571, 0.7389575839042664, 0.01186484843492508, 0.150906041264534, 0.001483106054365635, 0.002595435595139861, 0.01928037777543068, 0.008527860045433044, 0.00296621210873127, 0.0011123295407742262, 0.01928037777543068, 0.01371873077005148, 0.00482009444385767, 0.01001096609979868, 0.015201836824417114, 0.559381365776062, 0.17373022437095642, 0.043432556092739105, 0.02396279014647007, 0.004493022803217173, 0.004493022803217173, 0.18571162223815918, 0.004493022803217173, 0.995026171207428, 0.07110122591257095, 0.0020912126637995243, 0.0020912126637995243, 0.0240489449352026, 0.13488321006298065, 0.004182425327599049, 0.0010456063318997622, 0.7371523976325989, 0.01882091350853443, 0.0020912126637995243, 0.0010456063318997622, 0.0029119206592440605, 0.9958768486976624, 0.9947659373283386, 0.03637446463108063, 0.01558905653655529, 0.005196352489292622, 0.9301470518112183, 0.9874285459518433, 0.003149692201986909, 0.0007874230504967272, 0.008661653846502304, 0.9904728531837463, 0.7140893340110779, 0.017910636961460114, 0.09811914712190628, 0.00973404198884964, 0.022582978010177612, 0.006619148422032595, 0.0015574466669932008, 0.021025530993938446, 0.008176594972610474, 0.012459573335945606, 0.005840425379574299, 0.027255317196249962, 0.035042550414800644, 0.01946808397769928, 0.9136861562728882, 0.08061937242746353, 0.7434346675872803, 0.2036294788122177, 0.0005344605888240039, 0.0005344605888240039, 0.0021378423552960157, 0.0010689211776480079, 0.01763719879090786, 0.018171658739447594, 0.012827053666114807, 0.9848979115486145, 0.162349134683609, 0.11729937791824341, 0.005949968472123146, 0.058649688959121704, 0.03484981507062912, 0.0033999821171164513, 0.00424997741356492, 0.045899756252765656, 0.03399981930851936, 0.0016999910585582256, 0.0008499955292791128, 0.29664844274520874, 0.0016999910585582256, 0.23204877972602844, 0.9720203876495361, 0.002968001179397106, 0.01409800536930561, 0.009646004065871239, 0.1853029429912567, 0.03150684013962746, 0.016020426526665688, 0.049663323909044266, 0.03150684013962746, 0.41012293100357056, 0.1105409488081932, 0.016020426526665688, 0.05340142548084259, 0.00640817079693079, 0.014418384060263634, 0.014952398836612701, 0.057139523327350616, 0.0026700710877776146, 0.00395159050822258, 0.9918492436408997, 0.00197579525411129, 0.9885972142219543, 0.0015411756467074156, 0.0015411756467074156, 0.0012329404707998037, 0.9952912330627441, 0.002669363049790263, 0.9956724047660828, 0.3486515283584595, 0.0005456205108202994, 0.0021824820432811975, 0.03928467631340027, 0.09766606986522675, 0.009821169078350067, 0.003273723181337118, 0.3824799954891205, 0.010366789996623993, 0.03928467631340027, 0.0005456205108202994, 0.045286502689123154, 0.0005456205108202994, 0.019642338156700134, 0.07835165411233902, 0.022446690127253532, 0.01143510639667511, 0.2579251825809479, 0.03091713972389698, 0.04912860319018364, 0.051246218383312225, 0.03430531919002533, 0.03726997599005699, 0.005929314531385899, 0.37312328815460205, 0.030070094391703606, 0.017364419996738434, 0.0012705674162134528, 0.1679091602563858, 0.004305363167077303, 0.002870241878554225, 0.13920673727989197, 0.3071158826351166, 0.010045846924185753, 0.05453459918498993, 0.31429150700569153, 0.9962560534477234, 0.9981675744056702, 0.9984958171844482, 0.1117827296257019, 0.01326235756278038, 0.7730059623718262, 0.009473112411797047, 0.0871526375412941, 0.001894622459076345, 0.0036277121398597956, 0.09069280326366425, 0.01088313665241003, 0.014510848559439182, 0.8779063820838928, 0.994352400302887, 0.9820619821548462, 0.007284484338015318, 0.007284484338015318, 0.02913793735206127, 0.9469829797744751, 0.01369258388876915, 0.001956083346158266, 0.021516917273402214, 0.007824333384633064, 0.12518933415412903, 0.060638584196567535, 0.019560834392905235, 0.6904974579811096, 0.001956083346158266, 0.011736500076949596, 0.04498991742730141, 0.11988265067338943, 0.017629800364375114, 0.8603342771530151, 0.028139296919107437, 0.9637709259986877, 0.971773087978363, 0.03149109706282616, 0.04452189803123474, 0.01140194945037365, 0.26224485039711, 0.09610214829444885, 0.0054294997826218605, 0.0054294997826218605, 0.17211514711380005, 0.028776349499821663, 0.024432748556137085, 0.2638736963272095, 0.046693697571754456, 0.006515399552881718, 0.0005429500015452504, 0.0011028568260371685, 0.8282454609870911, 0.16432566940784454, 0.0011028568260371685, 0.0011028568260371685, 0.004411427304148674, 0.2392626851797104, 0.7553194165229797, 0.002345712622627616, 0.9932147264480591, 0.21314527094364166, 0.00046436875709332526, 0.0496874563395977, 0.0009287375141866505, 0.4026077091693878, 0.26794078946113586, 0.0009287375141866505, 0.006501162890344858, 0.0013931063003838062, 0.005108056589961052, 0.05108056589961052, 0.0009287375141866505, 0.9881349205970764, 0.9865942597389221, 0.9860554337501526, 0.9930679202079773, 0.9893109202384949, 0.07273734360933304, 0.023590490221977234, 0.18086043000221252, 0.004914685618132353, 0.004914685618132353, 0.02064167894423008, 0.014744057320058346, 0.009829371236264706, 0.634977400302887, 0.0009829371701925993, 0.02457342855632305, 0.007863497361540794, 0.2785530388355255, 0.03501809760928154, 0.6844446063041687, 0.17923100292682648, 0.003319092560559511, 0.024893194437026978, 0.789944052696228, 0.040077533572912216, 0.0008712506969459355, 0.9444357752799988, 0.0008712506969459355, 0.013068760745227337, 0.9947100877761841, 0.9834914803504944, 0.004427111241966486, 0.991672933101654, 0.006468108855187893, 0.9831525683403015, 0.04674213379621506, 0.20793166756629944, 0.013031139969825745, 0.09348426759243011, 0.2793196439743042, 0.08980154991149902, 0.07535398006439209, 0.0903681218624115, 0.045892275869846344, 0.02436256594955921, 0.017280424013733864, 0.002266285242512822, 0.006798855494707823, 0.0076487124897539616, 0.3393290936946869, 0.030760709196329117, 0.0028838166035711765, 0.6267494559288025, 0.9971714615821838, 0.043099116533994675, 0.03694210201501846, 0.9173954725265503, 0.9920946955680847, 0.9812172055244446, 0.0718049556016922, 0.9214969277381897, 0.9909337759017944, 0.10193728655576706, 0.0010844392236322165, 0.008675513789057732, 0.04446200653910637, 0.05639083683490753, 0.004337756894528866, 0.7677829265594482, 0.0010844392236322165, 0.006506634876132011, 0.0075910743325948715, 0.9921936988830566, 0.02427821420133114, 0.07062753289937973, 0.8144237399101257, 0.002942813793197274, 0.005149924196302891, 0.038256581872701645, 0.042670801281929016, 0.9907020330429077, 0.19432052969932556, 0.005113698076456785, 0.023011641576886177, 0.7747252583503723, 0.15837536752223969, 0.8366350531578064, 0.31137505173683167, 0.09617531299591064, 0.0322575606405735, 0.06765127182006836, 0.03927656635642052, 0.11842705309391022, 0.09079905599355698, 0.03957524523139, 0.050925128161907196, 0.03404964506626129, 0.054509300738573074, 0.023147786036133766, 0.03434832766652107, 0.007765708491206169, 0.9928457140922546, 0.9914166331291199, 0.9829590320587158, 0.9896424412727356, 0.0009343859856016934, 0.12427332997322083, 0.0014015788910910487, 0.38356542587280273, 0.09670894593000412, 0.0014015788910910487, 0.006073508877307177, 0.1780005246400833, 0.05092403665184975, 0.013081403449177742, 0.055595964193344116, 0.08502912521362305, 0.0014015788910910487, 0.0009343859856016934, 0.007466353941708803, 0.20076197385787964, 0.7018373012542725, 0.06387880444526672, 0.025717442855238914, 0.09340284019708633, 0.010378093458712101, 0.0051890467293560505, 0.7524117827415466, 0.13750973343849182, 0.2758699059486389, 0.0012596799060702324, 0.0012596799060702324, 0.0012596799060702324, 0.0012596799060702324, 0.7180175185203552, 0.003674677573144436, 0.0014698710292577744, 0.09554161876440048, 0.12567397952079773, 0.6621769070625305, 0.027927549555897713, 0.03013235703110695, 0.005879484117031097, 0.013963774777948856, 0.0007349355146288872, 0.014698710292577744, 0.0029397420585155487, 0.01543364580720663, 0.0007349355146288872, 0.10642191022634506, 0.890583336353302, 0.9962302446365356, 0.9870284199714661, 0.330238938331604, 0.006774131674319506, 0.50128573179245, 0.0016935329185798764, 0.0016935329185798764, 0.15411150455474854, 0.4046611189842224, 0.0632367804646492, 0.024154823273420334, 0.020897991955280304, 0.035825129598379135, 0.0700218454003334, 0.14899997413158417, 0.01736976020038128, 0.033925313502550125, 0.005699452478438616, 0.003256829921156168, 0.005699452478438616, 0.15822765231132507, 0.008142074570059776, 0.03546948358416557, 0.2864653170108795, 0.06650527566671371, 0.02315368875861168, 0.4288358986377716, 0.001724210917018354, 0.008621054701507092, 0.02438526786863804, 0.058869488537311554, 0.01798105612397194, 0.02340000495314598, 0.004187369253486395, 0.01798105612397194, 0.00197052676230669, 0.031008508056402206, 0.17926792800426483, 0.000969015876762569, 0.76939857006073, 0.000969015876762569, 0.001938031753525138, 0.001938031753525138, 0.013566222041845322, 0.31772565841674805, 0.10950244218111038, 0.08656944334506989, 0.07354012876749039, 0.07139784097671509, 0.10142496973276138, 0.05208214372396469, 0.037964124232530594, 0.024162180721759796, 0.04259989410638809, 0.028516992926597595, 0.034592658281326294, 0.010149520821869373, 0.009798326529562473, 0.4577776789665222, 0.0048699756152927876, 0.5356972813606262, 0.987520158290863, 0.9935455322265625, 0.7827603816986084, 0.20493176579475403, 0.0003588997642509639, 0.0010766993509605527, 0.008972493931651115, 0.0014355990570038557, 0.10389057546854019, 0.18763208389282227, 0.0787288099527359, 0.12109100818634033, 0.0941600501537323, 0.08020313084125519, 0.05356704443693161, 0.05887460336089134, 0.035482022911310196, 0.05061839893460274, 0.06025063991546631, 0.04668687283992767, 0.025554919615387917, 0.00314522092230618, 0.26486560702323914, 0.010724619962275028, 0.26714053750038147, 0.05882291495800018, 0.026974042877554893, 0.012349561788141727, 0.03639870882034302, 0.013649515807628632, 0.04679834097623825, 0.04679834097623825, 0.13909506797790527, 0.03672369569540024, 0.03639870882034302, 0.0029248963110148907, 0.24830389022827148, 0.1214190423488617, 0.047825828194618225, 0.10931617766618729, 0.08315838128328323, 0.05387726053595543, 0.05680537223815918, 0.04743541404604912, 0.092723548412323, 0.046068962663412094, 0.033380474895238876, 0.03669900447130203, 0.018154295161366463, 0.0050753941759467125, 0.2636161148548126, 0.12922358512878418, 0.005168943665921688, 0.5272322297096252, 0.01550683006644249, 0.03101366013288498, 0.0017229811055585742, 0.022398754954338074, 0.0034459622111171484, 0.34670189023017883, 0.6513792872428894, 0.9941134452819824, 0.13900917768478394, 0.18604114651679993, 0.07367806881666183, 0.09599016606807709, 0.1488008052110672, 0.05056338384747505, 0.028090767562389374, 0.07175184786319733, 0.09310083091259003, 0.011717863380908966, 0.020385872572660446, 0.02744869329035282, 0.03659825772047043, 0.01669394224882126, 0.1057254821062088, 0.14576508104801178, 0.032450396567583084, 0.10101494193077087, 0.2378823459148407, 0.1250910460948944, 0.053909529000520706, 0.03925451263785362, 0.03846942260861397, 0.026954764500260353, 0.01413162425160408, 0.055741406977176666, 0.017010288313031197, 0.006542418617755175, 0.9924909472465515, 0.9880161285400391, 0.9903334975242615, 0.01178225502371788, 0.08542134612798691, 0.020618945360183716, 0.03534676507115364, 0.00589112751185894, 0.00883669126778841, 0.00589112751185894, 0.01178225502371788, 0.2150261551141739, 0.020618945360183716, 0.5832216143608093, 0.3586244583129883, 0.06509514898061752, 0.07900730520486832, 0.022414028644561768, 0.01648848131299019, 0.20790943503379822, 0.017003744840621948, 0.021812885999679565, 0.011507585644721985, 0.009017137810587883, 0.005410282872617245, 0.048091400414705276, 0.12615405023097992, 0.01124995294958353, 0.38389167189598083, 0.002271548379212618, 0.029530128464102745, 0.012114924378693104, 0.003028731094673276, 0.48535415530204773, 0.006057462189346552, 0.0053002797067165375, 0.01514365617185831, 0.002271548379212618, 0.021958300843834877, 0.0325588583946228, 0.000757182773668319, 0.5012159943580627, 0.07402575016021729, 0.15267810225486755, 0.01233762502670288, 0.013879828155040741, 0.00154220312833786, 0.00154220312833786, 0.2436680793762207, 0.9821802377700806, 0.0072418502531945705, 0.9848916530609131, 0.866756796836853, 0.11407189071178436, 0.0006319772219285369, 0.005687795113772154, 0.01232355646789074, 0.006154571659862995, 0.9908859729766846, 0.9935600161552429, 0.002621530322358012, 0.002621530322358012, 0.6088225245475769, 0.0033636605367064476, 0.05830344930291176, 0.0003737400402314961, 0.0003737400402314961, 0.02391936257481575, 0.178274005651474, 0.005606100894510746, 0.008222281001508236, 0.006727321073412895, 0.0014949601609259844, 0.10128355771303177, 0.0033636605367064476, 0.9930117130279541, 0.14533354341983795, 0.8455769419670105, 0.976543128490448, 0.002214383566752076, 0.01771506853401661, 0.9975124001502991, 0.9853712916374207, 0.9939190149307251, 0.9959241151809692, 0.9889122843742371, 0.9871854782104492, 0.05388607457280159, 0.11078675836324692, 0.08629308640956879, 0.1620350480079651, 0.03655209392309189, 0.0003768256865441799, 0.0003768256865441799, 0.14432424306869507, 0.02487049624323845, 0.1624118685722351, 0.015073027461767197, 0.20160174369812012, 0.0011304770596325397, 0.9843975305557251, 0.013943279162049294, 0.9160734415054321, 0.002788655925542116, 0.04252700135111809, 0.001394327962771058, 0.0062744757160544395, 0.000697163981385529, 0.015337606891989708, 0.9991580843925476, 0.18280380964279175, 0.04231569916009903, 0.016926279291510582, 0.0016926279058679938, 0.7566046714782715, 0.9360978603363037, 0.002043881919234991, 0.05927257239818573, 0.9880248308181763, 0.010473761707544327, 0.9789220094680786, 0.018646134063601494, 0.9954184889793396, 0.0025200468953698874, 0.9949483871459961, 0.014383142814040184, 0.09349042922258377, 0.176193505525589, 0.003595785703510046, 0.014383142814040184, 0.239119753241539, 0.014383142814040184, 0.4350900650024414, 0.007191571407020092, 0.9768654108047485, 0.0022414405830204487, 0.9593365788459778, 0.03586304932832718, 0.0022414405830204487, 0.9923966526985168, 0.9903205037117004, 0.014312016777694225, 0.002862403402104974, 0.9789419174194336, 0.9953707456588745, 0.9860974550247192, 0.9980942606925964, 0.9981304407119751, 0.9929565787315369, 0.9875922203063965, 0.9935284852981567, 0.9897594451904297, 0.9797381162643433, 0.986794114112854, 0.995974063873291, 0.9995332360267639, 0.9883511066436768, 0.021268565207719803, 0.0004170307074673474, 0.12344108521938324, 0.8482404351234436, 0.0004170307074673474, 0.0004170307074673474, 0.005838429555296898, 0.022884273901581764, 0.21476010978221893, 0.7534207105636597, 0.00880164373666048, 0.9659287333488464, 0.000707640137989074, 0.032551445066928864, 0.9851772785186768, 0.004782414063811302, 0.004782414063811302, 0.5589501261711121, 0.020874623209238052, 0.38075780868530273, 0.00011661800817819312, 0.0010495621245354414, 0.00011661800817819312, 0.00011661800817819312, 0.000349854031810537, 0.000699708063621074, 0.035451874136924744, 0.0015160341281443834, 0.46509137749671936, 0.0007429574616253376, 0.47400686144828796, 0.0014859149232506752, 0.0007429574616253376, 0.0007429574616253376, 0.05646476894617081, 0.014053166843950748, 0.9837216734886169, 0.9947309494018555, 0.2688795328140259, 0.7262837886810303, 0.013821701519191265, 0.9813408255577087, 0.006701292470097542, 0.9582847952842712, 0.006701292470097542, 0.026805169880390167, 0.9443635940551758, 0.009735707193613052, 0.0013908152468502522, 0.0013908152468502522, 0.030597936362028122, 0.009735707193613052, 0.9960717558860779, 0.08688309788703918, 0.2185148298740387, 0.02075967751443386, 0.1694604754447937, 0.13747519254684448, 0.0316777303814888, 0.017684169113636017, 0.08580666780471802, 0.09641716629266739, 0.07781034708023071, 0.025219162926077843, 0.018145496025681496, 0.007842544466257095, 0.006458566524088383, 0.9960339069366455, 0.9914864301681519, 0.9912305474281311, 0.9867900609970093, 0.31594642996788025, 0.07917512208223343, 0.12542344629764557, 0.03581731766462326, 0.11411271244287491, 0.1108451709151268, 0.053663138300180435, 0.04549427703022957, 0.03644569218158722, 0.014201251789927483, 0.019353918731212616, 0.024883609265089035, 0.01897689513862133, 0.005529690999537706, 0.10234404355287552, 0.3065619468688965, 0.06692328304052353, 0.11739002168178558, 0.12052460759878159, 0.0200613122433424, 0.015516171231865883, 0.08040197938680649, 0.022568976506590843, 0.058930106461048126, 0.004231682978570461, 0.04701870307326317, 0.0034480381291359663, 0.03448038175702095, 0.9826977252960205, 0.003826839616522193, 0.28031599521636963, 0.10045453906059265, 0.005740259774029255, 0.021047618240118027, 0.0009567099041305482, 0.012437229044735432, 0.0019134198082610965, 0.010523809120059013, 0.5568051934242249, 0.005740259774029255, 0.04792747274041176, 0.17673255503177643, 0.6874596476554871, 0.004493200220167637, 0.008986400440335274, 0.007488667499274015, 0.040438804775476456, 0.004493200220167637, 0.01198186818510294, 0.002995467046275735, 0.00599093409255147, 0.34080082178115845, 0.034463007003068924, 0.003829222870990634, 0.6190577149391174, 0.9911834597587585, 0.9916403293609619, 0.9827616214752197, 0.0005226279608905315, 0.7855097651481628, 0.16933144629001617, 0.0015678837662562728, 0.002613139571622014, 0.001045255921781063, 0.03867446631193161, 0.0005226279608905315, 0.9887200593948364, 0.18284986913204193, 0.09909696131944656, 0.07075309753417969, 0.035376548767089844, 0.18945634365081787, 0.06372041255235672, 0.10783454030752182, 0.0671302005648613, 0.043474793434143066, 0.018327610567212105, 0.06542530655860901, 0.019819391891360283, 0.027491414919495583, 0.009590028785169125, 0.9814046025276184, 0.00636994419619441, 0.9873413443565369, 0.011900770477950573, 0.9758631587028503, 0.9940693974494934, 0.9925397634506226, 0.002624379936605692, 0.9946399927139282, 0.9919917583465576, 0.9820371270179749, 0.016367286443710327, 0.08449170738458633, 0.007455151062458754, 0.9045583009719849, 0.002485050354152918, 0.9915875792503357, 0.0009973582345992327, 0.0019947164691984653, 0.03291282057762146, 0.8387783169746399, 0.003989432938396931, 0.0009973582345992327, 0.11868563294410706, 0.9853031039237976, 0.0047577153891325, 0.33779779076576233, 0.00237885769456625, 0.6518070101737976, 0.00237885769456625, 0.9976869225502014, 0.9907925724983215, 0.98406583070755, 0.9897425174713135, 0.9976469278335571, 0.9890583753585815, 0.9848597645759583, 0.002261348534375429, 0.0003768914029933512, 0.9968777894973755, 0.012863135896623135, 0.9856377840042114, 0.9929903745651245, 0.3708486557006836, 0.03276185318827629, 0.031598709523677826, 0.03256799653172493, 0.02423213981091976, 0.1591566950082779, 0.1932755410671234, 0.030241709202528, 0.03528199344873428, 0.029853995889425278, 0.015314712189137936, 0.005427999421954155, 0.03411885350942612, 0.005234142299741507, 0.9887312054634094, 0.9928425550460815, 0.9937708973884583, 0.06000104174017906, 0.9343019127845764, 0.9967096447944641, 0.9884131550788879, 0.061461128294467926, 0.21834874153137207, 0.7181247472763062, 0.014093119651079178, 0.9818207025527954, 0.17134042084217072, 0.827160656452179, 0.009913235902786255, 0.2924404442310333, 0.007434926927089691, 0.0049566179513931274, 0.007434926927089691, 0.6691434383392334, 0.0024783089756965637, 0.0049566179513931274, 0.0049566179513931274, 0.1173081025481224, 0.0018047400517389178, 0.7652097344398499, 0.11369861662387848, 0.004789550323039293, 0.9839104413986206, 0.0006842214497737586, 0.009579100646078587, 0.0006842214497737586, 0.9816776514053345, 0.05014146491885185, 0.05480578541755676, 0.17491208016872406, 0.1667495220899582, 0.046643223613500595, 0.009328644722700119, 0.012826886028051376, 0.38830482959747314, 0.006996483542025089, 0.0023321611806750298, 0.0034982417710125446, 0.0711309164762497, 0.012826886028051376, 0.014703220687806606, 0.8821932673454285, 0.039208587259054184, 0.012252683751285076, 0.049010735005140305, 0.985045850276947, 0.1043851375579834, 0.0855100229382515, 0.07464252412319183, 0.22564350068569183, 0.040324121713638306, 0.024308867752552032, 0.06263108551502228, 0.12869401276111603, 0.029742615297436714, 0.01572926715016365, 0.129551962018013, 0.04918970912694931, 0.028598668053746223, 0.0011439467780292034, 0.9673222899436951, 0.014457262121140957, 0.013800114393234253, 0.0032857414335012436, 0.0006571483099833131, 0.9946870803833008, 0.984101414680481, 0.9361198544502258, 0.04202986881136894, 0.01146269217133522, 0.003820897312834859, 0.9584927558898926, 0.01940268836915493, 0.005335738882422447, 0.015522150322794914, 0.00048506719758734107, 0.00048506719758734107, 0.10989078879356384, 0.32275229692459106, 0.15999212861061096, 0.06172706559300423, 0.0860857293009758, 0.054806992411613464, 0.06975435465574265, 0.13480305671691895, 0.0680607333779335, 0.3574139177799225, 0.4349803328514099, 0.01140682678669691, 0.044486626982688904, 0.0011406827252358198, 0.07604551315307617, 0.0003802275750786066, 0.0003802275750786066, 0.004562730900943279, 0.0011406827252358198, 0.0030132278334349394, 0.42185187339782715, 0.5715088844299316, 0.0030132278334349394, 0.0010044092778116465, 0.004204985685646534, 0.9545317888259888, 0.03784487396478653, 0.9885373711585999, 0.9874316453933716, 0.0025624854024499655, 0.9763069152832031, 0.0025624854024499655, 0.01537491288036108, 0.989371657371521, 0.9891712069511414, 0.002412612782791257, 0.004825225565582514, 0.005863490514457226, 0.979202926158905, 0.005863490514457226, 0.005863490514457226, 0.9881971478462219, 0.6320123672485352, 0.016081739217042923, 0.27145975828170776, 0.03248511254787445, 0.009970678016543388, 0.00032163478317670524, 0.0009649043786339462, 0.005146156530827284, 0.007075965404510498, 0.02315770462155342, 0.0009649043786339462, 0.9919215440750122, 0.9877406358718872, 0.0013311868533492088, 0.0039935605600476265, 0.0013311868533492088, 0.0013311868533492088, 0.0039935605600476265, 0.0038433619774878025, 0.9569970965385437, 0.007686723954975605, 0.028825214132666588, 0.0019216809887439013, 0.9379837512969971, 0.04483010619878769, 0.013793878257274628, 0.05119945481419563, 0.5966948866844177, 0.10018658638000488, 0.01959485374391079, 0.06447339057922363, 0.0015802300767973065, 0.010745564475655556, 0.013589979149401188, 0.03255274146795273, 0.06763384491205215, 0.0006320920074358582, 0.0015802300767973065, 0.03792552277445793, 0.0018962761387228966, 0.0034877837169915438, 0.10114572942256927, 0.8963603973388672, 0.9925750494003296, 0.9837861657142639, 0.06803052872419357, 0.004123062361031771, 0.1766045093536377, 0.0006871770601719618, 0.13880977034568787, 0.5854748487472534, 0.0123691875487566, 0.0013743541203439236, 0.0006871770601719618, 0.0123691875487566, 0.0012045536423102021, 0.5964547991752625, 0.008431876078248024, 0.09857264161109924, 0.0977696031332016, 0.008231116458773613, 0.001606071600690484, 0.012647813186049461, 0.04838290438055992, 0.11423183977603912, 0.003412902122363448, 0.007026562932878733, 0.0006022768211551011, 0.0012045536423102021, 0.12297264486551285, 0.0653778612613678, 0.6926940083503723, 0.015566157177090645, 0.017122773453593254, 0.0809440165758133, 0.0015566156944260001, 0.0015566156944260001, 0.005604049656540155, 0.991916835308075, 0.04476860538125038, 0.1284797638654709, 0.007972491905093193, 0.19287297129631042, 0.053967636078596115, 0.015331714414060116, 0.02391747385263443, 0.049674756824970245, 0.19195306301116943, 0.06592637300491333, 0.16374270617961884, 0.042928799986839294, 0.002759708557277918, 0.01563834957778454, 0.12276266515254974, 0.00039013559580780566, 0.3751803934574127, 0.3480009436607361, 0.0019506779499351978, 0.00026009039720520377, 0.017816191539168358, 0.04369518533349037, 0.029260169714689255, 0.05917056277394295, 0.0014304971555247903, 0.8386387228965759, 0.045346952974796295, 0.001679516863077879, 0.09461277723312378, 0.000559838954359293, 0.001119677908718586, 0.000559838954359293, 0.001679516863077879, 0.015675490722060204, 0.11393211036920547, 0.16014985740184784, 0.4842114746570587, 0.00483674043789506, 0.021496625617146492, 0.08061234652996063, 0.06825178116559982, 0.06502728909254074, 0.0016122468514367938, 0.9933448433876038, 0.006020272150635719, 0.047053348273038864, 0.9477888941764832, 0.9951446652412415, 0.04302392154932022, 0.4213581085205078, 0.09078442305326462, 0.04124770313501358, 0.05999666079878807, 0.013420305214822292, 0.01736745424568653, 0.06808831542730331, 0.13499248027801514, 0.08900820463895798, 0.001578859519213438, 0.011644088663160801, 0.0027630040422081947, 0.004736578557640314, 0.00039815003401599824, 0.010010628961026669, 5.687857628799975e-05, 0.9886065125465393, 0.0008531786152161658, 0.9961681962013245, 0.9846627116203308, 0.8516355752944946, 0.022411461919546127, 0.10485362261533737, 0.0008004093542695045, 0.0008004093542695045, 0.007203684188425541, 0.0008004093542695045, 0.004002046771347523, 0.007203684188425541, 0.9919131994247437, 0.038118135184049606, 0.9529533982276917, 0.9831784963607788, 0.9893460273742676, 0.9855864644050598, 0.9763585925102234, 0.02197805792093277, 0.9549727439880371, 0.04289475828409195, 0.9484536051750183, 0.050182729959487915, 0.9961947798728943, 0.9989195466041565, 0.9971107244491577, 0.9903408288955688, 0.3678385317325592, 0.0457986518740654, 0.035073649138212204, 0.03188513591885567, 0.03275473043322563, 0.09594527631998062, 0.19884730875492096, 0.023479055613279343, 0.03681283816695213, 0.03826216235756874, 0.006956757046282291, 0.014783108606934547, 0.050436489284038544, 0.02116013690829277, 0.9817142486572266, 0.2937253713607788, 0.6770392060279846, 0.0008914275676943362, 0.0004457137838471681, 0.0004457137838471681, 0.0008914275676943362, 0.005348565522581339, 0.012925699353218079, 0.007577134296298027, 0.232685849070549, 0.7534589171409607, 0.0012311420869082212, 0.008617994375526905, 0.0024622841738164425, 0.9936159253120422, 0.04748724773526192, 0.09645847231149673, 0.7078567743301392, 0.008903859183192253, 0.0007419882458634675, 0.135783851146698, 0.00296795298345387, 0.0693729966878891, 0.006503718439489603, 0.9126884937286377, 0.0021679061464965343, 0.004335812292993069, 0.0021679061464965343, 0.0021679061464965343, 0.9873113632202148, 0.08934123069047928, 0.09652043879032135, 0.05184982344508171, 0.03509834036231041, 0.0805666446685791, 0.007179206237196922, 0.050254445523023605, 0.0319075845181942, 0.04147985950112343, 0.019942238926887512, 0.06301748007535934, 0.3932609558105469, 0.033502962440252304, 0.006381516810506582, 0.9952025413513184, 0.9771368503570557, 0.11231812834739685, 0.032399460673332214, 0.36071398854255676, 0.4903118312358856, 0.002159964060410857, 0.7928372621536255, 0.13568271696567535, 0.0018757979851216078, 0.0006252659950405359, 0.0012505319900810719, 0.023760108277201653, 0.004376862198114395, 0.02313484251499176, 0.01438111811876297, 0.9918038249015808, 0.3790920674800873, 0.004540024790912867, 0.61517333984375, 0.907937228679657, 0.08776726573705673, 0.9922388195991516, 0.005929251201450825, 0.08893876522779465, 0.9012461304664612, 0.15585801005363464, 0.08871917426586151, 0.029116332530975342, 0.16031110286712646, 0.05789012089371681, 0.08015555143356323, 0.022950520738959312, 0.12708422541618347, 0.1681896448135376, 0.03391196206212044, 0.048983946442604065, 0.016784708946943283, 0.006850901525467634, 0.003082905663177371, 0.18062619864940643, 0.016636623069643974, 0.7938045859336853, 0.0047533209435641766, 0.9898810982704163, 0.0021281251683831215, 0.0021281251683831215, 0.10215000808238983, 0.07022812962532043, 0.0063843755051493645, 0.0319218784570694, 0.7810218930244446, 0.030692370608448982, 0.9668096899986267, 0.9959884285926819, 0.43477895855903625, 0.00375189958140254, 0.5354181528091431, 0.002206999808549881, 0.00022069997794460505, 0.00022069997794460505, 0.0004413999558892101, 0.00022069997794460505, 0.016773197799921036, 0.00022069997794460505, 0.001544899889267981, 0.002206999808549881, 0.0017655998235568404, 0.9931353330612183, 0.9949396252632141, 0.9814593195915222, 0.9849959015846252, 0.9919622540473938, 0.9841039776802063, 0.9879090785980225, 0.002093596151098609, 0.25332513451576233, 0.06280788779258728, 0.5736453533172607, 0.10258620977401733, 0.004187192302197218, 0.992599606513977, 0.12722298502922058, 0.0034384592436254025, 0.8664917349815369, 0.9786125421524048, 0.14535902440547943, 0.004689001012593508, 0.8393311500549316, 0.004689001012593508, 0.9905083179473877, 0.9826643466949463, 0.9916508793830872, 0.9847418069839478, 0.012751356698572636, 0.18034061789512634, 0.7650814056396484, 0.0018216223688796163, 0.040075693279504776, 0.46324053406715393, 0.002375592477619648, 0.05820201337337494, 0.001187796238809824, 0.4489869773387909, 0.003563388716429472, 0.001187796238809824, 0.01662914641201496, 0.003563388716429472, 0.08348866552114487, 0.2100682556629181, 0.6706025004386902, 0.03231819346547127, 0.9707207679748535, 0.26764756441116333, 0.014274537563323975, 0.042823612689971924, 0.6709032654762268, 0.9906389117240906, 0.011760765686631203, 0.9487017393112183, 0.0039202552288770676, 0.03136204183101654, 0.9927070140838623, 0.3372039794921875, 0.015139770694077015, 0.5711822509765625, 0.005505371373146772, 0.01926879957318306, 0.05092468485236168, 0.12220843136310577, 0.8735639452934265, 0.9804883599281311, 0.0034280612599104643, 0.0009021214209496975, 0.0003608485567383468, 0.9686979651451111, 0.005954001098871231, 0.0005412728642113507, 0.01172757800668478, 0.0001804242783691734, 0.00811909232288599, 0.011632794514298439, 0.0008309138938784599, 0.973000168800354, 0.0041545694693923, 0.0008309138938784599, 0.007478225044906139, 0.0008309138938784599, 0.0016618277877569199, 0.9936491847038269, 0.028199367225170135, 0.024760419502854347, 0.9457104802131653, 0.010795926675200462, 0.1284715235233307, 0.0010795927373692393, 0.8582761883735657, 0.9862096309661865, 0.00518784299492836, 0.0778176411986351, 0.9130603075027466, 0.026490794494748116, 0.9470459222793579, 0.019868096336722374, 0.006678818259388208, 0.7872990965843201, 0.19689156115055084, 0.00026715273270383477, 0.0016029163962230086, 0.00026715273270383477, 0.006678818259388208, 0.07813958078622818, 0.04883723706007004, 0.009767447598278522, 0.06837213039398193, 0.0019534893799573183, 0.12306983768939972, 0.6407445669174194, 0.017581405118107796, 0.003906978759914637, 0.005860468372702599, 0.02136365696787834, 0.2503175735473633, 0.12918967008590698, 0.07054037600755692, 0.0409134179353714, 0.031843941658735275, 0.04816900193691254, 0.04857208952307701, 0.034665558487176895, 0.03809180483222008, 0.2563638985157013, 0.009875653311610222, 0.014309619553387165, 0.005240142345428467, 0.10329689830541611, 0.010760094039142132, 0.1743135154247284, 0.708014190196991, 0.002152018714696169, 0.9936015605926514, 0.01993684470653534, 0.006645615212619305, 0.9636142253875732, 0.13929636776447296, 0.056984879076480865, 0.7840697169303894, 0.01371858175843954, 0.0021105511114001274, 0.0010552755557000637, 0.0010552755557000637, 0.0010552755557000637, 0.268790602684021, 0.004097417928278446, 0.013931220397353172, 0.004916901234537363, 0.002048708964139223, 0.5343032479286194, 0.12087382376194, 0.004097417928278446, 0.021716313436627388, 0.0012292253086343408, 0.0028681925032287836, 0.01843838021159172, 0.002048708964139223, 0.07005543261766434, 0.0025946456007659435, 0.923693835735321, 0.9944748878479004, 0.0026101702824234962, 0.9876372218132019, 0.5734663009643555, 0.06695644557476044, 0.11934205144643784, 0.0107546616345644, 0.0228970218449831, 0.011795435100793839, 0.0017346228705719113, 0.020121624693274498, 0.00902003888040781, 0.03503938019275665, 0.04093709960579872, 0.024284720420837402, 0.035386305302381516, 0.02879473939538002, 0.9499988555908203, 0.03757057711482048, 0.0040254187770187855, 0.0040254187770187855, 0.0026836127508431673, 0.3036656677722931, 0.3562895357608795, 0.10222835838794708, 0.0008626865455880761, 0.1397552192211151, 0.017253730446100235, 0.011214924976229668, 0.0414089560508728, 0.02674328349530697, 0.006697021424770355, 0.9844621419906616, 0.04930092766880989, 0.0044819023460149765, 0.0044819023460149765, 0.022409511730074883, 0.0044819023460149765, 0.9143080711364746, 0.9940766096115112, 0.939466118812561, 0.0585903599858284, 0.0010761891026049852, 0.21093307435512543, 0.004089518915861845, 0.28798821568489075, 0.09362845867872238, 0.011192367412149906, 0.018079977482557297, 0.11924175918102264, 0.04261709004640579, 0.057898975908756256, 0.11170843243598938, 0.03981899842619896, 0.0008609513170085847, 0.00043047565850429237, 0.12986579537391663, 0.038478754460811615, 0.8128637075424194, 0.016834454610943794, 0.9880945086479187, 0.9960627555847168, 0.9929839372634888, 0.9916917681694031, 0.9903184175491333, 0.997475266456604, 0.04884180426597595, 0.94753098487854, 0.010278236120939255, 0.0034260787069797516, 0.027408629655838013, 0.9558759331703186, 0.9416751861572266, 0.04689617455005646, 0.009379235096275806, 0.0009379234979860485, 0.9954066872596741, 0.0018745887791737914, 0.9864987730979919, 0.990864098072052, 0.8642542362213135, 0.0883324146270752, 8.25536553747952e-05, 8.25536553747952e-05, 0.0013208584859967232, 0.013456245884299278, 0.03236103430390358, 0.837733805179596, 0.1507079005241394, 0.00018709857249632478, 0.001777436351403594, 0.003554872702807188, 0.005893604829907417, 0.9906917214393616, 0.17676953971385956, 0.23842453956604004, 0.42124611139297485, 0.0001260838471353054, 0.0011347546242177486, 0.0001260838471353054, 0.0001260838471353054, 0.1581091433763504, 0.0001260838471353054, 0.0013869222020730376, 0.0013869222020730376, 0.0010086707770824432, 0.2760905921459198, 0.06445592641830444, 0.4924224317073822, 0.00026095518842339516, 0.0020876415073871613, 0.0005219103768467903, 0.15892170369625092, 0.0005219103768467903, 0.0028705070726573467, 0.0020876415073871613, 0.14172306656837463, 0.0025767830666154623, 0.8554919958114624, 0.9910720586776733, 0.9863360524177551, 0.007626194506883621, 0.9837790727615356, 0.9908856749534607, 0.5896431803703308, 0.37290674448013306, 0.0005005459534004331, 0.003003275953233242, 0.011512557044625282, 0.022024022415280342, 0.8263760805130005, 0.11526285856962204, 0.001953607890754938, 0.05274740979075432, 0.996566116809845, 0.001521474914625287, 0.001521474914625287, 0.9919120073318481, 0.04961215332150459, 0.013229907490313053, 0.9327084422111511, 0.984678328037262, 0.9901702404022217, 0.06261571496725082, 0.05497965216636658, 0.8796744346618652, 0.20389050245285034, 0.000723015982657671, 0.061456356197595596, 0.7331382036209106, 0.985619306564331, 0.9936811923980713, 0.9922619462013245, 0.14459940791130066, 0.6033144593238831, 0.05146758630871773, 0.05759467929601669, 0.004084729123860598, 0.004084729123860598, 0.03717103227972984, 0.029410049319267273, 0.024916846305131912, 0.0016338916029781103, 0.002042364561930299, 0.02818462997674942, 0.011845714412629604, 0.973096489906311, 0.01946192979812622, 0.9940574169158936, 0.10873343795537949, 0.4026535153388977, 0.008494799956679344, 0.010193759575486183, 0.037377119064331055, 0.008494799956679344, 0.4230410158634186, 0.06284161657094955, 0.001555485650897026, 0.23301175236701965, 0.6377491354942322, 0.0003110971301794052, 0.0012443885207176208, 0.0003110971301794052, 0.06284161657094955, 0.0006221942603588104, 0.993105947971344, 0.9921155571937561, 0.9934514760971069, 0.0006730700843036175, 0.0020192102529108524, 0.00269228033721447, 0.9862516522407532, 0.9959676265716553, 0.9930277466773987, 0.0027884533628821373, 0.9162857532501221, 0.0775189995765686, 0.0005576906260102987, 0.0005576906260102987, 0.0011153812520205975, 0.0005576906260102987, 0.0008646742790006101, 0.9635353684425354, 0.03458696976304054, 0.0002882247499655932, 0.0002882247499655932, 0.9948392510414124, 0.99544757604599, 0.14955471456050873, 0.1469612717628479, 0.6172373294830322, 0.004322390537708998, 0.0025934341829270124, 0.07607407122850418, 0.0008644780609756708, 0.0008644780609756708, 0.0017289561219513416, 0.9899896383285522, 0.9947485327720642, 0.9923850893974304, 0.058254990726709366, 0.03971930965781212, 0.007943862117826939, 0.8897125720977783, 0.002647954039275646, 0.997409462928772, 0.9896681904792786, 0.9932979345321655, 0.027217073366045952, 0.9594018459320068, 0.9871997833251953, 0.34541428089141846, 0.003178659128025174, 0.05297765135765076, 0.016952848061919212, 0.0010595530038699508, 0.0010595530038699508, 0.010595530271530151, 0.03708435595035553, 0.531895637512207, 0.9940836429595947, 0.01727946475148201, 0.021599331870675087, 0.09071718901395798, 0.6335803866386414, 0.1425555795431137, 0.09215714782476425, 0.9917775392532349, 0.9910401701927185, 0.9790678024291992, 0.08316334336996078, 0.9078664779663086, 0.993932843208313, 0.002309535164386034, 0.10854814946651459, 0.8799328804016113, 0.006928605027496815, 0.02446582354605198, 0.9737398028373718, 0.9886602163314819, 0.9904172420501709, 0.9928133487701416, 0.17057780921459198, 0.16493886709213257, 0.05409853905439377, 0.12828579545021057, 0.061147209256887436, 0.055684491991996765, 0.062204509973526, 0.06431911140680313, 0.05744665861129761, 0.083702951669693, 0.05075042322278023, 0.026784945279359818, 0.014625989831984043, 0.00546271912753582, 0.1570126712322235, 0.06285637617111206, 0.06567849963903427, 0.11981195211410522, 0.06516538560390472, 0.14854629337787628, 0.13033077120780945, 0.05054165795445442, 0.05541623756289482, 0.042588405311107635, 0.021037645637989044, 0.013597502373158932, 0.06465227156877518, 0.002565566450357437, 0.3010930120944977, 0.08779682219028473, 0.05009428411722183, 0.08384200930595398, 0.06802276521921158, 0.14896458387374878, 0.07975537329912186, 0.03308859467506409, 0.028342818841338158, 0.03177032247185707, 0.040734563022851944, 0.02768368273973465, 0.01305087935179472, 0.005932217929512262, 0.9900104999542236, 0.9928694367408752, 0.004909832961857319, 0.17184415459632874, 0.8199421167373657, 0.9865245223045349, 0.019544003531336784, 0.05211734026670456, 0.9185681343078613, 0.2469186931848526, 0.23128050565719604, 0.01728430762887001, 0.11440566182136536, 0.013992059044539928, 0.0008230623207055032, 0.006584498565644026, 0.13992059230804443, 0.03127636760473251, 0.02222268283367157, 0.005761436186730862, 0.015638183802366257, 0.15308958292007446, 0.9890813231468201, 0.9922879934310913, 0.23953750729560852, 0.1040889173746109, 0.08574910461902618, 0.0648193210363388, 0.11822876334190369, 0.08273913711309433, 0.0391295924782753, 0.05970937758684158, 0.08273913711309433, 0.014909844845533371, 0.02995968796312809, 0.02743971347808838, 0.04381954297423363, 0.007069926243275404, 0.9913229942321777, 0.004249730613082647, 0.05099676921963692, 0.004249730613082647, 0.9278578758239746, 0.0014165769098326564, 0.009916038252413273, 0.9876765608787537, 0.006455402355641127, 0.006455402355641127, 0.9261809587478638, 0.07043200731277466, 0.9733633995056152, 0.022848905995488167, 0.9959899187088013, 0.04733289033174515, 0.2859492301940918, 0.1346791535615921, 0.0009759358945302665, 0.008295455016195774, 0.5182219743728638, 0.0029278076253831387, 0.0014639038126915693, 0.9925363659858704, 0.14509008824825287, 0.6705514788627625, 0.011764060705900192, 0.0006535589345730841, 0.0091498252004385, 0.13920804858207703, 0.022874563932418823, 0.17830955982208252, 0.707793653011322, 0.019055983051657677, 0.006805708631873131, 0.08711306750774384, 0.01001713052392006, 0.01001713052392006, 0.9616445302963257, 0.9986341595649719, 0.9476278424263, 0.003490341827273369, 0.0471196174621582, 0.9145673513412476, 0.08371325582265854, 0.8053452968597412, 0.1611785739660263, 0.0005476055666804314, 0.00018253519374411553, 0.001642816816456616, 0.0029205630999058485, 0.027927884832024574, 0.8306103348731995, 0.1531982421875, 0.00024201933410950005, 0.00024201933410950005, 0.001694135251455009, 0.0014521159464493394, 0.012342985719442368, 0.9996761679649353, 0.9904516935348511, 0.9993151426315308, 0.9868290424346924, 0.9862474203109741, 0.9979245066642761, 0.0007682251743972301, 0.01047646626830101, 0.9847878217697144, 0.9893976449966431, 0.9607658982276917, 0.03300340846180916, 0.0340338833630085, 0.045378509908914566, 0.03025233931839466, 0.02079848386347294, 0.0037815424147993326, 0.7657623887062073, 0.10021087527275085, 0.007075643632560968, 0.003537821816280484, 0.042453862726688385, 0.9481362700462341, 0.9943662285804749, 0.00369309657253325, 0.9950656294822693, 0.003572946647182107, 0.38983047008514404, 0.017216486856341362, 0.5902795791625977, 0.0012297490611672401, 0.9887608289718628, 0.007270300295203924, 0.001817575073800981, 0.001817575073800981, 0.9915549159049988, 0.2528802454471588, 0.7408947944641113, 0.993168294429779, 0.11082956194877625, 0.05541478097438812, 0.02432844042778015, 0.045953720808029175, 0.025680020451545715, 0.029734760522842407, 0.4608887732028961, 0.06487584114074707, 0.12975168228149414, 0.01351580023765564, 0.02027370035648346, 0.00675790011882782, 0.004054740071296692, 0.00675790011882782, 0.024808356538414955, 0.0007088101701810956, 0.7754383683204651, 0.17436730861663818, 0.0007088101701810956, 0.008505722507834435, 0.0141762038692832, 0.002947060391306877, 0.9754770398139954, 0.011788241565227509, 0.005894120782613754, 0.9942421317100525, 0.9975306391716003, 0.9912350177764893, 0.9897162914276123, 0.982498288154602, 0.011909070424735546, 0.03133785352110863, 0.4851703643798828, 0.0003775644872803241, 0.03511349856853485, 0.002642951440066099, 0.0007551289745606482, 0.0003775644872803241, 0.17632260918617249, 0.1159122958779335, 0.05361415818333626, 0.03322567418217659, 0.026051949709653854, 0.040399398654699326, 0.9938515424728394, 0.0004045486857648939, 0.26248466968536377, 0.005056858528405428, 0.21656839549541473, 0.1908121407032013, 0.003438663901761174, 0.002427292289212346, 0.0970916897058487, 0.07942639291286469, 0.08603402227163315, 0.04618597775697708, 0.00863037258386612, 0.00033712389995343983, 0.0009439469431526959, 0.9874240756034851, 0.005874635186046362, 0.007832846604287624, 0.23106898367404938, 0.652084469795227, 0.09595237672328949, 0.003916423302143812, 0.1339043527841568, 0.1732468605041504, 0.0796835720539093, 0.09645906090736389, 0.09905526787042618, 0.03484908118844032, 0.0469314269721508, 0.056018151342868805, 0.08797146379947662, 0.058714210987091064, 0.08327832072973251, 0.037245579063892365, 0.008887015283107758, 0.0036946015898138285, 0.9820542335510254, 0.015031442046165466, 0.9925438761711121, 0.027626540511846542, 0.012750711292028427, 0.771418035030365, 0.008500474505126476, 0.0010625593131408095, 0.049940284341573715, 0.03825213387608528, 0.09031753987073898, 0.9919135570526123, 0.014553024433553219, 0.9750525951385498, 0.40541017055511475, 0.04173339903354645, 0.30564746260643005, 0.024245116859674454, 0.024245116859674454, 0.010731445625424385, 0.021065430715680122, 0.01669335924088955, 0.04451562464237213, 0.0059619140811264515, 0.003974609542638063, 0.013116211630403996, 0.0325917974114418, 0.0492851585149765, 0.995335042476654, 0.005353676620870829, 0.9904301762580872, 0.007270810194313526, 0.014541620388627052, 0.9779239892959595, 0.3154730200767517, 0.676768958568573, 0.001762419124133885, 0.004406047984957695, 0.0008812095620669425, 0.3302554488182068, 0.6645079255104065, 0.0004996300558559597, 0.0004996300558559597, 0.0034974103327840567, 0.0004996300558559597, 0.5416640043258667, 0.4169953167438507, 0.00351729872636497, 0.0015632439171895385, 0.03321893513202667, 0.002344865817576647, 0.9972634315490723, 0.0034506777301430702, 0.06326242536306381, 0.11847326904535294, 0.0023004519753158092, 0.0011502259876579046, 0.8074585795402527, 0.0011502259876579046, 0.0011502259876579046, 0.9939566850662231, 0.9845999479293823, 0.9950788021087646, 0.026576979085803032, 0.9700597524642944, 0.20233197510242462, 0.017918698489665985, 0.002239837311208248, 0.02762466110289097, 0.06570189446210861, 0.5174024701118469, 0.006719512399286032, 0.03658401221036911, 0.04852981120347977, 0.003733062418177724, 0.04106368497014046, 0.012692412361502647, 0.017172086983919144, 0.9687499403953552, 0.002632472664117813, 0.002632472664117813, 0.023692253977060318, 0.19243890047073364, 0.13546791672706604, 0.04499412328004837, 0.1296413391828537, 0.06473974883556366, 0.09824256598949432, 0.03625425696372986, 0.06894782930612564, 0.04742186516523361, 0.09387263655662537, 0.05502878502011299, 0.01893637701869011, 0.008416167460381985, 0.00534102926030755, 0.06802350282669067, 0.006802350282669067, 0.03741292655467987, 0.0034011751413345337, 0.8570961356163025, 0.023808225989341736, 0.0009559547761455178, 0.9616904854774475, 0.0028678644448518753, 0.01242741197347641, 0.004779773764312267, 0.016251230612397194, 0.0009559547761455178, 0.0077443611808121204, 0.9835339188575745, 0.0020927966106683016, 0.9543153047561646, 0.02929915301501751, 0.004185593221336603, 0.0020927966106683016, 0.004185593221336603, 0.9812610745429993, 0.003965479321777821, 0.00036049814661964774, 0.839600145816803, 0.1344657987356186, 0.00036049814661964774, 0.002883985172957182, 0.00036049814661964774, 0.00757046090438962, 0.010454446077346802, 0.011296963319182396, 0.0011296962620690465, 0.9410369992256165, 0.04179876297712326, 0.0011296962620690465, 0.002259392524138093, 0.006132817827165127, 0.0004717552219517529, 0.8746341466903687, 0.08255716413259506, 0.0004717552219517529, 0.023116005584597588, 0.011793880723416805, 0.0009831623174250126, 0.00019663246348500252, 0.0005898973904550076, 0.16064871847629547, 0.32149407267570496, 0.0007865298539400101, 0.00019663246348500252, 0.0536806620657444, 0.35826432704925537, 0.00039326492697000504, 0.0015730597078800201, 0.10047918558120728, 0.0005898973904550076, 0.9970035552978516, 0.001580037409439683, 0.9882904291152954, 0.252867192029953, 0.10275562107563019, 0.08021056652069092, 0.09629799425601959, 0.058798421174287796, 0.0699010118842125, 0.08610173314809799, 0.06197059154510498, 0.03546031937003136, 0.04044515639543533, 0.049168623983860016, 0.029342565685510635, 0.03308119252324104, 0.003625336103141308, 0.9984853863716125, 0.01103183627128601, 0.0022063672076910734, 0.9796270728111267, 0.0022063672076910734, 0.0022063672076910734, 0.0022063672076910734, 0.004700347315520048, 0.9612210392951965, 0.025851910933852196, 0.007050521206110716, 0.0015086457133293152, 0.0045259371399879456, 0.8478589057922363, 0.036207497119903564, 0.03469885140657425, 0.0015086457133293152, 0.04073343425989151, 0.03168155997991562, 0.9906215667724609, 0.9919517040252686, 0.9951546788215637, 0.991895318031311, 0.9969229698181152, 0.9847319722175598, 0.002661437727510929, 0.002661437727510929, 0.005322875455021858, 0.9983317255973816, 0.9978594183921814, 0.9796620607376099, 0.33943992853164673, 0.046632323414087296, 0.0010844726348295808, 0.0010844726348295808, 0.02385839819908142, 0.14206591248512268, 0.0021689452696591616, 0.004337890539318323, 0.0010844726348295808, 0.43812695145606995, 0.0010844726348295808, 0.38337424397468567, 0.04321270436048508, 0.06094099208712578, 0.0144042344763875, 0.03878062963485718, 0.06094099208712578, 0.021052341908216476, 0.027700450271368027, 0.0011080179829150438, 0.012188198044896126, 0.0443207211792469, 0.2914087474346161, 0.0011080179829150438, 0.0010263322619721293, 0.07697491347789764, 0.0010263322619721293, 0.16934481263160706, 0.037974290549755096, 0.0010263322619721293, 0.6260626316070557, 0.030789965763688087, 0.045158617198467255, 0.008210658095777035, 0.11056508868932724, 0.15618203580379486, 0.12247028946876526, 0.16714423894882202, 0.14580918848514557, 0.028407448902726173, 0.03677644953131676, 0.04879951849579811, 0.046088434755802155, 0.01803460344672203, 0.08592958748340607, 0.012023069895803928, 0.017445238307118416, 0.004361309576779604, 0.008761650882661343, 0.3556021749973297, 0.045167822390794754, 0.13958217203617096, 0.19049037992954254, 0.008610588498413563, 0.010423343628644943, 0.04244868829846382, 0.056648608297109604, 0.056799668818712234, 0.06767620146274567, 0.009063776582479477, 0.006193581037223339, 0.002568070078268647, 0.5299227833747864, 0.00039022296550683677, 0.09365351498126984, 0.0011706688674166799, 0.0023413377348333597, 0.04292452707886696, 0.1256517916917801, 0.0023413377348333597, 0.004292452707886696, 0.00039022296550683677, 0.00039022296550683677, 0.003121783724054694, 0.1865265816450119, 0.006633790675550699, 0.9838886260986328, 0.9877148866653442, 0.007735889405012131, 0.6771178245544434, 0.03458397462964058, 0.0009101046016439795, 0.10375192761421204, 0.10147666186094284, 0.07462857663631439, 0.20831528306007385, 0.025755343958735466, 0.0363604873418808, 0.1999826729297638, 0.16564221680164337, 0.07903356105089188, 0.041158050298690796, 0.022977808490395546, 0.10680893063545227, 0.014140189625322819, 0.04368308559060097, 0.026512855663895607, 0.026007847860455513, 0.0035350474063307047, 0.23141565918922424, 0.12965841591358185, 0.12562991678714752, 0.06296415627002716, 0.10011599957942963, 0.03312332555651665, 0.03282491862773895, 0.07758616656064987, 0.08385274559259415, 0.029542425647377968, 0.032228101044893265, 0.02834879234433174, 0.02894560806453228, 0.004028512630611658, 0.9874086380004883, 0.5086686611175537, 0.008445329032838345, 0.023387065157294273, 0.06171586737036705, 0.19489221274852753, 0.000649640744086355, 0.00129928148817271, 0.011043892242014408, 0.00259856297634542, 0.1806001216173172, 0.006496407091617584, 0.9866767525672913, 0.9886333346366882, 0.05163726210594177, 0.9359253644943237, 0.0064546577632427216, 0.020823869854211807, 0.9717805981636047], \"Term\": [\"aa\", \"ac\", \"ac\", \"ac\", \"accessories\", \"acoustic\", \"acoustic\", \"acoustic\", \"acoustic\", \"acoustic\", \"acoustic\", \"acoustics\", \"acting\", \"acting\", \"acting\", \"acting\", \"acting\", \"action\", \"action\", \"action\", \"action\", \"action\", \"action\", \"action\", \"action\", \"action\", \"action\", \"action\", \"action\", \"actors\", \"actors\", \"actors\", \"actors\", \"addario\", \"aerosmith\", \"agents\", \"aired\", \"aired\", \"alanis\", \"album\", \"album\", \"album\", \"album\", \"album\", \"album\", \"album\", \"albums\", \"albums\", \"albums\", \"albums\", \"albums\", \"alicia\", \"aliens\", \"amazon\", \"amazon\", \"amazon\", \"amazon\", \"amazon\", \"amazon\", \"amazon\", \"amazon\", \"amazon\", \"amazon\", \"amazon\", \"amazon\", \"amazon\", \"amazon\", \"american\", \"american\", \"american\", \"american\", \"american\", \"american\", \"american\", \"american\", \"american\", \"american\", \"amos\", \"amp\", \"amp\", \"amp\", \"amp\", \"amp\", \"amp\", \"amp\", \"amps\", \"amps\", \"anco\", \"android\", \"animal\", \"animal\", \"animal\", \"animal\", \"animal\", \"animal\", \"animals\", \"animals\", \"animals\", \"animals\", \"animals\", \"animation\", \"animation\", \"antique\", \"ants\", \"ants\", \"ants\", \"area\", \"area\", \"area\", \"area\", \"area\", \"area\", \"area\", \"area\", \"area\", \"area\", \"area\", \"area\", \"area\", \"area\", \"aretha\", \"aretha\", \"arranged\", \"artist\", \"artist\", \"artist\", \"artist\", \"artist\", \"artist\", \"artists\", \"artists\", \"artists\", \"artists\", \"attaching\", \"attaching\", \"away\", \"away\", \"away\", \"away\", \"away\", \"away\", \"away\", \"away\", \"away\", \"away\", \"away\", \"away\", \"away\", \"away\", \"bad\", \"bad\", \"bad\", \"bad\", \"bad\", \"bad\", \"bad\", \"bad\", \"bad\", \"bad\", \"bad\", \"bad\", \"bad\", \"bad\", \"baffle\", \"bait\", \"baited\", \"baits\", \"band\", \"band\", \"band\", \"band\", \"band\", \"band\", \"band\", \"band\", \"band\", \"band\", \"band\", \"bangin\", \"banks\", \"bargain\", \"basket\", \"bass\", \"bass\", \"bass\", \"bass\", \"bass\", \"bath\", \"batteries\", \"batteries\", \"batteries\", \"batteries\", \"batteries\", \"battery\", \"battery\", \"battery\", \"battery\", \"battery\", \"battery\", \"bbc\", \"bbq\", \"beam\", \"beam\", \"beans\", \"beans\", \"beat\", \"beat\", \"beat\", \"beat\", \"beat\", \"beat\", \"beat\", \"beat\", \"beat\", \"beat\", \"beat\", \"beat\", \"beats\", \"beats\", \"beats\", \"beats\", \"beats\", \"beats\", \"beats\", \"beats\", \"beats\", \"beautiful\", \"beautiful\", \"beautiful\", \"beautiful\", \"beautiful\", \"beautiful\", \"beautiful\", \"beautiful\", \"beautiful\", \"beautiful\", \"beautiful\", \"beautiful\", \"beds\", \"beds\", \"beginner\", \"beginner\", \"beginners\", \"behringer\", \"behringer\", \"bells\", \"bench\", \"beneath\", \"beneath\", \"bernie\", \"bernie\", \"best\", \"best\", \"best\", \"best\", \"best\", \"best\", \"best\", \"best\", \"best\", \"best\", \"best\", \"best\", \"best\", \"best\", \"better\", \"better\", \"better\", \"better\", \"better\", \"better\", \"better\", \"better\", \"better\", \"better\", \"better\", \"better\", \"better\", \"better\", \"bikes\", \"bikini\", \"billboard\", \"bird\", \"bird\", \"bird\", \"bird\", \"bird\", \"birds\", \"birds\", \"birds\", \"bit\", \"bit\", \"bit\", \"bit\", \"bit\", \"bit\", \"bit\", \"bit\", \"bit\", \"bit\", \"bit\", \"bit\", \"bit\", \"bit\", \"blade\", \"blade\", \"blade\", \"blade\", \"blades\", \"blades\", \"blades\", \"blige\", \"blues\", \"blues\", \"blues\", \"blues\", \"blues\", \"blues\", \"bmw\", \"bmw\", \"board\", \"board\", \"board\", \"board\", \"board\", \"board\", \"board\", \"board\", \"board\", \"board\", \"board\", \"bobby\", \"bolt\", \"bolt\", \"bone\", \"bone\", \"bone\", \"bone\", \"bone\", \"boost\", \"boost\", \"boost\", \"boss\", \"boss\", \"boss\", \"boss\", \"boss\", \"boss\", \"boss\", \"bought\", \"bought\", \"bought\", \"bought\", \"bought\", \"bought\", \"bought\", \"bought\", \"bought\", \"bought\", \"bought\", \"bought\", \"bought\", \"bought\", \"box\", \"box\", \"box\", \"box\", \"box\", \"box\", \"box\", \"box\", \"box\", \"box\", \"box\", \"box\", \"box\", \"box\", \"boyd\", \"brackets\", \"brass\", \"brass\", \"brass\", \"brass\", \"brass\", \"brass\", \"brass\", \"bristles\", \"brit\", \"brome\", \"brush\", \"brush\", \"brush\", \"brush\", \"brushes\", \"bucket\", \"bucket\", \"bucket\", \"buckingham\", \"buffer\", \"buffett\", \"bug\", \"bug\", \"bulb\", \"bulb\", \"bulb\", \"bulbs\", \"bulbs\", \"bulbs\", \"bulbs\", \"bumper\", \"burner\", \"burnt\", \"bushes\", \"butter\", \"butter\", \"buy\", \"buy\", \"buy\", \"buy\", \"buy\", \"buy\", \"buy\", \"buy\", \"buy\", \"buy\", \"buy\", \"buy\", \"buy\", \"buy\", \"bye\", \"cable\", \"cable\", \"cable\", \"cable\", \"cable\", \"cable\", \"cable\", \"cable\", \"cable\", \"cage\", \"cage\", \"cage\", \"cam\", \"camco\", \"camera\", \"camera\", \"camera\", \"camera\", \"capo\", \"capo\", \"captain\", \"captain\", \"car\", \"car\", \"car\", \"car\", \"car\", \"car\", \"car\", \"car\", \"car\", \"car\", \"car\", \"car\", \"car\", \"cardinals\", \"cargo\", \"carnauba\", \"cars\", \"cars\", \"cars\", \"cars\", \"cars\", \"cars\", \"cars\", \"cars\", \"cars\", \"cars\", \"cartoon\", \"cartoon\", \"case\", \"case\", \"case\", \"case\", \"case\", \"case\", \"case\", \"case\", \"case\", \"case\", \"case\", \"case\", \"case\", \"case\", \"casing\", \"cassette\", \"cast\", \"cast\", \"cast\", \"cast\", \"cast\", \"cast\", \"cast\", \"catch\", \"catch\", \"catch\", \"catch\", \"catch\", \"catch\", \"catch\", \"catch\", \"catch\", \"catch\", \"catch\", \"cats\", \"cats\", \"cats\", \"cats\", \"caught\", \"caught\", \"caught\", \"caught\", \"caught\", \"caught\", \"caught\", \"caught\", \"caught\", \"caught\", \"caught\", \"cave\", \"cd\", \"cd\", \"cd\", \"cd\", \"cd\", \"cd\", \"cds\", \"cds\", \"cds\", \"cds\", \"cgi\", \"chair\", \"chair\", \"chair\", \"chair\", \"chair\", \"chair\", \"chair\", \"channels\", \"character\", \"character\", \"character\", \"character\", \"character\", \"character\", \"character\", \"characters\", \"characters\", \"characters\", \"characters\", \"characters\", \"charcoal\", \"charge\", \"charge\", \"charge\", \"charge\", \"charge\", \"charge\", \"charge\", \"charge\", \"charger\", \"charger\", \"charger\", \"charger\", \"charges\", \"charging\", \"charging\", \"charging\", \"cheers\", \"chicken\", \"chicken\", \"chicken\", \"chicken\", \"chicken\", \"chicken\", \"chicken\", \"chicken\", \"chicken\", \"children\", \"children\", \"children\", \"children\", \"children\", \"children\", \"children\", \"children\", \"children\", \"children\", \"chills\", \"china\", \"china\", \"china\", \"china\", \"china\", \"china\", \"china\", \"chips\", \"chips\", \"christopher\", \"chunks\", \"cilantro\", \"clamps\", \"clapton\", \"classic\", \"classic\", \"classic\", \"classic\", \"classic\", \"classic\", \"classic\", \"classic\", \"classic\", \"classic\", \"classic\", \"classic\", \"classic\", \"classic\", \"claws\", \"clay\", \"clay\", \"clay\", \"clay\", \"clay\", \"clay\", \"clean\", \"clean\", \"clean\", \"clean\", \"clean\", \"clean\", \"clean\", \"clean\", \"clean\", \"clean\", \"clean\", \"clean\", \"clean\", \"cleaner\", \"cleaner\", \"cleaner\", \"cleaner\", \"cleaner\", \"cleaning\", \"cleaning\", \"cleaning\", \"cleaning\", \"cleaning\", \"cleaning\", \"cleaning\", \"cloth\", \"cloth\", \"cloth\", \"cloth\", \"cloth\", \"cloth\", \"cloths\", \"coals\", \"code\", \"code\", \"code\", \"codes\", \"collection\", \"collection\", \"collection\", \"collection\", \"collection\", \"collection\", \"collection\", \"collection\", \"collection\", \"collection\", \"collection\", \"collection\", \"comedy\", \"comedy\", \"commented\", \"compound\", \"compressor\", \"compressor\", \"connector\", \"connector\", \"connector\", \"connector\", \"connector\", \"connects\", \"container\", \"container\", \"container\", \"container\", \"container\", \"container\", \"contraption\", \"controls\", \"controls\", \"controls\", \"cook\", \"cook\", \"cook\", \"cooked\", \"cooking\", \"cooking\", \"cop\", \"cop\", \"cord\", \"cord\", \"cord\", \"cord\", \"cord\", \"cord\", \"cord\", \"corded\", \"cordless\", \"corny\", \"costello\", \"cover\", \"cover\", \"cover\", \"cover\", \"cover\", \"cover\", \"cover\", \"cover\", \"cover\", \"cover\", \"cover\", \"cover\", \"cover\", \"cover\", \"crash\", \"creepy\", \"creepy\", \"creepy\", \"creepy\", \"crime\", \"crime\", \"crime\", \"crime\", \"crimes\", \"crimes\", \"crunch\", \"crunch\", \"cups\", \"curtis\", \"customer\", \"customer\", \"customer\", \"customer\", \"customer\", \"customer\", \"customer\", \"customer\", \"customer\", \"cut\", \"cut\", \"cut\", \"cut\", \"cut\", \"cut\", \"cut\", \"cut\", \"cut\", \"cut\", \"cut\", \"cut\", \"cut\", \"cuttings\", \"cuz\", \"cuz\", \"dance\", \"dance\", \"dance\", \"dance\", \"dance\", \"dashboard\", \"dated\", \"dated\", \"daughter\", \"daughter\", \"daughter\", \"daughter\", \"daughter\", \"daughter\", \"daughter\", \"daughter\", \"dead\", \"dead\", \"dead\", \"dead\", \"dead\", \"dead\", \"dead\", \"dead\", \"dead\", \"dead\", \"dead\", \"dead\", \"dead\", \"dean\", \"debut\", \"debut\", \"debut\", \"debut\", \"debut\", \"deck\", \"deck\", \"deck\", \"deck\", \"deck\", \"deck\", \"deck\", \"deck\", \"decker\", \"decker\", \"deer\", \"delay\", \"demise\", \"detailer\", \"detailer\", \"detailing\", \"detailing\", \"detailing\", \"detective\", \"detective\", \"detective\", \"development\", \"development\", \"development\", \"development\", \"development\", \"development\", \"device\", \"device\", \"device\", \"device\", \"device\", \"device\", \"device\", \"device\", \"device\", \"dexter\", \"diatomaceous\", \"digital\", \"digital\", \"digital\", \"digital\", \"digital\", \"digital\", \"digital\", \"digital\", \"digital\", \"digitech\", \"director\", \"director\", \"director\", \"disk\", \"disk\", \"disk\", \"disk\", \"dispose\", \"distortion\", \"distortion\", \"distortion\", \"diva\", \"dm\", \"dog\", \"dog\", \"dog\", \"dog\", \"dog\", \"dog\", \"dog\", \"dog\", \"dog\", \"dog\", \"dog\", \"dogg\", \"dogg\", \"dome\", \"dome\", \"door\", \"door\", \"door\", \"door\", \"door\", \"door\", \"door\", \"door\", \"door\", \"door\", \"door\", \"door\", \"door\", \"downright\", \"dr\", \"dr\", \"dr\", \"dr\", \"dr\", \"dr\", \"dr\", \"dr\", \"dracula\", \"drainage\", \"drainage\", \"dre\", \"dre\", \"dreamy\", \"drip\", \"drum\", \"drum\", \"drum\", \"drum\", \"drum\", \"drummer\", \"drummer\", \"drums\", \"drums\", \"dry\", \"dry\", \"dry\", \"dry\", \"dry\", \"dry\", \"dry\", \"dry\", \"dry\", \"dry\", \"dry\", \"dry\", \"drying\", \"drying\", \"ds\", \"dusty\", \"dvd\", \"dvd\", \"dvd\", \"dvd\", \"dvd\", \"dvd\", \"dylan\", \"eacute\", \"eacute\", \"eacute\", \"eacute\", \"eagles\", \"eagles\", \"easy\", \"easy\", \"easy\", \"easy\", \"easy\", \"easy\", \"easy\", \"easy\", \"easy\", \"easy\", \"easy\", \"easy\", \"easy\", \"easy\", \"eazy\", \"educational\", \"effective\", \"effective\", \"effective\", \"effective\", \"effective\", \"effective\", \"effective\", \"effective\", \"effective\", \"effective\", \"effective\", \"effective\", \"effective\", \"effective\", \"effects\", \"effects\", \"effects\", \"effects\", \"effects\", \"effects\", \"effects\", \"effects\", \"effortless\", \"elastic\", \"electric\", \"electric\", \"electric\", \"electric\", \"electric\", \"electric\", \"electric\", \"electric\", \"electric\", \"electric\", \"elegant\", \"elephant\", \"elixir\", \"elton\", \"elton\", \"elvis\", \"elvis\", \"em\", \"em\", \"em\", \"em\", \"em\", \"emcees\", \"eminem\", \"eminem\", \"end\", \"end\", \"end\", \"end\", \"end\", \"end\", \"end\", \"end\", \"end\", \"end\", \"end\", \"end\", \"end\", \"end\", \"enjoy\", \"enjoy\", \"enjoy\", \"enjoy\", \"enjoy\", \"enjoy\", \"enjoy\", \"enjoy\", \"enjoy\", \"enjoy\", \"enjoy\", \"enjoy\", \"enjoy\", \"enjoyed\", \"enjoyed\", \"enjoyed\", \"enjoyed\", \"enjoyed\", \"enjoyed\", \"enjoyed\", \"enjoys\", \"entertaining\", \"entertaining\", \"entertaining\", \"entertaining\", \"episode\", \"episode\", \"episode\", \"episode\", \"episode\", \"episodes\", \"episodes\", \"episodes\", \"episodes\", \"episodes\", \"eq\", \"eq\", \"erykah\", \"evil\", \"evil\", \"evil\", \"evil\", \"expands\", \"faced\", \"fairy\", \"family\", \"family\", \"family\", \"family\", \"family\", \"family\", \"family\", \"family\", \"family\", \"family\", \"family\", \"family\", \"family\", \"family\", \"fan\", \"fan\", \"fan\", \"fan\", \"fan\", \"fan\", \"fan\", \"fan\", \"fan\", \"fan\", \"fan\", \"fan\", \"fan\", \"fan\", \"fans\", \"fans\", \"fans\", \"fans\", \"fans\", \"fans\", \"fans\", \"fans\", \"fans\", \"far\", \"far\", \"far\", \"far\", \"far\", \"far\", \"far\", \"far\", \"far\", \"far\", \"far\", \"far\", \"far\", \"far\", \"fate\", \"father\", \"father\", \"father\", \"father\", \"father\", \"father\", \"father\", \"father\", \"father\", \"faucet\", \"favorite\", \"favorite\", \"favorite\", \"favorite\", \"favorite\", \"favorite\", \"favorite\", \"favorite\", \"favorite\", \"favorite\", \"favorite\", \"favorite\", \"favorite\", \"favorite\", \"feat\", \"feat\", \"featuring\", \"featuring\", \"featuring\", \"featuring\", \"feed\", \"feed\", \"feed\", \"feed\", \"feed\", \"feed\", \"feed\", \"feeder\", \"feeder\", \"feeder\", \"feeders\", \"feeding\", \"feeding\", \"feeding\", \"feeding\", \"feeding\", \"feel\", \"feel\", \"feel\", \"feel\", \"feel\", \"feel\", \"feel\", \"feel\", \"feel\", \"feel\", \"feel\", \"feel\", \"feel\", \"feel\", \"feet\", \"feet\", \"feet\", \"feet\", \"feet\", \"feet\", \"feet\", \"feet\", \"feet\", \"feet\", \"feet\", \"feet\", \"feet\", \"fence\", \"fence\", \"fence\", \"fence\", \"fence\", \"fiber\", \"fiction\", \"fiction\", \"fiction\", \"filling\", \"filling\", \"filling\", \"filling\", \"filling\", \"film\", \"film\", \"film\", \"film\", \"film\", \"film\", \"film\", \"films\", \"films\", \"films\", \"filter\", \"filter\", \"filter\", \"filter\", \"filters\", \"filters\", \"filters\", \"filters\", \"finches\", \"fit\", \"fit\", \"fit\", \"fit\", \"fit\", \"fit\", \"fit\", \"fit\", \"fit\", \"fit\", \"fit\", \"fit\", \"fit\", \"fit\", \"fitted\", \"fittings\", \"fleetwood\", \"flies\", \"flies\", \"flies\", \"flies\", \"flies\", \"flower\", \"flower\", \"flower\", \"flower\", \"flowers\", \"flowers\", \"flowers\", \"flowers\", \"flowers\", \"flute\", \"folk\", \"folk\", \"folk\", \"folk\", \"food\", \"food\", \"food\", \"food\", \"food\", \"food\", \"food\", \"food\", \"footage\", \"footage\", \"footage\", \"fram\", \"fret\", \"fret\", \"fun\", \"fun\", \"fun\", \"fun\", \"fun\", \"fun\", \"fun\", \"fun\", \"fun\", \"fun\", \"fun\", \"fun\", \"fun\", \"funnel\", \"funnel\", \"funny\", \"funny\", \"funny\", \"funny\", \"funny\", \"funny\", \"funny\", \"funny\", \"gain\", \"gain\", \"gain\", \"gain\", \"gain\", \"game\", \"game\", \"game\", \"game\", \"game\", \"game\", \"game\", \"gangsta\", \"gangsta\", \"garden\", \"garden\", \"garden\", \"garden\", \"garden\", \"garden\", \"garden\", \"garden\", \"garden\", \"gardening\", \"gardening\", \"gardening\", \"gardening\", \"gardens\", \"gardens\", \"gel\", \"gel\", \"generator\", \"ghetto\", \"ghosts\", \"gibson\", \"gigging\", \"gilmour\", \"gilmour\", \"girl\", \"girl\", \"girl\", \"girl\", \"girl\", \"girl\", \"glass\", \"glass\", \"glass\", \"glass\", \"glass\", \"glass\", \"glass\", \"glass\", \"gloves\", \"gloves\", \"gloves\", \"gloves\", \"gloves\", \"gloves\", \"glue\", \"glue\", \"glue\", \"glue\", \"glue\", \"glue\", \"glue\", \"going\", \"going\", \"going\", \"going\", \"going\", \"going\", \"going\", \"going\", \"going\", \"going\", \"going\", \"going\", \"going\", \"going\", \"good\", \"good\", \"good\", \"good\", \"good\", \"good\", \"good\", \"good\", \"good\", \"good\", \"good\", \"good\", \"good\", \"good\", \"gophers\", \"gore\", \"gore\", \"gore\", \"gorgeous\", \"gorgeous\", \"gorgeous\", \"gorgeous\", \"gorgeous\", \"gorgeous\", \"got\", \"got\", \"got\", \"got\", \"got\", \"got\", \"got\", \"got\", \"got\", \"got\", \"got\", \"got\", \"got\", \"got\", \"gps\", \"grass\", \"grass\", \"grass\", \"grass\", \"grass\", \"grate\", \"grates\", \"gravel\", \"grease\", \"grease\", \"grease\", \"grease\", \"greasy\", \"great\", \"great\", \"great\", \"great\", \"great\", \"great\", \"great\", \"great\", \"great\", \"great\", \"great\", \"great\", \"great\", \"great\", \"greenworks\", \"grid\", \"grill\", \"grilling\", \"grills\", \"griot\", \"griot\", \"gro\", \"ground\", \"ground\", \"ground\", \"ground\", \"ground\", \"ground\", \"ground\", \"ground\", \"ground\", \"ground\", \"ground\", \"ground\", \"ground\", \"ground\", \"gt\", \"guarantee\", \"guitar\", \"guitar\", \"guitar\", \"guitar\", \"guitar\", \"guitar\", \"guitar\", \"guitar\", \"guitar\", \"guitarist\", \"guitarist\", \"guitarist\", \"guitarist\", \"guitars\", \"guitars\", \"guitars\", \"guitars\", \"guy\", \"guy\", \"guy\", \"guy\", \"guy\", \"guy\", \"guy\", \"guy\", \"guy\", \"guy\", \"guy\", \"guy\", \"guy\", \"guy\", \"halen\", \"handle\", \"handle\", \"handle\", \"handle\", \"handle\", \"handle\", \"handle\", \"handle\", \"handle\", \"hang\", \"hang\", \"hang\", \"hang\", \"hang\", \"hang\", \"hang\", \"hang\", \"hang\", \"hang\", \"hang\", \"hang\", \"hanger\", \"hanging\", \"hanging\", \"hanging\", \"hanging\", \"hanging\", \"hanging\", \"hanging\", \"hanging\", \"hanging\", \"hannibal\", \"harmonica\", \"harmony\", \"havahart\", \"havahart\", \"havent\", \"hayward\", \"headlight\", \"headphones\", \"headstock\", \"hear\", \"hear\", \"hear\", \"hear\", \"hear\", \"hear\", \"hear\", \"hear\", \"hear\", \"hear\", \"hear\", \"hear\", \"hear\", \"hear\", \"heard\", \"heard\", \"heard\", \"heard\", \"heard\", \"heard\", \"heard\", \"heard\", \"heard\", \"heard\", \"heard\", \"heard\", \"heard\", \"heard\", \"heart\", \"heart\", \"heart\", \"heart\", \"heart\", \"heart\", \"heart\", \"heart\", \"heartbeat\", \"heat\", \"heat\", \"heat\", \"heat\", \"heat\", \"heat\", \"heat\", \"heat\", \"heat\", \"heat\", \"heat\", \"hendrix\", \"hendrix\", \"herb\", \"hi\", \"hi\", \"hi\", \"hi\", \"hip\", \"hip\", \"hip\", \"hip\", \"hiss\", \"hit\", \"hit\", \"hit\", \"hit\", \"hit\", \"hit\", \"hit\", \"hit\", \"hit\", \"hit\", \"hit\", \"hit\", \"hit\", \"hit\", \"hitch\", \"hitch\", \"hits\", \"hits\", \"hits\", \"hits\", \"hits\", \"hits\", \"hits\", \"hits\", \"hits\", \"holmes\", \"hook\", \"hook\", \"hook\", \"hook\", \"hook\", \"hook\", \"hook\", \"hook\", \"hook\", \"hook\", \"hook\", \"hook\", \"hook\", \"hook\", \"hop\", \"hop\", \"hop\", \"hop\", \"hope\", \"hope\", \"hope\", \"hope\", \"hope\", \"hope\", \"hope\", \"hope\", \"hope\", \"hope\", \"hope\", \"hope\", \"hope\", \"hope\", \"horror\", \"horror\", \"horror\", \"hosa\", \"hose\", \"hose\", \"hose\", \"hose\", \"hoses\", \"hoses\", \"hot\", \"hot\", \"hot\", \"hot\", \"hot\", \"hot\", \"hot\", \"hot\", \"hot\", \"hot\", \"hot\", \"hot\", \"hot\", \"hot\", \"house\", \"house\", \"house\", \"house\", \"house\", \"house\", \"house\", \"house\", \"house\", \"house\", \"house\", \"house\", \"house\", \"house\", \"human\", \"human\", \"human\", \"human\", \"human\", \"human\", \"human\", \"human\", \"hummers\", \"hummingbird\", \"hummingbirds\", \"humor\", \"humor\", \"humor\", \"humor\", \"humor\", \"humor\", \"hung\", \"hung\", \"hung\", \"hung\", \"hung\", \"identical\", \"imho\", \"info\", \"info\", \"info\", \"info\", \"information\", \"information\", \"information\", \"information\", \"information\", \"information\", \"information\", \"information\", \"information\", \"information\", \"information\", \"input\", \"input\", \"input\", \"inputs\", \"inputs\", \"ins\", \"inside\", \"inside\", \"inside\", \"inside\", \"inside\", \"inside\", \"inside\", \"inside\", \"inside\", \"inside\", \"inside\", \"inside\", \"inside\", \"inside\", \"instrument\", \"instrument\", \"instrument\", \"instrument\", \"instrument\", \"instrument\", \"instrumental\", \"instrumental\", \"instrumental\", \"instrumentals\", \"interesting\", \"interesting\", \"interesting\", \"interesting\", \"interesting\", \"interesting\", \"interesting\", \"interesting\", \"interesting\", \"interesting\", \"interesting\", \"interesting\", \"introspective\", \"invest\", \"iphone\", \"ipod\", \"irish\", \"jack\", \"jack\", \"jack\", \"jack\", \"jack\", \"jack\", \"jack\", \"jack\", \"jack\", \"jack\", \"jack\", \"jack\", \"jackson\", \"jackson\", \"jackson\", \"jay\", \"jay\", \"jay\", \"jay\", \"jazz\", \"jazz\", \"jazz\", \"jazz\", \"jazz\", \"jean\", \"jewish\", \"jill\", \"jill\", \"jimi\", \"jimi\", \"job\", \"job\", \"job\", \"job\", \"job\", \"job\", \"job\", \"job\", \"job\", \"job\", \"job\", \"job\", \"job\", \"job\", \"john\", \"john\", \"john\", \"john\", \"johnson\", \"joss\", \"joss\", \"joss\", \"joyo\", \"jungle\", \"justified\", \"justified\", \"kevin\", \"kill\", \"kill\", \"kill\", \"kill\", \"kill\", \"kill\", \"kill\", \"kill\", \"kill\", \"kill\", \"kink\", \"kit\", \"kit\", \"kit\", \"kit\", \"kit\", \"kit\", \"kit\", \"kits\", \"knob\", \"knob\", \"knob\", \"knob\", \"knobs\", \"knobs\", \"know\", \"know\", \"know\", \"know\", \"know\", \"know\", \"know\", \"know\", \"know\", \"know\", \"know\", \"know\", \"know\", \"know\", \"korg\", \"ladder\", \"lamb\", \"lantern\", \"large\", \"large\", \"large\", \"large\", \"large\", \"large\", \"large\", \"large\", \"large\", \"large\", \"large\", \"large\", \"large\", \"large\", \"lawn\", \"lawn\", \"lawn\", \"lawn\", \"lawn\", \"leak\", \"leak\", \"leak\", \"leak\", \"leak\", \"leather\", \"leather\", \"leather\", \"leather\", \"leather\", \"leather\", \"leaves\", \"leaves\", \"leaves\", \"leaves\", \"leaves\", \"leaves\", \"leaves\", \"leaves\", \"leaves\", \"leaves\", \"leaves\", \"leaves\", \"leaves\", \"leaves\", \"legendary\", \"legendary\", \"leonard\", \"lettuce\", \"lid\", \"lid\", \"lid\", \"lid\", \"lid\", \"lid\", \"life\", \"life\", \"life\", \"life\", \"life\", \"life\", \"life\", \"life\", \"life\", \"life\", \"life\", \"life\", \"life\", \"life\", \"light\", \"light\", \"light\", \"light\", \"light\", \"light\", \"light\", \"light\", \"light\", \"light\", \"light\", \"light\", \"light\", \"light\", \"lights\", \"lights\", \"lights\", \"lights\", \"lights\", \"lights\", \"lights\", \"lights\", \"like\", \"like\", \"like\", \"like\", \"like\", \"like\", \"like\", \"like\", \"like\", \"like\", \"like\", \"like\", \"like\", \"like\", \"lil\", \"lil\", \"lil\", \"lining\", \"lint\", \"listen\", \"listen\", \"listen\", \"listen\", \"listen\", \"listen\", \"little\", \"little\", \"little\", \"little\", \"little\", \"little\", \"little\", \"little\", \"little\", \"little\", \"little\", \"little\", \"little\", \"little\", \"live\", \"live\", \"live\", \"live\", \"live\", \"live\", \"live\", \"live\", \"live\", \"live\", \"live\", \"live\", \"live\", \"live\", \"ll\", \"ll\", \"ll\", \"ll\", \"ll\", \"ll\", \"ll\", \"ll\", \"ll\", \"ll\", \"ll\", \"ll\", \"ll\", \"ll\", \"lock\", \"lock\", \"lock\", \"lock\", \"lock\", \"lock\", \"lock\", \"lock\", \"lock\", \"locks\", \"locks\", \"logic\", \"long\", \"long\", \"long\", \"long\", \"long\", \"long\", \"long\", \"long\", \"long\", \"long\", \"long\", \"long\", \"long\", \"long\", \"look\", \"look\", \"look\", \"look\", \"look\", \"look\", \"look\", \"look\", \"look\", \"look\", \"look\", \"look\", \"look\", \"look\", \"loosen\", \"lopper\", \"loppers\", \"loss\", \"loss\", \"loss\", \"loss\", \"loss\", \"loss\", \"loss\", \"loss\", \"loss\", \"loss\", \"loss\", \"love\", \"love\", \"love\", \"love\", \"love\", \"love\", \"love\", \"love\", \"love\", \"love\", \"love\", \"love\", \"love\", \"love\", \"loved\", \"loved\", \"loved\", \"loved\", \"loved\", \"loved\", \"loved\", \"loved\", \"loved\", \"loved\", \"loved\", \"loved\", \"loved\", \"lp\", \"lp\", \"lp\", \"lp\", \"lp\", \"lp\", \"lp\", \"lp\", \"lucy\", \"luther\", \"luther\", \"lyrics\", \"lyrics\", \"lyrics\", \"lyrics\", \"lyrics\", \"mac\", \"mac\", \"mainstream\", \"mainstream\", \"mainstream\", \"man\", \"man\", \"man\", \"man\", \"man\", \"man\", \"man\", \"man\", \"man\", \"man\", \"man\", \"man\", \"man\", \"manufacturers\", \"mariah\", \"mariah\", \"mary\", \"mary\", \"mary\", \"mat\", \"mathers\", \"mclachlan\", \"meat\", \"meg\", \"meguiars\", \"metal\", \"metal\", \"metal\", \"metal\", \"metal\", \"metal\", \"metal\", \"metal\", \"metal\", \"metal\", \"metal\", \"metal\", \"metal\", \"meter\", \"mic\", \"mic\", \"mic\", \"mic\", \"mic\", \"mic\", \"mic\", \"mic\", \"mice\", \"michael\", \"michael\", \"michael\", \"michael\", \"michael\", \"microfiber\", \"microfiber\", \"microfiber\", \"microphone\", \"microphone\", \"microphones\", \"microphones\", \"mics\", \"mics\", \"midnight\", \"miles\", \"miles\", \"miles\", \"miles\", \"miles\", \"miles\", \"miles\", \"miles\", \"miles\", \"miller\", \"miracle\", \"miracle\", \"miracle\", \"miracle\", \"mirror\", \"mitchell\", \"mixer\", \"mixer\", \"mixer\", \"mobb\", \"modeling\", \"mole\", \"moles\", \"monkey\", \"monkeys\", \"moodies\", \"morgan\", \"morrison\", \"moth\", \"moths\", \"mouse\", \"mousetrap\", \"movie\", \"movie\", \"movie\", \"movie\", \"movie\", \"movie\", \"movie\", \"movies\", \"movies\", \"movies\", \"movies\", \"mower\", \"mower\", \"mower\", \"mtv\", \"mtv\", \"mtv\", \"music\", \"music\", \"music\", \"music\", \"music\", \"music\", \"music\", \"music\", \"music\", \"music\", \"music\", \"musical\", \"musical\", \"musical\", \"musical\", \"musical\", \"musical\", \"musical\", \"mxr\", \"mxr\", \"mysterious\", \"nas\", \"nas\", \"nate\", \"nate\", \"national\", \"national\", \"national\", \"national\", \"neck\", \"neck\", \"neck\", \"neck\", \"neck\", \"neck\", \"nectar\", \"need\", \"need\", \"need\", \"need\", \"need\", \"need\", \"need\", \"need\", \"need\", \"need\", \"need\", \"need\", \"need\", \"need\", \"nelly\", \"nest\", \"net\", \"netflix\", \"new\", \"new\", \"new\", \"new\", \"new\", \"new\", \"new\", \"new\", \"new\", \"new\", \"new\", \"new\", \"new\", \"new\", \"nice\", \"nice\", \"nice\", \"nice\", \"nice\", \"nice\", \"nice\", \"nice\", \"nice\", \"nice\", \"nice\", \"nice\", \"nice\", \"nice\", \"nicks\", \"noise\", \"noise\", \"noise\", \"noise\", \"noise\", \"noise\", \"noise\", \"noise\", \"noise\", \"noise\", \"noise\", \"notes\", \"notes\", \"notes\", \"notes\", \"notes\", \"notes\", \"notes\", \"notes\", \"notes\", \"notes\", \"notes\", \"nozzle\", \"nozzle\", \"nozzle\", \"nozzle\", \"nozzles\", \"ny\", \"octave\", \"oil\", \"oil\", \"oil\", \"oil\", \"oil\", \"oil\", \"oil\", \"oil\", \"oily\", \"old\", \"old\", \"old\", \"old\", \"old\", \"old\", \"old\", \"old\", \"old\", \"old\", \"old\", \"old\", \"old\", \"old\", \"orb\", \"organ\", \"organ\", \"organized\", \"organized\", \"otis\", \"outputs\", \"overdrive\", \"overdrive\", \"overlook\", \"pac\", \"pac\", \"pad\", \"pad\", \"pad\", \"pad\", \"padding\", \"paint\", \"paint\", \"paint\", \"paint\", \"paint\", \"paint\", \"paint\", \"palmer\", \"pan\", \"pan\", \"pan\", \"pan\", \"pan\", \"panels\", \"parent\", \"passages\", \"patrick\", \"peanut\", \"pearl\", \"peavey\", \"pedal\", \"pedal\", \"pedal\", \"pedals\", \"pedals\", \"peg\", \"people\", \"people\", \"people\", \"people\", \"people\", \"people\", \"people\", \"people\", \"people\", \"people\", \"people\", \"people\", \"people\", \"people\", \"percent\", \"perch\", \"perches\", \"percussion\", \"percussion\", \"perky\", \"perlite\", \"pet\", \"pet\", \"pet\", \"pets\", \"pets\", \"phil\", \"phil\", \"phone\", \"phone\", \"phone\", \"phone\", \"phone\", \"phone\", \"phone\", \"phone\", \"phone\", \"piano\", \"piano\", \"piano\", \"piano\", \"picks\", \"picks\", \"picks\", \"picks\", \"picks\", \"pics\", \"pieces\", \"pieces\", \"pieces\", \"pieces\", \"pieces\", \"pieces\", \"pieces\", \"pieces\", \"pieces\", \"pieces\", \"pieces\", \"pieces\", \"pieces\", \"pilot\", \"pilot\", \"pilot\", \"pilot\", \"pilot\", \"pimp\", \"place\", \"place\", \"place\", \"place\", \"place\", \"place\", \"place\", \"place\", \"place\", \"place\", \"place\", \"place\", \"place\", \"place\", \"plant\", \"plant\", \"plant\", \"plant\", \"plant\", \"planter\", \"planters\", \"planting\", \"planting\", \"planting\", \"planting\", \"plants\", \"plants\", \"plants\", \"plants\", \"plants\", \"plants\", \"plastic\", \"plastic\", \"plastic\", \"plastic\", \"plastic\", \"plastic\", \"plastic\", \"plastic\", \"playing\", \"playing\", \"playing\", \"playing\", \"playing\", \"playing\", \"playing\", \"playing\", \"playing\", \"playing\", \"playing\", \"plot\", \"plot\", \"plot\", \"plot\", \"plot\", \"plots\", \"plots\", \"plots\", \"plugging\", \"poetry\", \"poison\", \"poison\", \"poison\", \"poison\", \"poisons\", \"polish\", \"polish\", \"polish\", \"polishing\", \"polishing\", \"polishing\", \"polishing\", \"politics\", \"pop\", \"pop\", \"pop\", \"pop\", \"pop\", \"pop\", \"pop\", \"pop\", \"pop\", \"pop\", \"pop\", \"pork\", \"pot\", \"pot\", \"pot\", \"pot\", \"pot\", \"pot\", \"pots\", \"pots\", \"pots\", \"pots\", \"pots\", \"powder\", \"powder\", \"powder\", \"power\", \"power\", \"power\", \"power\", \"power\", \"power\", \"power\", \"power\", \"power\", \"power\", \"power\", \"power\", \"power\", \"power\", \"premise\", \"premise\", \"premise\", \"prepare\", \"presets\", \"pressure\", \"pressure\", \"pressure\", \"pressure\", \"pressure\", \"pressure\", \"pressure\", \"pressure\", \"pressure\", \"pressure\", \"price\", \"price\", \"price\", \"price\", \"price\", \"price\", \"price\", \"price\", \"price\", \"price\", \"price\", \"price\", \"price\", \"price\", \"prime\", \"prime\", \"prime\", \"prime\", \"prime\", \"prime\", \"prime\", \"prime\", \"prison\", \"prison\", \"problem\", \"problem\", \"problem\", \"problem\", \"problem\", \"problem\", \"problem\", \"problem\", \"problem\", \"problem\", \"problem\", \"problem\", \"problem\", \"problem\", \"product\", \"product\", \"product\", \"product\", \"product\", \"product\", \"product\", \"product\", \"product\", \"product\", \"product\", \"production\", \"production\", \"production\", \"production\", \"production\", \"production\", \"production\", \"production\", \"production\", \"products\", \"products\", \"products\", \"products\", \"products\", \"products\", \"products\", \"products\", \"products\", \"propane\", \"propane\", \"pruner\", \"pruner\", \"pun\", \"quality\", \"quality\", \"quality\", \"quality\", \"quality\", \"quality\", \"quality\", \"quality\", \"quality\", \"quality\", \"quality\", \"quality\", \"quality\", \"quality\", \"quot\", \"quot\", \"quot\", \"quot\", \"quot\", \"rabbits\", \"raccoon\", \"radio\", \"radio\", \"radio\", \"radio\", \"radio\", \"radio\", \"radio\", \"radio\", \"radio\", \"radiohead\", \"rage\", \"rage\", \"raid\", \"railing\", \"ranks\", \"rap\", \"rap\", \"rapper\", \"rapper\", \"rappers\", \"rappers\", \"rapping\", \"rat\", \"rats\", \"raylan\", \"real\", \"real\", \"real\", \"real\", \"real\", \"real\", \"real\", \"real\", \"real\", \"real\", \"real\", \"real\", \"real\", \"real\", \"reccomend\", \"record\", \"record\", \"record\", \"record\", \"record\", \"record\", \"record\", \"record\", \"record\", \"recorded\", \"recorded\", \"recorded\", \"recorded\", \"recorded\", \"recorder\", \"recording\", \"recording\", \"recording\", \"recording\", \"recording\", \"recording\", \"recording\", \"recordings\", \"recordings\", \"recordings\", \"recordings\", \"recordings\", \"recordings\", \"recordings\", \"recovery\", \"red\", \"red\", \"red\", \"red\", \"red\", \"red\", \"red\", \"red\", \"red\", \"red\", \"red\", \"red\", \"red\", \"red\", \"reel\", \"refined\", \"relationship\", \"relationship\", \"relationship\", \"relationship\", \"relationship\", \"released\", \"released\", \"released\", \"released\", \"released\", \"released\", \"released\", \"released\", \"released\", \"remaster\", \"remix\", \"remix\", \"remix\", \"repellent\", \"repellent\", \"repetitive\", \"reverb\", \"reverb\", \"reverb\", \"review\", \"review\", \"review\", \"review\", \"review\", \"review\", \"review\", \"review\", \"review\", \"review\", \"review\", \"review\", \"review\", \"review\", \"rhythm\", \"rhythm\", \"rhythm\", \"rhythm\", \"ribs\", \"rid\", \"rid\", \"rid\", \"rid\", \"rid\", \"rid\", \"rid\", \"rig\", \"rig\", \"robin\", \"rock\", \"rock\", \"rock\", \"rock\", \"rock\", \"rock\", \"rock\", \"rock\", \"rock\", \"rock\", \"rock\", \"rock\", \"rock\", \"rodent\", \"rodents\", \"roger\", \"rolled\", \"rooting\", \"rotten\", \"rp\", \"rust\", \"rust\", \"rust\", \"rust\", \"rust\", \"rust\", \"rusty\", \"safer\", \"safer\", \"safer\", \"salmon\", \"sam\", \"sam\", \"sam\", \"sam\", \"sara\", \"satire\", \"sax\", \"scenery\", \"scenes\", \"scenes\", \"scenes\", \"scenes\", \"scenes\", \"school\", \"school\", \"school\", \"school\", \"school\", \"school\", \"school\", \"school\", \"school\", \"science\", \"science\", \"science\", \"science\", \"scifi\", \"scott\", \"scott\", \"scott\", \"scott\", \"scraper\", \"scratches\", \"scratches\", \"scratches\", \"scratches\", \"screwed\", \"screws\", \"screws\", \"screws\", \"screws\", \"screws\", \"screws\", \"script\", \"script\", \"sealant\", \"season\", \"season\", \"season\", \"season\", \"season\", \"season\", \"season\", \"season\", \"season\", \"seasons\", \"seasons\", \"seasons\", \"seasons\", \"seasons\", \"seasons\", \"seasons\", \"seasons\", \"secured\", \"seed\", \"seed\", \"seed\", \"seeds\", \"seeds\", \"seeds\", \"seeds\", \"selections\", \"sensor\", \"sensor\", \"sensor\", \"serial\", \"serial\", \"serial\", \"series\", \"series\", \"series\", \"series\", \"series\", \"series\", \"series\", \"service\", \"service\", \"service\", \"service\", \"service\", \"service\", \"service\", \"service\", \"service\", \"service\", \"set\", \"set\", \"set\", \"set\", \"set\", \"set\", \"set\", \"set\", \"set\", \"set\", \"set\", \"set\", \"set\", \"set\", \"settings\", \"settings\", \"settings\", \"settings\", \"settings\", \"sewer\", \"shady\", \"shady\", \"shady\", \"shine\", \"shine\", \"shine\", \"shine\", \"shine\", \"shine\", \"shine\", \"shine\", \"shows\", \"shows\", \"shows\", \"shows\", \"shows\", \"shows\", \"shows\", \"shows\", \"shows\", \"shows\", \"shows\", \"shows\", \"shows\", \"signal\", \"signal\", \"signal\", \"simon\", \"simon\", \"sinatra\", \"single\", \"single\", \"single\", \"single\", \"single\", \"single\", \"single\", \"single\", \"single\", \"single\", \"single\", \"single\", \"single\", \"single\", \"singles\", \"singles\", \"singles\", \"singles\", \"singles\", \"size\", \"size\", \"size\", \"size\", \"size\", \"size\", \"size\", \"size\", \"size\", \"skit\", \"skit\", \"slim\", \"slim\", \"slim\", \"slim\", \"slim\", \"slim\", \"slippery\", \"sm\", \"sm\", \"small\", \"small\", \"small\", \"small\", \"small\", \"small\", \"small\", \"small\", \"small\", \"small\", \"small\", \"small\", \"small\", \"small\", \"smoke\", \"smoke\", \"smoke\", \"smoke\", \"smoked\", \"smoker\", \"sn\", \"snake\", \"snakes\", \"snark\", \"snoop\", \"snoop\", \"software\", \"software\", \"software\", \"software\", \"soil\", \"soil\", \"soil\", \"soil\", \"solar\", \"solar\", \"solely\", \"solutions\", \"song\", \"song\", \"song\", \"song\", \"song\", \"song\", \"song\", \"songs\", \"songs\", \"songs\", \"songs\", \"songs\", \"songs\", \"sony\", \"sound\", \"sound\", \"sound\", \"sound\", \"sound\", \"sound\", \"sound\", \"sound\", \"sound\", \"sound\", \"sound\", \"sound\", \"sounds\", \"sounds\", \"sounds\", \"sounds\", \"sounds\", \"sounds\", \"sounds\", \"sounds\", \"sounds\", \"sounds\", \"speaker\", \"speaker\", \"speaker\", \"spiders\", \"spigot\", \"spikes\", \"spikes\", \"spits\", \"spray\", \"spray\", \"spray\", \"spray\", \"spray\", \"spray\", \"sprayed\", \"sprayed\", \"sprayed\", \"sprayed\", \"sprayer\", \"sprayer\", \"sprayer\", \"spreader\", \"sprinkler\", \"sprinkler\", \"sprinkler\", \"sprout\", \"spy\", \"squirrel\", \"squirrel\", \"squirrel\", \"squirrels\", \"squirrels\", \"squirrels\", \"squirrels\", \"stability\", \"stake\", \"stakes\", \"stand\", \"stand\", \"stand\", \"stand\", \"stand\", \"stand\", \"stand\", \"stand\", \"stand\", \"stand\", \"stand\", \"stand\", \"stand\", \"static\", \"static\", \"steely\", \"stone\", \"stone\", \"stone\", \"stone\", \"stone\", \"stone\", \"stone\", \"story\", \"story\", \"story\", \"story\", \"story\", \"story\", \"story\", \"story\", \"story\", \"storylines\", \"strain\", \"strap\", \"strap\", \"strap\", \"strap\", \"streaking\", \"streaks\", \"streets\", \"string\", \"string\", \"string\", \"string\", \"string\", \"string\", \"string\", \"strings\", \"strings\", \"strings\", \"strings\", \"strings\", \"stripes\", \"strumming\", \"studio\", \"studio\", \"studio\", \"studio\", \"studio\", \"studio\", \"studio\", \"studio\", \"studio\", \"subaru\", \"suet\", \"suffering\", \"sugar\", \"sugar\", \"sugar\", \"sugar\", \"sugar\", \"sunflower\", \"superman\", \"supernatural\", \"suspense\", \"suspense\", \"sweeper\", \"switch\", \"switch\", \"switch\", \"switch\", \"switch\", \"switch\", \"switch\", \"switch\", \"switch\", \"synth\", \"tank\", \"tank\", \"tank\", \"tank\", \"tank\", \"tank\", \"tapes\", \"tascam\", \"taupin\", \"teacher\", \"teacher\", \"temp\", \"temperature\", \"temperature\", \"temperature\", \"temperature\", \"terro\", \"terro\", \"tests\", \"theirs\", \"thermometer\", \"thing\", \"thing\", \"thing\", \"thing\", \"thing\", \"thing\", \"thing\", \"thing\", \"thing\", \"thing\", \"thing\", \"thing\", \"thing\", \"thing\", \"things\", \"things\", \"things\", \"things\", \"things\", \"things\", \"things\", \"things\", \"things\", \"things\", \"things\", \"things\", \"things\", \"things\", \"think\", \"think\", \"think\", \"think\", \"think\", \"think\", \"think\", \"think\", \"think\", \"think\", \"think\", \"think\", \"think\", \"think\", \"thompson\", \"thrill\", \"thriller\", \"thriller\", \"thriller\", \"throttle\", \"ties\", \"ties\", \"ties\", \"tight\", \"tight\", \"tight\", \"tight\", \"tight\", \"tight\", \"tight\", \"tight\", \"tight\", \"tight\", \"tight\", \"tight\", \"tight\", \"til\", \"tiller\", \"time\", \"time\", \"time\", \"time\", \"time\", \"time\", \"time\", \"time\", \"time\", \"time\", \"time\", \"time\", \"time\", \"time\", \"timer\", \"tire\", \"tire\", \"tire\", \"tire\", \"tire\", \"tire\", \"titled\", \"titled\", \"titled\", \"tomato\", \"tomato\", \"tomatoes\", \"tomatoes\", \"tomcat\", \"tone\", \"tone\", \"tone\", \"tone\", \"tone\", \"tone\", \"tone\", \"tone\", \"tony\", \"tool\", \"tool\", \"tool\", \"tool\", \"tool\", \"tool\", \"tool\", \"tools\", \"tools\", \"tools\", \"tools\", \"tools\", \"topics\", \"topics\", \"topics\", \"tori\", \"towel\", \"towel\", \"towel\", \"towels\", \"towels\", \"track\", \"track\", \"track\", \"track\", \"track\", \"track\", \"track\", \"tracks\", \"tracks\", \"tracks\", \"tracks\", \"tracks\", \"tracks\", \"tracks\", \"trap\", \"trapping\", \"traps\", \"trek\", \"triangle\", \"trimmer\", \"trimmer\", \"troubled\", \"troubled\", \"ts\", \"tub\", \"tub\", \"tube\", \"tube\", \"tube\", \"tube\", \"tube\", \"tube\", \"tube\", \"tubes\", \"tubes\", \"tubes\", \"tubes\", \"tuner\", \"tuner\", \"tuners\", \"tuners\", \"tunes\", \"tunes\", \"tunes\", \"tunes\", \"tuning\", \"tuning\", \"tuning\", \"tuning\", \"tunnel\", \"tupac\", \"tupac\", \"turkey\", \"turns\", \"turns\", \"turns\", \"turns\", \"turns\", \"turns\", \"turns\", \"turns\", \"turns\", \"turns\", \"turns\", \"turns\", \"turns\", \"turns\", \"tv\", \"tv\", \"tv\", \"tv\", \"tv\", \"tv\", \"tv\", \"twists\", \"twists\", \"twists\", \"twists\", \"uke\", \"ukulele\", \"umbrella\", \"undoubtedly\", \"unexpected\", \"unexpected\", \"unit\", \"unit\", \"unit\", \"unit\", \"unit\", \"unit\", \"unit\", \"unit\", \"unit\", \"unit\", \"unit\", \"unit\", \"unit\", \"unplugged\", \"use\", \"use\", \"use\", \"use\", \"use\", \"use\", \"use\", \"use\", \"use\", \"use\", \"use\", \"use\", \"use\", \"use\", \"vague\", \"valve\", \"valve\", \"valve\", \"valve\", \"valve\", \"valve\", \"ve\", \"ve\", \"ve\", \"ve\", \"ve\", \"ve\", \"ve\", \"ve\", \"ve\", \"ve\", \"ve\", \"ve\", \"ve\", \"ve\", \"vegetable\", \"vegetable\", \"veggies\", \"vehicle\", \"vehicle\", \"vehicle\", \"vehicle\", \"vehicle\", \"vehicle\", \"vehicle\", \"vehicle\", \"velvet\", \"vent\", \"vent\", \"version\", \"version\", \"version\", \"version\", \"version\", \"version\", \"version\", \"version\", \"version\", \"version\", \"version\", \"version\", \"version\", \"version\", \"victor\", \"viewers\", \"viewers\", \"violence\", \"violence\", \"violence\", \"vocal\", \"vocal\", \"vocal\", \"vocal\", \"vocal\", \"vocals\", \"vocals\", \"vocals\", \"vocals\", \"vocals\", \"vocals\", \"voice\", \"voice\", \"voice\", \"voice\", \"voice\", \"voice\", \"volt\", \"volume\", \"volume\", \"volume\", \"volume\", \"volume\", \"volume\", \"volume\", \"volume\", \"vox\", \"vw\", \"wack\", \"wah\", \"wah\", \"wait\", \"wait\", \"wait\", \"wait\", \"wait\", \"wait\", \"wait\", \"wait\", \"wait\", \"wait\", \"wait\", \"wait\", \"wait\", \"wanna\", \"wanna\", \"wanna\", \"wanna\", \"want\", \"want\", \"want\", \"want\", \"want\", \"want\", \"want\", \"want\", \"want\", \"want\", \"want\", \"want\", \"want\", \"want\", \"warranty\", \"warranty\", \"warranty\", \"warranty\", \"warranty\", \"warranty\", \"wash\", \"wash\", \"wash\", \"wash\", \"wash\", \"wash\", \"wash\", \"washes\", \"washes\", \"washing\", \"washing\", \"washing\", \"washing\", \"washing\", \"washing\", \"wasting\", \"watch\", \"watch\", \"watch\", \"watch\", \"watch\", \"watch\", \"watch\", \"watch\", \"watch\", \"watched\", \"watched\", \"watched\", \"watched\", \"watched\", \"watched\", \"watching\", \"watching\", \"watching\", \"watching\", \"watching\", \"watching\", \"watching\", \"water\", \"water\", \"water\", \"water\", \"water\", \"water\", \"water\", \"water\", \"water\", \"water\", \"water\", \"water\", \"water\", \"wax\", \"wax\", \"waxing\", \"way\", \"way\", \"way\", \"way\", \"way\", \"way\", \"way\", \"way\", \"way\", \"way\", \"way\", \"way\", \"way\", \"way\", \"weber\", \"weed\", \"weed\", \"weed\", \"weed\", \"weed\", \"weed\", \"weeds\", \"weeds\", \"weeds\", \"weeds\", \"wet\", \"wet\", \"wet\", \"wet\", \"wet\", \"wet\", \"wet\", \"wet\", \"williams\", \"willie\", \"winder\", \"windscreen\", \"windshield\", \"wipe\", \"wipe\", \"wipe\", \"wipe\", \"wiper\", \"wipers\", \"wired\", \"woman\", \"woman\", \"woman\", \"woman\", \"woman\", \"woman\", \"woman\", \"woman\", \"woman\", \"woman\", \"woman\", \"wonder\", \"wonder\", \"wonder\", \"wonder\", \"wonder\", \"wonder\", \"wonder\", \"wonder\", \"wonder\", \"wonder\", \"wonder\", \"wonder\", \"wonder\", \"wood\", \"wood\", \"wood\", \"wood\", \"wood\", \"wood\", \"wood\", \"wood\", \"wood\", \"wood\", \"work\", \"work\", \"work\", \"work\", \"work\", \"work\", \"work\", \"work\", \"work\", \"work\", \"work\", \"work\", \"work\", \"work\", \"works\", \"works\", \"works\", \"works\", \"works\", \"works\", \"works\", \"works\", \"works\", \"works\", \"works\", \"works\", \"works\", \"works\", \"world\", \"world\", \"world\", \"world\", \"world\", \"world\", \"world\", \"world\", \"world\", \"world\", \"world\", \"world\", \"world\", \"world\", \"wrangler\", \"xzibit\", \"yard\", \"yard\", \"yard\", \"yard\", \"yard\", \"yard\", \"yard\", \"year\", \"year\", \"year\", \"year\", \"year\", \"year\", \"year\", \"year\", \"year\", \"year\", \"year\", \"year\", \"year\", \"year\", \"years\", \"years\", \"years\", \"years\", \"years\", \"years\", \"years\", \"years\", \"years\", \"years\", \"years\", \"years\", \"years\", \"years\", \"yep\", \"young\", \"young\", \"young\", \"young\", \"young\", \"young\", \"young\", \"young\", \"young\", \"young\", \"young\", \"yrs\", \"zipper\", \"zombie\", \"zombie\", \"zombie\", \"zombies\", \"zombies\"]}, \"R\": 30, \"lambda.step\": 0.01, \"plot.opts\": {\"xlab\": \"PC1\", \"ylab\": \"PC2\"}, \"topic.order\": [7, 13, 10, 4, 8, 5, 6, 9, 12, 1, 2, 14, 3, 11]};\n",
       "\n",
       "function LDAvis_load_lib(url, callback){\n",
       "  var s = document.createElement('script');\n",
       "  s.src = url;\n",
       "  s.async = true;\n",
       "  s.onreadystatechange = s.onload = callback;\n",
       "  s.onerror = function(){console.warn(\"failed to load library \" + url);};\n",
       "  document.getElementsByTagName(\"head\")[0].appendChild(s);\n",
       "}\n",
       "\n",
       "if(typeof(LDAvis) !== \"undefined\"){\n",
       "   // already loaded: just create the visualization\n",
       "   !function(LDAvis){\n",
       "       new LDAvis(\"#\" + \"ldavis_el1711223149340615128277700633\", ldavis_el1711223149340615128277700633_data);\n",
       "   }(LDAvis);\n",
       "}else if(typeof define === \"function\" && define.amd){\n",
       "   // require.js is available: use it to load d3/LDAvis\n",
       "   require.config({paths: {d3: \"https://cdnjs.cloudflare.com/ajax/libs/d3/3.5.5/d3.min\"}});\n",
       "   require([\"d3\"], function(d3){\n",
       "      window.d3 = d3;\n",
       "      LDAvis_load_lib(\"https://cdn.rawgit.com/bmabey/pyLDAvis/files/ldavis.v1.0.0.js\", function(){\n",
       "        new LDAvis(\"#\" + \"ldavis_el1711223149340615128277700633\", ldavis_el1711223149340615128277700633_data);\n",
       "      });\n",
       "    });\n",
       "}else{\n",
       "    // require.js not available: dynamically load d3 & LDAvis\n",
       "    LDAvis_load_lib(\"https://cdnjs.cloudflare.com/ajax/libs/d3/3.5.5/d3.min.js\", function(){\n",
       "         LDAvis_load_lib(\"https://cdn.rawgit.com/bmabey/pyLDAvis/files/ldavis.v1.0.0.js\", function(){\n",
       "                 new LDAvis(\"#\" + \"ldavis_el1711223149340615128277700633\", ldavis_el1711223149340615128277700633_data);\n",
       "            })\n",
       "         });\n",
       "}\n",
       "</script>"
      ],
      "text/plain": [
       "PreparedData(topic_coordinates=              x         y  topics  cluster       Freq\n",
       "topic                                                \n",
       "6     -0.196532  0.011078       1        1  20.841883\n",
       "12     0.122625  0.015634       2        1  11.156214\n",
       "9     -0.141935  0.007259       3        1   9.184222\n",
       "3      0.161854 -0.014090       4        1   8.966863\n",
       "7      0.145542 -0.002035       5        1   8.247377\n",
       "4     -0.091156 -0.129098       6        1   6.334674\n",
       "5     -0.128074 -0.135097       7        1   6.004634\n",
       "8      0.128139  0.020320       8        1   5.815836\n",
       "11     0.101560 -0.032203       9        1   5.767617\n",
       "0      0.095293  0.034198      10        1   4.324825\n",
       "1      0.104776 -0.032435      11        1   4.098246\n",
       "13     0.063180  0.045955      12        1   3.827627\n",
       "2     -0.211255 -0.089494      13        1   3.722932\n",
       "10    -0.154018  0.300009      14        1   1.707053, topic_info=        Term          Freq         Total Category  logprob  loglift\n",
       "1958    quot  17581.000000  17581.000000  Default  30.0000  30.0000\n",
       "97     album  23812.000000  23812.000000  Default  29.0000  29.0000\n",
       "152     song  12113.000000  12113.000000  Default  28.0000  28.0000\n",
       "282   season   5542.000000   5542.000000  Default  27.0000  27.0000\n",
       "1052  feeder   4011.000000   4011.000000  Default  26.0000  26.0000\n",
       "...      ...           ...           ...      ...      ...      ...\n",
       "7       like    278.601898  28474.250000  Topic14  -5.1251  -0.5566\n",
       "2244   tight    185.906799   1214.974854  Topic14  -5.5297   2.1932\n",
       "250     nice    219.775925   6380.439941  Topic14  -5.3623   0.7020\n",
       "20     great    197.860672  19878.505859  Topic14  -5.4674  -0.5394\n",
       "1459      lp    157.619949    648.423035  Topic14  -5.6947   2.6560\n",
       "\n",
       "[1115 rows x 6 columns], token_table=       Topic      Freq         Term\n",
       "term                               \n",
       "12635     11  0.996030           aa\n",
       "3801       1  0.011873           ac\n",
       "3801       2  0.955784           ac\n",
       "3801       3  0.029683           ac\n",
       "10756      8  0.993447  accessories\n",
       "...      ...       ...          ...\n",
       "3002       1  0.051637       zombie\n",
       "3002       7  0.935925       zombie\n",
       "3002       8  0.006455       zombie\n",
       "7249       1  0.020824      zombies\n",
       "7249       7  0.971781      zombies\n",
       "\n",
       "[3896 rows x 3 columns], R=30, lambda_step=0.01, plot_opts={'xlab': 'PC1', 'ylab': 'PC2'}, topic_order=[7, 13, 10, 4, 8, 5, 6, 9, 12, 1, 2, 14, 3, 11])"
      ]
     },
     "execution_count": 62,
     "metadata": {},
     "output_type": "execute_result"
    }
   ],
   "source": [
    "pyLDAvis.enable_notebook()\n",
    "vis = pyLDAvis.gensim.prepare(model14, corpus_simple, dictionary_simple)\n",
    "pyLDAvis.save_html(vis, 'lda_topics_amazon.html')\n",
    "vis"
   ]
  },
  {
   "cell_type": "markdown",
   "metadata": {},
   "source": [
    "Aquí podemos ver algo muy interesante, y es como los topics 1 y 3 (que parecen corresponderse con los topics 6 y 9 del modelo) están emparejados al igual que los topics 7 y 8 (que parecen corresponderse con los topics 4 y 5 del modelo). Dos topics para Digital Music (canciones / grupos o estilos) y dos topics para Amazon Instant Video (series / películas), y entre medias tenemos al topic que hablaba de cantantes famosos y que parece estar definido también por palabras que indican un género o subgénero cinematográfico."
   ]
  }
 ],
 "metadata": {
  "kernelspec": {
   "display_name": "Python 3",
   "language": "python",
   "name": "python3"
  },
  "language_info": {
   "codemirror_mode": {
    "name": "ipython",
    "version": 3
   },
   "file_extension": ".py",
   "mimetype": "text/x-python",
   "name": "python",
   "nbconvert_exporter": "python",
   "pygments_lexer": "ipython3",
   "version": "3.7.7"
  }
 },
 "nbformat": 4,
 "nbformat_minor": 4
}
