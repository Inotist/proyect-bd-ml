{
 "cells": [
  {
   "cell_type": "markdown",
   "metadata": {},
   "source": [
    "# Práctica del módulo NLP"
   ]
  },
  {
   "cell_type": "code",
   "execution_count": 1,
   "metadata": {},
   "outputs": [],
   "source": [
    "import pandas as pd\n",
    "import numpy as np\n",
    "import matplotlib.pyplot as plt\n",
    "\n",
    "from sklearn.model_selection import train_test_split, GridSearchCV\n",
    "from sklearn.feature_extraction.text import TfidfVectorizer\n",
    "from sklearn.feature_selection import chi2\n",
    "from sklearn.linear_model import LogisticRegression\n",
    "from sklearn.metrics import accuracy_score, confusion_matrix, classification_report\n",
    "from sklearn.ensemble import RandomForestClassifier\n",
    "\n",
    "import re\n",
    "from collections import Counter\n",
    "\n",
    "from spacy.lang.es.stop_words import STOP_WORDS\n",
    "\n",
    "import gensim\n",
    "from gensim.corpora import Dictionary\n",
    "from gensim.models import LdaModel, CoherenceModel\n",
    "\n",
    "from gensim.models import Word2Vec\n",
    "from gensim.models.word2vec import LineSentence\n",
    "\n",
    "import spacy\n",
    "import lemminflect\n",
    "spacy_lemmas = spacy.load('en_core_web_sm')"
   ]
  },
  {
   "cell_type": "code",
   "execution_count": 2,
   "metadata": {},
   "outputs": [
    {
     "data": {
      "text/html": [
       "<div>\n",
       "<style scoped>\n",
       "    .dataframe tbody tr th:only-of-type {\n",
       "        vertical-align: middle;\n",
       "    }\n",
       "\n",
       "    .dataframe tbody tr th {\n",
       "        vertical-align: top;\n",
       "    }\n",
       "\n",
       "    .dataframe thead th {\n",
       "        text-align: right;\n",
       "    }\n",
       "</style>\n",
       "<table border=\"1\" class=\"dataframe\">\n",
       "  <thead>\n",
       "    <tr style=\"text-align: right;\">\n",
       "      <th></th>\n",
       "      <th>reviewerID</th>\n",
       "      <th>asin</th>\n",
       "      <th>reviewerName</th>\n",
       "      <th>helpful</th>\n",
       "      <th>reviewText</th>\n",
       "      <th>overall</th>\n",
       "      <th>summary</th>\n",
       "      <th>unixReviewTime</th>\n",
       "      <th>reviewTime</th>\n",
       "    </tr>\n",
       "  </thead>\n",
       "  <tbody>\n",
       "    <tr>\n",
       "      <th>34176</th>\n",
       "      <td>A34EGGJLO553D8</td>\n",
       "      <td>B0002GYW4C</td>\n",
       "      <td>Christian Matthew</td>\n",
       "      <td>[1, 1]</td>\n",
       "      <td>Lets be honest, it must be pretty hard to mess...</td>\n",
       "      <td>5</td>\n",
       "      <td>Gets the job done</td>\n",
       "      <td>1313193600</td>\n",
       "      <td>08 13, 2011</td>\n",
       "    </tr>\n",
       "    <tr>\n",
       "      <th>25773</th>\n",
       "      <td>A3VIOCJZ22JZXT</td>\n",
       "      <td>B00004YMP4</td>\n",
       "      <td>C. B Collins Jr.</td>\n",
       "      <td>[24, 25]</td>\n",
       "      <td>This CD, anchored by two major hits \"Sandstorm...</td>\n",
       "      <td>4</td>\n",
       "      <td>Sandstorm, the most catchy electronic tune in ...</td>\n",
       "      <td>1133827200</td>\n",
       "      <td>12 6, 2005</td>\n",
       "    </tr>\n",
       "    <tr>\n",
       "      <th>34738</th>\n",
       "      <td>A2F2L5F9OWWVY6</td>\n",
       "      <td>B0002E1J5E</td>\n",
       "      <td>AT</td>\n",
       "      <td>[0, 0]</td>\n",
       "      <td>I'm not a metal player in any means but someti...</td>\n",
       "      <td>5</td>\n",
       "      <td>Great for metal</td>\n",
       "      <td>1364947200</td>\n",
       "      <td>04 3, 2013</td>\n",
       "    </tr>\n",
       "    <tr>\n",
       "      <th>3412</th>\n",
       "      <td>A3S9HLDFMI6TG1</td>\n",
       "      <td>B0095IDWG2</td>\n",
       "      <td>Yvonne Michel</td>\n",
       "      <td>[1, 2]</td>\n",
       "      <td>I haven't been disappointed yet with this seri...</td>\n",
       "      <td>5</td>\n",
       "      <td>Each season is filled with wonderous information.</td>\n",
       "      <td>1377216000</td>\n",
       "      <td>08 23, 2013</td>\n",
       "    </tr>\n",
       "    <tr>\n",
       "      <th>6498</th>\n",
       "      <td>A29IFLFJ61H3W7</td>\n",
       "      <td>B00B8P8O9K</td>\n",
       "      <td>Phil Levin</td>\n",
       "      <td>[0, 0]</td>\n",
       "      <td>I just learned the series was inspired by the ...</td>\n",
       "      <td>5</td>\n",
       "      <td>Spy vs Spy -</td>\n",
       "      <td>1404691200</td>\n",
       "      <td>07 7, 2014</td>\n",
       "    </tr>\n",
       "  </tbody>\n",
       "</table>\n",
       "</div>"
      ],
      "text/plain": [
       "           reviewerID        asin       reviewerName   helpful  \\\n",
       "34176  A34EGGJLO553D8  B0002GYW4C  Christian Matthew    [1, 1]   \n",
       "25773  A3VIOCJZ22JZXT  B00004YMP4   C. B Collins Jr.  [24, 25]   \n",
       "34738  A2F2L5F9OWWVY6  B0002E1J5E                 AT    [0, 0]   \n",
       "3412   A3S9HLDFMI6TG1  B0095IDWG2      Yvonne Michel    [1, 2]   \n",
       "6498   A29IFLFJ61H3W7  B00B8P8O9K         Phil Levin    [0, 0]   \n",
       "\n",
       "                                              reviewText  overall  \\\n",
       "34176  Lets be honest, it must be pretty hard to mess...        5   \n",
       "25773  This CD, anchored by two major hits \"Sandstorm...        4   \n",
       "34738  I'm not a metal player in any means but someti...        5   \n",
       "3412   I haven't been disappointed yet with this seri...        5   \n",
       "6498   I just learned the series was inspired by the ...        5   \n",
       "\n",
       "                                                 summary  unixReviewTime  \\\n",
       "34176                                  Gets the job done      1313193600   \n",
       "25773  Sandstorm, the most catchy electronic tune in ...      1133827200   \n",
       "34738                                    Great for metal      1364947200   \n",
       "3412   Each season is filled with wonderous information.      1377216000   \n",
       "6498                                        Spy vs Spy -      1404691200   \n",
       "\n",
       "        reviewTime  \n",
       "34176  08 13, 2011  \n",
       "25773   12 6, 2005  \n",
       "34738   04 3, 2013  \n",
       "3412   08 23, 2013  \n",
       "6498    07 7, 2014  "
      ]
     },
     "execution_count": 2,
     "metadata": {},
     "output_type": "execute_result"
    }
   ],
   "source": [
    "aiv5 = pd.read_csv(\"Amazon_Instant_Video_5.csv\")\n",
    "a5 = pd.read_csv(\"Automotive_5.csv\")\n",
    "dm5 = pd.read_csv(\"Digital_Music_5.csv\")\n",
    "mi5 = pd.read_csv(\"Musical_Instruments_5.csv\")\n",
    "plg5 = pd.read_csv(\"Patio_Lawn_and_Garden_5.csv\")\n",
    "\n",
    "reviews = pd.concat([aiv5,a5,dm5,mi5,plg5], ignore_index=True).dropna(subset=['reviewText','overall']).sample(frac=1)\n",
    "reviews.head()"
   ]
  },
  {
   "cell_type": "markdown",
   "metadata": {},
   "source": [
    "# 2. Análisis de sentimiento"
   ]
  },
  {
   "cell_type": "markdown",
   "metadata": {},
   "source": [
    "Me traigo mi función de preprocesado de textos y la amplío con nuevas funciones (lemmatizers, ngrams...)"
   ]
  },
  {
   "cell_type": "code",
   "execution_count": 3,
   "metadata": {},
   "outputs": [],
   "source": [
    "def preprocess_texts(texts, **kwargs):\n",
    "    \n",
    "    processed_texts = [] # Aquí me guardaré los textos procesados en forma de lista\n",
    "    \n",
    "    # Para el autocorrector que se aplica más abajo utilizaré todo el texto de mi corpus\n",
    "    if 'auto_correct' in kwargs and kwargs['auto_correct']:\n",
    "        full_text = \" \".join([text for text in texts])\n",
    "    \n",
    "    for text in texts:\n",
    "        \n",
    "        tokens = [] # Aquí se guardan los tokens que conforman cada texto\n",
    "        \n",
    "        # Comenzando con el preprocesado completo de gensim.utils.simple_preprocess()\n",
    "        if 'simple_gensim' in kwargs and kwargs['simple_gensim']:\n",
    "            rawtokens = [token for token in gensim.utils.simple_preprocess(text)]\n",
    "            \n",
    "        # Si decido aplicar un lemmatizer como split inicial\n",
    "        elif 'lemmatizer' in kwargs:\n",
    "            lemmas = kwargs['lemmatizer'](text)\n",
    "            rawtokens = [token._.lemma() for token in lemmas]\n",
    "            \n",
    "        # Hago un split y utilizo tan solo mi preprocesado adicional\n",
    "        else: rawtokens = text.split()\n",
    "        \n",
    "        # Aplico reglas adicionales de preprocesado.\n",
    "        for token in rawtokens:\n",
    "            if 'lower' in kwargs and kwargs['lower']: token = token.lower()\n",
    "            if 'only_alpha' in kwargs and kwargs['only_alpha']: token = re.sub('[^a-zA-Z]+', '', token)\n",
    "            elif 'regex' in kwargs: token = re.sub(kwargs['regex'], '', token)\n",
    "            if 'stop_words' in kwargs and token in kwargs.get('stop_words'): token = None\n",
    "\n",
    "            if token: tokens.append(token)\n",
    "                \n",
    "        # Aplico mi corrector ortográfico al texto preprocesado.\n",
    "        if 'auto_correct' in kwargs and kwargs['auto_correct']:\n",
    "            for ix in range(len(tokens)):\n",
    "                tokens[ix] = correct(tokens[ix], full_text, kwargs['auto_correct'])\n",
    "                \n",
    "        # Genero N-Gramas\n",
    "        if 'ngrams' in kwargs:\n",
    "            \n",
    "            ngrams = [] # Aquí guardaré los ngramas que reemplazarán a la lista de tokens\n",
    "            \n",
    "            # Se puede utilizar una lista de varios ngramas\n",
    "            if type(kwargs['ngrams']) is list or type(kwargs['ngrams']) is tuple:\n",
    "                for ngram in kwargs['ngrams']:\n",
    "                    for i in range(len(tokens)-ngram):\n",
    "                        ngrams.append(\" \".join(tokens[i:i+ngram]))\n",
    "            \n",
    "            # También se puede indicar un valor entero como única medida para el ngrama\n",
    "            else:\n",
    "                for i in range(len(tokens)-kwargs['ngrams']):\n",
    "                    ngrams.append(\" \".join(tokens[i:i+kwargs['ngrams']]))\n",
    "                \n",
    "            tokens = ngrams\n",
    "        \n",
    "        processed_texts.append(tokens)\n",
    "        \n",
    "    return processed_texts"
   ]
  },
  {
   "cell_type": "code",
   "execution_count": 4,
   "metadata": {},
   "outputs": [],
   "source": [
    "# Con steps_away indico el número máximo de modificaciones que se realizarán para buscar una corrección.\n",
    "def correct(word, text, steps_away=1):\n",
    "    counts = Counter(text)\n",
    "    \n",
    "    candidates = [w for w in edits(word, steps=steps_away) if w in text or w is word]\n",
    "    \n",
    "    return max(candidates, key=lambda w: counts[w] / len(text))"
   ]
  },
  {
   "cell_type": "code",
   "execution_count": 5,
   "metadata": {},
   "outputs": [],
   "source": [
    "def edits(word, steps=1):\n",
    "    \n",
    "    words = [word]\n",
    "    \n",
    "    for step in range(steps):\n",
    "        \n",
    "        new_words = []\n",
    "        \n",
    "        for word in words:\n",
    "            letters    = 'abcdefghijklmnopqrstuvwxyz'\n",
    "            splits     = [(word[:i], word[i:])    for i in range(len(word) + 1)]\n",
    "            deletes    = [L + R[1:]                 for L, R in splits if R]\n",
    "            transposes = [L + R[1] + R[0] + R[2:]   for L, R in splits if len(R)>1]\n",
    "            replaces   = [L + c + R[1:]             for L, R in splits if R for c in letters]\n",
    "            inserts    = [L + c + R                 for L, R in splits for c in letters]\n",
    "            \n",
    "            new_words += list(set(deletes + transposes + replaces + inserts))\n",
    "\n",
    "        words += list(set(new_words))\n",
    "    \n",
    "    return words"
   ]
  },
  {
   "cell_type": "markdown",
   "metadata": {},
   "source": [
    "Probaré diferentes modelos con diferentes tipos de preprocesado y al final compararé mis resultados.\n",
    "\n",
    "Comenzaré construyéndome un corpus que contenga tan solo el texto y una categoría (\"muy bueno\", \"bueno\" y \"no tan bueno\")."
   ]
  },
  {
   "cell_type": "code",
   "execution_count": 6,
   "metadata": {},
   "outputs": [],
   "source": [
    "reviews = reviews[['reviewText','overall']]\n",
    "    \n",
    "reviews.overall = reviews.overall.apply(lambda x: 'very_good' if x == 5 else 'good' if x > 3 else 'not_so_good')"
   ]
  },
  {
   "cell_type": "code",
   "execution_count": 7,
   "metadata": {},
   "outputs": [
    {
     "data": {
      "text/html": [
       "<div>\n",
       "<style scoped>\n",
       "    .dataframe tbody tr th:only-of-type {\n",
       "        vertical-align: middle;\n",
       "    }\n",
       "\n",
       "    .dataframe tbody tr th {\n",
       "        vertical-align: top;\n",
       "    }\n",
       "\n",
       "    .dataframe thead th {\n",
       "        text-align: right;\n",
       "    }\n",
       "</style>\n",
       "<table border=\"1\" class=\"dataframe\">\n",
       "  <thead>\n",
       "    <tr style=\"text-align: right;\">\n",
       "      <th></th>\n",
       "      <th>reviewText</th>\n",
       "      <th>overall</th>\n",
       "    </tr>\n",
       "  </thead>\n",
       "  <tbody>\n",
       "    <tr>\n",
       "      <th>34176</th>\n",
       "      <td>Lets be honest, it must be pretty hard to mess...</td>\n",
       "      <td>very_good</td>\n",
       "    </tr>\n",
       "    <tr>\n",
       "      <th>25773</th>\n",
       "      <td>This CD, anchored by two major hits \"Sandstorm...</td>\n",
       "      <td>good</td>\n",
       "    </tr>\n",
       "    <tr>\n",
       "      <th>34738</th>\n",
       "      <td>I'm not a metal player in any means but someti...</td>\n",
       "      <td>very_good</td>\n",
       "    </tr>\n",
       "    <tr>\n",
       "      <th>3412</th>\n",
       "      <td>I haven't been disappointed yet with this seri...</td>\n",
       "      <td>very_good</td>\n",
       "    </tr>\n",
       "    <tr>\n",
       "      <th>6498</th>\n",
       "      <td>I just learned the series was inspired by the ...</td>\n",
       "      <td>very_good</td>\n",
       "    </tr>\n",
       "    <tr>\n",
       "      <th>...</th>\n",
       "      <td>...</td>\n",
       "      <td>...</td>\n",
       "    </tr>\n",
       "    <tr>\n",
       "      <th>23706</th>\n",
       "      <td>Though it's not as strong as the subsequent tw...</td>\n",
       "      <td>very_good</td>\n",
       "    </tr>\n",
       "    <tr>\n",
       "      <th>14937</th>\n",
       "      <td>Uglier than sin, but it works well.  Like the ...</td>\n",
       "      <td>very_good</td>\n",
       "    </tr>\n",
       "    <tr>\n",
       "      <th>27330</th>\n",
       "      <td>The first song on this album is great, but I f...</td>\n",
       "      <td>not_so_good</td>\n",
       "    </tr>\n",
       "    <tr>\n",
       "      <th>12045</th>\n",
       "      <td>Tired of being charged WAY to much pretty much...</td>\n",
       "      <td>very_good</td>\n",
       "    </tr>\n",
       "    <tr>\n",
       "      <th>3622</th>\n",
       "      <td>If your old school and like rose in golden gir...</td>\n",
       "      <td>very_good</td>\n",
       "    </tr>\n",
       "  </tbody>\n",
       "</table>\n",
       "<p>49981 rows × 2 columns</p>\n",
       "</div>"
      ],
      "text/plain": [
       "                                              reviewText      overall\n",
       "34176  Lets be honest, it must be pretty hard to mess...    very_good\n",
       "25773  This CD, anchored by two major hits \"Sandstorm...         good\n",
       "34738  I'm not a metal player in any means but someti...    very_good\n",
       "3412   I haven't been disappointed yet with this seri...    very_good\n",
       "6498   I just learned the series was inspired by the ...    very_good\n",
       "...                                                  ...          ...\n",
       "23706  Though it's not as strong as the subsequent tw...    very_good\n",
       "14937  Uglier than sin, but it works well.  Like the ...    very_good\n",
       "27330  The first song on this album is great, but I f...  not_so_good\n",
       "12045  Tired of being charged WAY to much pretty much...    very_good\n",
       "3622   If your old school and like rose in golden gir...    very_good\n",
       "\n",
       "[49981 rows x 2 columns]"
      ]
     },
     "execution_count": 7,
     "metadata": {},
     "output_type": "execute_result"
    }
   ],
   "source": [
    "reviews"
   ]
  },
  {
   "cell_type": "code",
   "execution_count": 8,
   "metadata": {},
   "outputs": [
    {
     "data": {
      "text/plain": [
       "very_good      29874\n",
       "good           11442\n",
       "not_so_good     8665\n",
       "Name: overall, dtype: int64"
      ]
     },
     "execution_count": 8,
     "metadata": {},
     "output_type": "execute_result"
    }
   ],
   "source": [
    "reviews.overall.value_counts()"
   ]
  },
  {
   "cell_type": "markdown",
   "metadata": {},
   "source": [
    "He decidido realizar esta clasificación debido a que hay demasiadas críticas positivas frente a críticas neutras y negativas. Para saber si dentro de las críticas \"no positivas\" podemos tener distintos niveles sería conveniente hacer un split y entrenarlas a parte como un conjunto diferente."
   ]
  },
  {
   "cell_type": "markdown",
   "metadata": {},
   "source": [
    "Ahora me interesa hacerun split en train y test"
   ]
  },
  {
   "cell_type": "code",
   "execution_count": 9,
   "metadata": {},
   "outputs": [],
   "source": [
    "X_train, X_test, y_train, y_test = train_test_split(\n",
    "    reviews.reviewText,\n",
    "    reviews.overall,\n",
    "    train_size=0.80,\n",
    "    test_size=0.20,\n",
    ")"
   ]
  },
  {
   "cell_type": "markdown",
   "metadata": {},
   "source": [
    "Ahora utilizaré el tf-idf de mi corpus de entrenamiento para obtener las palabras más relevantes que detectan el sentimiento y comprobar si tiene sentido, para ello probaré diferentes tipos de preprocesado."
   ]
  },
  {
   "cell_type": "code",
   "execution_count": 10,
   "metadata": {},
   "outputs": [],
   "source": [
    "def draw_chi2(Xcorpus, Ycorpus, tfidf):\n",
    "    # Compute the chi-squared score for each word in the training set and show the values\n",
    "    i = 15\n",
    "\n",
    "    chi2score = chi2(Xcorpus, Ycorpus)[0]\n",
    "    scores = list(zip(tfidf.get_feature_names(), chi2score))\n",
    "    sorted_scores = sorted(scores, key=lambda x:x[1])\n",
    "    topchi2 = list(zip(*sorted_scores[-i:]))\n",
    "    x = range(len(topchi2[1]))\n",
    "    labels = topchi2[0]\n",
    "\n",
    "    plt.figure(figsize=(12, 8))\n",
    "    plt.barh(x,topchi2[1], align='center', alpha=0.5)\n",
    "    plt.plot(topchi2[1], x, '-o', markersize=5, alpha=0.8)\n",
    "    plt.yticks(x, labels, fontsize=12)\n",
    "    plt.xlabel('$\\chi^2$', fontsize=26)\n",
    "    plt.ylabel('word', fontsize=16)\n",
    "    plt.title('Top {} $\\chi^2$ score for each word in the training set'.format(i), fontsize=20)\n",
    "    plt.grid()\n",
    "    plt.tight_layout()\n",
    "    plt.show();"
   ]
  },
  {
   "cell_type": "markdown",
   "metadata": {},
   "source": [
    "Con todo pasado a minúsculas, quitando caracteres no alfabéticos y teniendo en cuenta bigramas y trigramas:"
   ]
  },
  {
   "cell_type": "code",
   "execution_count": 11,
   "metadata": {},
   "outputs": [
    {
     "data": {
      "image/png": "[encoded data removed]",
      "text/plain": [
       "<Figure size 864x576 with 1 Axes>"
      ]
     },
     "metadata": {
      "needs_background": "light"
     },
     "output_type": "display_data"
    }
   ],
   "source": [
    "X_train_ = X_train.copy()\n",
    "\n",
    "for ix, processed_text in zip(X_train.index,\n",
    "                              preprocess_texts(X_train,\n",
    "                                               lower=True, only_alpha=True)):\n",
    "    X_train_[ix] = \" \".join(processed_text)\n",
    "    \n",
    "cv = TfidfVectorizer(\n",
    "    max_df=0.95,\n",
    "    min_df=0.05,\n",
    "    max_features=2500,\n",
    "    ngram_range=(2,3)\n",
    ")\n",
    "X_train_cv = cv.fit_transform(X_train_)\n",
    "\n",
    "draw_chi2(X_train_cv, y_train, cv)"
   ]
  },
  {
   "cell_type": "markdown",
   "metadata": {},
   "source": [
    "No está mal del todo, aunque aparecen muchos verbos auxiliares y determinantes, veamos qué pasa si elimino stop words."
   ]
  },
  {
   "cell_type": "code",
   "execution_count": 12,
   "metadata": {},
   "outputs": [],
   "source": [
    "stop_words = set(list(gensim.parsing.preprocessing.STOPWORDS)+list(STOP_WORDS))"
   ]
  },
  {
   "cell_type": "markdown",
   "metadata": {},
   "source": [
    "Con todo pasado a minúsculas, quitando caracteres no alfabéticos y stop words, y teniendo en cuenta bigramas y trigramas:"
   ]
  },
  {
   "cell_type": "code",
   "execution_count": 13,
   "metadata": {},
   "outputs": [
    {
     "data": {
      "image/png": "[encoded data removed]",
      "text/plain": [
       "<Figure size 864x576 with 1 Axes>"
      ]
     },
     "metadata": {
      "needs_background": "light"
     },
     "output_type": "display_data"
    }
   ],
   "source": [
    "X_train_ = X_train.copy()\n",
    "\n",
    "for ix, processed_text in zip(X_train.index,\n",
    "                              preprocess_texts(X_train,\n",
    "                                               lower=True, only_alpha=True, stop_words=stop_words)):\n",
    "    X_train_[ix] = \" \".join(processed_text)\n",
    "    \n",
    "cv = TfidfVectorizer(\n",
    "    max_df=1.0,\n",
    "    min_df=0.01,\n",
    "    max_features=2500,\n",
    "    ngram_range=(2,3)\n",
    ")\n",
    "X_train_cv = cv.fit_transform(X_train_)\n",
    "\n",
    "draw_chi2(X_train_cv, y_train, cv)"
   ]
  },
  {
   "cell_type": "markdown",
   "metadata": {},
   "source": [
    "Parece que funciona mejor al identificar bigramas que sí que evidencian una relación con la valoración que se está haciendo, aunque me veo obligado a reducir mucho el juego que pueda tener con min_df y max_df, voy a probar estos mismos parámetros pero utilizando un preprocesado diferente."
   ]
  },
  {
   "cell_type": "markdown",
   "metadata": {},
   "source": [
    "Igual que antes pero además lematizando las palabras:"
   ]
  },
  {
   "cell_type": "code",
   "execution_count": 14,
   "metadata": {},
   "outputs": [
    {
     "data": {
      "image/png": "[encoded data removed]",
      "text/plain": [
       "<Figure size 864x576 with 1 Axes>"
      ]
     },
     "metadata": {
      "needs_background": "light"
     },
     "output_type": "display_data"
    }
   ],
   "source": [
    "X_train_lemma = X_train.copy()\n",
    "\n",
    "for ix, processed_text in zip(X_train.index,\n",
    "                              preprocess_texts(X_train,\n",
    "                                               lemmatizer=spacy_lemmas,\n",
    "                                               lower=True, only_alpha=True, stop_words=stop_words)):\n",
    "    X_train_lemma[ix] = \" \".join(processed_text)\n",
    "    \n",
    "cv_lemma = TfidfVectorizer(\n",
    "    max_df=1.0,\n",
    "    min_df=0.01,\n",
    "    max_features=2500,\n",
    "    ngram_range=(2,3)\n",
    ")\n",
    "X_train_lemma_cv = cv_lemma.fit_transform(X_train_lemma)\n",
    "\n",
    "draw_chi2(X_train_lemma_cv, y_train, cv_lemma)"
   ]
  },
  {
   "cell_type": "markdown",
   "metadata": {},
   "source": [
    "Lo mismo pero sin lematizar y aplicando el preprocesado de gensim:"
   ]
  },
  {
   "cell_type": "code",
   "execution_count": 15,
   "metadata": {},
   "outputs": [
    {
     "data": {
      "image/png": "[encoded data removed]",
      "text/plain": [
       "<Figure size 864x576 with 1 Axes>"
      ]
     },
     "metadata": {
      "needs_background": "light"
     },
     "output_type": "display_data"
    }
   ],
   "source": [
    "X_train_simple = X_train.copy()\n",
    "\n",
    "for ix, processed_text in zip(X_train.index,\n",
    "                              preprocess_texts(X_train,\n",
    "                                               simple_gensim=True, stop_words=stop_words)):\n",
    "    X_train_simple[ix] = \" \".join(processed_text)\n",
    "    \n",
    "cv_simple = TfidfVectorizer(\n",
    "    max_df=1.0,\n",
    "    min_df=0.01,\n",
    "    max_features=2500,\n",
    "    ngram_range=(2,3)\n",
    ")\n",
    "X_train_simple_cv = cv_simple.fit_transform(X_train_simple)\n",
    "\n",
    "draw_chi2(X_train_simple_cv, y_train, cv_simple)"
   ]
  },
  {
   "cell_type": "markdown",
   "metadata": {},
   "source": [
    "Diría que mi favorito de todos estos es el que se consigue lematizando las palabras. Que se destaquen tanto palabras como \"work\", \"recommend\", \"great\", \"like\", \"easy\" y \"good\" parece una buena señal. Voy a entrenar un modelo con esos datos y a ver qué tal funciona."
   ]
  },
  {
   "cell_type": "markdown",
   "metadata": {},
   "source": [
    "Primero aplico las mismas transformaciones a test para tenerlo preparado cuando llegue el momento de validar el modelo final"
   ]
  },
  {
   "cell_type": "code",
   "execution_count": 16,
   "metadata": {},
   "outputs": [],
   "source": [
    "X_test_lemma = X_test.copy()\n",
    "\n",
    "for ix, processed_text in zip(X_test.index,\n",
    "                              preprocess_texts(X_test,\n",
    "                                               lemmatizer=spacy_lemmas,\n",
    "                                               lower=True, only_alpha=True, stop_words=stop_words)):\n",
    "    X_test_lemma[ix] = \" \".join(processed_text)\n",
    "    \n",
    "X_test_lemma_cv = cv_lemma.transform(X_test_lemma)"
   ]
  },
  {
   "cell_type": "code",
   "execution_count": 17,
   "metadata": {},
   "outputs": [
    {
     "name": "stdout",
     "output_type": "stream",
     "text": [
      "Accuracy for C=0.01: 0.5969887955182073\n",
      "Accuracy for C=0.05: 0.6005652260904362\n",
      "Accuracy for C=0.25: 0.6006152460984394\n",
      "Accuracy for C=0.5: 0.6006152460984394\n",
      "Accuracy for C=1: 0.600515206082433\n",
      "Accuracy for C=10: 0.6004401760704282\n",
      "Accuracy for C=100: 0.6004401760704282\n",
      "Accuracy for C=1000: 0.6004401760704282\n",
      "Accuracy for C=10000: 0.6004401760704282\n"
     ]
    }
   ],
   "source": [
    "c_params = [0.01, 0.05, 0.25, 0.5, 1, 10, 100, 1000, 10000]\n",
    "\n",
    "train_acc = list()\n",
    "test_acc = list()\n",
    "for c in c_params:\n",
    "    lr = LogisticRegression(C=c, solver='lbfgs', max_iter=500)\n",
    "    lr.fit(X_train_lemma_cv, y_train)\n",
    "    \n",
    "    train_predict = lr.predict(X_train_lemma_cv)\n",
    "    \n",
    "    print (\"Accuracy for C={}: {}\".format(c, accuracy_score(y_train, train_predict)))"
   ]
  },
  {
   "cell_type": "code",
   "execution_count": 18,
   "metadata": {},
   "outputs": [
    {
     "name": "stdout",
     "output_type": "stream",
     "text": [
      "Confussion matrix:\n",
      "[[  197   122  8854]\n",
      " [  120   211  6610]\n",
      " [  131   132 23607]]\n",
      "\n",
      "Classification report:\n",
      "              precision    recall  f1-score   support\n",
      "\n",
      "        good       0.44      0.02      0.04      9173\n",
      " not_so_good       0.45      0.03      0.06      6941\n",
      "   very_good       0.60      0.99      0.75     23870\n",
      "\n",
      "    accuracy                           0.60     39984\n",
      "   macro avg       0.50      0.35      0.28     39984\n",
      "weighted avg       0.54      0.60      0.47     39984\n",
      "\n",
      "Accuracy score:0.6006152460984394\n"
     ]
    }
   ],
   "source": [
    "lr = LogisticRegression(C=0.25, max_iter=500)\n",
    "lr.fit(X_train_lemma_cv, y_train)\n",
    "    \n",
    "train_predict = lr.predict(X_train_lemma_cv)\n",
    "\n",
    "print('Confussion matrix:\\n{}'.format(confusion_matrix(y_train, train_predict)))\n",
    "print('\\nClassification report:\\n{}'.format(classification_report(y_train, train_predict)))\n",
    "print('Accuracy score:{}'.format(accuracy_score(y_train, train_predict)))"
   ]
  },
  {
   "cell_type": "markdown",
   "metadata": {},
   "source": [
    "A ver con un random forest si podemos sacar algo decente"
   ]
  },
  {
   "cell_type": "code",
   "execution_count": null,
   "metadata": {},
   "outputs": [],
   "source": [
    "maxDepth = range(10,20)\n",
    "\n",
    "gridRFC = GridSearchCV(RandomForestClassifier(n_estimators=200), param_grid={'max_depth': maxDepth}, cv=30)\n",
    "gridRFC.fit(X_train_lemma_cv, y_train)\n",
    "\n",
    "print(\"best mean cross-validation score: {:.3f}\".format(gridRFC.best_score_))\n",
    "print(\"best parameters: {}\".format(gridRFC.best_params_))\n",
    "\n",
    "scores = np.array(gridRFC.cv_results_['mean_test_score'])\n",
    "plt.plot(maxDepth,scores,'-o')\n",
    "plt.xlabel('max_depth')\n",
    "plt.ylabel('30-fold ACC')\n",
    "\n",
    "plt.show()"
   ]
  },
  {
   "cell_type": "code",
   "execution_count": null,
   "metadata": {},
   "outputs": [],
   "source": [
    "maxDepthOptimo = gridRFC.best_params_['max_depth']\n",
    "\n",
    "RFC = RandomForestClassifier(max_depth=maxDepthOptimo,n_estimators=200).fit(X_train_lemma_cv, y_train)\n",
    "\n",
    "train_predict = RFC.predict(X_train_lemma_cv)\n",
    "\n",
    "print('Confussion matrix:\\n{}'.format(confusion_matrix(y_train, train_predict)))\n",
    "print('\\nClassification report:\\n{}'.format(classification_report(y_train, train_predict)))\n",
    "print('Accuracy score:{}'.format(accuracy_score(y_train, train_predict)))"
   ]
  },
  {
   "cell_type": "markdown",
   "metadata": {},
   "source": [
    "Mejora un poco los resultados pero sigue sin ser gran cosa. ¿Y con word2vec?"
   ]
  },
  {
   "cell_type": "code",
   "execution_count": null,
   "metadata": {},
   "outputs": [],
   "source": [
    "# Imprimir palabras similares\n",
    "\n",
    "def print_sim_words(word, model):\n",
    "    query = \"Most similar to {}\".format(word) \n",
    "    print(query)\n",
    "    print(\"-\"*len(query))\n",
    "    for sim in model.wv.most_similar(word):\n",
    "        print(\"{}:{}{:.3f}{}\".format(sim[0], \" \"*(20-len(sim[0])),\n",
    "                                     sim[1], \" \"*10))\n",
    "    print(\"\\n\")"
   ]
  },
  {
   "cell_type": "markdown",
   "metadata": {},
   "source": [
    "Genero un diccionario y lo entreno con skip gram para conseguir una representación vectorial de cada palabra en base a su contexto"
   ]
  },
  {
   "cell_type": "code",
   "execution_count": null,
   "metadata": {},
   "outputs": [],
   "source": [
    "w2v_sg = Word2Vec(sg=1, size=300, min_count=10, window=10, hs=0, negative=20, workers=4)\n",
    "\n",
    "train_corpus = preprocess_texts(X_train,\n",
    "                          lemmatizer=spacy_lemmas,\n",
    "                          lower=True, regex='[^a-zA-Z!]+', stop_words=stop_words)\n",
    "\n",
    "w2v_sg.build_vocab(train_corpus)\n",
    "\n",
    "w2v_sg.train(sentences=train_corpus, total_examples=w2v_sg.corpus_count, epochs=50)"
   ]
  },
  {
   "cell_type": "markdown",
   "metadata": {},
   "source": [
    "Echo un vistazo para ver si la contextualización tiene sentido"
   ]
  },
  {
   "cell_type": "code",
   "execution_count": null,
   "metadata": {},
   "outputs": [],
   "source": [
    "print_sim_words('recommend', w2v_sg)\n",
    "print_sim_words('work', w2v_sg)\n",
    "print_sim_words('great', w2v_sg)\n",
    "print_sim_words('good', w2v_sg)"
   ]
  },
  {
   "cell_type": "markdown",
   "metadata": {},
   "source": [
    "Ahora transformo todas las palabras de mi corpus en su vector correspondiente."
   ]
  },
  {
   "cell_type": "code",
   "execution_count": null,
   "metadata": {},
   "outputs": [],
   "source": [
    "train_vector_corpus = np.zeros((len(train_corpus), 200, 300))\n",
    "\n",
    "for i1 in range(len(train_corpus)):\n",
    "    for i2 in range(200):\n",
    "        try: train_vector_corpus[i1][i2] = w2v_sg.wv[train_corpus[i1][i2]]\n",
    "        except: pass"
   ]
  },
  {
   "cell_type": "code",
   "execution_count": null,
   "metadata": {},
   "outputs": [],
   "source": [
    "train_vector_corpus.shape"
   ]
  },
  {
   "cell_type": "markdown",
   "metadata": {},
   "source": [
    "¿Mejorará el resultado?"
   ]
  },
  {
   "cell_type": "code",
   "execution_count": null,
   "metadata": {},
   "outputs": [],
   "source": [
    "maxDepth = range(10,20)\n",
    "\n",
    "gridRFC = GridSearchCV(RandomForestClassifier(n_estimators=200), param_grid={'max_depth': maxDepth}, cv=30)\n",
    "gridRFC.fit(train_vector_corpus, y_train)\n",
    "\n",
    "print(\"best mean cross-validation score: {:.3f}\".format(gridRFC.best_score_))\n",
    "print(\"best parameters: {}\".format(gridRFC.best_params_))\n",
    "\n",
    "scores = np.array(gridRFC.cv_results_['mean_test_score'])\n",
    "plt.plot(maxDepth,scores,'-o')\n",
    "plt.xlabel('max_depth')\n",
    "plt.ylabel('30-fold ACC')\n",
    "\n",
    "plt.show()"
   ]
  },
  {
   "cell_type": "code",
   "execution_count": null,
   "metadata": {},
   "outputs": [],
   "source": [
    "maxDepthOptimo = gridRFC.best_params_['max_depth']\n",
    "\n",
    "RFC = RandomForestClassifier(max_depth=maxDepthOptimo,n_estimators=200).fit(train_vector_corpus, y_train)\n",
    "\n",
    "train_predict = RFC.predict(train_vector_corpus)\n",
    "\n",
    "print('Confussion matrix:\\n{}'.format(confusion_matrix(y_train, train_predict)))\n",
    "print('\\nClassification report:\\n{}'.format(classification_report(y_train, train_predict)))\n",
    "print('Accuracy score:{}'.format(accuracy_score(y_train, train_predict)))"
   ]
  },
  {
   "cell_type": "markdown",
   "metadata": {},
   "source": [
    "Veamos qué tal se comporta con los datos de test"
   ]
  },
  {
   "cell_type": "code",
   "execution_count": null,
   "metadata": {},
   "outputs": [],
   "source": [
    "test_corpus = preprocess_texts(X_test,\n",
    "                               lemmatizer=spacy_lemmas,\n",
    "                               lower=True, regex='[^a-zA-Z!]+', stop_words=stop_words)\n",
    "\n",
    "test_vector_corpus = np.zeros((len(train_corpus), 200, 300))\n",
    "\n",
    "for i1 in range(len(test_corpus)):\n",
    "    for i2 in range(200):\n",
    "        try: test_vector_corpus[i1][i2] = w2v_sg.wv[test_corpus[i1][i2]]\n",
    "        except: pass\n",
    "    \n",
    "test_predict = RFC.predict(test_vector_corpus)\n",
    "\n",
    "print('Confussion matrix:\\n{}'.format(confusion_matrix(y_train, train_predict)))\n",
    "print('\\nClassification report:\\n{}'.format(classification_report(y_train, train_predict)))\n",
    "print('Accuracy score:{}'.format(accuracy_score(y_train, train_predict)))"
   ]
  }
 ],
 "metadata": {
  "kernelspec": {
   "display_name": "Python 3",
   "language": "python",
   "name": "python3"
  },
  "language_info": {
   "codemirror_mode": {
    "name": "ipython",
    "version": 3
   },
   "file_extension": ".py",
   "mimetype": "text/x-python",
   "name": "python",
   "nbconvert_exporter": "python",
   "pygments_lexer": "ipython3",
   "version": "3.7.7"
  }
 },
 "nbformat": 4,
 "nbformat_minor": 4
}
