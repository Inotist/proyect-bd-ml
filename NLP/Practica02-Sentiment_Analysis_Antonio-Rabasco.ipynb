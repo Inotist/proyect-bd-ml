{
 "cells": [
  {
   "cell_type": "markdown",
   "metadata": {},
   "source": [
    "# Práctica del módulo NLP"
   ]
  },
  {
   "cell_type": "code",
   "execution_count": 1,
   "metadata": {},
   "outputs": [
    {
     "name": "stderr",
     "output_type": "stream",
     "text": [
      "Using TensorFlow backend.\n",
      "C:\\ProgramData\\Anaconda3\\envs\\tensorflow-gpu\\lib\\site-packages\\tensorflow\\python\\framework\\dtypes.py:526: FutureWarning: Passing (type, 1) or '1type' as a synonym of type is deprecated; in a future version of numpy, it will be understood as (type, (1,)) / '(1,)type'.\n",
      "  _np_qint8 = np.dtype([(\"qint8\", np.int8, 1)])\n",
      "C:\\ProgramData\\Anaconda3\\envs\\tensorflow-gpu\\lib\\site-packages\\tensorflow\\python\\framework\\dtypes.py:527: FutureWarning: Passing (type, 1) or '1type' as a synonym of type is deprecated; in a future version of numpy, it will be understood as (type, (1,)) / '(1,)type'.\n",
      "  _np_quint8 = np.dtype([(\"quint8\", np.uint8, 1)])\n",
      "C:\\ProgramData\\Anaconda3\\envs\\tensorflow-gpu\\lib\\site-packages\\tensorflow\\python\\framework\\dtypes.py:528: FutureWarning: Passing (type, 1) or '1type' as a synonym of type is deprecated; in a future version of numpy, it will be understood as (type, (1,)) / '(1,)type'.\n",
      "  _np_qint16 = np.dtype([(\"qint16\", np.int16, 1)])\n",
      "C:\\ProgramData\\Anaconda3\\envs\\tensorflow-gpu\\lib\\site-packages\\tensorflow\\python\\framework\\dtypes.py:529: FutureWarning: Passing (type, 1) or '1type' as a synonym of type is deprecated; in a future version of numpy, it will be understood as (type, (1,)) / '(1,)type'.\n",
      "  _np_quint16 = np.dtype([(\"quint16\", np.uint16, 1)])\n",
      "C:\\ProgramData\\Anaconda3\\envs\\tensorflow-gpu\\lib\\site-packages\\tensorflow\\python\\framework\\dtypes.py:530: FutureWarning: Passing (type, 1) or '1type' as a synonym of type is deprecated; in a future version of numpy, it will be understood as (type, (1,)) / '(1,)type'.\n",
      "  _np_qint32 = np.dtype([(\"qint32\", np.int32, 1)])\n",
      "C:\\ProgramData\\Anaconda3\\envs\\tensorflow-gpu\\lib\\site-packages\\tensorflow\\python\\framework\\dtypes.py:535: FutureWarning: Passing (type, 1) or '1type' as a synonym of type is deprecated; in a future version of numpy, it will be understood as (type, (1,)) / '(1,)type'.\n",
      "  np_resource = np.dtype([(\"resource\", np.ubyte, 1)])\n"
     ]
    }
   ],
   "source": [
    "import pandas as pd\n",
    "import numpy as np\n",
    "import matplotlib.pyplot as plt\n",
    "\n",
    "from sklearn.model_selection import train_test_split, GridSearchCV\n",
    "from sklearn.feature_extraction.text import TfidfVectorizer\n",
    "from sklearn.feature_selection import chi2\n",
    "from sklearn.linear_model import LogisticRegression\n",
    "from sklearn.metrics import accuracy_score, confusion_matrix, classification_report\n",
    "from sklearn.ensemble import RandomForestClassifier\n",
    "\n",
    "from keras.models import Sequential\n",
    "from keras.layers import Dense, Dropout, LSTM\n",
    "\n",
    "import re\n",
    "\n",
    "from spacy.lang.es.stop_words import STOP_WORDS\n",
    "\n",
    "import gensim\n",
    "from gensim.models import Word2Vec\n",
    "\n",
    "import spacy\n",
    "import lemminflect\n",
    "spacy_lemmas = spacy.load('en_core_web_sm')"
   ]
  },
  {
   "cell_type": "code",
   "execution_count": 2,
   "metadata": {},
   "outputs": [
    {
     "data": {
      "text/html": [
       "<div>\n",
       "<style scoped>\n",
       "    .dataframe tbody tr th:only-of-type {\n",
       "        vertical-align: middle;\n",
       "    }\n",
       "\n",
       "    .dataframe tbody tr th {\n",
       "        vertical-align: top;\n",
       "    }\n",
       "\n",
       "    .dataframe thead th {\n",
       "        text-align: right;\n",
       "    }\n",
       "</style>\n",
       "<table border=\"1\" class=\"dataframe\">\n",
       "  <thead>\n",
       "    <tr style=\"text-align: right;\">\n",
       "      <th></th>\n",
       "      <th>reviewerID</th>\n",
       "      <th>asin</th>\n",
       "      <th>reviewerName</th>\n",
       "      <th>helpful</th>\n",
       "      <th>reviewText</th>\n",
       "      <th>overall</th>\n",
       "      <th>summary</th>\n",
       "      <th>unixReviewTime</th>\n",
       "      <th>reviewTime</th>\n",
       "    </tr>\n",
       "  </thead>\n",
       "  <tbody>\n",
       "    <tr>\n",
       "      <th>29889</th>\n",
       "      <td>A1SY8TC75UY52G</td>\n",
       "      <td>B000VDDCH4</td>\n",
       "      <td>kevin m antonio</td>\n",
       "      <td>[30, 32]</td>\n",
       "      <td>I've had the import for almost a year, but I h...</td>\n",
       "      <td>2</td>\n",
       "      <td>Buy the import!!</td>\n",
       "      <td>1192665600</td>\n",
       "      <td>10 18, 2007</td>\n",
       "    </tr>\n",
       "    <tr>\n",
       "      <th>7890</th>\n",
       "      <td>AL5NVGIEEOJOK</td>\n",
       "      <td>B00I3MPDP4</td>\n",
       "      <td>Ned \"Porschephile\"</td>\n",
       "      <td>[1, 1]</td>\n",
       "      <td>Good cast, good production values. Connelly's ...</td>\n",
       "      <td>5</td>\n",
       "      <td>Want to see more</td>\n",
       "      <td>1391817600</td>\n",
       "      <td>02 8, 2014</td>\n",
       "    </tr>\n",
       "    <tr>\n",
       "      <th>19773</th>\n",
       "      <td>A3U41ZL33SS92P</td>\n",
       "      <td>B000M5UD1E</td>\n",
       "      <td>Kevin Nicholls \"jaded, aging hipster\"</td>\n",
       "      <td>[7, 7]</td>\n",
       "      <td>I bought these when myNighthawk Sport headligh...</td>\n",
       "      <td>3</td>\n",
       "      <td>Buy them on sale.</td>\n",
       "      <td>1262649600</td>\n",
       "      <td>01 5, 2010</td>\n",
       "    </tr>\n",
       "    <tr>\n",
       "      <th>23813</th>\n",
       "      <td>A6AOLZK82A67C</td>\n",
       "      <td>B000002OPL</td>\n",
       "      <td>Kurt Mstoecklhuber \"kurt stoecklhuber\"</td>\n",
       "      <td>[0, 0]</td>\n",
       "      <td>I enjoyed his album and his box sets. this one...</td>\n",
       "      <td>5</td>\n",
       "      <td>Jimi hendrix fan</td>\n",
       "      <td>1377648000</td>\n",
       "      <td>08 28, 2013</td>\n",
       "    </tr>\n",
       "    <tr>\n",
       "      <th>18890</th>\n",
       "      <td>A2P38D8T3HQ14T</td>\n",
       "      <td>B001FAM322</td>\n",
       "      <td>M. Turner</td>\n",
       "      <td>[1, 1]</td>\n",
       "      <td>Not sure why these \"guards\" are getting such r...</td>\n",
       "      <td>2</td>\n",
       "      <td>Very Cheap Welds; Thin Metal</td>\n",
       "      <td>1376179200</td>\n",
       "      <td>08 11, 2013</td>\n",
       "    </tr>\n",
       "  </tbody>\n",
       "</table>\n",
       "</div>"
      ],
      "text/plain": [
       "           reviewerID        asin                            reviewerName  \\\n",
       "29889  A1SY8TC75UY52G  B000VDDCH4                         kevin m antonio   \n",
       "7890    AL5NVGIEEOJOK  B00I3MPDP4                      Ned \"Porschephile\"   \n",
       "19773  A3U41ZL33SS92P  B000M5UD1E   Kevin Nicholls \"jaded, aging hipster\"   \n",
       "23813   A6AOLZK82A67C  B000002OPL  Kurt Mstoecklhuber \"kurt stoecklhuber\"   \n",
       "18890  A2P38D8T3HQ14T  B001FAM322                               M. Turner   \n",
       "\n",
       "        helpful                                         reviewText  overall  \\\n",
       "29889  [30, 32]  I've had the import for almost a year, but I h...        2   \n",
       "7890     [1, 1]  Good cast, good production values. Connelly's ...        5   \n",
       "19773    [7, 7]  I bought these when myNighthawk Sport headligh...        3   \n",
       "23813    [0, 0]  I enjoyed his album and his box sets. this one...        5   \n",
       "18890    [1, 1]  Not sure why these \"guards\" are getting such r...        2   \n",
       "\n",
       "                            summary  unixReviewTime   reviewTime  \n",
       "29889              Buy the import!!      1192665600  10 18, 2007  \n",
       "7890               Want to see more      1391817600   02 8, 2014  \n",
       "19773             Buy them on sale.      1262649600   01 5, 2010  \n",
       "23813              Jimi hendrix fan      1377648000  08 28, 2013  \n",
       "18890  Very Cheap Welds; Thin Metal      1376179200  08 11, 2013  "
      ]
     },
     "execution_count": 2,
     "metadata": {},
     "output_type": "execute_result"
    }
   ],
   "source": [
    "aiv5 = pd.read_csv(\"Amazon_Instant_Video_5.csv\")\n",
    "a5 = pd.read_csv(\"Automotive_5.csv\")\n",
    "dm5 = pd.read_csv(\"Digital_Music_5.csv\")\n",
    "mi5 = pd.read_csv(\"Musical_Instruments_5.csv\")\n",
    "plg5 = pd.read_csv(\"Patio_Lawn_and_Garden_5.csv\")\n",
    "\n",
    "reviews = pd.concat([aiv5,a5,dm5,mi5,plg5], ignore_index=True).dropna(subset=['reviewText','overall']).sample(frac=1)\n",
    "reviews.head()"
   ]
  },
  {
   "cell_type": "markdown",
   "metadata": {},
   "source": [
    "# 2. Análisis de sentimiento"
   ]
  },
  {
   "cell_type": "markdown",
   "metadata": {},
   "source": [
    "Me traigo mi función de preprocesado de textos y la amplío con nuevas funciones (lemmatizers, ngrams...)"
   ]
  },
  {
   "cell_type": "code",
   "execution_count": 3,
   "metadata": {},
   "outputs": [],
   "source": [
    "def preprocess_texts(texts, **kwargs):\n",
    "    \n",
    "    processed_texts = [] # Aquí me guardaré los textos procesados en forma de lista\n",
    "    \n",
    "    for text in texts:\n",
    "        \n",
    "        tokens = [] # Aquí se guardan los tokens que conforman cada texto\n",
    "        \n",
    "        # Comenzando con el preprocesado completo de gensim.utils.simple_preprocess()\n",
    "        if 'simple_gensim' in kwargs and kwargs['simple_gensim']:\n",
    "            rawtokens = [token for token in gensim.utils.simple_preprocess(text)]\n",
    "            \n",
    "        # Si decido aplicar un lemmatizer como split inicial\n",
    "        elif 'lemmatizer' in kwargs:\n",
    "            lemmas = kwargs['lemmatizer'](text)\n",
    "            rawtokens = [token._.lemma() for token in lemmas]\n",
    "            \n",
    "        # Hago un split y utilizo tan solo mi preprocesado adicional\n",
    "        else: rawtokens = text.split()\n",
    "        \n",
    "        # Aplico reglas adicionales de preprocesado.\n",
    "        for token in rawtokens:\n",
    "            if 'lower' in kwargs and kwargs['lower']: token = token.lower()\n",
    "            if 'only_alpha' in kwargs and kwargs['only_alpha']: token = re.sub('[^a-zA-Z]+', '', token)\n",
    "            elif 'regex' in kwargs: token = re.sub(kwargs['regex'], '', token)\n",
    "            if 'stop_words' in kwargs and token in kwargs.get('stop_words'): token = None\n",
    "\n",
    "            if token: tokens.append(token)\n",
    "                \n",
    "        # Genero N-Gramas\n",
    "        if 'ngrams' in kwargs:\n",
    "            \n",
    "            ngrams = [] # Aquí guardaré los ngramas que reemplazarán a la lista de tokens\n",
    "            \n",
    "            # Se puede utilizar una lista de varios ngramas\n",
    "            if type(kwargs['ngrams']) is list or type(kwargs['ngrams']) is tuple:\n",
    "                for ngram in kwargs['ngrams']:\n",
    "                    if ngram == 1: ngrams = tokens\n",
    "                    else:\n",
    "                        for i in range(len(tokens)-ngram):\n",
    "                            ngrams.append(\" \".join(tokens[i:i+ngram]))\n",
    "            \n",
    "            # También se puede indicar un valor entero como única medida para el ngrama\n",
    "            else:\n",
    "                for i in range(len(tokens)-kwargs['ngrams']):\n",
    "                    ngrams.append(\" \".join(tokens[i:i+kwargs['ngrams']]))\n",
    "                \n",
    "            tokens = ngrams\n",
    "        \n",
    "        processed_texts.append(tokens)\n",
    "        \n",
    "    return processed_texts"
   ]
  },
  {
   "cell_type": "markdown",
   "metadata": {},
   "source": [
    "Probaré diferentes modelos con diferentes tipos de preprocesado y al final compararé mis resultados.\n",
    "\n",
    "Comenzaré construyéndome un corpus que contenga tan solo el texto y una categoría (\"muy bueno\", \"bueno\" y \"no tan bueno\")."
   ]
  },
  {
   "cell_type": "code",
   "execution_count": 4,
   "metadata": {},
   "outputs": [],
   "source": [
    "reviews = reviews[['reviewText','overall']]\n",
    "    \n",
    "reviews.overall = reviews.overall.apply(lambda x: 'very_good' if x == 5 else 'good' if x > 3 else 'not_so_good')"
   ]
  },
  {
   "cell_type": "code",
   "execution_count": 5,
   "metadata": {},
   "outputs": [
    {
     "data": {
      "text/html": [
       "<div>\n",
       "<style scoped>\n",
       "    .dataframe tbody tr th:only-of-type {\n",
       "        vertical-align: middle;\n",
       "    }\n",
       "\n",
       "    .dataframe tbody tr th {\n",
       "        vertical-align: top;\n",
       "    }\n",
       "\n",
       "    .dataframe thead th {\n",
       "        text-align: right;\n",
       "    }\n",
       "</style>\n",
       "<table border=\"1\" class=\"dataframe\">\n",
       "  <thead>\n",
       "    <tr style=\"text-align: right;\">\n",
       "      <th></th>\n",
       "      <th>reviewText</th>\n",
       "      <th>overall</th>\n",
       "    </tr>\n",
       "  </thead>\n",
       "  <tbody>\n",
       "    <tr>\n",
       "      <th>29889</th>\n",
       "      <td>I've had the import for almost a year, but I h...</td>\n",
       "      <td>not_so_good</td>\n",
       "    </tr>\n",
       "    <tr>\n",
       "      <th>7890</th>\n",
       "      <td>Good cast, good production values. Connelly's ...</td>\n",
       "      <td>very_good</td>\n",
       "    </tr>\n",
       "    <tr>\n",
       "      <th>19773</th>\n",
       "      <td>I bought these when myNighthawk Sport headligh...</td>\n",
       "      <td>not_so_good</td>\n",
       "    </tr>\n",
       "    <tr>\n",
       "      <th>23813</th>\n",
       "      <td>I enjoyed his album and his box sets. this one...</td>\n",
       "      <td>very_good</td>\n",
       "    </tr>\n",
       "    <tr>\n",
       "      <th>18890</th>\n",
       "      <td>Not sure why these \"guards\" are getting such r...</td>\n",
       "      <td>not_so_good</td>\n",
       "    </tr>\n",
       "    <tr>\n",
       "      <th>...</th>\n",
       "      <td>...</td>\n",
       "      <td>...</td>\n",
       "    </tr>\n",
       "    <tr>\n",
       "      <th>9511</th>\n",
       "      <td>this show is brilliant. it is not just that it...</td>\n",
       "      <td>very_good</td>\n",
       "    </tr>\n",
       "    <tr>\n",
       "      <th>38667</th>\n",
       "      <td>This works well with the mandolin.  It is cert...</td>\n",
       "      <td>very_good</td>\n",
       "    </tr>\n",
       "    <tr>\n",
       "      <th>28966</th>\n",
       "      <td>Without no doubt, &amp;quot;Reckless&amp;quot; ranks a...</td>\n",
       "      <td>very_good</td>\n",
       "    </tr>\n",
       "    <tr>\n",
       "      <th>45073</th>\n",
       "      <td>This worked very well from the start.  Most we...</td>\n",
       "      <td>very_good</td>\n",
       "    </tr>\n",
       "    <tr>\n",
       "      <th>9562</th>\n",
       "      <td>This was an insightful and funny series filled...</td>\n",
       "      <td>very_good</td>\n",
       "    </tr>\n",
       "  </tbody>\n",
       "</table>\n",
       "<p>49981 rows × 2 columns</p>\n",
       "</div>"
      ],
      "text/plain": [
       "                                              reviewText      overall\n",
       "29889  I've had the import for almost a year, but I h...  not_so_good\n",
       "7890   Good cast, good production values. Connelly's ...    very_good\n",
       "19773  I bought these when myNighthawk Sport headligh...  not_so_good\n",
       "23813  I enjoyed his album and his box sets. this one...    very_good\n",
       "18890  Not sure why these \"guards\" are getting such r...  not_so_good\n",
       "...                                                  ...          ...\n",
       "9511   this show is brilliant. it is not just that it...    very_good\n",
       "38667  This works well with the mandolin.  It is cert...    very_good\n",
       "28966  Without no doubt, &quot;Reckless&quot; ranks a...    very_good\n",
       "45073  This worked very well from the start.  Most we...    very_good\n",
       "9562   This was an insightful and funny series filled...    very_good\n",
       "\n",
       "[49981 rows x 2 columns]"
      ]
     },
     "execution_count": 5,
     "metadata": {},
     "output_type": "execute_result"
    }
   ],
   "source": [
    "reviews"
   ]
  },
  {
   "cell_type": "code",
   "execution_count": 6,
   "metadata": {},
   "outputs": [
    {
     "data": {
      "text/plain": [
       "very_good      29874\n",
       "good           11442\n",
       "not_so_good     8665\n",
       "Name: overall, dtype: int64"
      ]
     },
     "execution_count": 6,
     "metadata": {},
     "output_type": "execute_result"
    }
   ],
   "source": [
    "reviews.overall.value_counts()"
   ]
  },
  {
   "cell_type": "markdown",
   "metadata": {},
   "source": [
    "He decidido realizar esta clasificación debido a que hay demasiadas críticas positivas frente a críticas neutras y negativas. Para saber si dentro de las críticas \"no positivas\" podemos tener distintos niveles sería conveniente hacer un split y entrenarlas a parte como un conjunto diferente."
   ]
  },
  {
   "cell_type": "markdown",
   "metadata": {},
   "source": [
    "Ahora me interesa hacer un split en train y test"
   ]
  },
  {
   "cell_type": "code",
   "execution_count": 7,
   "metadata": {},
   "outputs": [],
   "source": [
    "X_train, X_test, y_train, y_test = train_test_split(\n",
    "    reviews.reviewText,\n",
    "    reviews.overall,\n",
    "    train_size=0.80,\n",
    "    test_size=0.20,\n",
    ")"
   ]
  },
  {
   "cell_type": "markdown",
   "metadata": {},
   "source": [
    "Ahora utilizaré el tf-idf de mi corpus de entrenamiento para obtener las palabras más relevantes que detectan el sentimiento y comprobar si tiene sentido, para ello probaré diferentes tipos de preprocesado."
   ]
  },
  {
   "cell_type": "code",
   "execution_count": 8,
   "metadata": {},
   "outputs": [],
   "source": [
    "def draw_chi2(Xcorpus, Ycorpus, tfidf):\n",
    "    # Compute the chi-squared score for each word in the training set and show the values\n",
    "    i = 15\n",
    "\n",
    "    chi2score = chi2(Xcorpus, Ycorpus)[0]\n",
    "    scores = list(zip(tfidf.get_feature_names(), chi2score))\n",
    "    sorted_scores = sorted(scores, key=lambda x:x[1])\n",
    "    topchi2 = list(zip(*sorted_scores[-i:]))\n",
    "    x = range(len(topchi2[1]))\n",
    "    labels = topchi2[0]\n",
    "\n",
    "    plt.figure(figsize=(12, 8))\n",
    "    plt.barh(x,topchi2[1], align='center', alpha=0.5)\n",
    "    plt.plot(topchi2[1], x, '-o', markersize=5, alpha=0.8)\n",
    "    plt.yticks(x, labels, fontsize=12)\n",
    "    plt.xlabel('$\\chi^2$', fontsize=26)\n",
    "    plt.ylabel('word', fontsize=16)\n",
    "    plt.title('Top {} $\\chi^2$ score for each word in the training set'.format(i), fontsize=20)\n",
    "    plt.grid()\n",
    "    plt.tight_layout()\n",
    "    plt.show();"
   ]
  },
  {
   "cell_type": "markdown",
   "metadata": {},
   "source": [
    "Con todo pasado a minúsculas, quitando caracteres no alfabéticos y teniendo en cuenta bigramas y trigramas:"
   ]
  },
  {
   "cell_type": "code",
   "execution_count": 9,
   "metadata": {},
   "outputs": [
    {
     "data": {
      "image/png": "[encoded data removed]",
      "text/plain": [
       "<Figure size 864x576 with 1 Axes>"
      ]
     },
     "metadata": {
      "needs_background": "light"
     },
     "output_type": "display_data"
    }
   ],
   "source": [
    "X_train_ = X_train.copy()\n",
    "\n",
    "for ix, processed_text in zip(X_train.index,\n",
    "                              preprocess_texts(X_train,\n",
    "                                               lower=True, only_alpha=True)):\n",
    "    X_train_[ix] = \" \".join(processed_text)\n",
    "    \n",
    "cv = TfidfVectorizer(\n",
    "    max_df=0.95,\n",
    "    min_df=0.05,\n",
    "    max_features=2500,\n",
    "    ngram_range=(2,3)\n",
    ")\n",
    "X_train_ = cv.fit_transform(X_train_)\n",
    "\n",
    "draw_chi2(X_train_, y_train, cv)"
   ]
  },
  {
   "cell_type": "markdown",
   "metadata": {},
   "source": [
    "No está mal del todo, aunque aparecen muchos verbos auxiliares y determinantes, veamos qué pasa si elimino stop words."
   ]
  },
  {
   "cell_type": "code",
   "execution_count": 10,
   "metadata": {},
   "outputs": [],
   "source": [
    "stop_words = set(list(gensim.parsing.preprocessing.STOPWORDS)+list(STOP_WORDS))"
   ]
  },
  {
   "cell_type": "markdown",
   "metadata": {},
   "source": [
    "Con todo pasado a minúsculas, quitando caracteres no alfabéticos y stop words, y teniendo en cuenta bigramas y trigramas:"
   ]
  },
  {
   "cell_type": "code",
   "execution_count": 11,
   "metadata": {},
   "outputs": [
    {
     "data": {
      "image/png": "[encoded data removed]",
      "text/plain": [
       "<Figure size 864x576 with 1 Axes>"
      ]
     },
     "metadata": {
      "needs_background": "light"
     },
     "output_type": "display_data"
    }
   ],
   "source": [
    "X_train_ = X_train.copy()\n",
    "\n",
    "for ix, processed_text in zip(X_train.index,\n",
    "                              preprocess_texts(X_train,\n",
    "                                               lower=True, only_alpha=True, stop_words=stop_words)):\n",
    "    X_train_[ix] = \" \".join(processed_text)\n",
    "    \n",
    "cv = TfidfVectorizer(\n",
    "    max_df=1.0,\n",
    "    min_df=0.01,\n",
    "    max_features=2500,\n",
    "    ngram_range=(2,3)\n",
    ")\n",
    "X_train_ = cv.fit_transform(X_train_)\n",
    "\n",
    "draw_chi2(X_train_, y_train, cv)"
   ]
  },
  {
   "cell_type": "markdown",
   "metadata": {},
   "source": [
    "Parece que funciona mejor al identificar bigramas que sí que evidencian una relación con la valoración que se está haciendo, aunque me veo obligado a reducir mucho el juego que pueda tener con min_df y max_df, voy a probar estos mismos parámetros pero utilizando un preprocesado diferente."
   ]
  },
  {
   "cell_type": "markdown",
   "metadata": {},
   "source": [
    "Igual que antes pero además lematizando las palabras:"
   ]
  },
  {
   "cell_type": "code",
   "execution_count": 12,
   "metadata": {},
   "outputs": [
    {
     "data": {
      "image/png": "[encoded data removed]",
      "text/plain": [
       "<Figure size 864x576 with 1 Axes>"
      ]
     },
     "metadata": {
      "needs_background": "light"
     },
     "output_type": "display_data"
    }
   ],
   "source": [
    "X_train_lemma = X_train.copy()\n",
    "\n",
    "for ix, processed_text in zip(X_train.index,\n",
    "                              preprocess_texts(X_train,\n",
    "                                               lemmatizer=spacy_lemmas,\n",
    "                                               lower=True, only_alpha=True, stop_words=stop_words)):\n",
    "    X_train_lemma[ix] = \" \".join(processed_text)\n",
    "    \n",
    "cv_lemma = TfidfVectorizer(\n",
    "    max_df=1.0,\n",
    "    min_df=0.01,\n",
    "    max_features=2500,\n",
    "    ngram_range=(2,3)\n",
    ")\n",
    "X_train_lemma = cv_lemma.fit_transform(X_train_lemma)\n",
    "\n",
    "draw_chi2(X_train_lemma, y_train, cv_lemma)"
   ]
  },
  {
   "cell_type": "markdown",
   "metadata": {},
   "source": [
    "Lo mismo pero sin lematizar y aplicando el preprocesado de gensim:"
   ]
  },
  {
   "cell_type": "code",
   "execution_count": 13,
   "metadata": {},
   "outputs": [
    {
     "data": {
      "image/png": "[encoded data removed]",
      "text/plain": [
       "<Figure size 864x576 with 1 Axes>"
      ]
     },
     "metadata": {
      "needs_background": "light"
     },
     "output_type": "display_data"
    }
   ],
   "source": [
    "X_train_simple = X_train.copy()\n",
    "\n",
    "for ix, processed_text in zip(X_train.index,\n",
    "                              preprocess_texts(X_train,\n",
    "                                               simple_gensim=True, stop_words=stop_words)):\n",
    "    X_train_simple[ix] = \" \".join(processed_text)\n",
    "    \n",
    "cv_simple = TfidfVectorizer(\n",
    "    max_df=1.0,\n",
    "    min_df=0.01,\n",
    "    max_features=2500,\n",
    "    ngram_range=(2,3)\n",
    ")\n",
    "X_train_simple = cv_simple.fit_transform(X_train_simple)\n",
    "\n",
    "draw_chi2(X_train_simple, y_train, cv_simple)"
   ]
  },
  {
   "cell_type": "markdown",
   "metadata": {},
   "source": [
    "Diría que mi favorito de todos estos es el que se consigue lematizando las palabras. Que se destaquen tanto palabras como \"work\", \"recommend\", \"great\", \"like\", \"easy\" y \"good\" parece una buena señal. Voy a entrenar un modelo con esos datos y a ver qué tal funciona."
   ]
  },
  {
   "cell_type": "code",
   "execution_count": 14,
   "metadata": {},
   "outputs": [
    {
     "name": "stdout",
     "output_type": "stream",
     "text": [
      "Accuracy for C=0.01: 0.59718887555022\n",
      "Accuracy for C=0.05: 0.6002150860344138\n",
      "Accuracy for C=0.25: 0.6002901160464186\n",
      "Accuracy for C=0.5: 0.6002150860344138\n",
      "Accuracy for C=1: 0.6003401360544217\n",
      "Accuracy for C=10: 0.600265106042417\n",
      "Accuracy for C=100: 0.600265106042417\n",
      "Accuracy for C=1000: 0.600265106042417\n",
      "Accuracy for C=10000: 0.600265106042417\n"
     ]
    }
   ],
   "source": [
    "c_params = [0.01, 0.05, 0.25, 0.5, 1, 10, 100, 1000, 10000]\n",
    "\n",
    "train_acc = list()\n",
    "test_acc = list()\n",
    "for c in c_params:\n",
    "    lr = LogisticRegression(C=c, solver='lbfgs', max_iter=500)\n",
    "    lr.fit(X_train_lemma, y_train)\n",
    "    \n",
    "    train_predict = lr.predict(X_train_lemma)\n",
    "    \n",
    "    print (\"Accuracy for C={}: {}\".format(c, accuracy_score(y_train, train_predict)))"
   ]
  },
  {
   "cell_type": "code",
   "execution_count": 15,
   "metadata": {},
   "outputs": [
    {
     "name": "stdout",
     "output_type": "stream",
     "text": [
      "Confussion matrix:\n",
      "[[  196   108  8856]\n",
      " [  120   198  6627]\n",
      " [  143   128 23608]]\n",
      "\n",
      "Classification report:\n",
      "              precision    recall  f1-score   support\n",
      "\n",
      "        good       0.43      0.02      0.04      9160\n",
      " not_so_good       0.46      0.03      0.05      6945\n",
      "   very_good       0.60      0.99      0.75     23879\n",
      "\n",
      "    accuracy                           0.60     39984\n",
      "   macro avg       0.50      0.35      0.28     39984\n",
      "weighted avg       0.54      0.60      0.47     39984\n",
      "\n",
      "Accuracy score:0.6002901160464186\n"
     ]
    }
   ],
   "source": [
    "lr = LogisticRegression(C=0.25, max_iter=500)\n",
    "lr.fit(X_train_lemma, y_train)\n",
    "    \n",
    "train_predict = lr.predict(X_train_lemma)\n",
    "\n",
    "print('Confussion matrix:\\n{}'.format(confusion_matrix(y_train, train_predict)))\n",
    "print('\\nClassification report:\\n{}'.format(classification_report(y_train, train_predict)))\n",
    "print('Accuracy score:{}'.format(accuracy_score(y_train, train_predict)))"
   ]
  },
  {
   "cell_type": "markdown",
   "metadata": {},
   "source": [
    "A ver con un random forest si podemos sacar algo decente"
   ]
  },
  {
   "cell_type": "code",
   "execution_count": 16,
   "metadata": {},
   "outputs": [
    {
     "name": "stdout",
     "output_type": "stream",
     "text": [
      "best mean cross-validation score: 0.600\n",
      "best parameters: {'max_depth': 12}\n"
     ]
    },
    {
     "data": {
      "image/png": "[encoded data removed]",
      "text/plain": [
       "<Figure size 432x288 with 1 Axes>"
      ]
     },
     "metadata": {
      "needs_background": "light"
     },
     "output_type": "display_data"
    }
   ],
   "source": [
    "maxDepth = range(10,20)\n",
    "\n",
    "gridRFC = GridSearchCV(RandomForestClassifier(n_estimators=200), param_grid={'max_depth': maxDepth}, cv=30)\n",
    "gridRFC.fit(X_train_lemma, y_train)\n",
    "\n",
    "print(\"best mean cross-validation score: {:.3f}\".format(gridRFC.best_score_))\n",
    "print(\"best parameters: {}\".format(gridRFC.best_params_))\n",
    "\n",
    "scores = np.array(gridRFC.cv_results_['mean_test_score'])\n",
    "plt.plot(maxDepth,scores,'-o')\n",
    "plt.xlabel('max_depth')\n",
    "plt.ylabel('30-fold ACC')\n",
    "\n",
    "plt.show()"
   ]
  },
  {
   "cell_type": "code",
   "execution_count": 17,
   "metadata": {},
   "outputs": [
    {
     "name": "stdout",
     "output_type": "stream",
     "text": [
      "Confussion matrix:\n",
      "[[  338    64  8758]\n",
      " [   59   283  6603]\n",
      " [   86    78 23715]]\n",
      "\n",
      "Classification report:\n",
      "              precision    recall  f1-score   support\n",
      "\n",
      "        good       0.70      0.04      0.07      9160\n",
      " not_so_good       0.67      0.04      0.08      6945\n",
      "   very_good       0.61      0.99      0.75     23879\n",
      "\n",
      "    accuracy                           0.61     39984\n",
      "   macro avg       0.66      0.36      0.30     39984\n",
      "weighted avg       0.64      0.61      0.48     39984\n",
      "\n",
      "Accuracy score:0.6086434573829532\n"
     ]
    }
   ],
   "source": [
    "maxDepthOptimo = gridRFC.best_params_['max_depth']\n",
    "\n",
    "RFC = RandomForestClassifier(max_depth=maxDepthOptimo,n_estimators=200).fit(X_train_lemma, y_train)\n",
    "\n",
    "train_predict = RFC.predict(X_train_lemma)\n",
    "\n",
    "print('Confussion matrix:\\n{}'.format(confusion_matrix(y_train, train_predict)))\n",
    "print('\\nClassification report:\\n{}'.format(classification_report(y_train, train_predict)))\n",
    "print('Accuracy score:{}'.format(accuracy_score(y_train, train_predict)))"
   ]
  },
  {
   "cell_type": "markdown",
   "metadata": {},
   "source": [
    "Mejora un poco los resultados pero sigue sin ser gran cosa. ¿Y con word2vec?"
   ]
  },
  {
   "cell_type": "code",
   "execution_count": 18,
   "metadata": {},
   "outputs": [],
   "source": [
    "# Imprimir palabras similares\n",
    "\n",
    "def print_sim_words(word, model):\n",
    "    query = \"Most similar to {}\".format(word) \n",
    "    print(query)\n",
    "    print(\"-\"*len(query))\n",
    "    for sim in model.wv.most_similar(word):\n",
    "        print(\"{}:{}{:.3f}{}\".format(sim[0], \" \"*(20-len(sim[0])),\n",
    "                                     sim[1], \" \"*10))\n",
    "    print(\"\\n\")"
   ]
  },
  {
   "cell_type": "markdown",
   "metadata": {},
   "source": [
    "Genero un diccionario y lo entreno con skip gram para conseguir una representación vectorial de cada palabra en base a su contexto"
   ]
  },
  {
   "cell_type": "code",
   "execution_count": 19,
   "metadata": {},
   "outputs": [
    {
     "data": {
      "text/plain": [
       "(124293293, 217726800)"
      ]
     },
     "execution_count": 19,
     "metadata": {},
     "output_type": "execute_result"
    }
   ],
   "source": [
    "w2v_sg = Word2Vec(sg=1, size=300, min_count=10, window=10, hs=0, negative=20, workers=4)\n",
    "\n",
    "train_corpus = preprocess_texts(X_train,\n",
    "                          lemmatizer=spacy_lemmas,\n",
    "                          lower=True, regex='[^a-zA-Z!]+', stop_words=stop_words, ngrams=(1,2))\n",
    "\n",
    "w2v_sg.build_vocab(train_corpus)\n",
    "\n",
    "w2v_sg.train(sentences=train_corpus, total_examples=w2v_sg.corpus_count, epochs=50)"
   ]
  },
  {
   "cell_type": "markdown",
   "metadata": {},
   "source": [
    "Echo un vistazo para ver si la contextualización tiene sentido"
   ]
  },
  {
   "cell_type": "code",
   "execution_count": 20,
   "metadata": {},
   "outputs": [
    {
     "name": "stdout",
     "output_type": "stream",
     "text": [
      "Most similar to recommend\n",
      "-------------------------\n",
      "highly:              0.870          \n",
      "highly recommend:    0.501          \n",
      "great:               0.443          \n",
      "suggest:             0.420          \n",
      "definitely:          0.409          \n",
      "good:                0.398          \n",
      "use:                 0.394          \n",
      "highly highly:       0.386          \n",
      "especially:          0.379          \n",
      "!:                   0.375          \n",
      "\n",
      "\n",
      "Most similar to work\n",
      "--------------------\n",
      "use:                 0.731          \n",
      "fine:                0.609          \n",
      "need:                0.598          \n",
      "job:                 0.593          \n",
      "come:                0.587          \n",
      "like:                0.582          \n",
      "nt:                  0.576          \n",
      "try:                 0.575          \n",
      "time:                0.575          \n",
      "great:               0.571          \n",
      "\n",
      "\n",
      "Most similar to great\n",
      "---------------------\n",
      "good:                0.773          \n",
      "excellent:           0.680          \n",
      "like:                0.666          \n",
      "awesome:             0.612          \n",
      "amazing:             0.610          \n",
      "nice:                0.610          \n",
      "s:                   0.609          \n",
      "love:                0.609          \n",
      "especially:          0.588          \n",
      "time:                0.578          \n",
      "\n",
      "\n",
      "Most similar to good\n",
      "--------------------\n",
      "great:               0.773          \n",
      "like:                0.759          \n",
      "think:               0.695          \n",
      "s:                   0.675          \n",
      "bad:                 0.662          \n",
      "nt:                  0.656          \n",
      "decent:              0.653          \n",
      "excellent:           0.652          \n",
      "pretty:              0.646          \n",
      "time:                0.644          \n",
      "\n",
      "\n",
      "Most similar to car\n",
      "-------------------\n",
      "vehicle:             0.755          \n",
      "truck:               0.636          \n",
      "wash:                0.572          \n",
      "wax:                 0.522          \n",
      "jeep:                0.505          \n",
      "tire:                0.500          \n",
      "motorcycle:          0.491          \n",
      "engine:              0.491          \n",
      "honda:               0.489          \n",
      "towel:               0.475          \n",
      "\n",
      "\n"
     ]
    }
   ],
   "source": [
    "print_sim_words('recommend', w2v_sg)\n",
    "print_sim_words('work', w2v_sg)\n",
    "print_sim_words('great', w2v_sg)\n",
    "print_sim_words('good', w2v_sg)\n",
    "print_sim_words('car', w2v_sg)"
   ]
  },
  {
   "cell_type": "markdown",
   "metadata": {},
   "source": [
    "Ahora transformo todas las palabras de mi corpus en su vector correspondiente."
   ]
  },
  {
   "cell_type": "code",
   "execution_count": 21,
   "metadata": {},
   "outputs": [],
   "source": [
    "# Fijo a 100 tokens por registro ya que la mayoría de reviews tienen menos de 100 palabras.\n",
    "# Si un texto tiene menos de 100 tokens los huecos se rellenan con ceros.\n",
    "train_vector_corpus = np.zeros((len(train_corpus), 100, 300))\n",
    "\n",
    "for i1 in range(len(train_corpus)):\n",
    "    for i2 in range(200):\n",
    "        try: train_vector_corpus[i1][i2] = w2v_sg.wv[train_corpus[i1][i2]]\n",
    "        except: pass"
   ]
  },
  {
   "cell_type": "markdown",
   "metadata": {},
   "source": [
    "Aplico la misma transformación a test"
   ]
  },
  {
   "cell_type": "code",
   "execution_count": 22,
   "metadata": {},
   "outputs": [],
   "source": [
    "test_corpus = preprocess_texts(X_test,\n",
    "                               lemmatizer=spacy_lemmas,\n",
    "                               lower=True, regex='[^a-zA-Z!]+', stop_words=stop_words, ngrams=(1,2))\n",
    "\n",
    "test_vector_corpus = np.zeros((len(test_corpus), 100, 300))\n",
    "\n",
    "for i1 in range(len(test_corpus)):\n",
    "    for i2 in range(200):\n",
    "        try: test_vector_corpus[i1][i2] = w2v_sg.wv[test_corpus[i1][i2]]\n",
    "        except: pass"
   ]
  },
  {
   "cell_type": "markdown",
   "metadata": {},
   "source": [
    "Entreno y valido los datos"
   ]
  },
  {
   "cell_type": "code",
   "execution_count": 25,
   "metadata": {},
   "outputs": [
    {
     "name": "stdout",
     "output_type": "stream",
     "text": [
      "Train on 35985 samples, validate on 3999 samples\n",
      "Epoch 1/50\n",
      "35985/35985 [==============================] - 101s 3ms/step - loss: 0.9654 - accuracy: 0.5901 - val_loss: 0.9169 - val_accuracy: 0.6089\n",
      "Epoch 2/50\n",
      "35985/35985 [==============================] - 88s 2ms/step - loss: 0.9317 - accuracy: 0.6019 - val_loss: 0.9815 - val_accuracy: 0.5984\n",
      "Epoch 3/50\n",
      "35985/35985 [==============================] - 87s 2ms/step - loss: 0.9252 - accuracy: 0.6031 - val_loss: 0.9532 - val_accuracy: 0.5984\n",
      "Epoch 4/50\n",
      "35985/35985 [==============================] - 85s 2ms/step - loss: 0.9403 - accuracy: 0.6009 - val_loss: 0.9224 - val_accuracy: 0.6009\n",
      "Epoch 5/50\n",
      "35985/35985 [==============================] - 84s 2ms/step - loss: 0.9110 - accuracy: 0.6044 - val_loss: 0.8528 - val_accuracy: 0.6112\n",
      "Epoch 6/50\n",
      "35985/35985 [==============================] - 84s 2ms/step - loss: 0.8513 - accuracy: 0.6210 - val_loss: 0.8695 - val_accuracy: 0.6107\n",
      "Epoch 7/50\n",
      "35985/35985 [==============================] - 84s 2ms/step - loss: 0.8401 - accuracy: 0.6250 - val_loss: 0.8404 - val_accuracy: 0.6227\n",
      "Epoch 8/50\n",
      "35985/35985 [==============================] - 84s 2ms/step - loss: 0.8327 - accuracy: 0.6345 - val_loss: 0.8140 - val_accuracy: 0.6294\n",
      "Epoch 9/50\n",
      "35985/35985 [==============================] - 84s 2ms/step - loss: 0.8059 - accuracy: 0.6487 - val_loss: 0.8206 - val_accuracy: 0.6517\n",
      "Epoch 10/50\n",
      "35985/35985 [==============================] - 85s 2ms/step - loss: 0.7986 - accuracy: 0.6532 - val_loss: 0.8215 - val_accuracy: 0.6422\n",
      "Epoch 11/50\n",
      "35985/35985 [==============================] - 84s 2ms/step - loss: 0.7827 - accuracy: 0.6602 - val_loss: 0.7927 - val_accuracy: 0.6532\n",
      "Epoch 12/50\n",
      "35985/35985 [==============================] - 83s 2ms/step - loss: 0.7677 - accuracy: 0.6674 - val_loss: 0.8042 - val_accuracy: 0.6457\n",
      "Epoch 13/50\n",
      "35985/35985 [==============================] - 84s 2ms/step - loss: 0.7573 - accuracy: 0.6717 - val_loss: 0.7920 - val_accuracy: 0.6492\n",
      "Epoch 14/50\n",
      "35985/35985 [==============================] - 89s 2ms/step - loss: 0.7736 - accuracy: 0.6604 - val_loss: 0.8321 - val_accuracy: 0.6389\n",
      "Epoch 15/50\n",
      "35985/35985 [==============================] - 83s 2ms/step - loss: 0.7435 - accuracy: 0.6793 - val_loss: 0.8139 - val_accuracy: 0.6469\n",
      "Epoch 16/50\n",
      "35985/35985 [==============================] - 83s 2ms/step - loss: 0.7136 - accuracy: 0.6951 - val_loss: 0.8184 - val_accuracy: 0.6507\n",
      "Epoch 17/50\n",
      "35985/35985 [==============================] - 84s 2ms/step - loss: 0.6855 - accuracy: 0.7084 - val_loss: 0.8504 - val_accuracy: 0.6234\n",
      "Epoch 18/50\n",
      "35985/35985 [==============================] - 87s 2ms/step - loss: 0.6673 - accuracy: 0.7179 - val_loss: 0.8692 - val_accuracy: 0.6517\n",
      "Epoch 19/50\n",
      "35985/35985 [==============================] - 86s 2ms/step - loss: 0.6252 - accuracy: 0.7399 - val_loss: 0.9062 - val_accuracy: 0.6312\n",
      "Epoch 20/50\n",
      "35985/35985 [==============================] - 115s 3ms/step - loss: 0.5879 - accuracy: 0.7555 - val_loss: 1.0156 - val_accuracy: 0.6417\n",
      "Epoch 21/50\n",
      "13000/35985 [=========>....................] - ETA: 56s - loss: 0.5401 - accuracy: 0.7758"
     ]
    },
    {
     "ename": "KeyboardInterrupt",
     "evalue": "",
     "output_type": "error",
     "traceback": [
      "\u001b[1;31m---------------------------------------------------------------------------\u001b[0m",
      "\u001b[1;31mKeyboardInterrupt\u001b[0m                         Traceback (most recent call last)",
      "\u001b[1;32m<ipython-input-25-4205eef0221b>\u001b[0m in \u001b[0;36m<module>\u001b[1;34m\u001b[0m\n\u001b[0;32m     10\u001b[0m \u001b[0mmodel\u001b[0m\u001b[1;33m.\u001b[0m\u001b[0mcompile\u001b[0m\u001b[1;33m(\u001b[0m\u001b[0mloss\u001b[0m\u001b[1;33m=\u001b[0m\u001b[1;34m'sparse_categorical_crossentropy'\u001b[0m\u001b[1;33m,\u001b[0m \u001b[0moptimizer\u001b[0m\u001b[1;33m=\u001b[0m\u001b[1;34m'adam'\u001b[0m\u001b[1;33m,\u001b[0m \u001b[0mmetrics\u001b[0m\u001b[1;33m=\u001b[0m\u001b[1;33m[\u001b[0m\u001b[1;34m'accuracy'\u001b[0m\u001b[1;33m]\u001b[0m\u001b[1;33m)\u001b[0m\u001b[1;33m\u001b[0m\u001b[1;33m\u001b[0m\u001b[0m\n\u001b[0;32m     11\u001b[0m \u001b[1;33m\u001b[0m\u001b[0m\n\u001b[1;32m---> 12\u001b[1;33m \u001b[0mmodel\u001b[0m\u001b[1;33m.\u001b[0m\u001b[0mfit\u001b[0m\u001b[1;33m(\u001b[0m\u001b[0mtrain_vector_corpus\u001b[0m\u001b[1;33m,\u001b[0m \u001b[0my_train_int\u001b[0m\u001b[1;33m,\u001b[0m \u001b[0mvalidation_split\u001b[0m\u001b[1;33m=\u001b[0m\u001b[1;36m0.1\u001b[0m\u001b[1;33m,\u001b[0m \u001b[0mepochs\u001b[0m\u001b[1;33m=\u001b[0m\u001b[1;36m50\u001b[0m\u001b[1;33m,\u001b[0m \u001b[0mbatch_size\u001b[0m\u001b[1;33m=\u001b[0m\u001b[1;36m1000\u001b[0m\u001b[1;33m)\u001b[0m\u001b[1;33m\u001b[0m\u001b[1;33m\u001b[0m\u001b[0m\n\u001b[0m",
      "\u001b[1;32mC:\\ProgramData\\Anaconda3\\envs\\tensorflow-gpu\\lib\\site-packages\\keras\\engine\\training.py\u001b[0m in \u001b[0;36mfit\u001b[1;34m(self, x, y, batch_size, epochs, verbose, callbacks, validation_split, validation_data, shuffle, class_weight, sample_weight, initial_epoch, steps_per_epoch, validation_steps, validation_freq, max_queue_size, workers, use_multiprocessing, **kwargs)\u001b[0m\n\u001b[0;32m   1237\u001b[0m                                         \u001b[0msteps_per_epoch\u001b[0m\u001b[1;33m=\u001b[0m\u001b[0msteps_per_epoch\u001b[0m\u001b[1;33m,\u001b[0m\u001b[1;33m\u001b[0m\u001b[1;33m\u001b[0m\u001b[0m\n\u001b[0;32m   1238\u001b[0m                                         \u001b[0mvalidation_steps\u001b[0m\u001b[1;33m=\u001b[0m\u001b[0mvalidation_steps\u001b[0m\u001b[1;33m,\u001b[0m\u001b[1;33m\u001b[0m\u001b[1;33m\u001b[0m\u001b[0m\n\u001b[1;32m-> 1239\u001b[1;33m                                         validation_freq=validation_freq)\n\u001b[0m\u001b[0;32m   1240\u001b[0m \u001b[1;33m\u001b[0m\u001b[0m\n\u001b[0;32m   1241\u001b[0m     def evaluate(self,\n",
      "\u001b[1;32mC:\\ProgramData\\Anaconda3\\envs\\tensorflow-gpu\\lib\\site-packages\\keras\\engine\\training_arrays.py\u001b[0m in \u001b[0;36mfit_loop\u001b[1;34m(model, fit_function, fit_inputs, out_labels, batch_size, epochs, verbose, callbacks, val_function, val_inputs, shuffle, initial_epoch, steps_per_epoch, validation_steps, validation_freq)\u001b[0m\n\u001b[0;32m    194\u001b[0m                     \u001b[0mins_batch\u001b[0m\u001b[1;33m[\u001b[0m\u001b[0mi\u001b[0m\u001b[1;33m]\u001b[0m \u001b[1;33m=\u001b[0m \u001b[0mins_batch\u001b[0m\u001b[1;33m[\u001b[0m\u001b[0mi\u001b[0m\u001b[1;33m]\u001b[0m\u001b[1;33m.\u001b[0m\u001b[0mtoarray\u001b[0m\u001b[1;33m(\u001b[0m\u001b[1;33m)\u001b[0m\u001b[1;33m\u001b[0m\u001b[1;33m\u001b[0m\u001b[0m\n\u001b[0;32m    195\u001b[0m \u001b[1;33m\u001b[0m\u001b[0m\n\u001b[1;32m--> 196\u001b[1;33m                 \u001b[0mouts\u001b[0m \u001b[1;33m=\u001b[0m \u001b[0mfit_function\u001b[0m\u001b[1;33m(\u001b[0m\u001b[0mins_batch\u001b[0m\u001b[1;33m)\u001b[0m\u001b[1;33m\u001b[0m\u001b[1;33m\u001b[0m\u001b[0m\n\u001b[0m\u001b[0;32m    197\u001b[0m                 \u001b[0mouts\u001b[0m \u001b[1;33m=\u001b[0m \u001b[0mto_list\u001b[0m\u001b[1;33m(\u001b[0m\u001b[0mouts\u001b[0m\u001b[1;33m)\u001b[0m\u001b[1;33m\u001b[0m\u001b[1;33m\u001b[0m\u001b[0m\n\u001b[0;32m    198\u001b[0m                 \u001b[1;32mfor\u001b[0m \u001b[0ml\u001b[0m\u001b[1;33m,\u001b[0m \u001b[0mo\u001b[0m \u001b[1;32min\u001b[0m \u001b[0mzip\u001b[0m\u001b[1;33m(\u001b[0m\u001b[0mout_labels\u001b[0m\u001b[1;33m,\u001b[0m \u001b[0mouts\u001b[0m\u001b[1;33m)\u001b[0m\u001b[1;33m:\u001b[0m\u001b[1;33m\u001b[0m\u001b[1;33m\u001b[0m\u001b[0m\n",
      "\u001b[1;32mC:\\ProgramData\\Anaconda3\\envs\\tensorflow-gpu\\lib\\site-packages\\tensorflow\\python\\keras\\backend.py\u001b[0m in \u001b[0;36m__call__\u001b[1;34m(self, inputs)\u001b[0m\n\u001b[0;32m   3074\u001b[0m \u001b[1;33m\u001b[0m\u001b[0m\n\u001b[0;32m   3075\u001b[0m     fetched = self._callable_fn(*array_vals,\n\u001b[1;32m-> 3076\u001b[1;33m                                 run_metadata=self.run_metadata)\n\u001b[0m\u001b[0;32m   3077\u001b[0m     \u001b[0mself\u001b[0m\u001b[1;33m.\u001b[0m\u001b[0m_call_fetch_callbacks\u001b[0m\u001b[1;33m(\u001b[0m\u001b[0mfetched\u001b[0m\u001b[1;33m[\u001b[0m\u001b[1;33m-\u001b[0m\u001b[0mlen\u001b[0m\u001b[1;33m(\u001b[0m\u001b[0mself\u001b[0m\u001b[1;33m.\u001b[0m\u001b[0m_fetches\u001b[0m\u001b[1;33m)\u001b[0m\u001b[1;33m:\u001b[0m\u001b[1;33m]\u001b[0m\u001b[1;33m)\u001b[0m\u001b[1;33m\u001b[0m\u001b[1;33m\u001b[0m\u001b[0m\n\u001b[0;32m   3078\u001b[0m     return nest.pack_sequence_as(self._outputs_structure,\n",
      "\u001b[1;32mC:\\ProgramData\\Anaconda3\\envs\\tensorflow-gpu\\lib\\site-packages\\tensorflow\\python\\client\\session.py\u001b[0m in \u001b[0;36m__call__\u001b[1;34m(self, *args, **kwargs)\u001b[0m\n\u001b[0;32m   1437\u001b[0m           ret = tf_session.TF_SessionRunCallable(\n\u001b[0;32m   1438\u001b[0m               \u001b[0mself\u001b[0m\u001b[1;33m.\u001b[0m\u001b[0m_session\u001b[0m\u001b[1;33m.\u001b[0m\u001b[0m_session\u001b[0m\u001b[1;33m,\u001b[0m \u001b[0mself\u001b[0m\u001b[1;33m.\u001b[0m\u001b[0m_handle\u001b[0m\u001b[1;33m,\u001b[0m \u001b[0margs\u001b[0m\u001b[1;33m,\u001b[0m \u001b[0mstatus\u001b[0m\u001b[1;33m,\u001b[0m\u001b[1;33m\u001b[0m\u001b[1;33m\u001b[0m\u001b[0m\n\u001b[1;32m-> 1439\u001b[1;33m               run_metadata_ptr)\n\u001b[0m\u001b[0;32m   1440\u001b[0m         \u001b[1;32mif\u001b[0m \u001b[0mrun_metadata\u001b[0m\u001b[1;33m:\u001b[0m\u001b[1;33m\u001b[0m\u001b[1;33m\u001b[0m\u001b[0m\n\u001b[0;32m   1441\u001b[0m           \u001b[0mproto_data\u001b[0m \u001b[1;33m=\u001b[0m \u001b[0mtf_session\u001b[0m\u001b[1;33m.\u001b[0m\u001b[0mTF_GetBuffer\u001b[0m\u001b[1;33m(\u001b[0m\u001b[0mrun_metadata_ptr\u001b[0m\u001b[1;33m)\u001b[0m\u001b[1;33m\u001b[0m\u001b[1;33m\u001b[0m\u001b[0m\n",
      "\u001b[1;31mKeyboardInterrupt\u001b[0m: "
     ]
    }
   ],
   "source": [
    "y_train_int = y_train.apply(lambda x: 2 if x == 'very_good' else 1 if x == 'good' else 0)\n",
    "y_test_int = y_test.apply(lambda x: 2 if x == 'very_good' else 1 if x == 'good' else 0)\n",
    "\n",
    "model = Sequential()\n",
    "model.add(LSTM(512, input_shape=(train_vector_corpus.shape[1:]), return_sequences=True))\n",
    "model.add(Dropout(0.2))\n",
    "model.add(LSTM(512))\n",
    "model.add(Dense(3, activation='softmax'))\n",
    "\n",
    "model.compile(loss='sparse_categorical_crossentropy', optimizer='adam', metrics=['accuracy'])\n",
    "\n",
    "model.fit(train_vector_corpus, y_train_int, validation_split=0.1, epochs=50, batch_size=1000)"
   ]
  },
  {
   "cell_type": "markdown",
   "metadata": {},
   "source": [
    "Veamos qué resultados nos arroja el corpus de testeo"
   ]
  },
  {
   "cell_type": "code",
   "execution_count": null,
   "metadata": {},
   "outputs": [],
   "source": [
    "test_predict = model.predict(test_vector_corpus)\n",
    "\n",
    "print('Confussion matrix:\\n{}'.format(confusion_matrix(y_test, test_predict)))\n",
    "print('\\nClassification report:\\n{}'.format(classification_report(y_test, test_predict)))\n",
    "print('Accuracy score:{}'.format(accuracy_score(y_test, test_predict)))"
   ]
  },
  {
   "cell_type": "markdown",
   "metadata": {},
   "source": []
  }
 ],
 "metadata": {
  "kernelspec": {
   "display_name": "Python 3",
   "language": "python",
   "name": "python3"
  },
  "language_info": {
   "codemirror_mode": {
    "name": "ipython",
    "version": 3
   },
   "file_extension": ".py",
   "mimetype": "text/x-python",
   "name": "python",
   "nbconvert_exporter": "python",
   "pygments_lexer": "ipython3",
   "version": "3.7.7"
  }
 },
 "nbformat": 4,
 "nbformat_minor": 4
}
