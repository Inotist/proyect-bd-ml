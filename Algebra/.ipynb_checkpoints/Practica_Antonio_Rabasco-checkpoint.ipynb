{
 "cells": [
  {
   "cell_type": "markdown",
   "metadata": {},
   "source": [
    "# Práctica"
   ]
  },
  {
   "cell_type": "markdown",
   "metadata": {},
   "source": [
    "## 1. La conjetura de Collatz\n",
    "\n",
    "<img src=\"Images/comic_collatz.png\" style=\"width: 400px;\"/>\n",
    "\n",
    "Empiezas con un número entero natural cualquiera (1, 2, 3, 4, 5...).  \n",
    "Si el número es par, lo divides por 2  \n",
    "Si es impar, lo multiplicas por 3 y le sumas 1  \n",
    "\n",
    "Escribir un procedimiento en Python que implemente el mecanismo de la conjetura de Collatz para cualquier número entero positivo."
   ]
  },
  {
   "cell_type": "code",
   "execution_count": 1,
   "metadata": {},
   "outputs": [],
   "source": [
    "def collatz(number, arr=[]):\n",
    "    if type(number) is int and number > 1:\n",
    "        if number % 2 == 0: return collatz(number//2, arr+[number//2])\n",
    "        else: return collatz(number*3+1, arr+[number*3+1])\n",
    "    else: return arr"
   ]
  },
  {
   "cell_type": "code",
   "execution_count": 2,
   "metadata": {},
   "outputs": [
    {
     "name": "stdout",
     "output_type": "stream",
     "text": [
      "[53, 160, 80, 40, 20, 10, 5, 16, 8, 4, 2, 1]\n",
      "[88, 44, 22, 11, 34, 17, 52, 26, 13, 40, 20, 10, 5, 16, 8, 4, 2, 1]\n",
      "[22, 11, 34, 17, 52, 26, 13, 40, 20, 10, 5, 16, 8, 4, 2, 1]\n",
      "[12, 6, 3, 10, 5, 16, 8, 4, 2, 1]\n",
      "[64, 32, 16, 8, 4, 2, 1]\n",
      "[128, 64, 32, 16, 8, 4, 2, 1]\n"
     ]
    }
   ],
   "source": [
    "print(collatz(106))\n",
    "print(collatz(176))\n",
    "print(collatz(7))\n",
    "print(collatz(24))\n",
    "print(collatz(21))\n",
    "print(collatz(256))"
   ]
  },
  {
   "cell_type": "markdown",
   "metadata": {},
   "source": [
    "## 2. Suma y producto escalar combinados\n",
    "\n",
    "Usando los procedimientos add y mult_vector_escalar definidos en el notebook **ALG05_Vectores**, calcular:   \n",
    "{$\\alpha$[1,2]+[3,4] : $\\alpha$$\\in$$\\mathbb{R}$, 0$\\leq$$\\alpha$$\\leq$1, con una precision de dos decimales (para la multiplicación)}"
   ]
  },
  {
   "cell_type": "code",
   "execution_count": 3,
   "metadata": {},
   "outputs": [],
   "source": [
    "import numpy as np\n",
    "\n",
    "def addn(v,w):\n",
    "    return[v[i]+w[i] for i in range(len(v))]\n",
    "\n",
    "def mult_vector_escalar(alpha,v):\n",
    "    return [alpha*c for c in v]"
   ]
  },
  {
   "cell_type": "code",
   "execution_count": 4,
   "metadata": {},
   "outputs": [
    {
     "name": "stdout",
     "output_type": "stream",
     "text": [
      "[3.0, 4.0]\n",
      "[3.1, 4.2]\n",
      "[3.2, 4.4]\n",
      "[3.3, 4.6]\n",
      "[3.4, 4.8]\n",
      "[3.5, 5.0]\n",
      "[3.6, 5.2]\n",
      "[3.7, 5.4]\n",
      "[3.8, 5.6]\n",
      "[3.9, 5.8]\n",
      "[4.0, 6.0]\n"
     ]
    }
   ],
   "source": [
    "a = [round(c, 1) for c in np.linspace(0,1,11)]\n",
    "v1 = [1,2]\n",
    "v2 = [3,4]\n",
    "\n",
    "for alpha in a:\n",
    "    print(addn(mult_vector_escalar(alpha,v1),v2))"
   ]
  },
  {
   "cell_type": "markdown",
   "metadata": {},
   "source": [
    "## 3. El secreto perfecto\n",
    "\n",
    "Representa la encriptación de la adicción de un n-vector a un n-vector de GF(2)  \n",
    "\n",
    "<img src=\"Images/mortadelo-filemon.jpg\" style=\"width: 300px;\"/>\n",
    "\n",
    "Mortadelo y Filemón usan como clave el siguiente vector:  \n",
    "**k**=[0,1,0,0,1,0,1,0,1,0] \n",
    "\n",
    "Mortadelo quiere enviarle a Filemón el siguiente mensaje:  \n",
    "**p**=[0,0,0,1,1,1,0,1,0,1] \n",
    "\n",
    "Mortadelo encripta su mensaje añadiendo k: \n",
    "**c**=**p**+**k**=[0,0,0,1,1,1,0,1,0,1]+[0,1,0,0,1,0,1,0,1,0]=[0,1,0,1,0,1,1,1,1,1] \n",
    "\n",
    "Cuando Filemón recibe el mensaje, lo desencripta añadiendo **k** a lo que ha recibido \n",
    "**p**=**c**+**k**=[0,1,0,1,0,1,1,1,1,1]+[0,1,0,0,1,0,1,0,1,0]=[0,0,0,1,1,1,0,1,0,1]    \n",
    "\n",
    "que es el mensaje original.\n",
    "\n",
    "La idea es crear un procedimiento para que Filemón:\n",
    "* No tenga que hacer este proceso manualmente cada vez que Mortadelo le envíe un mensaje encriptado para descifrarlo\n",
    "* Si deciden cambiar la clave, que el procedimiento cambie mínimamente\n",
    "\n",
    "  \n"
   ]
  },
  {
   "cell_type": "code",
   "execution_count": 5,
   "metadata": {},
   "outputs": [],
   "source": [
    "from random import randint #Para generar claves aleatorias que poder utilizar más adelante\n",
    "\n",
    "#Método para generar claves aleatorias\n",
    "def generateKey():\n",
    "    return [randint(0,1) for _ in range(10)]\n",
    "\n",
    "#Método que funciona tanto para encriptar como para desencriptar un mensaje utilizando una clave binaria\n",
    "def cryptic(msg, key):\n",
    "    return [abs(a-b) for a,b in zip(msg,key)]"
   ]
  },
  {
   "cell_type": "code",
   "execution_count": 6,
   "metadata": {},
   "outputs": [
    {
     "name": "stdout",
     "output_type": "stream",
     "text": [
      "El mensaje encriptado es [0, 1, 0, 1, 0, 1, 1, 1, 1, 1]\n",
      "El mensaje original es [0, 0, 0, 1, 1, 1, 0, 1, 0, 1]\n",
      "p == cryptic(c,k): True\n"
     ]
    }
   ],
   "source": [
    "#Mensaje original p\n",
    "p=[0,0,0,1,1,1,0,1,0,1]\n",
    "\n",
    "#Clave original\n",
    "k=[0,1,0,0,1,0,1,0,1,0]\n",
    "\n",
    "#Mensaje encriptado\n",
    "c=cryptic(p,k)\n",
    "\n",
    "print(f\"El mensaje encriptado es {c}\")\n",
    "print(f\"El mensaje original es {cryptic(c,k)}\")\n",
    "print(f\"p == cryptic(c,k): {p == cryptic(c,k)}\")"
   ]
  },
  {
   "cell_type": "code",
   "execution_count": 7,
   "metadata": {},
   "outputs": [
    {
     "name": "stdout",
     "output_type": "stream",
     "text": [
      "La nueva clave es [1, 1, 1, 0, 1, 0, 1, 0, 0, 0]\n",
      "Mensaje encriptado: [1, 1, 1, 1, 0, 1, 1, 1, 0, 1]\n",
      "Test: True\n",
      "\n",
      "La nueva clave es [0, 1, 1, 0, 0, 0, 0, 0, 1, 0]\n",
      "Mensaje encriptado: [0, 1, 1, 1, 1, 1, 0, 1, 1, 1]\n",
      "Test: True\n",
      "\n",
      "La nueva clave es [1, 1, 0, 1, 1, 1, 0, 0, 0, 1]\n",
      "Mensaje encriptado: [1, 1, 0, 0, 0, 0, 0, 1, 0, 0]\n",
      "Test: True\n",
      "\n",
      "La nueva clave es [1, 1, 0, 1, 1, 0, 1, 1, 1, 1]\n",
      "Mensaje encriptado: [1, 1, 0, 0, 0, 1, 1, 0, 1, 0]\n",
      "Test: True\n",
      "\n",
      "La nueva clave es [1, 1, 1, 1, 1, 0, 1, 0, 1, 0]\n",
      "Mensaje encriptado: [1, 1, 1, 0, 0, 1, 1, 1, 1, 1]\n",
      "Test: True\n",
      "\n"
     ]
    }
   ],
   "source": [
    "#Creamos un test que genere 5 claves aleatorias que sirvan para encriptar y desencriptar el mensaje\n",
    "for _ in range(5):\n",
    "    k=generateKey()\n",
    "    c=cryptic(p,k)\n",
    "    \n",
    "    print(f\"La nueva clave es {k}\")\n",
    "    print(f\"Mensaje encriptado: {c}\")\n",
    "    print(f\"Test: {p == cryptic(c,k)}\\n\")"
   ]
  },
  {
   "cell_type": "code",
   "execution_count": 8,
   "metadata": {},
   "outputs": [
    {
     "name": "stdout",
     "output_type": "stream",
     "text": [
      "[0, 0, 0, 1, 1, 1, 0, 1, 0, 1]\n",
      "[0, 0, 0, 1, 1, 1, 0, 1, 0, 1]\n"
     ]
    }
   ],
   "source": [
    "#Tenemos un procedimiento de 3 pasos:\n",
    "\n",
    "#1. Generar clave\n",
    "k=generateKey()\n",
    "\n",
    "#2. Encriptar mensaje\n",
    "c=cryptic(p,k)\n",
    "\n",
    "#3. Desencriptar mensaje (lo único que necesita hacer Filemón)\n",
    "msg=cryptic(c,k)\n",
    "\n",
    "print(p)\n",
    "print(msg)"
   ]
  },
  {
   "cell_type": "markdown",
   "metadata": {},
   "source": [
    "## 4. ¿Cuánto cuesta hacer una cerveza?\n",
    "\n",
    "<img src=\"Images/cerveza.jpg\" style=\"width: 300px;\"/>\n",
    "\n",
    "Supongamos que D es el conjunto de algunos ingredientes de la cerveza: \n",
    "> D={lúpulo, malta, agua, levadura} \n",
    "\n",
    "Por otro lado tenemos el vector coste:\n",
    "> coste={lúpulo: 2,5€, malta: 1.5€, agua: 0.006€, levadura: 0,45€}  \n",
    "\n",
    "Por último tenemos el vector cantidad con lo necesario para hacer una cerveza:\n",
    "> cantidad={lúpulo: 6u, malta: 14u, agua: 7u, levadura: 11u} \n",
    "\n",
    "¿Cuánto cuesta hacer una cerveza?"
   ]
  },
  {
   "cell_type": "code",
   "execution_count": 9,
   "metadata": {},
   "outputs": [
    {
     "name": "stdout",
     "output_type": "stream",
     "text": [
      "Una cerveza cuesta 40.99€\n"
     ]
    }
   ],
   "source": [
    "#La forma rápida y nativa de python\n",
    "\n",
    "coste = [2.5, 1.5, 0.006, 0.45]\n",
    "cantidad = [6, 14, 7, 11]\n",
    "\n",
    "print(f\"Una cerveza cuesta {round(sum([a*b for a,b in zip(coste,cantidad)]),2)}€\")"
   ]
  },
  {
   "cell_type": "code",
   "execution_count": 10,
   "metadata": {},
   "outputs": [
    {
     "name": "stdout",
     "output_type": "stream",
     "text": [
      "Una cerveza cuesta 40.99€\n"
     ]
    }
   ],
   "source": [
    "#Usando vectores\n",
    "\n",
    "import numpy as np\n",
    "\n",
    "coste = np.matrix([\n",
    "    [2.5, 1.5, 0.006, 0.45]\n",
    "])\n",
    "cantidad = np.matrix([\n",
    "    [6],\n",
    "    [14],\n",
    "    [7],\n",
    "    [11]\n",
    "])\n",
    "\n",
    "print(f\"Una cerveza cuesta {round((coste*cantidad)[0,0],2)}€\")"
   ]
  },
  {
   "cell_type": "markdown",
   "metadata": {},
   "source": [
    "## 5. La carrera de caballos\n",
    "\n",
    "Tres caballos A, B y C compiten en una carrera.  \n",
    "Las apuestas para dar como vencedor a cada uno de ellos son de 4 a 1 para A, 3 a 1 para B y 2 a 1 para C, tomando las unidades siempre en euros.  \n",
    "¿Cuánto debo apostar por cada caballo para asegurarme recibir 13 euros en toal, sin importar qué csaballo gane la carrera?"
   ]
  },
  {
   "cell_type": "markdown",
   "metadata": {},
   "source": [
    "Sean x,y,z el dinero apostado por los caballos A, B y C respectivamente.\n",
    "El objetivo del problema escalcular la cantidad que debe apostarse por cada caballo de forma que la suma del dinero recibido y perdido en ñas apuestas sea siempre igual a 13€.  \n",
    "Así, podemos plantear un sistema de tres ecuaciones con tres incógnitas, en el que igualaremos matemáticamente la cantidad percibida por la victoria de los caballos A, B, C y, al mismo tiempo, señalaremos que esta cantidad corresponde a 13€.  \n",
    "\n",
    "> 4x-y-z=3y-x-z  \n",
    "> 3y-x-z=2z-x-y  \n",
    "> 2z-x-y=13\n"
   ]
  },
  {
   "cell_type": "code",
   "execution_count": 11,
   "metadata": {},
   "outputs": [
    {
     "name": "stdout",
     "output_type": "stream",
     "text": [
      "Para asegurarnos de que siempre ganamos 13€ deberemos apostar 12€ a A, 15€ a B y 20€ a C\n"
     ]
    }
   ],
   "source": [
    "import sympy as sp\n",
    "\n",
    "x=sp.Symbol('x')\n",
    "y=sp.Symbol('y')\n",
    "z=sp.Symbol('z')\n",
    "\n",
    "#Igualamos a 0 todas las ecuaciones para crear un sistema que se pueda resolver con sp.solve\n",
    "r1 = sp.solve([5*x-4*y, 4*y-3*z, 2*z-x-y-13])\n",
    "\n",
    "print(f\"Para asegurarnos de que siempre ganamos 13€ deberemos apostar {r1[x]}€ a A, {r1[y]}€ a B y {r1[z]}€ a C\")"
   ]
  },
  {
   "cell_type": "code",
   "execution_count": 12,
   "metadata": {},
   "outputs": [
    {
     "name": "stdout",
     "output_type": "stream",
     "text": [
      "Para asegurarnos de que siempre ganamos 13€ deberemos apostar 12€ a A, 15€ a B y 20€ a C\n"
     ]
    }
   ],
   "source": [
    "#Utilizando matrices (la forma fácil en este caso)\n",
    "\n",
    "A=sp.Matrix([\n",
    "    [4,-1,-1,13],\n",
    "    [-1,3,-1,13],\n",
    "    [-1,-1,2,13]\n",
    "])\n",
    "\n",
    "r2 = sp.solve_linear_system(A,x,y,z)\n",
    "\n",
    "print(f\"Para asegurarnos de que siempre ganamos 13€ deberemos apostar {r2[x]}€ a A, {r2[y]}€ a B y {r2[z]}€ a C\")"
   ]
  },
  {
   "cell_type": "markdown",
   "metadata": {},
   "source": [
    "## 6. Dimensión de matrices\n",
    "\n",
    "Sea la matriz $\n",
    "  M=\n",
    "  \\left[ {\\begin{array}{cc}\n",
    "   1 & 0  & 0 & 5 \\\\\n",
    "   0 & 2  & 0 & 7 \\\\\n",
    "   0 & 0  & 3 & 9 \\\\\n",
    "  \\end{array} } \\right]\n",
    "$. Calcular el rango por filas y por columnas usando Python."
   ]
  },
  {
   "cell_type": "code",
   "execution_count": 13,
   "metadata": {},
   "outputs": [
    {
     "name": "stdout",
     "output_type": "stream",
     "text": [
      "La matriz tiene rango 3\n"
     ]
    }
   ],
   "source": [
    "#La forma fácil\n",
    "\n",
    "M=np.matrix([\n",
    "    [1,0,0,5],\n",
    "    [0,2,0,7],\n",
    "    [0,0,3,9]\n",
    "])\n",
    "\n",
    "print(f\"La matriz tiene rango {np.linalg.matrix_rank(M)}\")"
   ]
  },
  {
   "cell_type": "code",
   "execution_count": 14,
   "metadata": {},
   "outputs": [
    {
     "name": "stdout",
     "output_type": "stream",
     "text": [
      "El rango de la matriz es 3, el determinante es 6.0\n"
     ]
    }
   ],
   "source": [
    "#Comprobando si alguno de los determinantes 3x3 de la matriz es distinto de 0\n",
    "#(tienen que ser  máximo de 3x3 porque la matriz solo tiene 3 filas y deben ser cuadrados)\n",
    "\n",
    "M=np.array([\n",
    "    [1,0,0],\n",
    "    [0,2,0],\n",
    "    [0,0,3]\n",
    "])\n",
    "#Por la distribución de las coordenadas aquí se puede ver de un vistazo que los vectores son linealmente independientes y por tanto el rango tiene que ser 3\n",
    "\n",
    "detM=np.linalg.det(M)\n",
    "if round(detM, 2) != 0:\n",
    "    print(f\"El rango de la matriz es 3, el determinante es {detM}\")\n",
    "else:\n",
    "    print(\"El rango de la matriz podría ser menor que 3\")"
   ]
  },
  {
   "cell_type": "markdown",
   "metadata": {},
   "source": [
    "## 7. Bosque de extensión mínima\n",
    "\n",
    "<img src=\"Images/bosque.png\" style=\"width: 800px;\"/>\n",
    "\n",
    "En clase hemos hecho el caso del grafo de la derecha. Le toca el turno al de la izquierda.\n",
    "Supongamos que queremos diseñar la red de internet para el otro campus universitario.  \n",
    "La red debe lograr la misma conectividad que el grafo de entrada.  \n",
    "Una arista representa un posible cable.  \n",
    "El peso de la arista es el coste de instalar el cable.  \n",
    "Nuestro objetivo es minimizar el coste total, usando el algoritmo Grow y el algoritmo Shrink.\n",
    "Lo único que en este caso se pide crear un procedimiento para el algoritmo Grow y otro para el Shrink que lo hagan automáticamente una vez les metamos como parámetros las aristas y sus pesos"
   ]
  },
  {
   "cell_type": "code",
   "execution_count": 15,
   "metadata": {},
   "outputs": [],
   "source": [
    "from collections import OrderedDict\n",
    "\n",
    "def grow(graph):\n",
    "    graph=OrderedDict(sorted(graph.items(), key=lambda g: g[1])) #Ordenamos el grafo de menor a mayor\n",
    "    forest=[]\n",
    "    for p in graph.keys(): #Recorremos cada conexión.\n",
    "        #Convertimos cada elemento (cada conexión) en una lista que contenga ambos lugares por separado\n",
    "        p=p.split(',')\n",
    "        \n",
    "        #Aplanamos los datos que tenemos ya en el bosque para convertirlos en una lista simple de lugares entre los que hacer la búsqueda\n",
    "        f=[item for sublist in forest for item in sublist]\n",
    "\n",
    "        #Si alguno de los dos lugares de la conexión actual no está todavía en el bosque, la añadimos\n",
    "        if p[0] not in f or p[1] not in f: forest.append(p)\n",
    "            \n",
    "    return forest\n",
    "\n",
    "\n",
    "def shrink(graph):\n",
    "    #Ordenamos el grafo de mayor a menor\n",
    "    graph=OrderedDict(sorted(graph.items(), key=lambda g: g[1], reverse=True))\n",
    "    \n",
    "    #Creamos un bosque con todas las conexiones ordenadas en forma de lista\n",
    "    forest=[p.split(',') for p in graph.keys()]\n",
    "    \n",
    "    for p in forest: #Recorremos el bosque\n",
    "        \n",
    "        #Aplanamos los datos que tenemos en adelante en el bosque para convertirlos en una lista simple de lugares entre los que hacer la búsqueda\n",
    "        f=[item for sublist in forest[forest.index(p)+1:] for item in sublist]\n",
    "        \n",
    "        #Si los dos lugares de la conexión actual están repetidos más adelante en el bosque, la eliminamos\n",
    "        if p[0] in f and p[1] in f: forest.remove(p)\n",
    "        \n",
    "    return forest\n",
    "\n",
    "\n",
    "graph={'PC,AC':7, 'AC,BM':9, 'BM,PC':2}\n",
    "graph2={'MQ,KQ':5, 'MQ,WQ':3, 'KQ,WQ':4, 'KQ,GQ':8, 'WQ,GQ':6}"
   ]
  },
  {
   "cell_type": "code",
   "execution_count": 16,
   "metadata": {},
   "outputs": [
    {
     "data": {
      "text/plain": [
       "[['BM', 'PC'], ['PC', 'AC']]"
      ]
     },
     "execution_count": 16,
     "metadata": {},
     "output_type": "execute_result"
    }
   ],
   "source": [
    "grow(graph)"
   ]
  },
  {
   "cell_type": "code",
   "execution_count": 17,
   "metadata": {},
   "outputs": [
    {
     "data": {
      "text/plain": [
       "[['PC', 'AC'], ['BM', 'PC']]"
      ]
     },
     "execution_count": 17,
     "metadata": {},
     "output_type": "execute_result"
    }
   ],
   "source": [
    "shrink(graph)"
   ]
  },
  {
   "cell_type": "code",
   "execution_count": 18,
   "metadata": {},
   "outputs": [
    {
     "data": {
      "text/plain": [
       "[['MQ', 'WQ'], ['KQ', 'WQ'], ['WQ', 'GQ']]"
      ]
     },
     "execution_count": 18,
     "metadata": {},
     "output_type": "execute_result"
    }
   ],
   "source": [
    "grow(graph2)"
   ]
  },
  {
   "cell_type": "code",
   "execution_count": 19,
   "metadata": {},
   "outputs": [
    {
     "data": {
      "text/plain": [
       "[['WQ', 'GQ'], ['KQ', 'WQ'], ['MQ', 'WQ']]"
      ]
     },
     "execution_count": 19,
     "metadata": {},
     "output_type": "execute_result"
    }
   ],
   "source": [
    "shrink(graph2)"
   ]
  },
  {
   "cell_type": "markdown",
   "metadata": {},
   "source": [
    "## 8. El dígito móvil\n",
    "\n",
    "<img src=\"Images/imagenx2.png\" style=\"width: 500px;\"/>\n",
    "\n",
    "Hallar un número tal que, multiplicado por 3 y dividido entre 2, dé el mismo resultado que si moviéramos el primer dígito del número, el 3, desde el principio hasta el final de la fila de dígitos\n",
    "\n",
    "PISTA: Los únicos números que, al ser multiplicados por determinadas cifras, producen otros números cuyos dígitos siguen la misma secuencia que el número original aunque comenzando por otro de sus dígitos, son los períodos de los números decimales periódicos. Estos números se dicen **cíclicos**.  \n",
    "Nosotros queremos buscar un número de este tipo\n",
    "\n",
    "PISTA: No hay que resolverlo con Python"
   ]
  },
  {
   "cell_type": "code",
   "execution_count": 20,
   "metadata": {},
   "outputs": [
    {
     "name": "stdout",
     "output_type": "stream",
     "text": [
      "        Número original: 3529\n",
      "        Resultado:       5293\n",
      "        Resto:           1\n"
     ]
    }
   ],
   "source": [
    "x=29 #Le asignamos el 29 para comenzar a contar desde 30\n",
    "for _ in range(1000000):\n",
    "    x+=1 #Sumamos 1 a la cuenta\n",
    "    \n",
    "    n = x*3//2  #División entera\n",
    "    r = (x*3)%2\n",
    "    \n",
    "    secX = str(x) #Convertimos los números a tipo string para comparar los dígitos\n",
    "    secN = str(n)\n",
    "    \n",
    "    #Comprobamos que secX coincida con secN moviendo los dígitos una posición.\n",
    "    if secX == secN[-1]+secN[:-1]:\n",
    "        print(f'\\\n",
    "        Número original: {x}\\n\\\n",
    "        Resultado:       {n}\\n\\\n",
    "        Resto:           {r}')\n",
    "        \n",
    "    #Cuando hemos recorrido todos los números de cada rango de dígitos, nos preparamos para pasar a 3 por 10 elevado al siguiente número de dígitos.\n",
    "    if secX[1:] == '9'*(len(secX)-1): x = int('2'+'9'*(len(secX)))"
   ]
  },
  {
   "cell_type": "markdown",
   "metadata": {},
   "source": [
    "## 9. Agujas superpuestas\n",
    "\n",
    "<img src=\"Images/reloj-movimiento--478x578.jpg\" style=\"width: 250px;\"/>\n",
    "\n",
    "El horario y el minutero de un reloj se juntan exactamente cada 65 minutos.  \n",
    "Calcular si el reloj se adelanta o se atrasa, y cuánto por hora.  \n",
    "\n",
    "PISTA: Suponer que las agujas del reloj empiezan en las 12 en punto.\n",
    "\n",
    "PISTA: No hace falta resolverlo con Python"
   ]
  },
  {
   "cell_type": "markdown",
   "metadata": {},
   "source": [
    "A priori tenemos dos posibilidades, pero la pregunta podría ser más ambigua.\n",
    "En los siguientes ejemplos suponemos que las agujas se mueven a una velocidad uniforme."
   ]
  },
  {
   "cell_type": "markdown",
   "metadata": {},
   "source": [
    "Suponiendo que se juntan cada 65 minutos del minutero, tendríamos que cada 65 minutos del minutero el horario avanza 1 hora (60 minutos). Por tanto, el horario se estaría atrasando 5 minutos cada hora respecto al minutero.\n",
    "\n",
    "Lo más curioso de este caso es que, a pesar de ir atrasado, ambas agujas acabarían de nuevo juntas en el 12 (después de que el minutero hubiese dado 13 vueltas completas).\n",
    "Al final habrán transcurrido 13 horas para el minutero en lo que transcurren 12 horas para el horario.\n",
    "\n",
    "Este caso es fácil de resolver porque el ángulo del reloj que equivale a 5 minutos para el minutero es exactamente el mismo ángulo que marca cada hora transcurrida en el horario."
   ]
  },
  {
   "cell_type": "markdown",
   "metadata": {},
   "source": [
    "Suponiendo que se juntan cada 65 minutos del horario, primero necesitamos conocer cuánto avanza el horario en 5 minutos para conocer su localización en el reloj cuando ambas agujas se juntan.\n",
    "\n",
    "Sabemos que el ángulo que marca 1 hora para el horario también marca 5 minutos para el minutero, así que nos basaremos en esto para nuestros cálculos.\n",
    "\n",
    "Tenemos que 5/5=1 y 60/5=12, lo que significa que 1 minuto en el minutero equivale a 12 minutos en el horario. Por tanto, 5 minutos en el horario equivalen a 5/12 minutos en el minutero (25 segundos).\n",
    "\n",
    "Esto significa que cuando para el horario han pasado 65 minutos, para el minutero han pasado 65 minutos y 25 segundos.\n",
    "Cuando para el horario han pasado 3900 segundos, para el minutero han pasado 3925 segundos.\n",
    "\n",
    "Calculamos la proporción para obtener cuánto tiempo transcurre en el minutero por cada hora del horario:\n",
    "3925/3900*3600=3.623,0769... segundos, que son 60 minutos, 23 segundos y 76,9230... milisegundos.\n",
    "\n",
    "En conclusión, el minutero se estaría adelantando 23,0769... segundos cada hora respecto al horario.\n",
    "Cuando el horario volviese a marcar las 12 en punto, el minutero estaría posado entre los minutos 4 y 5 del reloj."
   ]
  },
  {
   "cell_type": "markdown",
   "metadata": {},
   "source": [
    "Pero, ¿cuál de las dos agujas marca el tiempo correctamente? ¿El minutero se está adelantando o el horario se está atrasando?\n",
    "Si nos basamos en que las agujas se juntan cada 65 minutos \"reales\" o cada 65 minutos de otro reloj independiente, tendríamos infinidad de posibilidades.\n",
    "Podríamos tener casos muy locos como que las agujas se juntasen por ejemplo 2 veces en 12 horas, donde el minutero habría entrado en un estado de súper gravedad, o que las agujas se juntasen 200 veces en 12 horas... y si seguimos ahondando podemos acabar entrando en la teoría de la relatividad de Einstein o incluso en cuestiones filosóficas."
   ]
  },
  {
   "cell_type": "markdown",
   "metadata": {},
   "source": [
    "En un reloj perfecto, las agujas deberían juntarse exactamente cada 65 minutos, 27 segundos y 272,7272... milisegundos.\n",
    "O lo que es lo mismo, 720/11 minutos. Esto significa que las agujas se encuentran 11 veces en 12 horas (una por cada vuelta de reloj sin contar la primera vuelta) y que el encuentro 11 representa el final del recorrido (el 12 12)."
   ]
  },
  {
   "cell_type": "markdown",
   "metadata": {},
   "source": [
    "## 10. Cuadrados perfectos\n",
    "\n",
    "<img src=\"Images/cuadrados-perfectos.jpg\" style=\"width: 500px;\"/>\n",
    "\n",
    "Averiguar el número entero positivo que, sumado tanto a 100 como a 164, propociona sendos cuadrados perfectos.\n",
    "\n",
    "PISTA: No hace falta resolverlo con Python"
   ]
  },
  {
   "cell_type": "code",
   "execution_count": 21,
   "metadata": {},
   "outputs": [
    {
     "data": {
      "text/plain": [
       "125"
      ]
     },
     "execution_count": 21,
     "metadata": {},
     "output_type": "execute_result"
    }
   ],
   "source": [
    "x=1\n",
    "while True:\n",
    "    n=(100+x)**0.5\n",
    "    if n-int(n)==0:\n",
    "        n=(164+x)**0.5\n",
    "        if n-int(n)==0:\n",
    "            break\n",
    "    x+=1\n",
    "x"
   ]
  },
  {
   "cell_type": "markdown",
   "metadata": {},
   "source": [
    "## 11. Días de vacaciones\n",
    "\n",
    "<img src=\"Images/vacaciones.jpg\" style=\"width: 500px;\"/>\n",
    "\n",
    "Durante mis vacaciones llovió 9 días, y hubo 10 mañanas y 9 tardes soleadas. Cuando llovió por la mañana, la tarde fue soleada.\n",
    "¿Cuántos días duraron mis vacaciones?"
   ]
  },
  {
   "cell_type": "markdown",
   "metadata": {},
   "source": [
    "Por lógica, no puede llover ningún día completo.\n",
    "Esto es así ya que si llueve por la mañana, la tarde es soleada, por lo que si llueve por la tarde, no ha podido llover por la mañana. Así pues tenemos que contar con que los 9 días que llovió tienen que coincidir con alguno de los días que hizo sol ya sea por la mañana o por la tarde.\n",
    "\n",
    "Pero aquí no terminan nuestros problemas, vamos a jugar con las posibilidades."
   ]
  },
  {
   "cell_type": "markdown",
   "metadata": {},
   "source": [
    "P = Llueve por la mañana\n",
    "Q = Llueve por la tarde\n",
    "\n",
    "Premisa:\n",
    "Si P, no Q - Si llueve por la mañana, no llueve por la tarde\n",
    "\n",
    "Posibilidades que incumplen la premisa:\n",
    "Q & P - Llueve por la mañana y por la tarde\n",
    "\n",
    "Posibilidades que cumplen la premisa:\n",
    "no Q & no P - No llueve ni por la mañana ni por la tarde (soleado todo el día)\n",
    "no Q & P - Llueve por la mañana y no llueve por la tarde (soleado por la tarde)\n",
    "Q & no P - No llueve por la mañana y llueve por la tarde (soleado por la mañana)"
   ]
  },
  {
   "cell_type": "markdown",
   "metadata": {},
   "source": [
    "Veamos qué posibilidades REALES tenemos.\n",
    "\n",
    "Podemos tener 9 tardes soleadas que llueve por la mañana, y luego... espera, ya hemos gastado las 9 tardes soleadas y los 9 días de lluvia, ¿qué hacemos con las mañanas soleadas? No podemos meterlas como tardes lluviosas ni como días totalmente soleados... ¡ups!\n",
    "\n",
    "Vale, probemos de nuevo...\n",
    "Podemos tener 9 mañanas soleadas que llueve por la tarde, 1 día totalmente soleado, y... ¡caray! Ya hemos gastado las 10 mañanas soleadas y los 9 días de lluvia, y nos quedan aún 8 tardes soleadas que tienen que estar en alguna parte, ¿no? No podemos meterlas junto con más mañanas soleadas, porque solo tenemos 10 y las hemos gastado, y tampoco como mañanas lluviosas, porque hemos gastado los 9 días de lluvia...\n",
    "\n",
    "¡Un último intento!\n",
    "Vamos a repartirlo mejor.\n",
    "Tenemos 9 días de lluvia en los que hizo sol en algún momento. Como hay 1 día más de sol matutino, vamos a decir que llovió 5 veces por la tarde y 4 veces por la mañana. Nos quedan 5 mañanas soleadas y 5 tardes soleadas que podemos conectar como 5 días perfectamente soleados. Así obtenemos que 9 días lluviosos y 5 días de pleno sol nos dan un total de 14 días de vacaciones."
   ]
  }
 ],
 "metadata": {
  "kernelspec": {
   "display_name": "Python 3",
   "language": "python",
   "name": "python3"
  },
  "language_info": {
   "codemirror_mode": {
    "name": "ipython",
    "version": 3
   },
   "file_extension": ".py",
   "mimetype": "text/x-python",
   "name": "python",
   "nbconvert_exporter": "python",
   "pygments_lexer": "ipython3",
   "version": "3.7.6"
  }
 },
 "nbformat": 4,
 "nbformat_minor": 2
}
